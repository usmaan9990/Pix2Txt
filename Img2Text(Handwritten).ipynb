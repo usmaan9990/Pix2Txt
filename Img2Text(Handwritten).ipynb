{
  "nbformat": 4,
  "nbformat_minor": 0,
  "metadata": {
    "colab": {
      "provenance": [],
      "gpuType": "T4"
    },
    "kernelspec": {
      "name": "python3",
      "display_name": "Python 3"
    },
    "language_info": {
      "name": "python"
    },
    "accelerator": "GPU",
    "widgets": {
      "application/vnd.jupyter.widget-state+json": {
        "b0c85213eb2e45b9934c99929c607402": {
          "model_module": "@jupyter-widgets/controls",
          "model_name": "HBoxModel",
          "model_module_version": "1.5.0",
          "state": {
            "_dom_classes": [],
            "_model_module": "@jupyter-widgets/controls",
            "_model_module_version": "1.5.0",
            "_model_name": "HBoxModel",
            "_view_count": null,
            "_view_module": "@jupyter-widgets/controls",
            "_view_module_version": "1.5.0",
            "_view_name": "HBoxView",
            "box_style": "",
            "children": [
              "IPY_MODEL_01df682cf3f24830b9ad2e67f9e827e1",
              "IPY_MODEL_d74246547e0743aa91524571263e6be5",
              "IPY_MODEL_62090f0a306a41299ad308ed239bec3f"
            ],
            "layout": "IPY_MODEL_d3e98916d6134a959dff9e6e8bbcd1ea"
          }
        },
        "01df682cf3f24830b9ad2e67f9e827e1": {
          "model_module": "@jupyter-widgets/controls",
          "model_name": "HTMLModel",
          "model_module_version": "1.5.0",
          "state": {
            "_dom_classes": [],
            "_model_module": "@jupyter-widgets/controls",
            "_model_module_version": "1.5.0",
            "_model_name": "HTMLModel",
            "_view_count": null,
            "_view_module": "@jupyter-widgets/controls",
            "_view_module_version": "1.5.0",
            "_view_name": "HTMLView",
            "description": "",
            "description_tooltip": null,
            "layout": "IPY_MODEL_9835aec9bca748b8be6f415bb9995ef9",
            "placeholder": "​",
            "style": "IPY_MODEL_a901a3d535f24ab48a2f63fd435a6ad2",
            "value": "preprocessor_config.json: 100%"
          }
        },
        "d74246547e0743aa91524571263e6be5": {
          "model_module": "@jupyter-widgets/controls",
          "model_name": "FloatProgressModel",
          "model_module_version": "1.5.0",
          "state": {
            "_dom_classes": [],
            "_model_module": "@jupyter-widgets/controls",
            "_model_module_version": "1.5.0",
            "_model_name": "FloatProgressModel",
            "_view_count": null,
            "_view_module": "@jupyter-widgets/controls",
            "_view_module_version": "1.5.0",
            "_view_name": "ProgressView",
            "bar_style": "success",
            "description": "",
            "description_tooltip": null,
            "layout": "IPY_MODEL_51b4ca36317f40d0b25c22f302fdd488",
            "max": 224,
            "min": 0,
            "orientation": "horizontal",
            "style": "IPY_MODEL_c14f19e6410e4cfb8ad118e669fd1cf5",
            "value": 224
          }
        },
        "62090f0a306a41299ad308ed239bec3f": {
          "model_module": "@jupyter-widgets/controls",
          "model_name": "HTMLModel",
          "model_module_version": "1.5.0",
          "state": {
            "_dom_classes": [],
            "_model_module": "@jupyter-widgets/controls",
            "_model_module_version": "1.5.0",
            "_model_name": "HTMLModel",
            "_view_count": null,
            "_view_module": "@jupyter-widgets/controls",
            "_view_module_version": "1.5.0",
            "_view_name": "HTMLView",
            "description": "",
            "description_tooltip": null,
            "layout": "IPY_MODEL_4967ba89eeea4eaca38b7253d678057a",
            "placeholder": "​",
            "style": "IPY_MODEL_45ecc58e6b2a48e3a5de45f6e4ed00c1",
            "value": " 224/224 [00:00&lt;00:00, 7.11kB/s]"
          }
        },
        "d3e98916d6134a959dff9e6e8bbcd1ea": {
          "model_module": "@jupyter-widgets/base",
          "model_name": "LayoutModel",
          "model_module_version": "1.2.0",
          "state": {
            "_model_module": "@jupyter-widgets/base",
            "_model_module_version": "1.2.0",
            "_model_name": "LayoutModel",
            "_view_count": null,
            "_view_module": "@jupyter-widgets/base",
            "_view_module_version": "1.2.0",
            "_view_name": "LayoutView",
            "align_content": null,
            "align_items": null,
            "align_self": null,
            "border": null,
            "bottom": null,
            "display": null,
            "flex": null,
            "flex_flow": null,
            "grid_area": null,
            "grid_auto_columns": null,
            "grid_auto_flow": null,
            "grid_auto_rows": null,
            "grid_column": null,
            "grid_gap": null,
            "grid_row": null,
            "grid_template_areas": null,
            "grid_template_columns": null,
            "grid_template_rows": null,
            "height": null,
            "justify_content": null,
            "justify_items": null,
            "left": null,
            "margin": null,
            "max_height": null,
            "max_width": null,
            "min_height": null,
            "min_width": null,
            "object_fit": null,
            "object_position": null,
            "order": null,
            "overflow": null,
            "overflow_x": null,
            "overflow_y": null,
            "padding": null,
            "right": null,
            "top": null,
            "visibility": null,
            "width": null
          }
        },
        "9835aec9bca748b8be6f415bb9995ef9": {
          "model_module": "@jupyter-widgets/base",
          "model_name": "LayoutModel",
          "model_module_version": "1.2.0",
          "state": {
            "_model_module": "@jupyter-widgets/base",
            "_model_module_version": "1.2.0",
            "_model_name": "LayoutModel",
            "_view_count": null,
            "_view_module": "@jupyter-widgets/base",
            "_view_module_version": "1.2.0",
            "_view_name": "LayoutView",
            "align_content": null,
            "align_items": null,
            "align_self": null,
            "border": null,
            "bottom": null,
            "display": null,
            "flex": null,
            "flex_flow": null,
            "grid_area": null,
            "grid_auto_columns": null,
            "grid_auto_flow": null,
            "grid_auto_rows": null,
            "grid_column": null,
            "grid_gap": null,
            "grid_row": null,
            "grid_template_areas": null,
            "grid_template_columns": null,
            "grid_template_rows": null,
            "height": null,
            "justify_content": null,
            "justify_items": null,
            "left": null,
            "margin": null,
            "max_height": null,
            "max_width": null,
            "min_height": null,
            "min_width": null,
            "object_fit": null,
            "object_position": null,
            "order": null,
            "overflow": null,
            "overflow_x": null,
            "overflow_y": null,
            "padding": null,
            "right": null,
            "top": null,
            "visibility": null,
            "width": null
          }
        },
        "a901a3d535f24ab48a2f63fd435a6ad2": {
          "model_module": "@jupyter-widgets/controls",
          "model_name": "DescriptionStyleModel",
          "model_module_version": "1.5.0",
          "state": {
            "_model_module": "@jupyter-widgets/controls",
            "_model_module_version": "1.5.0",
            "_model_name": "DescriptionStyleModel",
            "_view_count": null,
            "_view_module": "@jupyter-widgets/base",
            "_view_module_version": "1.2.0",
            "_view_name": "StyleView",
            "description_width": ""
          }
        },
        "51b4ca36317f40d0b25c22f302fdd488": {
          "model_module": "@jupyter-widgets/base",
          "model_name": "LayoutModel",
          "model_module_version": "1.2.0",
          "state": {
            "_model_module": "@jupyter-widgets/base",
            "_model_module_version": "1.2.0",
            "_model_name": "LayoutModel",
            "_view_count": null,
            "_view_module": "@jupyter-widgets/base",
            "_view_module_version": "1.2.0",
            "_view_name": "LayoutView",
            "align_content": null,
            "align_items": null,
            "align_self": null,
            "border": null,
            "bottom": null,
            "display": null,
            "flex": null,
            "flex_flow": null,
            "grid_area": null,
            "grid_auto_columns": null,
            "grid_auto_flow": null,
            "grid_auto_rows": null,
            "grid_column": null,
            "grid_gap": null,
            "grid_row": null,
            "grid_template_areas": null,
            "grid_template_columns": null,
            "grid_template_rows": null,
            "height": null,
            "justify_content": null,
            "justify_items": null,
            "left": null,
            "margin": null,
            "max_height": null,
            "max_width": null,
            "min_height": null,
            "min_width": null,
            "object_fit": null,
            "object_position": null,
            "order": null,
            "overflow": null,
            "overflow_x": null,
            "overflow_y": null,
            "padding": null,
            "right": null,
            "top": null,
            "visibility": null,
            "width": null
          }
        },
        "c14f19e6410e4cfb8ad118e669fd1cf5": {
          "model_module": "@jupyter-widgets/controls",
          "model_name": "ProgressStyleModel",
          "model_module_version": "1.5.0",
          "state": {
            "_model_module": "@jupyter-widgets/controls",
            "_model_module_version": "1.5.0",
            "_model_name": "ProgressStyleModel",
            "_view_count": null,
            "_view_module": "@jupyter-widgets/base",
            "_view_module_version": "1.2.0",
            "_view_name": "StyleView",
            "bar_color": null,
            "description_width": ""
          }
        },
        "4967ba89eeea4eaca38b7253d678057a": {
          "model_module": "@jupyter-widgets/base",
          "model_name": "LayoutModel",
          "model_module_version": "1.2.0",
          "state": {
            "_model_module": "@jupyter-widgets/base",
            "_model_module_version": "1.2.0",
            "_model_name": "LayoutModel",
            "_view_count": null,
            "_view_module": "@jupyter-widgets/base",
            "_view_module_version": "1.2.0",
            "_view_name": "LayoutView",
            "align_content": null,
            "align_items": null,
            "align_self": null,
            "border": null,
            "bottom": null,
            "display": null,
            "flex": null,
            "flex_flow": null,
            "grid_area": null,
            "grid_auto_columns": null,
            "grid_auto_flow": null,
            "grid_auto_rows": null,
            "grid_column": null,
            "grid_gap": null,
            "grid_row": null,
            "grid_template_areas": null,
            "grid_template_columns": null,
            "grid_template_rows": null,
            "height": null,
            "justify_content": null,
            "justify_items": null,
            "left": null,
            "margin": null,
            "max_height": null,
            "max_width": null,
            "min_height": null,
            "min_width": null,
            "object_fit": null,
            "object_position": null,
            "order": null,
            "overflow": null,
            "overflow_x": null,
            "overflow_y": null,
            "padding": null,
            "right": null,
            "top": null,
            "visibility": null,
            "width": null
          }
        },
        "45ecc58e6b2a48e3a5de45f6e4ed00c1": {
          "model_module": "@jupyter-widgets/controls",
          "model_name": "DescriptionStyleModel",
          "model_module_version": "1.5.0",
          "state": {
            "_model_module": "@jupyter-widgets/controls",
            "_model_module_version": "1.5.0",
            "_model_name": "DescriptionStyleModel",
            "_view_count": null,
            "_view_module": "@jupyter-widgets/base",
            "_view_module_version": "1.2.0",
            "_view_name": "StyleView",
            "description_width": ""
          }
        },
        "7b88e28ad1d147f9b075d1846a0ac0c2": {
          "model_module": "@jupyter-widgets/controls",
          "model_name": "HBoxModel",
          "model_module_version": "1.5.0",
          "state": {
            "_dom_classes": [],
            "_model_module": "@jupyter-widgets/controls",
            "_model_module_version": "1.5.0",
            "_model_name": "HBoxModel",
            "_view_count": null,
            "_view_module": "@jupyter-widgets/controls",
            "_view_module_version": "1.5.0",
            "_view_name": "HBoxView",
            "box_style": "",
            "children": [
              "IPY_MODEL_75bbb185d7604137b639bbd573aac867",
              "IPY_MODEL_c92ab49278114d2d803dec9a97f335e6",
              "IPY_MODEL_5eb0f72fb48e4109809193a89dcdd318"
            ],
            "layout": "IPY_MODEL_995a2a7f39b94ef495fd869a05e47e6e"
          }
        },
        "75bbb185d7604137b639bbd573aac867": {
          "model_module": "@jupyter-widgets/controls",
          "model_name": "HTMLModel",
          "model_module_version": "1.5.0",
          "state": {
            "_dom_classes": [],
            "_model_module": "@jupyter-widgets/controls",
            "_model_module_version": "1.5.0",
            "_model_name": "HTMLModel",
            "_view_count": null,
            "_view_module": "@jupyter-widgets/controls",
            "_view_module_version": "1.5.0",
            "_view_name": "HTMLView",
            "description": "",
            "description_tooltip": null,
            "layout": "IPY_MODEL_1b9e3bf547024c50901d51e2d2fd253b",
            "placeholder": "​",
            "style": "IPY_MODEL_d5760a7a31594b759ceba123dd293d88",
            "value": "tokenizer_config.json: 100%"
          }
        },
        "c92ab49278114d2d803dec9a97f335e6": {
          "model_module": "@jupyter-widgets/controls",
          "model_name": "FloatProgressModel",
          "model_module_version": "1.5.0",
          "state": {
            "_dom_classes": [],
            "_model_module": "@jupyter-widgets/controls",
            "_model_module_version": "1.5.0",
            "_model_name": "FloatProgressModel",
            "_view_count": null,
            "_view_module": "@jupyter-widgets/controls",
            "_view_module_version": "1.5.0",
            "_view_name": "ProgressView",
            "bar_style": "success",
            "description": "",
            "description_tooltip": null,
            "layout": "IPY_MODEL_8e2946f1331348bca775710ce98627a9",
            "max": 1118,
            "min": 0,
            "orientation": "horizontal",
            "style": "IPY_MODEL_e2a791439247428eb7e7ce4657ab49ea",
            "value": 1118
          }
        },
        "5eb0f72fb48e4109809193a89dcdd318": {
          "model_module": "@jupyter-widgets/controls",
          "model_name": "HTMLModel",
          "model_module_version": "1.5.0",
          "state": {
            "_dom_classes": [],
            "_model_module": "@jupyter-widgets/controls",
            "_model_module_version": "1.5.0",
            "_model_name": "HTMLModel",
            "_view_count": null,
            "_view_module": "@jupyter-widgets/controls",
            "_view_module_version": "1.5.0",
            "_view_name": "HTMLView",
            "description": "",
            "description_tooltip": null,
            "layout": "IPY_MODEL_655c48c59acb4952881369b184f21c40",
            "placeholder": "​",
            "style": "IPY_MODEL_a84fbef425dc4de9a5d23488a6d7f283",
            "value": " 1.12k/1.12k [00:00&lt;00:00, 69.1kB/s]"
          }
        },
        "995a2a7f39b94ef495fd869a05e47e6e": {
          "model_module": "@jupyter-widgets/base",
          "model_name": "LayoutModel",
          "model_module_version": "1.2.0",
          "state": {
            "_model_module": "@jupyter-widgets/base",
            "_model_module_version": "1.2.0",
            "_model_name": "LayoutModel",
            "_view_count": null,
            "_view_module": "@jupyter-widgets/base",
            "_view_module_version": "1.2.0",
            "_view_name": "LayoutView",
            "align_content": null,
            "align_items": null,
            "align_self": null,
            "border": null,
            "bottom": null,
            "display": null,
            "flex": null,
            "flex_flow": null,
            "grid_area": null,
            "grid_auto_columns": null,
            "grid_auto_flow": null,
            "grid_auto_rows": null,
            "grid_column": null,
            "grid_gap": null,
            "grid_row": null,
            "grid_template_areas": null,
            "grid_template_columns": null,
            "grid_template_rows": null,
            "height": null,
            "justify_content": null,
            "justify_items": null,
            "left": null,
            "margin": null,
            "max_height": null,
            "max_width": null,
            "min_height": null,
            "min_width": null,
            "object_fit": null,
            "object_position": null,
            "order": null,
            "overflow": null,
            "overflow_x": null,
            "overflow_y": null,
            "padding": null,
            "right": null,
            "top": null,
            "visibility": null,
            "width": null
          }
        },
        "1b9e3bf547024c50901d51e2d2fd253b": {
          "model_module": "@jupyter-widgets/base",
          "model_name": "LayoutModel",
          "model_module_version": "1.2.0",
          "state": {
            "_model_module": "@jupyter-widgets/base",
            "_model_module_version": "1.2.0",
            "_model_name": "LayoutModel",
            "_view_count": null,
            "_view_module": "@jupyter-widgets/base",
            "_view_module_version": "1.2.0",
            "_view_name": "LayoutView",
            "align_content": null,
            "align_items": null,
            "align_self": null,
            "border": null,
            "bottom": null,
            "display": null,
            "flex": null,
            "flex_flow": null,
            "grid_area": null,
            "grid_auto_columns": null,
            "grid_auto_flow": null,
            "grid_auto_rows": null,
            "grid_column": null,
            "grid_gap": null,
            "grid_row": null,
            "grid_template_areas": null,
            "grid_template_columns": null,
            "grid_template_rows": null,
            "height": null,
            "justify_content": null,
            "justify_items": null,
            "left": null,
            "margin": null,
            "max_height": null,
            "max_width": null,
            "min_height": null,
            "min_width": null,
            "object_fit": null,
            "object_position": null,
            "order": null,
            "overflow": null,
            "overflow_x": null,
            "overflow_y": null,
            "padding": null,
            "right": null,
            "top": null,
            "visibility": null,
            "width": null
          }
        },
        "d5760a7a31594b759ceba123dd293d88": {
          "model_module": "@jupyter-widgets/controls",
          "model_name": "DescriptionStyleModel",
          "model_module_version": "1.5.0",
          "state": {
            "_model_module": "@jupyter-widgets/controls",
            "_model_module_version": "1.5.0",
            "_model_name": "DescriptionStyleModel",
            "_view_count": null,
            "_view_module": "@jupyter-widgets/base",
            "_view_module_version": "1.2.0",
            "_view_name": "StyleView",
            "description_width": ""
          }
        },
        "8e2946f1331348bca775710ce98627a9": {
          "model_module": "@jupyter-widgets/base",
          "model_name": "LayoutModel",
          "model_module_version": "1.2.0",
          "state": {
            "_model_module": "@jupyter-widgets/base",
            "_model_module_version": "1.2.0",
            "_model_name": "LayoutModel",
            "_view_count": null,
            "_view_module": "@jupyter-widgets/base",
            "_view_module_version": "1.2.0",
            "_view_name": "LayoutView",
            "align_content": null,
            "align_items": null,
            "align_self": null,
            "border": null,
            "bottom": null,
            "display": null,
            "flex": null,
            "flex_flow": null,
            "grid_area": null,
            "grid_auto_columns": null,
            "grid_auto_flow": null,
            "grid_auto_rows": null,
            "grid_column": null,
            "grid_gap": null,
            "grid_row": null,
            "grid_template_areas": null,
            "grid_template_columns": null,
            "grid_template_rows": null,
            "height": null,
            "justify_content": null,
            "justify_items": null,
            "left": null,
            "margin": null,
            "max_height": null,
            "max_width": null,
            "min_height": null,
            "min_width": null,
            "object_fit": null,
            "object_position": null,
            "order": null,
            "overflow": null,
            "overflow_x": null,
            "overflow_y": null,
            "padding": null,
            "right": null,
            "top": null,
            "visibility": null,
            "width": null
          }
        },
        "e2a791439247428eb7e7ce4657ab49ea": {
          "model_module": "@jupyter-widgets/controls",
          "model_name": "ProgressStyleModel",
          "model_module_version": "1.5.0",
          "state": {
            "_model_module": "@jupyter-widgets/controls",
            "_model_module_version": "1.5.0",
            "_model_name": "ProgressStyleModel",
            "_view_count": null,
            "_view_module": "@jupyter-widgets/base",
            "_view_module_version": "1.2.0",
            "_view_name": "StyleView",
            "bar_color": null,
            "description_width": ""
          }
        },
        "655c48c59acb4952881369b184f21c40": {
          "model_module": "@jupyter-widgets/base",
          "model_name": "LayoutModel",
          "model_module_version": "1.2.0",
          "state": {
            "_model_module": "@jupyter-widgets/base",
            "_model_module_version": "1.2.0",
            "_model_name": "LayoutModel",
            "_view_count": null,
            "_view_module": "@jupyter-widgets/base",
            "_view_module_version": "1.2.0",
            "_view_name": "LayoutView",
            "align_content": null,
            "align_items": null,
            "align_self": null,
            "border": null,
            "bottom": null,
            "display": null,
            "flex": null,
            "flex_flow": null,
            "grid_area": null,
            "grid_auto_columns": null,
            "grid_auto_flow": null,
            "grid_auto_rows": null,
            "grid_column": null,
            "grid_gap": null,
            "grid_row": null,
            "grid_template_areas": null,
            "grid_template_columns": null,
            "grid_template_rows": null,
            "height": null,
            "justify_content": null,
            "justify_items": null,
            "left": null,
            "margin": null,
            "max_height": null,
            "max_width": null,
            "min_height": null,
            "min_width": null,
            "object_fit": null,
            "object_position": null,
            "order": null,
            "overflow": null,
            "overflow_x": null,
            "overflow_y": null,
            "padding": null,
            "right": null,
            "top": null,
            "visibility": null,
            "width": null
          }
        },
        "a84fbef425dc4de9a5d23488a6d7f283": {
          "model_module": "@jupyter-widgets/controls",
          "model_name": "DescriptionStyleModel",
          "model_module_version": "1.5.0",
          "state": {
            "_model_module": "@jupyter-widgets/controls",
            "_model_module_version": "1.5.0",
            "_model_name": "DescriptionStyleModel",
            "_view_count": null,
            "_view_module": "@jupyter-widgets/base",
            "_view_module_version": "1.2.0",
            "_view_name": "StyleView",
            "description_width": ""
          }
        },
        "598406ec430b430680f5134650210d1f": {
          "model_module": "@jupyter-widgets/controls",
          "model_name": "HBoxModel",
          "model_module_version": "1.5.0",
          "state": {
            "_dom_classes": [],
            "_model_module": "@jupyter-widgets/controls",
            "_model_module_version": "1.5.0",
            "_model_name": "HBoxModel",
            "_view_count": null,
            "_view_module": "@jupyter-widgets/controls",
            "_view_module_version": "1.5.0",
            "_view_name": "HBoxView",
            "box_style": "",
            "children": [
              "IPY_MODEL_4dbb71919d8244258b1c58207951b74f",
              "IPY_MODEL_7f4c501745a44ce583b83b1f3e417164",
              "IPY_MODEL_fbef864d75544ea2a8212a48c1441f93"
            ],
            "layout": "IPY_MODEL_cfe701cb4f70419e8f83e50482543f1f"
          }
        },
        "4dbb71919d8244258b1c58207951b74f": {
          "model_module": "@jupyter-widgets/controls",
          "model_name": "HTMLModel",
          "model_module_version": "1.5.0",
          "state": {
            "_dom_classes": [],
            "_model_module": "@jupyter-widgets/controls",
            "_model_module_version": "1.5.0",
            "_model_name": "HTMLModel",
            "_view_count": null,
            "_view_module": "@jupyter-widgets/controls",
            "_view_module_version": "1.5.0",
            "_view_name": "HTMLView",
            "description": "",
            "description_tooltip": null,
            "layout": "IPY_MODEL_731c6a3bcdcf4ec983b035dd6094dbe5",
            "placeholder": "​",
            "style": "IPY_MODEL_b0d7e35996d04fb9bdff5215e7863b71",
            "value": "vocab.json: 100%"
          }
        },
        "7f4c501745a44ce583b83b1f3e417164": {
          "model_module": "@jupyter-widgets/controls",
          "model_name": "FloatProgressModel",
          "model_module_version": "1.5.0",
          "state": {
            "_dom_classes": [],
            "_model_module": "@jupyter-widgets/controls",
            "_model_module_version": "1.5.0",
            "_model_name": "FloatProgressModel",
            "_view_count": null,
            "_view_module": "@jupyter-widgets/controls",
            "_view_module_version": "1.5.0",
            "_view_name": "ProgressView",
            "bar_style": "success",
            "description": "",
            "description_tooltip": null,
            "layout": "IPY_MODEL_7adbccf7a8d94bf280aa2fb1ebbd52e6",
            "max": 898822,
            "min": 0,
            "orientation": "horizontal",
            "style": "IPY_MODEL_201f37fdb08d41a09357fd2047401755",
            "value": 898822
          }
        },
        "fbef864d75544ea2a8212a48c1441f93": {
          "model_module": "@jupyter-widgets/controls",
          "model_name": "HTMLModel",
          "model_module_version": "1.5.0",
          "state": {
            "_dom_classes": [],
            "_model_module": "@jupyter-widgets/controls",
            "_model_module_version": "1.5.0",
            "_model_name": "HTMLModel",
            "_view_count": null,
            "_view_module": "@jupyter-widgets/controls",
            "_view_module_version": "1.5.0",
            "_view_name": "HTMLView",
            "description": "",
            "description_tooltip": null,
            "layout": "IPY_MODEL_726d79b6083145b288484aa4d2fddaa2",
            "placeholder": "​",
            "style": "IPY_MODEL_a97691cceb1146c6ad23ff42f282611e",
            "value": " 899k/899k [00:00&lt;00:00, 4.36MB/s]"
          }
        },
        "cfe701cb4f70419e8f83e50482543f1f": {
          "model_module": "@jupyter-widgets/base",
          "model_name": "LayoutModel",
          "model_module_version": "1.2.0",
          "state": {
            "_model_module": "@jupyter-widgets/base",
            "_model_module_version": "1.2.0",
            "_model_name": "LayoutModel",
            "_view_count": null,
            "_view_module": "@jupyter-widgets/base",
            "_view_module_version": "1.2.0",
            "_view_name": "LayoutView",
            "align_content": null,
            "align_items": null,
            "align_self": null,
            "border": null,
            "bottom": null,
            "display": null,
            "flex": null,
            "flex_flow": null,
            "grid_area": null,
            "grid_auto_columns": null,
            "grid_auto_flow": null,
            "grid_auto_rows": null,
            "grid_column": null,
            "grid_gap": null,
            "grid_row": null,
            "grid_template_areas": null,
            "grid_template_columns": null,
            "grid_template_rows": null,
            "height": null,
            "justify_content": null,
            "justify_items": null,
            "left": null,
            "margin": null,
            "max_height": null,
            "max_width": null,
            "min_height": null,
            "min_width": null,
            "object_fit": null,
            "object_position": null,
            "order": null,
            "overflow": null,
            "overflow_x": null,
            "overflow_y": null,
            "padding": null,
            "right": null,
            "top": null,
            "visibility": null,
            "width": null
          }
        },
        "731c6a3bcdcf4ec983b035dd6094dbe5": {
          "model_module": "@jupyter-widgets/base",
          "model_name": "LayoutModel",
          "model_module_version": "1.2.0",
          "state": {
            "_model_module": "@jupyter-widgets/base",
            "_model_module_version": "1.2.0",
            "_model_name": "LayoutModel",
            "_view_count": null,
            "_view_module": "@jupyter-widgets/base",
            "_view_module_version": "1.2.0",
            "_view_name": "LayoutView",
            "align_content": null,
            "align_items": null,
            "align_self": null,
            "border": null,
            "bottom": null,
            "display": null,
            "flex": null,
            "flex_flow": null,
            "grid_area": null,
            "grid_auto_columns": null,
            "grid_auto_flow": null,
            "grid_auto_rows": null,
            "grid_column": null,
            "grid_gap": null,
            "grid_row": null,
            "grid_template_areas": null,
            "grid_template_columns": null,
            "grid_template_rows": null,
            "height": null,
            "justify_content": null,
            "justify_items": null,
            "left": null,
            "margin": null,
            "max_height": null,
            "max_width": null,
            "min_height": null,
            "min_width": null,
            "object_fit": null,
            "object_position": null,
            "order": null,
            "overflow": null,
            "overflow_x": null,
            "overflow_y": null,
            "padding": null,
            "right": null,
            "top": null,
            "visibility": null,
            "width": null
          }
        },
        "b0d7e35996d04fb9bdff5215e7863b71": {
          "model_module": "@jupyter-widgets/controls",
          "model_name": "DescriptionStyleModel",
          "model_module_version": "1.5.0",
          "state": {
            "_model_module": "@jupyter-widgets/controls",
            "_model_module_version": "1.5.0",
            "_model_name": "DescriptionStyleModel",
            "_view_count": null,
            "_view_module": "@jupyter-widgets/base",
            "_view_module_version": "1.2.0",
            "_view_name": "StyleView",
            "description_width": ""
          }
        },
        "7adbccf7a8d94bf280aa2fb1ebbd52e6": {
          "model_module": "@jupyter-widgets/base",
          "model_name": "LayoutModel",
          "model_module_version": "1.2.0",
          "state": {
            "_model_module": "@jupyter-widgets/base",
            "_model_module_version": "1.2.0",
            "_model_name": "LayoutModel",
            "_view_count": null,
            "_view_module": "@jupyter-widgets/base",
            "_view_module_version": "1.2.0",
            "_view_name": "LayoutView",
            "align_content": null,
            "align_items": null,
            "align_self": null,
            "border": null,
            "bottom": null,
            "display": null,
            "flex": null,
            "flex_flow": null,
            "grid_area": null,
            "grid_auto_columns": null,
            "grid_auto_flow": null,
            "grid_auto_rows": null,
            "grid_column": null,
            "grid_gap": null,
            "grid_row": null,
            "grid_template_areas": null,
            "grid_template_columns": null,
            "grid_template_rows": null,
            "height": null,
            "justify_content": null,
            "justify_items": null,
            "left": null,
            "margin": null,
            "max_height": null,
            "max_width": null,
            "min_height": null,
            "min_width": null,
            "object_fit": null,
            "object_position": null,
            "order": null,
            "overflow": null,
            "overflow_x": null,
            "overflow_y": null,
            "padding": null,
            "right": null,
            "top": null,
            "visibility": null,
            "width": null
          }
        },
        "201f37fdb08d41a09357fd2047401755": {
          "model_module": "@jupyter-widgets/controls",
          "model_name": "ProgressStyleModel",
          "model_module_version": "1.5.0",
          "state": {
            "_model_module": "@jupyter-widgets/controls",
            "_model_module_version": "1.5.0",
            "_model_name": "ProgressStyleModel",
            "_view_count": null,
            "_view_module": "@jupyter-widgets/base",
            "_view_module_version": "1.2.0",
            "_view_name": "StyleView",
            "bar_color": null,
            "description_width": ""
          }
        },
        "726d79b6083145b288484aa4d2fddaa2": {
          "model_module": "@jupyter-widgets/base",
          "model_name": "LayoutModel",
          "model_module_version": "1.2.0",
          "state": {
            "_model_module": "@jupyter-widgets/base",
            "_model_module_version": "1.2.0",
            "_model_name": "LayoutModel",
            "_view_count": null,
            "_view_module": "@jupyter-widgets/base",
            "_view_module_version": "1.2.0",
            "_view_name": "LayoutView",
            "align_content": null,
            "align_items": null,
            "align_self": null,
            "border": null,
            "bottom": null,
            "display": null,
            "flex": null,
            "flex_flow": null,
            "grid_area": null,
            "grid_auto_columns": null,
            "grid_auto_flow": null,
            "grid_auto_rows": null,
            "grid_column": null,
            "grid_gap": null,
            "grid_row": null,
            "grid_template_areas": null,
            "grid_template_columns": null,
            "grid_template_rows": null,
            "height": null,
            "justify_content": null,
            "justify_items": null,
            "left": null,
            "margin": null,
            "max_height": null,
            "max_width": null,
            "min_height": null,
            "min_width": null,
            "object_fit": null,
            "object_position": null,
            "order": null,
            "overflow": null,
            "overflow_x": null,
            "overflow_y": null,
            "padding": null,
            "right": null,
            "top": null,
            "visibility": null,
            "width": null
          }
        },
        "a97691cceb1146c6ad23ff42f282611e": {
          "model_module": "@jupyter-widgets/controls",
          "model_name": "DescriptionStyleModel",
          "model_module_version": "1.5.0",
          "state": {
            "_model_module": "@jupyter-widgets/controls",
            "_model_module_version": "1.5.0",
            "_model_name": "DescriptionStyleModel",
            "_view_count": null,
            "_view_module": "@jupyter-widgets/base",
            "_view_module_version": "1.2.0",
            "_view_name": "StyleView",
            "description_width": ""
          }
        },
        "3f8ebd463a394d8ab6bb4ccaa237fa36": {
          "model_module": "@jupyter-widgets/controls",
          "model_name": "HBoxModel",
          "model_module_version": "1.5.0",
          "state": {
            "_dom_classes": [],
            "_model_module": "@jupyter-widgets/controls",
            "_model_module_version": "1.5.0",
            "_model_name": "HBoxModel",
            "_view_count": null,
            "_view_module": "@jupyter-widgets/controls",
            "_view_module_version": "1.5.0",
            "_view_name": "HBoxView",
            "box_style": "",
            "children": [
              "IPY_MODEL_e051dc4d39dd4f1d97c6d94e95fce6c8",
              "IPY_MODEL_04733c47449744c1ac670251d13e77ff",
              "IPY_MODEL_eb09b6716cfa459d8973abdc684cf303"
            ],
            "layout": "IPY_MODEL_63fd05519b1d49d7ad784108daed4fec"
          }
        },
        "e051dc4d39dd4f1d97c6d94e95fce6c8": {
          "model_module": "@jupyter-widgets/controls",
          "model_name": "HTMLModel",
          "model_module_version": "1.5.0",
          "state": {
            "_dom_classes": [],
            "_model_module": "@jupyter-widgets/controls",
            "_model_module_version": "1.5.0",
            "_model_name": "HTMLModel",
            "_view_count": null,
            "_view_module": "@jupyter-widgets/controls",
            "_view_module_version": "1.5.0",
            "_view_name": "HTMLView",
            "description": "",
            "description_tooltip": null,
            "layout": "IPY_MODEL_15b61f3ba5ac4b97b6acf16b4fc682e9",
            "placeholder": "​",
            "style": "IPY_MODEL_f0847c772bf14519a04cbbd8d49bb2f4",
            "value": "merges.txt: 100%"
          }
        },
        "04733c47449744c1ac670251d13e77ff": {
          "model_module": "@jupyter-widgets/controls",
          "model_name": "FloatProgressModel",
          "model_module_version": "1.5.0",
          "state": {
            "_dom_classes": [],
            "_model_module": "@jupyter-widgets/controls",
            "_model_module_version": "1.5.0",
            "_model_name": "FloatProgressModel",
            "_view_count": null,
            "_view_module": "@jupyter-widgets/controls",
            "_view_module_version": "1.5.0",
            "_view_name": "ProgressView",
            "bar_style": "success",
            "description": "",
            "description_tooltip": null,
            "layout": "IPY_MODEL_75a7fe65490b4f14a5747ca25d2934a8",
            "max": 456318,
            "min": 0,
            "orientation": "horizontal",
            "style": "IPY_MODEL_7400a7e81a0d472eb298e193269aecf4",
            "value": 456318
          }
        },
        "eb09b6716cfa459d8973abdc684cf303": {
          "model_module": "@jupyter-widgets/controls",
          "model_name": "HTMLModel",
          "model_module_version": "1.5.0",
          "state": {
            "_dom_classes": [],
            "_model_module": "@jupyter-widgets/controls",
            "_model_module_version": "1.5.0",
            "_model_name": "HTMLModel",
            "_view_count": null,
            "_view_module": "@jupyter-widgets/controls",
            "_view_module_version": "1.5.0",
            "_view_name": "HTMLView",
            "description": "",
            "description_tooltip": null,
            "layout": "IPY_MODEL_ba5869c0ce1548999c825264e5cea854",
            "placeholder": "​",
            "style": "IPY_MODEL_9356f93dced6496b899406c495c04511",
            "value": " 456k/456k [00:00&lt;00:00, 3.72MB/s]"
          }
        },
        "63fd05519b1d49d7ad784108daed4fec": {
          "model_module": "@jupyter-widgets/base",
          "model_name": "LayoutModel",
          "model_module_version": "1.2.0",
          "state": {
            "_model_module": "@jupyter-widgets/base",
            "_model_module_version": "1.2.0",
            "_model_name": "LayoutModel",
            "_view_count": null,
            "_view_module": "@jupyter-widgets/base",
            "_view_module_version": "1.2.0",
            "_view_name": "LayoutView",
            "align_content": null,
            "align_items": null,
            "align_self": null,
            "border": null,
            "bottom": null,
            "display": null,
            "flex": null,
            "flex_flow": null,
            "grid_area": null,
            "grid_auto_columns": null,
            "grid_auto_flow": null,
            "grid_auto_rows": null,
            "grid_column": null,
            "grid_gap": null,
            "grid_row": null,
            "grid_template_areas": null,
            "grid_template_columns": null,
            "grid_template_rows": null,
            "height": null,
            "justify_content": null,
            "justify_items": null,
            "left": null,
            "margin": null,
            "max_height": null,
            "max_width": null,
            "min_height": null,
            "min_width": null,
            "object_fit": null,
            "object_position": null,
            "order": null,
            "overflow": null,
            "overflow_x": null,
            "overflow_y": null,
            "padding": null,
            "right": null,
            "top": null,
            "visibility": null,
            "width": null
          }
        },
        "15b61f3ba5ac4b97b6acf16b4fc682e9": {
          "model_module": "@jupyter-widgets/base",
          "model_name": "LayoutModel",
          "model_module_version": "1.2.0",
          "state": {
            "_model_module": "@jupyter-widgets/base",
            "_model_module_version": "1.2.0",
            "_model_name": "LayoutModel",
            "_view_count": null,
            "_view_module": "@jupyter-widgets/base",
            "_view_module_version": "1.2.0",
            "_view_name": "LayoutView",
            "align_content": null,
            "align_items": null,
            "align_self": null,
            "border": null,
            "bottom": null,
            "display": null,
            "flex": null,
            "flex_flow": null,
            "grid_area": null,
            "grid_auto_columns": null,
            "grid_auto_flow": null,
            "grid_auto_rows": null,
            "grid_column": null,
            "grid_gap": null,
            "grid_row": null,
            "grid_template_areas": null,
            "grid_template_columns": null,
            "grid_template_rows": null,
            "height": null,
            "justify_content": null,
            "justify_items": null,
            "left": null,
            "margin": null,
            "max_height": null,
            "max_width": null,
            "min_height": null,
            "min_width": null,
            "object_fit": null,
            "object_position": null,
            "order": null,
            "overflow": null,
            "overflow_x": null,
            "overflow_y": null,
            "padding": null,
            "right": null,
            "top": null,
            "visibility": null,
            "width": null
          }
        },
        "f0847c772bf14519a04cbbd8d49bb2f4": {
          "model_module": "@jupyter-widgets/controls",
          "model_name": "DescriptionStyleModel",
          "model_module_version": "1.5.0",
          "state": {
            "_model_module": "@jupyter-widgets/controls",
            "_model_module_version": "1.5.0",
            "_model_name": "DescriptionStyleModel",
            "_view_count": null,
            "_view_module": "@jupyter-widgets/base",
            "_view_module_version": "1.2.0",
            "_view_name": "StyleView",
            "description_width": ""
          }
        },
        "75a7fe65490b4f14a5747ca25d2934a8": {
          "model_module": "@jupyter-widgets/base",
          "model_name": "LayoutModel",
          "model_module_version": "1.2.0",
          "state": {
            "_model_module": "@jupyter-widgets/base",
            "_model_module_version": "1.2.0",
            "_model_name": "LayoutModel",
            "_view_count": null,
            "_view_module": "@jupyter-widgets/base",
            "_view_module_version": "1.2.0",
            "_view_name": "LayoutView",
            "align_content": null,
            "align_items": null,
            "align_self": null,
            "border": null,
            "bottom": null,
            "display": null,
            "flex": null,
            "flex_flow": null,
            "grid_area": null,
            "grid_auto_columns": null,
            "grid_auto_flow": null,
            "grid_auto_rows": null,
            "grid_column": null,
            "grid_gap": null,
            "grid_row": null,
            "grid_template_areas": null,
            "grid_template_columns": null,
            "grid_template_rows": null,
            "height": null,
            "justify_content": null,
            "justify_items": null,
            "left": null,
            "margin": null,
            "max_height": null,
            "max_width": null,
            "min_height": null,
            "min_width": null,
            "object_fit": null,
            "object_position": null,
            "order": null,
            "overflow": null,
            "overflow_x": null,
            "overflow_y": null,
            "padding": null,
            "right": null,
            "top": null,
            "visibility": null,
            "width": null
          }
        },
        "7400a7e81a0d472eb298e193269aecf4": {
          "model_module": "@jupyter-widgets/controls",
          "model_name": "ProgressStyleModel",
          "model_module_version": "1.5.0",
          "state": {
            "_model_module": "@jupyter-widgets/controls",
            "_model_module_version": "1.5.0",
            "_model_name": "ProgressStyleModel",
            "_view_count": null,
            "_view_module": "@jupyter-widgets/base",
            "_view_module_version": "1.2.0",
            "_view_name": "StyleView",
            "bar_color": null,
            "description_width": ""
          }
        },
        "ba5869c0ce1548999c825264e5cea854": {
          "model_module": "@jupyter-widgets/base",
          "model_name": "LayoutModel",
          "model_module_version": "1.2.0",
          "state": {
            "_model_module": "@jupyter-widgets/base",
            "_model_module_version": "1.2.0",
            "_model_name": "LayoutModel",
            "_view_count": null,
            "_view_module": "@jupyter-widgets/base",
            "_view_module_version": "1.2.0",
            "_view_name": "LayoutView",
            "align_content": null,
            "align_items": null,
            "align_self": null,
            "border": null,
            "bottom": null,
            "display": null,
            "flex": null,
            "flex_flow": null,
            "grid_area": null,
            "grid_auto_columns": null,
            "grid_auto_flow": null,
            "grid_auto_rows": null,
            "grid_column": null,
            "grid_gap": null,
            "grid_row": null,
            "grid_template_areas": null,
            "grid_template_columns": null,
            "grid_template_rows": null,
            "height": null,
            "justify_content": null,
            "justify_items": null,
            "left": null,
            "margin": null,
            "max_height": null,
            "max_width": null,
            "min_height": null,
            "min_width": null,
            "object_fit": null,
            "object_position": null,
            "order": null,
            "overflow": null,
            "overflow_x": null,
            "overflow_y": null,
            "padding": null,
            "right": null,
            "top": null,
            "visibility": null,
            "width": null
          }
        },
        "9356f93dced6496b899406c495c04511": {
          "model_module": "@jupyter-widgets/controls",
          "model_name": "DescriptionStyleModel",
          "model_module_version": "1.5.0",
          "state": {
            "_model_module": "@jupyter-widgets/controls",
            "_model_module_version": "1.5.0",
            "_model_name": "DescriptionStyleModel",
            "_view_count": null,
            "_view_module": "@jupyter-widgets/base",
            "_view_module_version": "1.2.0",
            "_view_name": "StyleView",
            "description_width": ""
          }
        },
        "6fef98a8d68e473d95f57efec0337a4a": {
          "model_module": "@jupyter-widgets/controls",
          "model_name": "HBoxModel",
          "model_module_version": "1.5.0",
          "state": {
            "_dom_classes": [],
            "_model_module": "@jupyter-widgets/controls",
            "_model_module_version": "1.5.0",
            "_model_name": "HBoxModel",
            "_view_count": null,
            "_view_module": "@jupyter-widgets/controls",
            "_view_module_version": "1.5.0",
            "_view_name": "HBoxView",
            "box_style": "",
            "children": [
              "IPY_MODEL_ac95c3e647e2448a9f0f96612312a5c4",
              "IPY_MODEL_9df2722a7a1d48b384277319674339e8",
              "IPY_MODEL_3ce900d6106d415db7318f70636423a3"
            ],
            "layout": "IPY_MODEL_233f9cb6ff5f4e8fa318c514f2b292ce"
          }
        },
        "ac95c3e647e2448a9f0f96612312a5c4": {
          "model_module": "@jupyter-widgets/controls",
          "model_name": "HTMLModel",
          "model_module_version": "1.5.0",
          "state": {
            "_dom_classes": [],
            "_model_module": "@jupyter-widgets/controls",
            "_model_module_version": "1.5.0",
            "_model_name": "HTMLModel",
            "_view_count": null,
            "_view_module": "@jupyter-widgets/controls",
            "_view_module_version": "1.5.0",
            "_view_name": "HTMLView",
            "description": "",
            "description_tooltip": null,
            "layout": "IPY_MODEL_aceec5df20a74169b33e657d1b760688",
            "placeholder": "​",
            "style": "IPY_MODEL_cf07045109a942cf99c51e666a413baa",
            "value": "special_tokens_map.json: 100%"
          }
        },
        "9df2722a7a1d48b384277319674339e8": {
          "model_module": "@jupyter-widgets/controls",
          "model_name": "FloatProgressModel",
          "model_module_version": "1.5.0",
          "state": {
            "_dom_classes": [],
            "_model_module": "@jupyter-widgets/controls",
            "_model_module_version": "1.5.0",
            "_model_name": "FloatProgressModel",
            "_view_count": null,
            "_view_module": "@jupyter-widgets/controls",
            "_view_module_version": "1.5.0",
            "_view_name": "ProgressView",
            "bar_style": "success",
            "description": "",
            "description_tooltip": null,
            "layout": "IPY_MODEL_ce813b60bd3c4a86b152fe390d6bcc5c",
            "max": 772,
            "min": 0,
            "orientation": "horizontal",
            "style": "IPY_MODEL_1599e1aca7584acbacb5f75aa8b660ed",
            "value": 772
          }
        },
        "3ce900d6106d415db7318f70636423a3": {
          "model_module": "@jupyter-widgets/controls",
          "model_name": "HTMLModel",
          "model_module_version": "1.5.0",
          "state": {
            "_dom_classes": [],
            "_model_module": "@jupyter-widgets/controls",
            "_model_module_version": "1.5.0",
            "_model_name": "HTMLModel",
            "_view_count": null,
            "_view_module": "@jupyter-widgets/controls",
            "_view_module_version": "1.5.0",
            "_view_name": "HTMLView",
            "description": "",
            "description_tooltip": null,
            "layout": "IPY_MODEL_320d67fd4b1940b0914a5a5c94f0f3a5",
            "placeholder": "​",
            "style": "IPY_MODEL_e93d7f86fffc4f26bec59a9c4c2852dc",
            "value": " 772/772 [00:00&lt;00:00, 12.8kB/s]"
          }
        },
        "233f9cb6ff5f4e8fa318c514f2b292ce": {
          "model_module": "@jupyter-widgets/base",
          "model_name": "LayoutModel",
          "model_module_version": "1.2.0",
          "state": {
            "_model_module": "@jupyter-widgets/base",
            "_model_module_version": "1.2.0",
            "_model_name": "LayoutModel",
            "_view_count": null,
            "_view_module": "@jupyter-widgets/base",
            "_view_module_version": "1.2.0",
            "_view_name": "LayoutView",
            "align_content": null,
            "align_items": null,
            "align_self": null,
            "border": null,
            "bottom": null,
            "display": null,
            "flex": null,
            "flex_flow": null,
            "grid_area": null,
            "grid_auto_columns": null,
            "grid_auto_flow": null,
            "grid_auto_rows": null,
            "grid_column": null,
            "grid_gap": null,
            "grid_row": null,
            "grid_template_areas": null,
            "grid_template_columns": null,
            "grid_template_rows": null,
            "height": null,
            "justify_content": null,
            "justify_items": null,
            "left": null,
            "margin": null,
            "max_height": null,
            "max_width": null,
            "min_height": null,
            "min_width": null,
            "object_fit": null,
            "object_position": null,
            "order": null,
            "overflow": null,
            "overflow_x": null,
            "overflow_y": null,
            "padding": null,
            "right": null,
            "top": null,
            "visibility": null,
            "width": null
          }
        },
        "aceec5df20a74169b33e657d1b760688": {
          "model_module": "@jupyter-widgets/base",
          "model_name": "LayoutModel",
          "model_module_version": "1.2.0",
          "state": {
            "_model_module": "@jupyter-widgets/base",
            "_model_module_version": "1.2.0",
            "_model_name": "LayoutModel",
            "_view_count": null,
            "_view_module": "@jupyter-widgets/base",
            "_view_module_version": "1.2.0",
            "_view_name": "LayoutView",
            "align_content": null,
            "align_items": null,
            "align_self": null,
            "border": null,
            "bottom": null,
            "display": null,
            "flex": null,
            "flex_flow": null,
            "grid_area": null,
            "grid_auto_columns": null,
            "grid_auto_flow": null,
            "grid_auto_rows": null,
            "grid_column": null,
            "grid_gap": null,
            "grid_row": null,
            "grid_template_areas": null,
            "grid_template_columns": null,
            "grid_template_rows": null,
            "height": null,
            "justify_content": null,
            "justify_items": null,
            "left": null,
            "margin": null,
            "max_height": null,
            "max_width": null,
            "min_height": null,
            "min_width": null,
            "object_fit": null,
            "object_position": null,
            "order": null,
            "overflow": null,
            "overflow_x": null,
            "overflow_y": null,
            "padding": null,
            "right": null,
            "top": null,
            "visibility": null,
            "width": null
          }
        },
        "cf07045109a942cf99c51e666a413baa": {
          "model_module": "@jupyter-widgets/controls",
          "model_name": "DescriptionStyleModel",
          "model_module_version": "1.5.0",
          "state": {
            "_model_module": "@jupyter-widgets/controls",
            "_model_module_version": "1.5.0",
            "_model_name": "DescriptionStyleModel",
            "_view_count": null,
            "_view_module": "@jupyter-widgets/base",
            "_view_module_version": "1.2.0",
            "_view_name": "StyleView",
            "description_width": ""
          }
        },
        "ce813b60bd3c4a86b152fe390d6bcc5c": {
          "model_module": "@jupyter-widgets/base",
          "model_name": "LayoutModel",
          "model_module_version": "1.2.0",
          "state": {
            "_model_module": "@jupyter-widgets/base",
            "_model_module_version": "1.2.0",
            "_model_name": "LayoutModel",
            "_view_count": null,
            "_view_module": "@jupyter-widgets/base",
            "_view_module_version": "1.2.0",
            "_view_name": "LayoutView",
            "align_content": null,
            "align_items": null,
            "align_self": null,
            "border": null,
            "bottom": null,
            "display": null,
            "flex": null,
            "flex_flow": null,
            "grid_area": null,
            "grid_auto_columns": null,
            "grid_auto_flow": null,
            "grid_auto_rows": null,
            "grid_column": null,
            "grid_gap": null,
            "grid_row": null,
            "grid_template_areas": null,
            "grid_template_columns": null,
            "grid_template_rows": null,
            "height": null,
            "justify_content": null,
            "justify_items": null,
            "left": null,
            "margin": null,
            "max_height": null,
            "max_width": null,
            "min_height": null,
            "min_width": null,
            "object_fit": null,
            "object_position": null,
            "order": null,
            "overflow": null,
            "overflow_x": null,
            "overflow_y": null,
            "padding": null,
            "right": null,
            "top": null,
            "visibility": null,
            "width": null
          }
        },
        "1599e1aca7584acbacb5f75aa8b660ed": {
          "model_module": "@jupyter-widgets/controls",
          "model_name": "ProgressStyleModel",
          "model_module_version": "1.5.0",
          "state": {
            "_model_module": "@jupyter-widgets/controls",
            "_model_module_version": "1.5.0",
            "_model_name": "ProgressStyleModel",
            "_view_count": null,
            "_view_module": "@jupyter-widgets/base",
            "_view_module_version": "1.2.0",
            "_view_name": "StyleView",
            "bar_color": null,
            "description_width": ""
          }
        },
        "320d67fd4b1940b0914a5a5c94f0f3a5": {
          "model_module": "@jupyter-widgets/base",
          "model_name": "LayoutModel",
          "model_module_version": "1.2.0",
          "state": {
            "_model_module": "@jupyter-widgets/base",
            "_model_module_version": "1.2.0",
            "_model_name": "LayoutModel",
            "_view_count": null,
            "_view_module": "@jupyter-widgets/base",
            "_view_module_version": "1.2.0",
            "_view_name": "LayoutView",
            "align_content": null,
            "align_items": null,
            "align_self": null,
            "border": null,
            "bottom": null,
            "display": null,
            "flex": null,
            "flex_flow": null,
            "grid_area": null,
            "grid_auto_columns": null,
            "grid_auto_flow": null,
            "grid_auto_rows": null,
            "grid_column": null,
            "grid_gap": null,
            "grid_row": null,
            "grid_template_areas": null,
            "grid_template_columns": null,
            "grid_template_rows": null,
            "height": null,
            "justify_content": null,
            "justify_items": null,
            "left": null,
            "margin": null,
            "max_height": null,
            "max_width": null,
            "min_height": null,
            "min_width": null,
            "object_fit": null,
            "object_position": null,
            "order": null,
            "overflow": null,
            "overflow_x": null,
            "overflow_y": null,
            "padding": null,
            "right": null,
            "top": null,
            "visibility": null,
            "width": null
          }
        },
        "e93d7f86fffc4f26bec59a9c4c2852dc": {
          "model_module": "@jupyter-widgets/controls",
          "model_name": "DescriptionStyleModel",
          "model_module_version": "1.5.0",
          "state": {
            "_model_module": "@jupyter-widgets/controls",
            "_model_module_version": "1.5.0",
            "_model_name": "DescriptionStyleModel",
            "_view_count": null,
            "_view_module": "@jupyter-widgets/base",
            "_view_module_version": "1.2.0",
            "_view_name": "StyleView",
            "description_width": ""
          }
        },
        "e30a9fd8ab764c6080974551c33b5293": {
          "model_module": "@jupyter-widgets/controls",
          "model_name": "HBoxModel",
          "model_module_version": "1.5.0",
          "state": {
            "_dom_classes": [],
            "_model_module": "@jupyter-widgets/controls",
            "_model_module_version": "1.5.0",
            "_model_name": "HBoxModel",
            "_view_count": null,
            "_view_module": "@jupyter-widgets/controls",
            "_view_module_version": "1.5.0",
            "_view_name": "HBoxView",
            "box_style": "",
            "children": [
              "IPY_MODEL_1772877b4ea74f1aa47d9f217e5926e2",
              "IPY_MODEL_e807b7e52efb45d28221eb5a797369e7",
              "IPY_MODEL_17ae31486b8f47eb9392b130b00e4350"
            ],
            "layout": "IPY_MODEL_b53ecd002da14950b74bf93d8a1ca59c"
          }
        },
        "1772877b4ea74f1aa47d9f217e5926e2": {
          "model_module": "@jupyter-widgets/controls",
          "model_name": "HTMLModel",
          "model_module_version": "1.5.0",
          "state": {
            "_dom_classes": [],
            "_model_module": "@jupyter-widgets/controls",
            "_model_module_version": "1.5.0",
            "_model_name": "HTMLModel",
            "_view_count": null,
            "_view_module": "@jupyter-widgets/controls",
            "_view_module_version": "1.5.0",
            "_view_name": "HTMLView",
            "description": "",
            "description_tooltip": null,
            "layout": "IPY_MODEL_c1e1170f3ced462e86d123c086b26e57",
            "placeholder": "​",
            "style": "IPY_MODEL_5097b7c11e7e4d49a20a7fbeac7ca673",
            "value": "config.json: 100%"
          }
        },
        "e807b7e52efb45d28221eb5a797369e7": {
          "model_module": "@jupyter-widgets/controls",
          "model_name": "FloatProgressModel",
          "model_module_version": "1.5.0",
          "state": {
            "_dom_classes": [],
            "_model_module": "@jupyter-widgets/controls",
            "_model_module_version": "1.5.0",
            "_model_name": "FloatProgressModel",
            "_view_count": null,
            "_view_module": "@jupyter-widgets/controls",
            "_view_module_version": "1.5.0",
            "_view_name": "ProgressView",
            "bar_style": "success",
            "description": "",
            "description_tooltip": null,
            "layout": "IPY_MODEL_1274b97de06e49f4b45527728d8f31fa",
            "max": 4165,
            "min": 0,
            "orientation": "horizontal",
            "style": "IPY_MODEL_e847755c3d184e859c4717f24c5b9159",
            "value": 4165
          }
        },
        "17ae31486b8f47eb9392b130b00e4350": {
          "model_module": "@jupyter-widgets/controls",
          "model_name": "HTMLModel",
          "model_module_version": "1.5.0",
          "state": {
            "_dom_classes": [],
            "_model_module": "@jupyter-widgets/controls",
            "_model_module_version": "1.5.0",
            "_model_name": "HTMLModel",
            "_view_count": null,
            "_view_module": "@jupyter-widgets/controls",
            "_view_module_version": "1.5.0",
            "_view_name": "HTMLView",
            "description": "",
            "description_tooltip": null,
            "layout": "IPY_MODEL_990361d4730a4ee4a89e6d8040920990",
            "placeholder": "​",
            "style": "IPY_MODEL_12a1f848dd774c688183244453226228",
            "value": " 4.17k/4.17k [00:00&lt;00:00, 98.7kB/s]"
          }
        },
        "b53ecd002da14950b74bf93d8a1ca59c": {
          "model_module": "@jupyter-widgets/base",
          "model_name": "LayoutModel",
          "model_module_version": "1.2.0",
          "state": {
            "_model_module": "@jupyter-widgets/base",
            "_model_module_version": "1.2.0",
            "_model_name": "LayoutModel",
            "_view_count": null,
            "_view_module": "@jupyter-widgets/base",
            "_view_module_version": "1.2.0",
            "_view_name": "LayoutView",
            "align_content": null,
            "align_items": null,
            "align_self": null,
            "border": null,
            "bottom": null,
            "display": null,
            "flex": null,
            "flex_flow": null,
            "grid_area": null,
            "grid_auto_columns": null,
            "grid_auto_flow": null,
            "grid_auto_rows": null,
            "grid_column": null,
            "grid_gap": null,
            "grid_row": null,
            "grid_template_areas": null,
            "grid_template_columns": null,
            "grid_template_rows": null,
            "height": null,
            "justify_content": null,
            "justify_items": null,
            "left": null,
            "margin": null,
            "max_height": null,
            "max_width": null,
            "min_height": null,
            "min_width": null,
            "object_fit": null,
            "object_position": null,
            "order": null,
            "overflow": null,
            "overflow_x": null,
            "overflow_y": null,
            "padding": null,
            "right": null,
            "top": null,
            "visibility": null,
            "width": null
          }
        },
        "c1e1170f3ced462e86d123c086b26e57": {
          "model_module": "@jupyter-widgets/base",
          "model_name": "LayoutModel",
          "model_module_version": "1.2.0",
          "state": {
            "_model_module": "@jupyter-widgets/base",
            "_model_module_version": "1.2.0",
            "_model_name": "LayoutModel",
            "_view_count": null,
            "_view_module": "@jupyter-widgets/base",
            "_view_module_version": "1.2.0",
            "_view_name": "LayoutView",
            "align_content": null,
            "align_items": null,
            "align_self": null,
            "border": null,
            "bottom": null,
            "display": null,
            "flex": null,
            "flex_flow": null,
            "grid_area": null,
            "grid_auto_columns": null,
            "grid_auto_flow": null,
            "grid_auto_rows": null,
            "grid_column": null,
            "grid_gap": null,
            "grid_row": null,
            "grid_template_areas": null,
            "grid_template_columns": null,
            "grid_template_rows": null,
            "height": null,
            "justify_content": null,
            "justify_items": null,
            "left": null,
            "margin": null,
            "max_height": null,
            "max_width": null,
            "min_height": null,
            "min_width": null,
            "object_fit": null,
            "object_position": null,
            "order": null,
            "overflow": null,
            "overflow_x": null,
            "overflow_y": null,
            "padding": null,
            "right": null,
            "top": null,
            "visibility": null,
            "width": null
          }
        },
        "5097b7c11e7e4d49a20a7fbeac7ca673": {
          "model_module": "@jupyter-widgets/controls",
          "model_name": "DescriptionStyleModel",
          "model_module_version": "1.5.0",
          "state": {
            "_model_module": "@jupyter-widgets/controls",
            "_model_module_version": "1.5.0",
            "_model_name": "DescriptionStyleModel",
            "_view_count": null,
            "_view_module": "@jupyter-widgets/base",
            "_view_module_version": "1.2.0",
            "_view_name": "StyleView",
            "description_width": ""
          }
        },
        "1274b97de06e49f4b45527728d8f31fa": {
          "model_module": "@jupyter-widgets/base",
          "model_name": "LayoutModel",
          "model_module_version": "1.2.0",
          "state": {
            "_model_module": "@jupyter-widgets/base",
            "_model_module_version": "1.2.0",
            "_model_name": "LayoutModel",
            "_view_count": null,
            "_view_module": "@jupyter-widgets/base",
            "_view_module_version": "1.2.0",
            "_view_name": "LayoutView",
            "align_content": null,
            "align_items": null,
            "align_self": null,
            "border": null,
            "bottom": null,
            "display": null,
            "flex": null,
            "flex_flow": null,
            "grid_area": null,
            "grid_auto_columns": null,
            "grid_auto_flow": null,
            "grid_auto_rows": null,
            "grid_column": null,
            "grid_gap": null,
            "grid_row": null,
            "grid_template_areas": null,
            "grid_template_columns": null,
            "grid_template_rows": null,
            "height": null,
            "justify_content": null,
            "justify_items": null,
            "left": null,
            "margin": null,
            "max_height": null,
            "max_width": null,
            "min_height": null,
            "min_width": null,
            "object_fit": null,
            "object_position": null,
            "order": null,
            "overflow": null,
            "overflow_x": null,
            "overflow_y": null,
            "padding": null,
            "right": null,
            "top": null,
            "visibility": null,
            "width": null
          }
        },
        "e847755c3d184e859c4717f24c5b9159": {
          "model_module": "@jupyter-widgets/controls",
          "model_name": "ProgressStyleModel",
          "model_module_version": "1.5.0",
          "state": {
            "_model_module": "@jupyter-widgets/controls",
            "_model_module_version": "1.5.0",
            "_model_name": "ProgressStyleModel",
            "_view_count": null,
            "_view_module": "@jupyter-widgets/base",
            "_view_module_version": "1.2.0",
            "_view_name": "StyleView",
            "bar_color": null,
            "description_width": ""
          }
        },
        "990361d4730a4ee4a89e6d8040920990": {
          "model_module": "@jupyter-widgets/base",
          "model_name": "LayoutModel",
          "model_module_version": "1.2.0",
          "state": {
            "_model_module": "@jupyter-widgets/base",
            "_model_module_version": "1.2.0",
            "_model_name": "LayoutModel",
            "_view_count": null,
            "_view_module": "@jupyter-widgets/base",
            "_view_module_version": "1.2.0",
            "_view_name": "LayoutView",
            "align_content": null,
            "align_items": null,
            "align_self": null,
            "border": null,
            "bottom": null,
            "display": null,
            "flex": null,
            "flex_flow": null,
            "grid_area": null,
            "grid_auto_columns": null,
            "grid_auto_flow": null,
            "grid_auto_rows": null,
            "grid_column": null,
            "grid_gap": null,
            "grid_row": null,
            "grid_template_areas": null,
            "grid_template_columns": null,
            "grid_template_rows": null,
            "height": null,
            "justify_content": null,
            "justify_items": null,
            "left": null,
            "margin": null,
            "max_height": null,
            "max_width": null,
            "min_height": null,
            "min_width": null,
            "object_fit": null,
            "object_position": null,
            "order": null,
            "overflow": null,
            "overflow_x": null,
            "overflow_y": null,
            "padding": null,
            "right": null,
            "top": null,
            "visibility": null,
            "width": null
          }
        },
        "12a1f848dd774c688183244453226228": {
          "model_module": "@jupyter-widgets/controls",
          "model_name": "DescriptionStyleModel",
          "model_module_version": "1.5.0",
          "state": {
            "_model_module": "@jupyter-widgets/controls",
            "_model_module_version": "1.5.0",
            "_model_name": "DescriptionStyleModel",
            "_view_count": null,
            "_view_module": "@jupyter-widgets/base",
            "_view_module_version": "1.2.0",
            "_view_name": "StyleView",
            "description_width": ""
          }
        },
        "6b15c1cc27864405a22a37c931887d32": {
          "model_module": "@jupyter-widgets/controls",
          "model_name": "HBoxModel",
          "model_module_version": "1.5.0",
          "state": {
            "_dom_classes": [],
            "_model_module": "@jupyter-widgets/controls",
            "_model_module_version": "1.5.0",
            "_model_name": "HBoxModel",
            "_view_count": null,
            "_view_module": "@jupyter-widgets/controls",
            "_view_module_version": "1.5.0",
            "_view_name": "HBoxView",
            "box_style": "",
            "children": [
              "IPY_MODEL_dcb6ba28fdd84f528a5a2899fa8e5d51",
              "IPY_MODEL_9c7f8228f8ab453197e707724ddc07f4",
              "IPY_MODEL_ebd4acf6ed6d4940b4d08a0018e7a2b2"
            ],
            "layout": "IPY_MODEL_5193ce0b316c460983189b9c0888446a"
          }
        },
        "dcb6ba28fdd84f528a5a2899fa8e5d51": {
          "model_module": "@jupyter-widgets/controls",
          "model_name": "HTMLModel",
          "model_module_version": "1.5.0",
          "state": {
            "_dom_classes": [],
            "_model_module": "@jupyter-widgets/controls",
            "_model_module_version": "1.5.0",
            "_model_name": "HTMLModel",
            "_view_count": null,
            "_view_module": "@jupyter-widgets/controls",
            "_view_module_version": "1.5.0",
            "_view_name": "HTMLView",
            "description": "",
            "description_tooltip": null,
            "layout": "IPY_MODEL_7c9ffdc98fdc4ee391e1bddfb789bed4",
            "placeholder": "​",
            "style": "IPY_MODEL_59c1990dac9f41db870e026718f10425",
            "value": "model.safetensors: 100%"
          }
        },
        "9c7f8228f8ab453197e707724ddc07f4": {
          "model_module": "@jupyter-widgets/controls",
          "model_name": "FloatProgressModel",
          "model_module_version": "1.5.0",
          "state": {
            "_dom_classes": [],
            "_model_module": "@jupyter-widgets/controls",
            "_model_module_version": "1.5.0",
            "_model_name": "FloatProgressModel",
            "_view_count": null,
            "_view_module": "@jupyter-widgets/controls",
            "_view_module_version": "1.5.0",
            "_view_name": "ProgressView",
            "bar_style": "success",
            "description": "",
            "description_tooltip": null,
            "layout": "IPY_MODEL_86a7b956bdb544f58335d9404c4c3db5",
            "max": 1333384464,
            "min": 0,
            "orientation": "horizontal",
            "style": "IPY_MODEL_7144b87b4d344eb3ba992b817697361a",
            "value": 1333384464
          }
        },
        "ebd4acf6ed6d4940b4d08a0018e7a2b2": {
          "model_module": "@jupyter-widgets/controls",
          "model_name": "HTMLModel",
          "model_module_version": "1.5.0",
          "state": {
            "_dom_classes": [],
            "_model_module": "@jupyter-widgets/controls",
            "_model_module_version": "1.5.0",
            "_model_name": "HTMLModel",
            "_view_count": null,
            "_view_module": "@jupyter-widgets/controls",
            "_view_module_version": "1.5.0",
            "_view_name": "HTMLView",
            "description": "",
            "description_tooltip": null,
            "layout": "IPY_MODEL_2dfbbac898214942b7e21651fcef54b9",
            "placeholder": "​",
            "style": "IPY_MODEL_d98dff7d23444e12800c527b9bd1ca47",
            "value": " 1.33G/1.33G [00:12&lt;00:00, 174MB/s]"
          }
        },
        "5193ce0b316c460983189b9c0888446a": {
          "model_module": "@jupyter-widgets/base",
          "model_name": "LayoutModel",
          "model_module_version": "1.2.0",
          "state": {
            "_model_module": "@jupyter-widgets/base",
            "_model_module_version": "1.2.0",
            "_model_name": "LayoutModel",
            "_view_count": null,
            "_view_module": "@jupyter-widgets/base",
            "_view_module_version": "1.2.0",
            "_view_name": "LayoutView",
            "align_content": null,
            "align_items": null,
            "align_self": null,
            "border": null,
            "bottom": null,
            "display": null,
            "flex": null,
            "flex_flow": null,
            "grid_area": null,
            "grid_auto_columns": null,
            "grid_auto_flow": null,
            "grid_auto_rows": null,
            "grid_column": null,
            "grid_gap": null,
            "grid_row": null,
            "grid_template_areas": null,
            "grid_template_columns": null,
            "grid_template_rows": null,
            "height": null,
            "justify_content": null,
            "justify_items": null,
            "left": null,
            "margin": null,
            "max_height": null,
            "max_width": null,
            "min_height": null,
            "min_width": null,
            "object_fit": null,
            "object_position": null,
            "order": null,
            "overflow": null,
            "overflow_x": null,
            "overflow_y": null,
            "padding": null,
            "right": null,
            "top": null,
            "visibility": null,
            "width": null
          }
        },
        "7c9ffdc98fdc4ee391e1bddfb789bed4": {
          "model_module": "@jupyter-widgets/base",
          "model_name": "LayoutModel",
          "model_module_version": "1.2.0",
          "state": {
            "_model_module": "@jupyter-widgets/base",
            "_model_module_version": "1.2.0",
            "_model_name": "LayoutModel",
            "_view_count": null,
            "_view_module": "@jupyter-widgets/base",
            "_view_module_version": "1.2.0",
            "_view_name": "LayoutView",
            "align_content": null,
            "align_items": null,
            "align_self": null,
            "border": null,
            "bottom": null,
            "display": null,
            "flex": null,
            "flex_flow": null,
            "grid_area": null,
            "grid_auto_columns": null,
            "grid_auto_flow": null,
            "grid_auto_rows": null,
            "grid_column": null,
            "grid_gap": null,
            "grid_row": null,
            "grid_template_areas": null,
            "grid_template_columns": null,
            "grid_template_rows": null,
            "height": null,
            "justify_content": null,
            "justify_items": null,
            "left": null,
            "margin": null,
            "max_height": null,
            "max_width": null,
            "min_height": null,
            "min_width": null,
            "object_fit": null,
            "object_position": null,
            "order": null,
            "overflow": null,
            "overflow_x": null,
            "overflow_y": null,
            "padding": null,
            "right": null,
            "top": null,
            "visibility": null,
            "width": null
          }
        },
        "59c1990dac9f41db870e026718f10425": {
          "model_module": "@jupyter-widgets/controls",
          "model_name": "DescriptionStyleModel",
          "model_module_version": "1.5.0",
          "state": {
            "_model_module": "@jupyter-widgets/controls",
            "_model_module_version": "1.5.0",
            "_model_name": "DescriptionStyleModel",
            "_view_count": null,
            "_view_module": "@jupyter-widgets/base",
            "_view_module_version": "1.2.0",
            "_view_name": "StyleView",
            "description_width": ""
          }
        },
        "86a7b956bdb544f58335d9404c4c3db5": {
          "model_module": "@jupyter-widgets/base",
          "model_name": "LayoutModel",
          "model_module_version": "1.2.0",
          "state": {
            "_model_module": "@jupyter-widgets/base",
            "_model_module_version": "1.2.0",
            "_model_name": "LayoutModel",
            "_view_count": null,
            "_view_module": "@jupyter-widgets/base",
            "_view_module_version": "1.2.0",
            "_view_name": "LayoutView",
            "align_content": null,
            "align_items": null,
            "align_self": null,
            "border": null,
            "bottom": null,
            "display": null,
            "flex": null,
            "flex_flow": null,
            "grid_area": null,
            "grid_auto_columns": null,
            "grid_auto_flow": null,
            "grid_auto_rows": null,
            "grid_column": null,
            "grid_gap": null,
            "grid_row": null,
            "grid_template_areas": null,
            "grid_template_columns": null,
            "grid_template_rows": null,
            "height": null,
            "justify_content": null,
            "justify_items": null,
            "left": null,
            "margin": null,
            "max_height": null,
            "max_width": null,
            "min_height": null,
            "min_width": null,
            "object_fit": null,
            "object_position": null,
            "order": null,
            "overflow": null,
            "overflow_x": null,
            "overflow_y": null,
            "padding": null,
            "right": null,
            "top": null,
            "visibility": null,
            "width": null
          }
        },
        "7144b87b4d344eb3ba992b817697361a": {
          "model_module": "@jupyter-widgets/controls",
          "model_name": "ProgressStyleModel",
          "model_module_version": "1.5.0",
          "state": {
            "_model_module": "@jupyter-widgets/controls",
            "_model_module_version": "1.5.0",
            "_model_name": "ProgressStyleModel",
            "_view_count": null,
            "_view_module": "@jupyter-widgets/base",
            "_view_module_version": "1.2.0",
            "_view_name": "StyleView",
            "bar_color": null,
            "description_width": ""
          }
        },
        "2dfbbac898214942b7e21651fcef54b9": {
          "model_module": "@jupyter-widgets/base",
          "model_name": "LayoutModel",
          "model_module_version": "1.2.0",
          "state": {
            "_model_module": "@jupyter-widgets/base",
            "_model_module_version": "1.2.0",
            "_model_name": "LayoutModel",
            "_view_count": null,
            "_view_module": "@jupyter-widgets/base",
            "_view_module_version": "1.2.0",
            "_view_name": "LayoutView",
            "align_content": null,
            "align_items": null,
            "align_self": null,
            "border": null,
            "bottom": null,
            "display": null,
            "flex": null,
            "flex_flow": null,
            "grid_area": null,
            "grid_auto_columns": null,
            "grid_auto_flow": null,
            "grid_auto_rows": null,
            "grid_column": null,
            "grid_gap": null,
            "grid_row": null,
            "grid_template_areas": null,
            "grid_template_columns": null,
            "grid_template_rows": null,
            "height": null,
            "justify_content": null,
            "justify_items": null,
            "left": null,
            "margin": null,
            "max_height": null,
            "max_width": null,
            "min_height": null,
            "min_width": null,
            "object_fit": null,
            "object_position": null,
            "order": null,
            "overflow": null,
            "overflow_x": null,
            "overflow_y": null,
            "padding": null,
            "right": null,
            "top": null,
            "visibility": null,
            "width": null
          }
        },
        "d98dff7d23444e12800c527b9bd1ca47": {
          "model_module": "@jupyter-widgets/controls",
          "model_name": "DescriptionStyleModel",
          "model_module_version": "1.5.0",
          "state": {
            "_model_module": "@jupyter-widgets/controls",
            "_model_module_version": "1.5.0",
            "_model_name": "DescriptionStyleModel",
            "_view_count": null,
            "_view_module": "@jupyter-widgets/base",
            "_view_module_version": "1.2.0",
            "_view_name": "StyleView",
            "description_width": ""
          }
        },
        "bbd79fb2b9bc40d4b60495337ba03474": {
          "model_module": "@jupyter-widgets/controls",
          "model_name": "HBoxModel",
          "model_module_version": "1.5.0",
          "state": {
            "_dom_classes": [],
            "_model_module": "@jupyter-widgets/controls",
            "_model_module_version": "1.5.0",
            "_model_name": "HBoxModel",
            "_view_count": null,
            "_view_module": "@jupyter-widgets/controls",
            "_view_module_version": "1.5.0",
            "_view_name": "HBoxView",
            "box_style": "",
            "children": [
              "IPY_MODEL_baf232a1ca384aba830e7222b4fcd0e2",
              "IPY_MODEL_49189a67d481485d85951dc0f434248c",
              "IPY_MODEL_a814c1b080d242a787edbc2f1363c780"
            ],
            "layout": "IPY_MODEL_9c77ee5f0ad64aa597dfa6b644b8a704"
          }
        },
        "baf232a1ca384aba830e7222b4fcd0e2": {
          "model_module": "@jupyter-widgets/controls",
          "model_name": "HTMLModel",
          "model_module_version": "1.5.0",
          "state": {
            "_dom_classes": [],
            "_model_module": "@jupyter-widgets/controls",
            "_model_module_version": "1.5.0",
            "_model_name": "HTMLModel",
            "_view_count": null,
            "_view_module": "@jupyter-widgets/controls",
            "_view_module_version": "1.5.0",
            "_view_name": "HTMLView",
            "description": "",
            "description_tooltip": null,
            "layout": "IPY_MODEL_725a7b54a3d14fa0b876995c6ad6dd86",
            "placeholder": "​",
            "style": "IPY_MODEL_d7a964c5e98e4a68bf4fb22e2270e8e5",
            "value": "generation_config.json: 100%"
          }
        },
        "49189a67d481485d85951dc0f434248c": {
          "model_module": "@jupyter-widgets/controls",
          "model_name": "FloatProgressModel",
          "model_module_version": "1.5.0",
          "state": {
            "_dom_classes": [],
            "_model_module": "@jupyter-widgets/controls",
            "_model_module_version": "1.5.0",
            "_model_name": "FloatProgressModel",
            "_view_count": null,
            "_view_module": "@jupyter-widgets/controls",
            "_view_module_version": "1.5.0",
            "_view_name": "ProgressView",
            "bar_style": "success",
            "description": "",
            "description_tooltip": null,
            "layout": "IPY_MODEL_03d51d2b5c6d42938b81baf23f953219",
            "max": 190,
            "min": 0,
            "orientation": "horizontal",
            "style": "IPY_MODEL_009d42360a8140c79964864f16df82a6",
            "value": 190
          }
        },
        "a814c1b080d242a787edbc2f1363c780": {
          "model_module": "@jupyter-widgets/controls",
          "model_name": "HTMLModel",
          "model_module_version": "1.5.0",
          "state": {
            "_dom_classes": [],
            "_model_module": "@jupyter-widgets/controls",
            "_model_module_version": "1.5.0",
            "_model_name": "HTMLModel",
            "_view_count": null,
            "_view_module": "@jupyter-widgets/controls",
            "_view_module_version": "1.5.0",
            "_view_name": "HTMLView",
            "description": "",
            "description_tooltip": null,
            "layout": "IPY_MODEL_13bb03c1e70444ca964f57757fb90d6a",
            "placeholder": "​",
            "style": "IPY_MODEL_f59f503626e64bb88a077e9dc315aecf",
            "value": " 190/190 [00:00&lt;00:00, 21.7kB/s]"
          }
        },
        "9c77ee5f0ad64aa597dfa6b644b8a704": {
          "model_module": "@jupyter-widgets/base",
          "model_name": "LayoutModel",
          "model_module_version": "1.2.0",
          "state": {
            "_model_module": "@jupyter-widgets/base",
            "_model_module_version": "1.2.0",
            "_model_name": "LayoutModel",
            "_view_count": null,
            "_view_module": "@jupyter-widgets/base",
            "_view_module_version": "1.2.0",
            "_view_name": "LayoutView",
            "align_content": null,
            "align_items": null,
            "align_self": null,
            "border": null,
            "bottom": null,
            "display": null,
            "flex": null,
            "flex_flow": null,
            "grid_area": null,
            "grid_auto_columns": null,
            "grid_auto_flow": null,
            "grid_auto_rows": null,
            "grid_column": null,
            "grid_gap": null,
            "grid_row": null,
            "grid_template_areas": null,
            "grid_template_columns": null,
            "grid_template_rows": null,
            "height": null,
            "justify_content": null,
            "justify_items": null,
            "left": null,
            "margin": null,
            "max_height": null,
            "max_width": null,
            "min_height": null,
            "min_width": null,
            "object_fit": null,
            "object_position": null,
            "order": null,
            "overflow": null,
            "overflow_x": null,
            "overflow_y": null,
            "padding": null,
            "right": null,
            "top": null,
            "visibility": null,
            "width": null
          }
        },
        "725a7b54a3d14fa0b876995c6ad6dd86": {
          "model_module": "@jupyter-widgets/base",
          "model_name": "LayoutModel",
          "model_module_version": "1.2.0",
          "state": {
            "_model_module": "@jupyter-widgets/base",
            "_model_module_version": "1.2.0",
            "_model_name": "LayoutModel",
            "_view_count": null,
            "_view_module": "@jupyter-widgets/base",
            "_view_module_version": "1.2.0",
            "_view_name": "LayoutView",
            "align_content": null,
            "align_items": null,
            "align_self": null,
            "border": null,
            "bottom": null,
            "display": null,
            "flex": null,
            "flex_flow": null,
            "grid_area": null,
            "grid_auto_columns": null,
            "grid_auto_flow": null,
            "grid_auto_rows": null,
            "grid_column": null,
            "grid_gap": null,
            "grid_row": null,
            "grid_template_areas": null,
            "grid_template_columns": null,
            "grid_template_rows": null,
            "height": null,
            "justify_content": null,
            "justify_items": null,
            "left": null,
            "margin": null,
            "max_height": null,
            "max_width": null,
            "min_height": null,
            "min_width": null,
            "object_fit": null,
            "object_position": null,
            "order": null,
            "overflow": null,
            "overflow_x": null,
            "overflow_y": null,
            "padding": null,
            "right": null,
            "top": null,
            "visibility": null,
            "width": null
          }
        },
        "d7a964c5e98e4a68bf4fb22e2270e8e5": {
          "model_module": "@jupyter-widgets/controls",
          "model_name": "DescriptionStyleModel",
          "model_module_version": "1.5.0",
          "state": {
            "_model_module": "@jupyter-widgets/controls",
            "_model_module_version": "1.5.0",
            "_model_name": "DescriptionStyleModel",
            "_view_count": null,
            "_view_module": "@jupyter-widgets/base",
            "_view_module_version": "1.2.0",
            "_view_name": "StyleView",
            "description_width": ""
          }
        },
        "03d51d2b5c6d42938b81baf23f953219": {
          "model_module": "@jupyter-widgets/base",
          "model_name": "LayoutModel",
          "model_module_version": "1.2.0",
          "state": {
            "_model_module": "@jupyter-widgets/base",
            "_model_module_version": "1.2.0",
            "_model_name": "LayoutModel",
            "_view_count": null,
            "_view_module": "@jupyter-widgets/base",
            "_view_module_version": "1.2.0",
            "_view_name": "LayoutView",
            "align_content": null,
            "align_items": null,
            "align_self": null,
            "border": null,
            "bottom": null,
            "display": null,
            "flex": null,
            "flex_flow": null,
            "grid_area": null,
            "grid_auto_columns": null,
            "grid_auto_flow": null,
            "grid_auto_rows": null,
            "grid_column": null,
            "grid_gap": null,
            "grid_row": null,
            "grid_template_areas": null,
            "grid_template_columns": null,
            "grid_template_rows": null,
            "height": null,
            "justify_content": null,
            "justify_items": null,
            "left": null,
            "margin": null,
            "max_height": null,
            "max_width": null,
            "min_height": null,
            "min_width": null,
            "object_fit": null,
            "object_position": null,
            "order": null,
            "overflow": null,
            "overflow_x": null,
            "overflow_y": null,
            "padding": null,
            "right": null,
            "top": null,
            "visibility": null,
            "width": null
          }
        },
        "009d42360a8140c79964864f16df82a6": {
          "model_module": "@jupyter-widgets/controls",
          "model_name": "ProgressStyleModel",
          "model_module_version": "1.5.0",
          "state": {
            "_model_module": "@jupyter-widgets/controls",
            "_model_module_version": "1.5.0",
            "_model_name": "ProgressStyleModel",
            "_view_count": null,
            "_view_module": "@jupyter-widgets/base",
            "_view_module_version": "1.2.0",
            "_view_name": "StyleView",
            "bar_color": null,
            "description_width": ""
          }
        },
        "13bb03c1e70444ca964f57757fb90d6a": {
          "model_module": "@jupyter-widgets/base",
          "model_name": "LayoutModel",
          "model_module_version": "1.2.0",
          "state": {
            "_model_module": "@jupyter-widgets/base",
            "_model_module_version": "1.2.0",
            "_model_name": "LayoutModel",
            "_view_count": null,
            "_view_module": "@jupyter-widgets/base",
            "_view_module_version": "1.2.0",
            "_view_name": "LayoutView",
            "align_content": null,
            "align_items": null,
            "align_self": null,
            "border": null,
            "bottom": null,
            "display": null,
            "flex": null,
            "flex_flow": null,
            "grid_area": null,
            "grid_auto_columns": null,
            "grid_auto_flow": null,
            "grid_auto_rows": null,
            "grid_column": null,
            "grid_gap": null,
            "grid_row": null,
            "grid_template_areas": null,
            "grid_template_columns": null,
            "grid_template_rows": null,
            "height": null,
            "justify_content": null,
            "justify_items": null,
            "left": null,
            "margin": null,
            "max_height": null,
            "max_width": null,
            "min_height": null,
            "min_width": null,
            "object_fit": null,
            "object_position": null,
            "order": null,
            "overflow": null,
            "overflow_x": null,
            "overflow_y": null,
            "padding": null,
            "right": null,
            "top": null,
            "visibility": null,
            "width": null
          }
        },
        "f59f503626e64bb88a077e9dc315aecf": {
          "model_module": "@jupyter-widgets/controls",
          "model_name": "DescriptionStyleModel",
          "model_module_version": "1.5.0",
          "state": {
            "_model_module": "@jupyter-widgets/controls",
            "_model_module_version": "1.5.0",
            "_model_name": "DescriptionStyleModel",
            "_view_count": null,
            "_view_module": "@jupyter-widgets/base",
            "_view_module_version": "1.2.0",
            "_view_name": "StyleView",
            "description_width": ""
          }
        }
      }
    }
  },
  "cells": [
    {
      "cell_type": "code",
      "source": [
        "!pip install pytesseract"
      ],
      "metadata": {
        "collapsed": true,
        "colab": {
          "base_uri": "https://localhost:8080/"
        },
        "id": "7iJYLVuwT0nK",
        "outputId": "09fc1068-bbdd-42a3-d2d7-a5f76442e1e2"
      },
      "execution_count": null,
      "outputs": [
        {
          "output_type": "stream",
          "name": "stdout",
          "text": [
            "Collecting pytesseract\n",
            "  Downloading pytesseract-0.3.13-py3-none-any.whl.metadata (11 kB)\n",
            "Requirement already satisfied: packaging>=21.3 in /usr/local/lib/python3.11/dist-packages (from pytesseract) (24.2)\n",
            "Requirement already satisfied: Pillow>=8.0.0 in /usr/local/lib/python3.11/dist-packages (from pytesseract) (11.2.1)\n",
            "Downloading pytesseract-0.3.13-py3-none-any.whl (14 kB)\n",
            "Installing collected packages: pytesseract\n",
            "Successfully installed pytesseract-0.3.13\n"
          ]
        }
      ]
    },
    {
      "cell_type": "code",
      "source": [
        "!pip install easyocr"
      ],
      "metadata": {
        "colab": {
          "base_uri": "https://localhost:8080/"
        },
        "collapsed": true,
        "id": "RNizUdW-_qdp",
        "outputId": "6551e181-1663-40d1-d139-895c5a1f4c76"
      },
      "execution_count": null,
      "outputs": [
        {
          "output_type": "stream",
          "name": "stdout",
          "text": [
            "Collecting easyocr\n",
            "  Downloading easyocr-1.7.2-py3-none-any.whl.metadata (10 kB)\n",
            "Requirement already satisfied: torch in /usr/local/lib/python3.11/dist-packages (from easyocr) (2.6.0+cu124)\n",
            "Requirement already satisfied: torchvision>=0.5 in /usr/local/lib/python3.11/dist-packages (from easyocr) (0.21.0+cu124)\n",
            "Requirement already satisfied: opencv-python-headless in /usr/local/lib/python3.11/dist-packages (from easyocr) (4.11.0.86)\n",
            "Requirement already satisfied: scipy in /usr/local/lib/python3.11/dist-packages (from easyocr) (1.15.3)\n",
            "Requirement already satisfied: numpy in /usr/local/lib/python3.11/dist-packages (from easyocr) (2.0.2)\n",
            "Requirement already satisfied: Pillow in /usr/local/lib/python3.11/dist-packages (from easyocr) (11.2.1)\n",
            "Requirement already satisfied: scikit-image in /usr/local/lib/python3.11/dist-packages (from easyocr) (0.25.2)\n",
            "Collecting python-bidi (from easyocr)\n",
            "  Downloading python_bidi-0.6.6-cp311-cp311-manylinux_2_17_x86_64.manylinux2014_x86_64.whl.metadata (4.9 kB)\n",
            "Requirement already satisfied: PyYAML in /usr/local/lib/python3.11/dist-packages (from easyocr) (6.0.2)\n",
            "Requirement already satisfied: Shapely in /usr/local/lib/python3.11/dist-packages (from easyocr) (2.1.1)\n",
            "Collecting pyclipper (from easyocr)\n",
            "  Downloading pyclipper-1.3.0.post6-cp311-cp311-manylinux_2_17_x86_64.manylinux2014_x86_64.whl.metadata (9.0 kB)\n",
            "Collecting ninja (from easyocr)\n",
            "  Downloading ninja-1.11.1.4-py3-none-manylinux_2_12_x86_64.manylinux2010_x86_64.whl.metadata (5.0 kB)\n",
            "Requirement already satisfied: filelock in /usr/local/lib/python3.11/dist-packages (from torch->easyocr) (3.18.0)\n",
            "Requirement already satisfied: typing-extensions>=4.10.0 in /usr/local/lib/python3.11/dist-packages (from torch->easyocr) (4.14.0)\n",
            "Requirement already satisfied: networkx in /usr/local/lib/python3.11/dist-packages (from torch->easyocr) (3.5)\n",
            "Requirement already satisfied: jinja2 in /usr/local/lib/python3.11/dist-packages (from torch->easyocr) (3.1.6)\n",
            "Requirement already satisfied: fsspec in /usr/local/lib/python3.11/dist-packages (from torch->easyocr) (2025.3.2)\n",
            "Collecting nvidia-cuda-nvrtc-cu12==12.4.127 (from torch->easyocr)\n",
            "  Downloading nvidia_cuda_nvrtc_cu12-12.4.127-py3-none-manylinux2014_x86_64.whl.metadata (1.5 kB)\n",
            "Collecting nvidia-cuda-runtime-cu12==12.4.127 (from torch->easyocr)\n",
            "  Downloading nvidia_cuda_runtime_cu12-12.4.127-py3-none-manylinux2014_x86_64.whl.metadata (1.5 kB)\n",
            "Collecting nvidia-cuda-cupti-cu12==12.4.127 (from torch->easyocr)\n",
            "  Downloading nvidia_cuda_cupti_cu12-12.4.127-py3-none-manylinux2014_x86_64.whl.metadata (1.6 kB)\n",
            "Collecting nvidia-cudnn-cu12==9.1.0.70 (from torch->easyocr)\n",
            "  Downloading nvidia_cudnn_cu12-9.1.0.70-py3-none-manylinux2014_x86_64.whl.metadata (1.6 kB)\n",
            "Collecting nvidia-cublas-cu12==12.4.5.8 (from torch->easyocr)\n",
            "  Downloading nvidia_cublas_cu12-12.4.5.8-py3-none-manylinux2014_x86_64.whl.metadata (1.5 kB)\n",
            "Collecting nvidia-cufft-cu12==11.2.1.3 (from torch->easyocr)\n",
            "  Downloading nvidia_cufft_cu12-11.2.1.3-py3-none-manylinux2014_x86_64.whl.metadata (1.5 kB)\n",
            "Collecting nvidia-curand-cu12==10.3.5.147 (from torch->easyocr)\n",
            "  Downloading nvidia_curand_cu12-10.3.5.147-py3-none-manylinux2014_x86_64.whl.metadata (1.5 kB)\n",
            "Collecting nvidia-cusolver-cu12==11.6.1.9 (from torch->easyocr)\n",
            "  Downloading nvidia_cusolver_cu12-11.6.1.9-py3-none-manylinux2014_x86_64.whl.metadata (1.6 kB)\n",
            "Collecting nvidia-cusparse-cu12==12.3.1.170 (from torch->easyocr)\n",
            "  Downloading nvidia_cusparse_cu12-12.3.1.170-py3-none-manylinux2014_x86_64.whl.metadata (1.6 kB)\n",
            "Requirement already satisfied: nvidia-cusparselt-cu12==0.6.2 in /usr/local/lib/python3.11/dist-packages (from torch->easyocr) (0.6.2)\n",
            "Requirement already satisfied: nvidia-nccl-cu12==2.21.5 in /usr/local/lib/python3.11/dist-packages (from torch->easyocr) (2.21.5)\n",
            "Requirement already satisfied: nvidia-nvtx-cu12==12.4.127 in /usr/local/lib/python3.11/dist-packages (from torch->easyocr) (12.4.127)\n",
            "Collecting nvidia-nvjitlink-cu12==12.4.127 (from torch->easyocr)\n",
            "  Downloading nvidia_nvjitlink_cu12-12.4.127-py3-none-manylinux2014_x86_64.whl.metadata (1.5 kB)\n",
            "Requirement already satisfied: triton==3.2.0 in /usr/local/lib/python3.11/dist-packages (from torch->easyocr) (3.2.0)\n",
            "Requirement already satisfied: sympy==1.13.1 in /usr/local/lib/python3.11/dist-packages (from torch->easyocr) (1.13.1)\n",
            "Requirement already satisfied: mpmath<1.4,>=1.1.0 in /usr/local/lib/python3.11/dist-packages (from sympy==1.13.1->torch->easyocr) (1.3.0)\n",
            "Requirement already satisfied: imageio!=2.35.0,>=2.33 in /usr/local/lib/python3.11/dist-packages (from scikit-image->easyocr) (2.37.0)\n",
            "Requirement already satisfied: tifffile>=2022.8.12 in /usr/local/lib/python3.11/dist-packages (from scikit-image->easyocr) (2025.6.11)\n",
            "Requirement already satisfied: packaging>=21 in /usr/local/lib/python3.11/dist-packages (from scikit-image->easyocr) (24.2)\n",
            "Requirement already satisfied: lazy-loader>=0.4 in /usr/local/lib/python3.11/dist-packages (from scikit-image->easyocr) (0.4)\n",
            "Requirement already satisfied: MarkupSafe>=2.0 in /usr/local/lib/python3.11/dist-packages (from jinja2->torch->easyocr) (3.0.2)\n",
            "Downloading easyocr-1.7.2-py3-none-any.whl (2.9 MB)\n",
            "\u001b[2K   \u001b[90m━━━━━━━━━━━━━━━━━━━━━━━━━━━━━━━━━━━━━━━━\u001b[0m \u001b[32m2.9/2.9 MB\u001b[0m \u001b[31m48.1 MB/s\u001b[0m eta \u001b[36m0:00:00\u001b[0m\n",
            "\u001b[?25hDownloading nvidia_cublas_cu12-12.4.5.8-py3-none-manylinux2014_x86_64.whl (363.4 MB)\n",
            "\u001b[2K   \u001b[90m━━━━━━━━━━━━━━━━━━━━━━━━━━━━━━━━━━━━━━━━\u001b[0m \u001b[32m363.4/363.4 MB\u001b[0m \u001b[31m4.2 MB/s\u001b[0m eta \u001b[36m0:00:00\u001b[0m\n",
            "\u001b[?25hDownloading nvidia_cuda_cupti_cu12-12.4.127-py3-none-manylinux2014_x86_64.whl (13.8 MB)\n",
            "\u001b[2K   \u001b[90m━━━━━━━━━━━━━━━━━━━━━━━━━━━━━━━━━━━━━━━━\u001b[0m \u001b[32m13.8/13.8 MB\u001b[0m \u001b[31m122.0 MB/s\u001b[0m eta \u001b[36m0:00:00\u001b[0m\n",
            "\u001b[?25hDownloading nvidia_cuda_nvrtc_cu12-12.4.127-py3-none-manylinux2014_x86_64.whl (24.6 MB)\n",
            "\u001b[2K   \u001b[90m━━━━━━━━━━━━━━━━━━━━━━━━━━━━━━━━━━━━━━━━\u001b[0m \u001b[32m24.6/24.6 MB\u001b[0m \u001b[31m91.6 MB/s\u001b[0m eta \u001b[36m0:00:00\u001b[0m\n",
            "\u001b[?25hDownloading nvidia_cuda_runtime_cu12-12.4.127-py3-none-manylinux2014_x86_64.whl (883 kB)\n",
            "\u001b[2K   \u001b[90m━━━━━━━━━━━━━━━━━━━━━━━━━━━━━━━━━━━━━━━━\u001b[0m \u001b[32m883.7/883.7 kB\u001b[0m \u001b[31m57.5 MB/s\u001b[0m eta \u001b[36m0:00:00\u001b[0m\n",
            "\u001b[?25hDownloading nvidia_cudnn_cu12-9.1.0.70-py3-none-manylinux2014_x86_64.whl (664.8 MB)\n",
            "\u001b[2K   \u001b[90m━━━━━━━━━━━━━━━━━━━━━━━━━━━━━━━━━━━━━━━━\u001b[0m \u001b[32m664.8/664.8 MB\u001b[0m \u001b[31m1.3 MB/s\u001b[0m eta \u001b[36m0:00:00\u001b[0m\n",
            "\u001b[?25hDownloading nvidia_cufft_cu12-11.2.1.3-py3-none-manylinux2014_x86_64.whl (211.5 MB)\n",
            "\u001b[2K   \u001b[90m━━━━━━━━━━━━━━━━━━━━━━━━━━━━━━━━━━━━━━━━\u001b[0m \u001b[32m211.5/211.5 MB\u001b[0m \u001b[31m5.0 MB/s\u001b[0m eta \u001b[36m0:00:00\u001b[0m\n",
            "\u001b[?25hDownloading nvidia_curand_cu12-10.3.5.147-py3-none-manylinux2014_x86_64.whl (56.3 MB)\n",
            "\u001b[2K   \u001b[90m━━━━━━━━━━━━━━━━━━━━━━━━━━━━━━━━━━━━━━━━\u001b[0m \u001b[32m56.3/56.3 MB\u001b[0m \u001b[31m9.3 MB/s\u001b[0m eta \u001b[36m0:00:00\u001b[0m\n",
            "\u001b[?25hDownloading nvidia_cusolver_cu12-11.6.1.9-py3-none-manylinux2014_x86_64.whl (127.9 MB)\n",
            "\u001b[2K   \u001b[90m━━━━━━━━━━━━━━━━━━━━━━━━━━━━━━━━━━━━━━━━\u001b[0m \u001b[32m127.9/127.9 MB\u001b[0m \u001b[31m6.9 MB/s\u001b[0m eta \u001b[36m0:00:00\u001b[0m\n",
            "\u001b[?25hDownloading nvidia_cusparse_cu12-12.3.1.170-py3-none-manylinux2014_x86_64.whl (207.5 MB)\n",
            "\u001b[2K   \u001b[90m━━━━━━━━━━━━━━━━━━━━━━━━━━━━━━━━━━━━━━━━\u001b[0m \u001b[32m207.5/207.5 MB\u001b[0m \u001b[31m6.2 MB/s\u001b[0m eta \u001b[36m0:00:00\u001b[0m\n",
            "\u001b[?25hDownloading nvidia_nvjitlink_cu12-12.4.127-py3-none-manylinux2014_x86_64.whl (21.1 MB)\n",
            "\u001b[2K   \u001b[90m━━━━━━━━━━━━━━━━━━━━━━━━━━━━━━━━━━━━━━━━\u001b[0m \u001b[32m21.1/21.1 MB\u001b[0m \u001b[31m57.8 MB/s\u001b[0m eta \u001b[36m0:00:00\u001b[0m\n",
            "\u001b[?25hDownloading ninja-1.11.1.4-py3-none-manylinux_2_12_x86_64.manylinux2010_x86_64.whl (422 kB)\n",
            "\u001b[2K   \u001b[90m━━━━━━━━━━━━━━━━━━━━━━━━━━━━━━━━━━━━━━━━\u001b[0m \u001b[32m422.8/422.8 kB\u001b[0m \u001b[31m31.2 MB/s\u001b[0m eta \u001b[36m0:00:00\u001b[0m\n",
            "\u001b[?25hDownloading pyclipper-1.3.0.post6-cp311-cp311-manylinux_2_17_x86_64.manylinux2014_x86_64.whl (969 kB)\n",
            "\u001b[2K   \u001b[90m━━━━━━━━━━━━━━━━━━━━━━━━━━━━━━━━━━━━━━━━\u001b[0m \u001b[32m969.6/969.6 kB\u001b[0m \u001b[31m44.9 MB/s\u001b[0m eta \u001b[36m0:00:00\u001b[0m\n",
            "\u001b[?25hDownloading python_bidi-0.6.6-cp311-cp311-manylinux_2_17_x86_64.manylinux2014_x86_64.whl (292 kB)\n",
            "\u001b[2K   \u001b[90m━━━━━━━━━━━━━━━━━━━━━━━━━━━━━━━━━━━━━━━━\u001b[0m \u001b[32m292.9/292.9 kB\u001b[0m \u001b[31m22.3 MB/s\u001b[0m eta \u001b[36m0:00:00\u001b[0m\n",
            "\u001b[?25hInstalling collected packages: python-bidi, pyclipper, nvidia-nvjitlink-cu12, nvidia-curand-cu12, nvidia-cufft-cu12, nvidia-cuda-runtime-cu12, nvidia-cuda-nvrtc-cu12, nvidia-cuda-cupti-cu12, nvidia-cublas-cu12, ninja, nvidia-cusparse-cu12, nvidia-cudnn-cu12, nvidia-cusolver-cu12, easyocr\n",
            "  Attempting uninstall: nvidia-nvjitlink-cu12\n",
            "    Found existing installation: nvidia-nvjitlink-cu12 12.5.82\n",
            "    Uninstalling nvidia-nvjitlink-cu12-12.5.82:\n",
            "      Successfully uninstalled nvidia-nvjitlink-cu12-12.5.82\n",
            "  Attempting uninstall: nvidia-curand-cu12\n",
            "    Found existing installation: nvidia-curand-cu12 10.3.6.82\n",
            "    Uninstalling nvidia-curand-cu12-10.3.6.82:\n",
            "      Successfully uninstalled nvidia-curand-cu12-10.3.6.82\n",
            "  Attempting uninstall: nvidia-cufft-cu12\n",
            "    Found existing installation: nvidia-cufft-cu12 11.2.3.61\n",
            "    Uninstalling nvidia-cufft-cu12-11.2.3.61:\n",
            "      Successfully uninstalled nvidia-cufft-cu12-11.2.3.61\n",
            "  Attempting uninstall: nvidia-cuda-runtime-cu12\n",
            "    Found existing installation: nvidia-cuda-runtime-cu12 12.5.82\n",
            "    Uninstalling nvidia-cuda-runtime-cu12-12.5.82:\n",
            "      Successfully uninstalled nvidia-cuda-runtime-cu12-12.5.82\n",
            "  Attempting uninstall: nvidia-cuda-nvrtc-cu12\n",
            "    Found existing installation: nvidia-cuda-nvrtc-cu12 12.5.82\n",
            "    Uninstalling nvidia-cuda-nvrtc-cu12-12.5.82:\n",
            "      Successfully uninstalled nvidia-cuda-nvrtc-cu12-12.5.82\n",
            "  Attempting uninstall: nvidia-cuda-cupti-cu12\n",
            "    Found existing installation: nvidia-cuda-cupti-cu12 12.5.82\n",
            "    Uninstalling nvidia-cuda-cupti-cu12-12.5.82:\n",
            "      Successfully uninstalled nvidia-cuda-cupti-cu12-12.5.82\n",
            "  Attempting uninstall: nvidia-cublas-cu12\n",
            "    Found existing installation: nvidia-cublas-cu12 12.5.3.2\n",
            "    Uninstalling nvidia-cublas-cu12-12.5.3.2:\n",
            "      Successfully uninstalled nvidia-cublas-cu12-12.5.3.2\n",
            "  Attempting uninstall: nvidia-cusparse-cu12\n",
            "    Found existing installation: nvidia-cusparse-cu12 12.5.1.3\n",
            "    Uninstalling nvidia-cusparse-cu12-12.5.1.3:\n",
            "      Successfully uninstalled nvidia-cusparse-cu12-12.5.1.3\n",
            "  Attempting uninstall: nvidia-cudnn-cu12\n",
            "    Found existing installation: nvidia-cudnn-cu12 9.3.0.75\n",
            "    Uninstalling nvidia-cudnn-cu12-9.3.0.75:\n",
            "      Successfully uninstalled nvidia-cudnn-cu12-9.3.0.75\n",
            "  Attempting uninstall: nvidia-cusolver-cu12\n",
            "    Found existing installation: nvidia-cusolver-cu12 11.6.3.83\n",
            "    Uninstalling nvidia-cusolver-cu12-11.6.3.83:\n",
            "      Successfully uninstalled nvidia-cusolver-cu12-11.6.3.83\n",
            "Successfully installed easyocr-1.7.2 ninja-1.11.1.4 nvidia-cublas-cu12-12.4.5.8 nvidia-cuda-cupti-cu12-12.4.127 nvidia-cuda-nvrtc-cu12-12.4.127 nvidia-cuda-runtime-cu12-12.4.127 nvidia-cudnn-cu12-9.1.0.70 nvidia-cufft-cu12-11.2.1.3 nvidia-curand-cu12-10.3.5.147 nvidia-cusolver-cu12-11.6.1.9 nvidia-cusparse-cu12-12.3.1.170 nvidia-nvjitlink-cu12-12.4.127 pyclipper-1.3.0.post6 python-bidi-0.6.6\n"
          ]
        }
      ]
    },
    {
      "cell_type": "markdown",
      "source": [
        "![test.jpg](data:image/jpeg;base64,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)"
      ],
      "metadata": {
        "id": "XWoI3xKcAm94"
      }
    },
    {
      "cell_type": "code",
      "source": [
        "import easyocr\n",
        "reader = easyocr.Reader(['en'])\n",
        "result = reader.readtext(\"/content/test.jpg\")\n",
        "\n",
        "for (bbox, text, prob) in result:\n",
        "    print(text, end=\" \")"
      ],
      "metadata": {
        "colab": {
          "base_uri": "https://localhost:8080/"
        },
        "id": "85do-GTw-86x",
        "outputId": "fe9a1352-be6e-4a1a-a154-a169cd590301"
      },
      "execution_count": null,
      "outputs": [
        {
          "output_type": "stream",
          "name": "stderr",
          "text": [
            "WARNING:easyocr.easyocr:Downloading detection model, please wait. This may take several minutes depending upon your network connection.\n"
          ]
        },
        {
          "output_type": "stream",
          "name": "stdout",
          "text": [
            "Progress: |██████████████████████████████████████████████████| 100.0% Complete"
          ]
        },
        {
          "output_type": "stream",
          "name": "stderr",
          "text": [
            "WARNING:easyocr.easyocr:Downloading recognition model, please wait. This may take several minutes depending upon your network connection.\n"
          ]
        },
        {
          "output_type": "stream",
          "name": "stdout",
          "text": [
            "\rProgress: |--------------------------------------------------| 0.0% Complete\rProgress: |--------------------------------------------------| 0.1% Complete\rProgress: |--------------------------------------------------| 0.1% Complete\rProgress: |--------------------------------------------------| 0.2% Complete\rProgress: |--------------------------------------------------| 0.2% Complete\rProgress: |--------------------------------------------------| 0.3% Complete\rProgress: |--------------------------------------------------| 0.4% Complete\rProgress: |--------------------------------------------------| 0.4% Complete\rProgress: |--------------------------------------------------| 0.5% Complete\rProgress: |--------------------------------------------------| 0.5% Complete\rProgress: |--------------------------------------------------| 0.6% Complete\rProgress: |--------------------------------------------------| 0.6% Complete\rProgress: |--------------------------------------------------| 0.7% Complete\rProgress: |--------------------------------------------------| 0.8% Complete\rProgress: |--------------------------------------------------| 0.8% Complete\rProgress: |--------------------------------------------------| 0.9% Complete\rProgress: |--------------------------------------------------| 0.9% Complete\rProgress: |--------------------------------------------------| 1.0% Complete\rProgress: |--------------------------------------------------| 1.1% Complete\rProgress: |--------------------------------------------------| 1.1% Complete\rProgress: |--------------------------------------------------| 1.2% Complete\rProgress: |--------------------------------------------------| 1.2% Complete\rProgress: |--------------------------------------------------| 1.3% Complete\rProgress: |--------------------------------------------------| 1.3% Complete\rProgress: |--------------------------------------------------| 1.4% Complete\rProgress: |--------------------------------------------------| 1.5% Complete\rProgress: |--------------------------------------------------| 1.5% Complete\rProgress: |--------------------------------------------------| 1.6% Complete\rProgress: |--------------------------------------------------| 1.6% Complete\rProgress: |--------------------------------------------------| 1.7% Complete\rProgress: |--------------------------------------------------| 1.8% Complete\rProgress: |--------------------------------------------------| 1.8% Complete\rProgress: |--------------------------------------------------| 1.9% Complete\rProgress: |--------------------------------------------------| 1.9% Complete\rProgress: |--------------------------------------------------| 2.0% Complete\rProgress: |█-------------------------------------------------| 2.0% Complete\rProgress: |█-------------------------------------------------| 2.1% Complete\rProgress: |█-------------------------------------------------| 2.2% Complete\rProgress: |█-------------------------------------------------| 2.2% Complete\rProgress: |█-------------------------------------------------| 2.3% Complete\rProgress: |█-------------------------------------------------| 2.3% Complete\rProgress: |█-------------------------------------------------| 2.4% Complete\rProgress: |█-------------------------------------------------| 2.5% Complete\rProgress: |█-------------------------------------------------| 2.5% Complete\rProgress: |█-------------------------------------------------| 2.6% Complete\rProgress: |█-------------------------------------------------| 2.6% Complete\rProgress: |█-------------------------------------------------| 2.7% Complete\rProgress: |█-------------------------------------------------| 2.7% Complete\rProgress: |█-------------------------------------------------| 2.8% Complete\rProgress: |█-------------------------------------------------| 2.9% Complete\rProgress: |█-------------------------------------------------| 2.9% Complete\rProgress: |█-------------------------------------------------| 3.0% Complete\rProgress: |█-------------------------------------------------| 3.0% Complete\rProgress: |█-------------------------------------------------| 3.1% Complete\rProgress: |█-------------------------------------------------| 3.2% Complete\rProgress: |█-------------------------------------------------| 3.2% Complete\rProgress: |█-------------------------------------------------| 3.3% Complete\rProgress: |█-------------------------------------------------| 3.3% Complete\rProgress: |█-------------------------------------------------| 3.4% Complete\rProgress: |█-------------------------------------------------| 3.4% Complete\rProgress: |█-------------------------------------------------| 3.5% Complete\rProgress: |█-------------------------------------------------| 3.6% Complete\rProgress: |█-------------------------------------------------| 3.6% Complete\rProgress: |█-------------------------------------------------| 3.7% Complete\rProgress: |█-------------------------------------------------| 3.7% Complete\rProgress: |█-------------------------------------------------| 3.8% Complete\rProgress: |█-------------------------------------------------| 3.9% Complete\rProgress: |█-------------------------------------------------| 3.9% Complete\rProgress: |█-------------------------------------------------| 4.0% Complete\rProgress: |██------------------------------------------------| 4.0% Complete\rProgress: |██------------------------------------------------| 4.1% Complete\rProgress: |██------------------------------------------------| 4.1% Complete\rProgress: |██------------------------------------------------| 4.2% Complete\rProgress: |██------------------------------------------------| 4.3% Complete\rProgress: |██------------------------------------------------| 4.3% Complete\rProgress: |██------------------------------------------------| 4.4% Complete\rProgress: |██------------------------------------------------| 4.4% Complete\rProgress: |██------------------------------------------------| 4.5% Complete\rProgress: |██------------------------------------------------| 4.6% Complete\rProgress: |██------------------------------------------------| 4.6% Complete\rProgress: |██------------------------------------------------| 4.7% Complete\rProgress: |██------------------------------------------------| 4.7% Complete\rProgress: |██------------------------------------------------| 4.8% Complete\rProgress: |██------------------------------------------------| 4.8% Complete\rProgress: |██------------------------------------------------| 4.9% Complete\rProgress: |██------------------------------------------------| 5.0% Complete\rProgress: |██------------------------------------------------| 5.0% Complete\rProgress: |██------------------------------------------------| 5.1% Complete\rProgress: |██------------------------------------------------| 5.1% Complete\rProgress: |██------------------------------------------------| 5.2% Complete\rProgress: |██------------------------------------------------| 5.3% Complete\rProgress: |██------------------------------------------------| 5.3% Complete\rProgress: |██------------------------------------------------| 5.4% Complete\rProgress: |██------------------------------------------------| 5.4% Complete\rProgress: |██------------------------------------------------| 5.5% Complete\rProgress: |██------------------------------------------------| 5.5% Complete\rProgress: |██------------------------------------------------| 5.6% Complete\rProgress: |██------------------------------------------------| 5.7% Complete\rProgress: |██------------------------------------------------| 5.7% Complete\rProgress: |██------------------------------------------------| 5.8% Complete\rProgress: |██------------------------------------------------| 5.8% Complete\rProgress: |██------------------------------------------------| 5.9% Complete\rProgress: |██------------------------------------------------| 6.0% Complete\rProgress: |███-----------------------------------------------| 6.0% Complete\rProgress: |███-----------------------------------------------| 6.1% Complete\rProgress: |███-----------------------------------------------| 6.1% Complete\rProgress: |███-----------------------------------------------| 6.2% Complete\rProgress: |███-----------------------------------------------| 6.2% Complete\rProgress: |███-----------------------------------------------| 6.3% Complete\rProgress: |███-----------------------------------------------| 6.4% Complete\rProgress: |███-----------------------------------------------| 6.4% Complete\rProgress: |███-----------------------------------------------| 6.5% Complete\rProgress: |███-----------------------------------------------| 6.5% Complete\rProgress: |███-----------------------------------------------| 6.6% Complete\rProgress: |███-----------------------------------------------| 6.7% Complete\rProgress: |███-----------------------------------------------| 6.7% Complete\rProgress: |███-----------------------------------------------| 6.8% Complete\rProgress: |███-----------------------------------------------| 6.8% Complete\rProgress: |███-----------------------------------------------| 6.9% Complete\rProgress: |███-----------------------------------------------| 6.9% Complete\rProgress: |███-----------------------------------------------| 7.0% Complete\rProgress: |███-----------------------------------------------| 7.1% Complete\rProgress: |███-----------------------------------------------| 7.1% Complete\rProgress: |███-----------------------------------------------| 7.2% Complete\rProgress: |███-----------------------------------------------| 7.2% Complete\rProgress: |███-----------------------------------------------| 7.3% Complete\rProgress: |███-----------------------------------------------| 7.4% Complete\rProgress: |███-----------------------------------------------| 7.4% Complete\rProgress: |███-----------------------------------------------| 7.5% Complete\rProgress: |███-----------------------------------------------| 7.5% Complete\rProgress: |███-----------------------------------------------| 7.6% Complete\rProgress: |███-----------------------------------------------| 7.6% Complete\rProgress: |███-----------------------------------------------| 7.7% Complete\rProgress: |███-----------------------------------------------| 7.8% Complete\rProgress: |███-----------------------------------------------| 7.8% Complete\rProgress: |███-----------------------------------------------| 7.9% Complete\rProgress: |███-----------------------------------------------| 7.9% Complete\rProgress: |███-----------------------------------------------| 8.0% Complete\rProgress: |████----------------------------------------------| 8.1% Complete\rProgress: |████----------------------------------------------| 8.1% Complete\rProgress: |████----------------------------------------------| 8.2% Complete\rProgress: |████----------------------------------------------| 8.2% Complete\rProgress: |████----------------------------------------------| 8.3% Complete\rProgress: |████----------------------------------------------| 8.3% Complete\rProgress: |████----------------------------------------------| 8.4% Complete\rProgress: |████----------------------------------------------| 8.5% Complete\rProgress: |████----------------------------------------------| 8.5% Complete\rProgress: |████----------------------------------------------| 8.6% Complete\rProgress: |████----------------------------------------------| 8.6% Complete\rProgress: |████----------------------------------------------| 8.7% Complete\rProgress: |████----------------------------------------------| 8.8% Complete\rProgress: |████----------------------------------------------| 8.8% Complete\rProgress: |████----------------------------------------------| 8.9% Complete\rProgress: |████----------------------------------------------| 8.9% Complete\rProgress: |████----------------------------------------------| 9.0% Complete\rProgress: |████----------------------------------------------| 9.0% Complete\rProgress: |████----------------------------------------------| 9.1% Complete\rProgress: |████----------------------------------------------| 9.2% Complete\rProgress: |████----------------------------------------------| 9.2% Complete\rProgress: |████----------------------------------------------| 9.3% Complete\rProgress: |████----------------------------------------------| 9.3% Complete\rProgress: |████----------------------------------------------| 9.4% Complete\rProgress: |████----------------------------------------------| 9.5% Complete\rProgress: |████----------------------------------------------| 9.5% Complete\rProgress: |████----------------------------------------------| 9.6% Complete\rProgress: |████----------------------------------------------| 9.6% Complete\rProgress: |████----------------------------------------------| 9.7% Complete\rProgress: |████----------------------------------------------| 9.7% Complete\rProgress: |████----------------------------------------------| 9.8% Complete\rProgress: |████----------------------------------------------| 9.9% Complete\rProgress: |████----------------------------------------------| 9.9% Complete\rProgress: |████----------------------------------------------| 10.0% Complete\rProgress: |█████---------------------------------------------| 10.0% Complete\rProgress: |█████---------------------------------------------| 10.1% Complete\rProgress: |█████---------------------------------------------| 10.2% Complete\rProgress: |█████---------------------------------------------| 10.2% Complete\rProgress: |█████---------------------------------------------| 10.3% Complete\rProgress: |█████---------------------------------------------| 10.3% Complete\rProgress: |█████---------------------------------------------| 10.4% Complete\rProgress: |█████---------------------------------------------| 10.4% Complete\rProgress: |█████---------------------------------------------| 10.5% Complete\rProgress: |█████---------------------------------------------| 10.6% Complete\rProgress: |█████---------------------------------------------| 10.6% Complete\rProgress: |█████---------------------------------------------| 10.7% Complete\rProgress: |█████---------------------------------------------| 10.7% Complete\rProgress: |█████---------------------------------------------| 10.8% Complete\rProgress: |█████---------------------------------------------| 10.9% Complete\rProgress: |█████---------------------------------------------| 10.9% Complete\rProgress: |█████---------------------------------------------| 11.0% Complete\rProgress: |█████---------------------------------------------| 11.0% Complete\rProgress: |█████---------------------------------------------| 11.1% Complete\rProgress: |█████---------------------------------------------| 11.1% Complete\rProgress: |█████---------------------------------------------| 11.2% Complete\rProgress: |█████---------------------------------------------| 11.3% Complete\rProgress: |█████---------------------------------------------| 11.3% Complete\rProgress: |█████---------------------------------------------| 11.4% Complete\rProgress: |█████---------------------------------------------| 11.4% Complete\rProgress: |█████---------------------------------------------| 11.5% Complete\rProgress: |█████---------------------------------------------| 11.6% Complete\rProgress: |█████---------------------------------------------| 11.6% Complete\rProgress: |█████---------------------------------------------| 11.7% Complete\rProgress: |█████---------------------------------------------| 11.7% Complete\rProgress: |█████---------------------------------------------| 11.8% Complete\rProgress: |█████---------------------------------------------| 11.8% Complete\rProgress: |█████---------------------------------------------| 11.9% Complete\rProgress: |█████---------------------------------------------| 12.0% Complete\rProgress: |██████--------------------------------------------| 12.0% Complete\rProgress: |██████--------------------------------------------| 12.1% Complete\rProgress: |██████--------------------------------------------| 12.1% Complete\rProgress: |██████--------------------------------------------| 12.2% Complete\rProgress: |██████--------------------------------------------| 12.3% Complete\rProgress: |██████--------------------------------------------| 12.3% Complete\rProgress: |██████--------------------------------------------| 12.4% Complete\rProgress: |██████--------------------------------------------| 12.4% Complete\rProgress: |██████--------------------------------------------| 12.5% Complete\rProgress: |██████--------------------------------------------| 12.5% Complete\rProgress: |██████--------------------------------------------| 12.6% Complete\rProgress: |██████--------------------------------------------| 12.7% Complete\rProgress: |██████--------------------------------------------| 12.7% Complete\rProgress: |██████--------------------------------------------| 12.8% Complete\rProgress: |██████--------------------------------------------| 12.8% Complete\rProgress: |██████--------------------------------------------| 12.9% Complete\rProgress: |██████--------------------------------------------| 13.0% Complete\rProgress: |██████--------------------------------------------| 13.0% Complete\rProgress: |██████--------------------------------------------| 13.1% Complete\rProgress: |██████--------------------------------------------| 13.1% Complete\rProgress: |██████--------------------------------------------| 13.2% Complete\rProgress: |██████--------------------------------------------| 13.2% Complete\rProgress: |██████--------------------------------------------| 13.3% Complete\rProgress: |██████--------------------------------------------| 13.4% Complete\rProgress: |██████--------------------------------------------| 13.4% Complete\rProgress: |██████--------------------------------------------| 13.5% Complete\rProgress: |██████--------------------------------------------| 13.5% Complete\rProgress: |██████--------------------------------------------| 13.6% Complete\rProgress: |██████--------------------------------------------| 13.7% Complete\rProgress: |██████--------------------------------------------| 13.7% Complete\rProgress: |██████--------------------------------------------| 13.8% Complete\rProgress: |██████--------------------------------------------| 13.8% Complete\rProgress: |██████--------------------------------------------| 13.9% Complete\rProgress: |██████--------------------------------------------| 13.9% Complete\rProgress: |███████-------------------------------------------| 14.0% Complete\rProgress: |███████-------------------------------------------| 14.1% Complete\rProgress: |███████-------------------------------------------| 14.1% Complete\rProgress: |███████-------------------------------------------| 14.2% Complete\rProgress: |███████-------------------------------------------| 14.2% Complete\rProgress: |███████-------------------------------------------| 14.3% Complete\rProgress: |███████-------------------------------------------| 14.4% Complete\rProgress: |███████-------------------------------------------| 14.4% Complete\rProgress: |███████-------------------------------------------| 14.5% Complete\rProgress: |███████-------------------------------------------| 14.5% Complete\rProgress: |███████-------------------------------------------| 14.6% Complete\rProgress: |███████-------------------------------------------| 14.6% Complete\rProgress: |███████-------------------------------------------| 14.7% Complete\rProgress: |███████-------------------------------------------| 14.8% Complete\rProgress: |███████-------------------------------------------| 14.8% Complete\rProgress: |███████-------------------------------------------| 14.9% Complete\rProgress: |███████-------------------------------------------| 14.9% Complete\rProgress: |███████-------------------------------------------| 15.0% Complete\rProgress: |███████-------------------------------------------| 15.1% Complete\rProgress: |███████-------------------------------------------| 15.1% Complete\rProgress: |███████-------------------------------------------| 15.2% Complete\rProgress: |███████-------------------------------------------| 15.2% Complete\rProgress: |███████-------------------------------------------| 15.3% Complete\rProgress: |███████-------------------------------------------| 15.3% Complete\rProgress: |███████-------------------------------------------| 15.4% Complete\rProgress: |███████-------------------------------------------| 15.5% Complete\rProgress: |███████-------------------------------------------| 15.5% Complete\rProgress: |███████-------------------------------------------| 15.6% Complete\rProgress: |███████-------------------------------------------| 15.6% Complete\rProgress: |███████-------------------------------------------| 15.7% Complete\rProgress: |███████-------------------------------------------| 15.8% Complete\rProgress: |███████-------------------------------------------| 15.8% Complete\rProgress: |███████-------------------------------------------| 15.9% Complete\rProgress: |███████-------------------------------------------| 15.9% Complete\rProgress: |███████-------------------------------------------| 16.0% Complete\rProgress: |████████------------------------------------------| 16.0% Complete\rProgress: |████████------------------------------------------| 16.1% Complete\rProgress: |████████------------------------------------------| 16.2% Complete\rProgress: |████████------------------------------------------| 16.2% Complete\rProgress: |████████------------------------------------------| 16.3% Complete\rProgress: |████████------------------------------------------| 16.3% Complete\rProgress: |████████------------------------------------------| 16.4% Complete\rProgress: |████████------------------------------------------| 16.5% Complete\rProgress: |████████------------------------------------------| 16.5% Complete\rProgress: |████████------------------------------------------| 16.6% Complete\rProgress: |████████------------------------------------------| 16.6% Complete\rProgress: |████████------------------------------------------| 16.7% Complete\rProgress: |████████------------------------------------------| 16.7% Complete\rProgress: |████████------------------------------------------| 16.8% Complete\rProgress: |████████------------------------------------------| 16.9% Complete\rProgress: |████████------------------------------------------| 16.9% Complete\rProgress: |████████------------------------------------------| 17.0% Complete\rProgress: |████████------------------------------------------| 17.0% Complete\rProgress: |████████------------------------------------------| 17.1% Complete\rProgress: |████████------------------------------------------| 17.2% Complete\rProgress: |████████------------------------------------------| 17.2% Complete\rProgress: |████████------------------------------------------| 17.3% Complete\rProgress: |████████------------------------------------------| 17.3% Complete\rProgress: |████████------------------------------------------| 17.4% Complete\rProgress: |████████------------------------------------------| 17.4% Complete\rProgress: |████████------------------------------------------| 17.5% Complete\rProgress: |████████------------------------------------------| 17.6% Complete\rProgress: |████████------------------------------------------| 17.6% Complete\rProgress: |████████------------------------------------------| 17.7% Complete\rProgress: |████████------------------------------------------| 17.7% Complete\rProgress: |████████------------------------------------------| 17.8% Complete\rProgress: |████████------------------------------------------| 17.9% Complete\rProgress: |████████------------------------------------------| 17.9% Complete\rProgress: |████████------------------------------------------| 18.0% Complete\rProgress: |█████████-----------------------------------------| 18.0% Complete\rProgress: |█████████-----------------------------------------| 18.1% Complete\rProgress: |█████████-----------------------------------------| 18.1% Complete\rProgress: |█████████-----------------------------------------| 18.2% Complete\rProgress: |█████████-----------------------------------------| 18.3% Complete\rProgress: |█████████-----------------------------------------| 18.3% Complete\rProgress: |█████████-----------------------------------------| 18.4% Complete\rProgress: |█████████-----------------------------------------| 18.4% Complete\rProgress: |█████████-----------------------------------------| 18.5% Complete\rProgress: |█████████-----------------------------------------| 18.6% Complete\rProgress: |█████████-----------------------------------------| 18.6% Complete\rProgress: |█████████-----------------------------------------| 18.7% Complete\rProgress: |█████████-----------------------------------------| 18.7% Complete\rProgress: |█████████-----------------------------------------| 18.8% Complete\rProgress: |█████████-----------------------------------------| 18.8% Complete\rProgress: |█████████-----------------------------------------| 18.9% Complete\rProgress: |█████████-----------------------------------------| 19.0% Complete\rProgress: |█████████-----------------------------------------| 19.0% Complete\rProgress: |█████████-----------------------------------------| 19.1% Complete\rProgress: |█████████-----------------------------------------| 19.1% Complete\rProgress: |█████████-----------------------------------------| 19.2% Complete\rProgress: |█████████-----------------------------------------| 19.3% Complete\rProgress: |█████████-----------------------------------------| 19.3% Complete\rProgress: |█████████-----------------------------------------| 19.4% Complete\rProgress: |█████████-----------------------------------------| 19.4% Complete\rProgress: |█████████-----------------------------------------| 19.5% Complete\rProgress: |█████████-----------------------------------------| 19.5% Complete\rProgress: |█████████-----------------------------------------| 19.6% Complete\rProgress: |█████████-----------------------------------------| 19.7% Complete\rProgress: |█████████-----------------------------------------| 19.7% Complete\rProgress: |█████████-----------------------------------------| 19.8% Complete\rProgress: |█████████-----------------------------------------| 19.8% Complete\rProgress: |█████████-----------------------------------------| 19.9% Complete\rProgress: |█████████-----------------------------------------| 20.0% Complete\rProgress: |██████████----------------------------------------| 20.0% Complete\rProgress: |██████████----------------------------------------| 20.1% Complete\rProgress: |██████████----------------------------------------| 20.1% Complete\rProgress: |██████████----------------------------------------| 20.2% Complete\rProgress: |██████████----------------------------------------| 20.2% Complete\rProgress: |██████████----------------------------------------| 20.3% Complete\rProgress: |██████████----------------------------------------| 20.4% Complete\rProgress: |██████████----------------------------------------| 20.4% Complete\rProgress: |██████████----------------------------------------| 20.5% Complete\rProgress: |██████████----------------------------------------| 20.5% Complete\rProgress: |██████████----------------------------------------| 20.6% Complete\rProgress: |██████████----------------------------------------| 20.7% Complete\rProgress: |██████████----------------------------------------| 20.7% Complete\rProgress: |██████████----------------------------------------| 20.8% Complete\rProgress: |██████████----------------------------------------| 20.8% Complete\rProgress: |██████████----------------------------------------| 20.9% Complete\rProgress: |██████████----------------------------------------| 20.9% Complete\rProgress: |██████████----------------------------------------| 21.0% Complete\rProgress: |██████████----------------------------------------| 21.1% Complete\rProgress: |██████████----------------------------------------| 21.1% Complete\rProgress: |██████████----------------------------------------| 21.2% Complete\rProgress: |██████████----------------------------------------| 21.2% Complete\rProgress: |██████████----------------------------------------| 21.3% Complete\rProgress: |██████████----------------------------------------| 21.4% Complete\rProgress: |██████████----------------------------------------| 21.4% Complete\rProgress: |██████████----------------------------------------| 21.5% Complete\rProgress: |██████████----------------------------------------| 21.5% Complete\rProgress: |██████████----------------------------------------| 21.6% Complete\rProgress: |██████████----------------------------------------| 21.6% Complete\rProgress: |██████████----------------------------------------| 21.7% Complete\rProgress: |██████████----------------------------------------| 21.8% Complete\rProgress: |██████████----------------------------------------| 21.8% Complete\rProgress: |██████████----------------------------------------| 21.9% Complete\rProgress: |██████████----------------------------------------| 21.9% Complete\rProgress: |██████████----------------------------------------| 22.0% Complete\rProgress: |███████████---------------------------------------| 22.1% Complete\rProgress: |███████████---------------------------------------| 22.1% Complete\rProgress: |███████████---------------------------------------| 22.2% Complete\rProgress: |███████████---------------------------------------| 22.2% Complete\rProgress: |███████████---------------------------------------| 22.3% Complete\rProgress: |███████████---------------------------------------| 22.3% Complete\rProgress: |███████████---------------------------------------| 22.4% Complete\rProgress: |███████████---------------------------------------| 22.5% Complete\rProgress: |███████████---------------------------------------| 22.5% Complete\rProgress: |███████████---------------------------------------| 22.6% Complete\rProgress: |███████████---------------------------------------| 22.6% Complete\rProgress: |███████████---------------------------------------| 22.7% Complete\rProgress: |███████████---------------------------------------| 22.8% Complete\rProgress: |███████████---------------------------------------| 22.8% Complete\rProgress: |███████████---------------------------------------| 22.9% Complete\rProgress: |███████████---------------------------------------| 22.9% Complete\rProgress: |███████████---------------------------------------| 23.0% Complete\rProgress: |███████████---------------------------------------| 23.0% Complete\rProgress: |███████████---------------------------------------| 23.1% Complete\rProgress: |███████████---------------------------------------| 23.2% Complete\rProgress: |███████████---------------------------------------| 23.2% Complete\rProgress: |███████████---------------------------------------| 23.3% Complete\rProgress: |███████████---------------------------------------| 23.3% Complete\rProgress: |███████████---------------------------------------| 23.4% Complete\rProgress: |███████████---------------------------------------| 23.5% Complete\rProgress: |███████████---------------------------------------| 23.5% Complete\rProgress: |███████████---------------------------------------| 23.6% Complete\rProgress: |███████████---------------------------------------| 23.6% Complete\rProgress: |███████████---------------------------------------| 23.7% Complete\rProgress: |███████████---------------------------------------| 23.7% Complete\rProgress: |███████████---------------------------------------| 23.8% Complete\rProgress: |███████████---------------------------------------| 23.9% Complete\rProgress: |███████████---------------------------------------| 23.9% Complete\rProgress: |███████████---------------------------------------| 24.0% Complete\rProgress: |████████████--------------------------------------| 24.0% Complete\rProgress: |████████████--------------------------------------| 24.1% Complete\rProgress: |████████████--------------------------------------| 24.2% Complete\rProgress: |████████████--------------------------------------| 24.2% Complete\rProgress: |████████████--------------------------------------| 24.3% Complete\rProgress: |████████████--------------------------------------| 24.3% Complete\rProgress: |████████████--------------------------------------| 24.4% Complete\rProgress: |████████████--------------------------------------| 24.4% Complete\rProgress: |████████████--------------------------------------| 24.5% Complete\rProgress: |████████████--------------------------------------| 24.6% Complete\rProgress: |████████████--------------------------------------| 24.6% Complete\rProgress: |████████████--------------------------------------| 24.7% Complete\rProgress: |████████████--------------------------------------| 24.7% Complete\rProgress: |████████████--------------------------------------| 24.8% Complete\rProgress: |████████████--------------------------------------| 24.9% Complete\rProgress: |████████████--------------------------------------| 24.9% Complete\rProgress: |████████████--------------------------------------| 25.0% Complete\rProgress: |████████████--------------------------------------| 25.0% Complete\rProgress: |████████████--------------------------------------| 25.1% Complete\rProgress: |████████████--------------------------------------| 25.1% Complete\rProgress: |████████████--------------------------------------| 25.2% Complete\rProgress: |████████████--------------------------------------| 25.3% Complete\rProgress: |████████████--------------------------------------| 25.3% Complete\rProgress: |████████████--------------------------------------| 25.4% Complete\rProgress: |████████████--------------------------------------| 25.4% Complete\rProgress: |████████████--------------------------------------| 25.5% Complete\rProgress: |████████████--------------------------------------| 25.6% Complete\rProgress: |████████████--------------------------------------| 25.6% Complete\rProgress: |████████████--------------------------------------| 25.7% Complete\rProgress: |████████████--------------------------------------| 25.7% Complete\rProgress: |████████████--------------------------------------| 25.8% Complete\rProgress: |████████████--------------------------------------| 25.8% Complete\rProgress: |████████████--------------------------------------| 25.9% Complete\rProgress: |████████████--------------------------------------| 26.0% Complete\rProgress: |█████████████-------------------------------------| 26.0% Complete\rProgress: |█████████████-------------------------------------| 26.1% Complete\rProgress: |█████████████-------------------------------------| 26.1% Complete\rProgress: |█████████████-------------------------------------| 26.2% Complete\rProgress: |█████████████-------------------------------------| 26.3% Complete\rProgress: |█████████████-------------------------------------| 26.3% Complete\rProgress: |█████████████-------------------------------------| 26.4% Complete\rProgress: |█████████████-------------------------------------| 26.4% Complete\rProgress: |█████████████-------------------------------------| 26.5% Complete\rProgress: |█████████████-------------------------------------| 26.5% Complete\rProgress: |█████████████-------------------------------------| 26.6% Complete\rProgress: |█████████████-------------------------------------| 26.7% Complete\rProgress: |█████████████-------------------------------------| 26.7% Complete\rProgress: |█████████████-------------------------------------| 26.8% Complete\rProgress: |█████████████-------------------------------------| 26.8% Complete\rProgress: |█████████████-------------------------------------| 26.9% Complete\rProgress: |█████████████-------------------------------------| 27.0% Complete\rProgress: |█████████████-------------------------------------| 27.0% Complete\rProgress: |█████████████-------------------------------------| 27.1% Complete\rProgress: |█████████████-------------------------------------| 27.1% Complete\rProgress: |█████████████-------------------------------------| 27.2% Complete\rProgress: |█████████████-------------------------------------| 27.2% Complete\rProgress: |█████████████-------------------------------------| 27.3% Complete\rProgress: |█████████████-------------------------------------| 27.4% Complete\rProgress: |█████████████-------------------------------------| 27.4% Complete\rProgress: |█████████████-------------------------------------| 27.5% Complete\rProgress: |█████████████-------------------------------------| 27.5% Complete\rProgress: |█████████████-------------------------------------| 27.6% Complete\rProgress: |█████████████-------------------------------------| 27.7% Complete\rProgress: |█████████████-------------------------------------| 27.7% Complete\rProgress: |█████████████-------------------------------------| 27.8% Complete\rProgress: |█████████████-------------------------------------| 27.8% Complete\rProgress: |█████████████-------------------------------------| 27.9% Complete\rProgress: |█████████████-------------------------------------| 27.9% Complete\rProgress: |██████████████------------------------------------| 28.0% Complete\rProgress: |██████████████------------------------------------| 28.1% Complete\rProgress: |██████████████------------------------------------| 28.1% Complete\rProgress: |██████████████------------------------------------| 28.2% Complete\rProgress: |██████████████------------------------------------| 28.2% Complete\rProgress: |██████████████------------------------------------| 28.3% Complete\rProgress: |██████████████------------------------------------| 28.4% Complete\rProgress: |██████████████------------------------------------| 28.4% Complete\rProgress: |██████████████------------------------------------| 28.5% Complete\rProgress: |██████████████------------------------------------| 28.5% Complete\rProgress: |██████████████------------------------------------| 28.6% Complete\rProgress: |██████████████------------------------------------| 28.6% Complete\rProgress: |██████████████------------------------------------| 28.7% Complete\rProgress: |██████████████------------------------------------| 28.8% Complete\rProgress: |██████████████------------------------------------| 28.8% Complete\rProgress: |██████████████------------------------------------| 28.9% Complete\rProgress: |██████████████------------------------------------| 28.9% Complete\rProgress: |██████████████------------------------------------| 29.0% Complete\rProgress: |██████████████------------------------------------| 29.1% Complete\rProgress: |██████████████------------------------------------| 29.1% Complete\rProgress: |██████████████------------------------------------| 29.2% Complete\rProgress: |██████████████------------------------------------| 29.2% Complete\rProgress: |██████████████------------------------------------| 29.3% Complete\rProgress: |██████████████------------------------------------| 29.3% Complete\rProgress: |██████████████------------------------------------| 29.4% Complete\rProgress: |██████████████------------------------------------| 29.5% Complete\rProgress: |██████████████------------------------------------| 29.5% Complete\rProgress: |██████████████------------------------------------| 29.6% Complete\rProgress: |██████████████------------------------------------| 29.6% Complete\rProgress: |██████████████------------------------------------| 29.7% Complete\rProgress: |██████████████------------------------------------| 29.8% Complete\rProgress: |██████████████------------------------------------| 29.8% Complete\rProgress: |██████████████------------------------------------| 29.9% Complete\rProgress: |██████████████------------------------------------| 29.9% Complete\rProgress: |██████████████------------------------------------| 30.0% Complete\rProgress: |███████████████-----------------------------------| 30.0% Complete\rProgress: |███████████████-----------------------------------| 30.1% Complete\rProgress: |███████████████-----------------------------------| 30.2% Complete\rProgress: |███████████████-----------------------------------| 30.2% Complete\rProgress: |███████████████-----------------------------------| 30.3% Complete\rProgress: |███████████████-----------------------------------| 30.3% Complete\rProgress: |███████████████-----------------------------------| 30.4% Complete\rProgress: |███████████████-----------------------------------| 30.5% Complete\rProgress: |███████████████-----------------------------------| 30.5% Complete\rProgress: |███████████████-----------------------------------| 30.6% Complete\rProgress: |███████████████-----------------------------------| 30.6% Complete\rProgress: |███████████████-----------------------------------| 30.7% Complete\rProgress: |███████████████-----------------------------------| 30.7% Complete\rProgress: |███████████████-----------------------------------| 30.8% Complete\rProgress: |███████████████-----------------------------------| 30.9% Complete\rProgress: |███████████████-----------------------------------| 30.9% Complete\rProgress: |███████████████-----------------------------------| 31.0% Complete\rProgress: |███████████████-----------------------------------| 31.0% Complete\rProgress: |███████████████-----------------------------------| 31.1% Complete\rProgress: |███████████████-----------------------------------| 31.2% Complete\rProgress: |███████████████-----------------------------------| 31.2% Complete\rProgress: |███████████████-----------------------------------| 31.3% Complete\rProgress: |███████████████-----------------------------------| 31.3% Complete\rProgress: |███████████████-----------------------------------| 31.4% Complete\rProgress: |███████████████-----------------------------------| 31.4% Complete\rProgress: |███████████████-----------------------------------| 31.5% Complete\rProgress: |███████████████-----------------------------------| 31.6% Complete\rProgress: |███████████████-----------------------------------| 31.6% Complete\rProgress: |███████████████-----------------------------------| 31.7% Complete\rProgress: |███████████████-----------------------------------| 31.7% Complete\rProgress: |███████████████-----------------------------------| 31.8% Complete\rProgress: |███████████████-----------------------------------| 31.9% Complete\rProgress: |███████████████-----------------------------------| 31.9% Complete\rProgress: |███████████████-----------------------------------| 32.0% Complete\rProgress: |████████████████----------------------------------| 32.0% Complete\rProgress: |████████████████----------------------------------| 32.1% Complete\rProgress: |████████████████----------------------------------| 32.1% Complete\rProgress: |████████████████----------------------------------| 32.2% Complete\rProgress: |████████████████----------------------------------| 32.3% Complete\rProgress: |████████████████----------------------------------| 32.3% Complete\rProgress: |████████████████----------------------------------| 32.4% Complete\rProgress: |████████████████----------------------------------| 32.4% Complete\rProgress: |████████████████----------------------------------| 32.5% Complete\rProgress: |████████████████----------------------------------| 32.6% Complete\rProgress: |████████████████----------------------------------| 32.6% Complete\rProgress: |████████████████----------------------------------| 32.7% Complete\rProgress: |████████████████----------------------------------| 32.7% Complete\rProgress: |████████████████----------------------------------| 32.8% Complete\rProgress: |████████████████----------------------------------| 32.8% Complete\rProgress: |████████████████----------------------------------| 32.9% Complete\rProgress: |████████████████----------------------------------| 33.0% Complete\rProgress: |████████████████----------------------------------| 33.0% Complete\rProgress: |████████████████----------------------------------| 33.1% Complete\rProgress: |████████████████----------------------------------| 33.1% Complete\rProgress: |████████████████----------------------------------| 33.2% Complete\rProgress: |████████████████----------------------------------| 33.3% Complete\rProgress: |████████████████----------------------------------| 33.3% Complete\rProgress: |████████████████----------------------------------| 33.4% Complete\rProgress: |████████████████----------------------------------| 33.4% Complete\rProgress: |████████████████----------------------------------| 33.5% Complete\rProgress: |████████████████----------------------------------| 33.5% Complete\rProgress: |████████████████----------------------------------| 33.6% Complete\rProgress: |████████████████----------------------------------| 33.7% Complete\rProgress: |████████████████----------------------------------| 33.7% Complete\rProgress: |████████████████----------------------------------| 33.8% Complete\rProgress: |████████████████----------------------------------| 33.8% Complete\rProgress: |████████████████----------------------------------| 33.9% Complete\rProgress: |████████████████----------------------------------| 34.0% Complete\rProgress: |█████████████████---------------------------------| 34.0% Complete\rProgress: |█████████████████---------------------------------| 34.1% Complete\rProgress: |█████████████████---------------------------------| 34.1% Complete\rProgress: |█████████████████---------------------------------| 34.2% Complete\rProgress: |█████████████████---------------------------------| 34.2% Complete\rProgress: |█████████████████---------------------------------| 34.3% Complete\rProgress: |█████████████████---------------------------------| 34.4% Complete\rProgress: |█████████████████---------------------------------| 34.4% Complete\rProgress: |█████████████████---------------------------------| 34.5% Complete\rProgress: |█████████████████---------------------------------| 34.5% Complete\rProgress: |█████████████████---------------------------------| 34.6% Complete\rProgress: |█████████████████---------------------------------| 34.7% Complete\rProgress: |█████████████████---------------------------------| 34.7% Complete\rProgress: |█████████████████---------------------------------| 34.8% Complete\rProgress: |█████████████████---------------------------------| 34.8% Complete\rProgress: |█████████████████---------------------------------| 34.9% Complete\rProgress: |█████████████████---------------------------------| 34.9% Complete\rProgress: |█████████████████---------------------------------| 35.0% Complete\rProgress: |█████████████████---------------------------------| 35.1% Complete\rProgress: |█████████████████---------------------------------| 35.1% Complete\rProgress: |█████████████████---------------------------------| 35.2% Complete\rProgress: |█████████████████---------------------------------| 35.2% Complete\rProgress: |█████████████████---------------------------------| 35.3% Complete\rProgress: |█████████████████---------------------------------| 35.4% Complete\rProgress: |█████████████████---------------------------------| 35.4% Complete\rProgress: |█████████████████---------------------------------| 35.5% Complete\rProgress: |█████████████████---------------------------------| 35.5% Complete\rProgress: |█████████████████---------------------------------| 35.6% Complete\rProgress: |█████████████████---------------------------------| 35.6% Complete\rProgress: |█████████████████---------------------------------| 35.7% Complete\rProgress: |█████████████████---------------------------------| 35.8% Complete\rProgress: |█████████████████---------------------------------| 35.8% Complete\rProgress: |█████████████████---------------------------------| 35.9% Complete\rProgress: |█████████████████---------------------------------| 35.9% Complete\rProgress: |█████████████████---------------------------------| 36.0% Complete\rProgress: |██████████████████--------------------------------| 36.1% Complete\rProgress: |██████████████████--------------------------------| 36.1% Complete\rProgress: |██████████████████--------------------------------| 36.2% Complete\rProgress: |██████████████████--------------------------------| 36.2% Complete\rProgress: |██████████████████--------------------------------| 36.3% Complete\rProgress: |██████████████████--------------------------------| 36.3% Complete\rProgress: |██████████████████--------------------------------| 36.4% Complete\rProgress: |██████████████████--------------------------------| 36.5% Complete\rProgress: |██████████████████--------------------------------| 36.5% Complete\rProgress: |██████████████████--------------------------------| 36.6% Complete\rProgress: |██████████████████--------------------------------| 36.6% Complete\rProgress: |██████████████████--------------------------------| 36.7% Complete\rProgress: |██████████████████--------------------------------| 36.8% Complete\rProgress: |██████████████████--------------------------------| 36.8% Complete\rProgress: |██████████████████--------------------------------| 36.9% Complete\rProgress: |██████████████████--------------------------------| 36.9% Complete\rProgress: |██████████████████--------------------------------| 37.0% Complete\rProgress: |██████████████████--------------------------------| 37.0% Complete\rProgress: |██████████████████--------------------------------| 37.1% Complete\rProgress: |██████████████████--------------------------------| 37.2% Complete\rProgress: |██████████████████--------------------------------| 37.2% Complete\rProgress: |██████████████████--------------------------------| 37.3% Complete\rProgress: |██████████████████--------------------------------| 37.3% Complete\rProgress: |██████████████████--------------------------------| 37.4% Complete\rProgress: |██████████████████--------------------------------| 37.5% Complete\rProgress: |██████████████████--------------------------------| 37.5% Complete\rProgress: |██████████████████--------------------------------| 37.6% Complete\rProgress: |██████████████████--------------------------------| 37.6% Complete\rProgress: |██████████████████--------------------------------| 37.7% Complete\rProgress: |██████████████████--------------------------------| 37.7% Complete\rProgress: |██████████████████--------------------------------| 37.8% Complete\rProgress: |██████████████████--------------------------------| 37.9% Complete\rProgress: |██████████████████--------------------------------| 37.9% Complete\rProgress: |██████████████████--------------------------------| 38.0% Complete\rProgress: |███████████████████-------------------------------| 38.0% Complete\rProgress: |███████████████████-------------------------------| 38.1% Complete\rProgress: |███████████████████-------------------------------| 38.2% Complete\rProgress: |███████████████████-------------------------------| 38.2% Complete\rProgress: |███████████████████-------------------------------| 38.3% Complete\rProgress: |███████████████████-------------------------------| 38.3% Complete\rProgress: |███████████████████-------------------------------| 38.4% Complete\rProgress: |███████████████████-------------------------------| 38.4% Complete\rProgress: |███████████████████-------------------------------| 38.5% Complete\rProgress: |███████████████████-------------------------------| 38.6% Complete\rProgress: |███████████████████-------------------------------| 38.6% Complete\rProgress: |███████████████████-------------------------------| 38.7% Complete\rProgress: |███████████████████-------------------------------| 38.7% Complete\rProgress: |███████████████████-------------------------------| 38.8% Complete\rProgress: |███████████████████-------------------------------| 38.9% Complete\rProgress: |███████████████████-------------------------------| 38.9% Complete\rProgress: |███████████████████-------------------------------| 39.0% Complete\rProgress: |███████████████████-------------------------------| 39.0% Complete\rProgress: |███████████████████-------------------------------| 39.1% Complete\rProgress: |███████████████████-------------------------------| 39.1% Complete\rProgress: |███████████████████-------------------------------| 39.2% Complete\rProgress: |███████████████████-------------------------------| 39.3% Complete\rProgress: |███████████████████-------------------------------| 39.3% Complete\rProgress: |███████████████████-------------------------------| 39.4% Complete\rProgress: |███████████████████-------------------------------| 39.4% Complete\rProgress: |███████████████████-------------------------------| 39.5% Complete\rProgress: |███████████████████-------------------------------| 39.6% Complete\rProgress: |███████████████████-------------------------------| 39.6% Complete\rProgress: |███████████████████-------------------------------| 39.7% Complete\rProgress: |███████████████████-------------------------------| 39.7% Complete\rProgress: |███████████████████-------------------------------| 39.8% Complete\rProgress: |███████████████████-------------------------------| 39.8% Complete\rProgress: |███████████████████-------------------------------| 39.9% Complete\rProgress: |███████████████████-------------------------------| 40.0% Complete\rProgress: |████████████████████------------------------------| 40.0% Complete\rProgress: |████████████████████------------------------------| 40.1% Complete\rProgress: |████████████████████------------------------------| 40.1% Complete\rProgress: |████████████████████------------------------------| 40.2% Complete\rProgress: |████████████████████------------------------------| 40.3% Complete\rProgress: |████████████████████------------------------------| 40.3% Complete\rProgress: |████████████████████------------------------------| 40.4% Complete\rProgress: |████████████████████------------------------------| 40.4% Complete\rProgress: |████████████████████------------------------------| 40.5% Complete\rProgress: |████████████████████------------------------------| 40.5% Complete\rProgress: |████████████████████------------------------------| 40.6% Complete\rProgress: |████████████████████------------------------------| 40.7% Complete\rProgress: |████████████████████------------------------------| 40.7% Complete\rProgress: |████████████████████------------------------------| 40.8% Complete\rProgress: |████████████████████------------------------------| 40.8% Complete\rProgress: |████████████████████------------------------------| 40.9% Complete\rProgress: |████████████████████------------------------------| 41.0% Complete\rProgress: |████████████████████------------------------------| 41.0% Complete\rProgress: |████████████████████------------------------------| 41.1% Complete\rProgress: |████████████████████------------------------------| 41.1% Complete\rProgress: |████████████████████------------------------------| 41.2% Complete\rProgress: |████████████████████------------------------------| 41.2% Complete\rProgress: |████████████████████------------------------------| 41.3% Complete\rProgress: |████████████████████------------------------------| 41.4% Complete\rProgress: |████████████████████------------------------------| 41.4% Complete\rProgress: |████████████████████------------------------------| 41.5% Complete\rProgress: |████████████████████------------------------------| 41.5% Complete\rProgress: |████████████████████------------------------------| 41.6% Complete\rProgress: |████████████████████------------------------------| 41.7% Complete\rProgress: |████████████████████------------------------------| 41.7% Complete\rProgress: |████████████████████------------------------------| 41.8% Complete\rProgress: |████████████████████------------------------------| 41.8% Complete\rProgress: |████████████████████------------------------------| 41.9% Complete\rProgress: |████████████████████------------------------------| 41.9% Complete\rProgress: |█████████████████████-----------------------------| 42.0% Complete\rProgress: |█████████████████████-----------------------------| 42.1% Complete\rProgress: |█████████████████████-----------------------------| 42.1% Complete\rProgress: |█████████████████████-----------------------------| 42.2% Complete\rProgress: |█████████████████████-----------------------------| 42.2% Complete\rProgress: |█████████████████████-----------------------------| 42.3% Complete\rProgress: |█████████████████████-----------------------------| 42.4% Complete\rProgress: |█████████████████████-----------------------------| 42.4% Complete\rProgress: |█████████████████████-----------------------------| 42.5% Complete\rProgress: |█████████████████████-----------------------------| 42.5% Complete\rProgress: |█████████████████████-----------------------------| 42.6% Complete\rProgress: |█████████████████████-----------------------------| 42.6% Complete\rProgress: |█████████████████████-----------------------------| 42.7% Complete\rProgress: |█████████████████████-----------------------------| 42.8% Complete\rProgress: |█████████████████████-----------------------------| 42.8% Complete\rProgress: |█████████████████████-----------------------------| 42.9% Complete\rProgress: |█████████████████████-----------------------------| 42.9% Complete\rProgress: |█████████████████████-----------------------------| 43.0% Complete\rProgress: |█████████████████████-----------------------------| 43.1% Complete\rProgress: |█████████████████████-----------------------------| 43.1% Complete\rProgress: |█████████████████████-----------------------------| 43.2% Complete\rProgress: |█████████████████████-----------------------------| 43.2% Complete\rProgress: |█████████████████████-----------------------------| 43.3% Complete\rProgress: |█████████████████████-----------------------------| 43.3% Complete\rProgress: |█████████████████████-----------------------------| 43.4% Complete\rProgress: |█████████████████████-----------------------------| 43.5% Complete\rProgress: |█████████████████████-----------------------------| 43.5% Complete\rProgress: |█████████████████████-----------------------------| 43.6% Complete\rProgress: |█████████████████████-----------------------------| 43.6% Complete\rProgress: |█████████████████████-----------------------------| 43.7% Complete\rProgress: |█████████████████████-----------------------------| 43.8% Complete\rProgress: |█████████████████████-----------------------------| 43.8% Complete\rProgress: |█████████████████████-----------------------------| 43.9% Complete\rProgress: |█████████████████████-----------------------------| 43.9% Complete\rProgress: |█████████████████████-----------------------------| 44.0% Complete\rProgress: |██████████████████████----------------------------| 44.0% Complete\rProgress: |██████████████████████----------------------------| 44.1% Complete\rProgress: |██████████████████████----------------------------| 44.2% Complete\rProgress: |██████████████████████----------------------------| 44.2% Complete\rProgress: |██████████████████████----------------------------| 44.3% Complete\rProgress: |██████████████████████----------------------------| 44.3% Complete\rProgress: |██████████████████████----------------------------| 44.4% Complete\rProgress: |██████████████████████----------------------------| 44.5% Complete\rProgress: |██████████████████████----------------------------| 44.5% Complete\rProgress: |██████████████████████----------------------------| 44.6% Complete\rProgress: |██████████████████████----------------------------| 44.6% Complete\rProgress: |██████████████████████----------------------------| 44.7% Complete\rProgress: |██████████████████████----------------------------| 44.7% Complete\rProgress: |██████████████████████----------------------------| 44.8% Complete\rProgress: |██████████████████████----------------------------| 44.9% Complete\rProgress: |██████████████████████----------------------------| 44.9% Complete\rProgress: |██████████████████████----------------------------| 45.0% Complete\rProgress: |██████████████████████----------------------------| 45.0% Complete\rProgress: |██████████████████████----------------------------| 45.1% Complete\rProgress: |██████████████████████----------------------------| 45.2% Complete\rProgress: |██████████████████████----------------------------| 45.2% Complete\rProgress: |██████████████████████----------------------------| 45.3% Complete\rProgress: |██████████████████████----------------------------| 45.3% Complete\rProgress: |██████████████████████----------------------------| 45.4% Complete\rProgress: |██████████████████████----------------------------| 45.4% Complete\rProgress: |██████████████████████----------------------------| 45.5% Complete\rProgress: |██████████████████████----------------------------| 45.6% Complete\rProgress: |██████████████████████----------------------------| 45.6% Complete\rProgress: |██████████████████████----------------------------| 45.7% Complete\rProgress: |██████████████████████----------------------------| 45.7% Complete\rProgress: |██████████████████████----------------------------| 45.8% Complete\rProgress: |██████████████████████----------------------------| 45.9% Complete\rProgress: |██████████████████████----------------------------| 45.9% Complete\rProgress: |██████████████████████----------------------------| 46.0% Complete\rProgress: |███████████████████████---------------------------| 46.0% Complete\rProgress: |███████████████████████---------------------------| 46.1% Complete\rProgress: |███████████████████████---------------------------| 46.1% Complete\rProgress: |███████████████████████---------------------------| 46.2% Complete\rProgress: |███████████████████████---------------------------| 46.3% Complete\rProgress: |███████████████████████---------------------------| 46.3% Complete\rProgress: |███████████████████████---------------------------| 46.4% Complete\rProgress: |███████████████████████---------------------------| 46.4% Complete\rProgress: |███████████████████████---------------------------| 46.5% Complete\rProgress: |███████████████████████---------------------------| 46.6% Complete\rProgress: |███████████████████████---------------------------| 46.6% Complete\rProgress: |███████████████████████---------------------------| 46.7% Complete\rProgress: |███████████████████████---------------------------| 46.7% Complete\rProgress: |███████████████████████---------------------------| 46.8% Complete\rProgress: |███████████████████████---------------------------| 46.8% Complete\rProgress: |███████████████████████---------------------------| 46.9% Complete\rProgress: |███████████████████████---------------------------| 47.0% Complete\rProgress: |███████████████████████---------------------------| 47.0% Complete\rProgress: |███████████████████████---------------------------| 47.1% Complete\rProgress: |███████████████████████---------------------------| 47.1% Complete\rProgress: |███████████████████████---------------------------| 47.2% Complete\rProgress: |███████████████████████---------------------------| 47.3% Complete\rProgress: |███████████████████████---------------------------| 47.3% Complete\rProgress: |███████████████████████---------------------------| 47.4% Complete\rProgress: |███████████████████████---------------------------| 47.4% Complete\rProgress: |███████████████████████---------------------------| 47.5% Complete\rProgress: |███████████████████████---------------------------| 47.6% Complete\rProgress: |███████████████████████---------------------------| 47.6% Complete\rProgress: |███████████████████████---------------------------| 47.7% Complete\rProgress: |███████████████████████---------------------------| 47.7% Complete\rProgress: |███████████████████████---------------------------| 47.8% Complete\rProgress: |███████████████████████---------------------------| 47.8% Complete\rProgress: |███████████████████████---------------------------| 47.9% Complete\rProgress: |███████████████████████---------------------------| 48.0% Complete\rProgress: |████████████████████████--------------------------| 48.0% Complete\rProgress: |████████████████████████--------------------------| 48.1% Complete\rProgress: |████████████████████████--------------------------| 48.1% Complete\rProgress: |████████████████████████--------------------------| 48.2% Complete\rProgress: |████████████████████████--------------------------| 48.3% Complete\rProgress: |████████████████████████--------------------------| 48.3% Complete\rProgress: |████████████████████████--------------------------| 48.4% Complete\rProgress: |████████████████████████--------------------------| 48.4% Complete\rProgress: |████████████████████████--------------------------| 48.5% Complete\rProgress: |████████████████████████--------------------------| 48.5% Complete\rProgress: |████████████████████████--------------------------| 48.6% Complete\rProgress: |████████████████████████--------------------------| 48.7% Complete\rProgress: |████████████████████████--------------------------| 48.7% Complete\rProgress: |████████████████████████--------------------------| 48.8% Complete\rProgress: |████████████████████████--------------------------| 48.8% Complete\rProgress: |████████████████████████--------------------------| 48.9% Complete\rProgress: |████████████████████████--------------------------| 49.0% Complete\rProgress: |████████████████████████--------------------------| 49.0% Complete\rProgress: |████████████████████████--------------------------| 49.1% Complete\rProgress: |████████████████████████--------------------------| 49.1% Complete\rProgress: |████████████████████████--------------------------| 49.2% Complete\rProgress: |████████████████████████--------------------------| 49.2% Complete\rProgress: |████████████████████████--------------------------| 49.3% Complete\rProgress: |████████████████████████--------------------------| 49.4% Complete\rProgress: |████████████████████████--------------------------| 49.4% Complete\rProgress: |████████████████████████--------------------------| 49.5% Complete\rProgress: |████████████████████████--------------------------| 49.5% Complete\rProgress: |████████████████████████--------------------------| 49.6% Complete\rProgress: |████████████████████████--------------------------| 49.7% Complete\rProgress: |████████████████████████--------------------------| 49.7% Complete\rProgress: |████████████████████████--------------------------| 49.8% Complete\rProgress: |████████████████████████--------------------------| 49.8% Complete\rProgress: |████████████████████████--------------------------| 49.9% Complete\rProgress: |████████████████████████--------------------------| 49.9% Complete\rProgress: |█████████████████████████-------------------------| 50.0% Complete\rProgress: |█████████████████████████-------------------------| 50.1% Complete\rProgress: |█████████████████████████-------------------------| 50.1% Complete\rProgress: |█████████████████████████-------------------------| 50.2% Complete\rProgress: |█████████████████████████-------------------------| 50.2% Complete\rProgress: |█████████████████████████-------------------------| 50.3% Complete\rProgress: |█████████████████████████-------------------------| 50.4% Complete\rProgress: |█████████████████████████-------------------------| 50.4% Complete\rProgress: |█████████████████████████-------------------------| 50.5% Complete\rProgress: |█████████████████████████-------------------------| 50.5% Complete\rProgress: |█████████████████████████-------------------------| 50.6% Complete\rProgress: |█████████████████████████-------------------------| 50.6% Complete\rProgress: |█████████████████████████-------------------------| 50.7% Complete\rProgress: |█████████████████████████-------------------------| 50.8% Complete\rProgress: |█████████████████████████-------------------------| 50.8% Complete\rProgress: |█████████████████████████-------------------------| 50.9% Complete\rProgress: |█████████████████████████-------------------------| 50.9% Complete\rProgress: |█████████████████████████-------------------------| 51.0% Complete\rProgress: |█████████████████████████-------------------------| 51.1% Complete\rProgress: |█████████████████████████-------------------------| 51.1% Complete\rProgress: |█████████████████████████-------------------------| 51.2% Complete\rProgress: |█████████████████████████-------------------------| 51.2% Complete\rProgress: |█████████████████████████-------------------------| 51.3% Complete\rProgress: |█████████████████████████-------------------------| 51.3% Complete\rProgress: |█████████████████████████-------------------------| 51.4% Complete\rProgress: |█████████████████████████-------------------------| 51.5% Complete\rProgress: |█████████████████████████-------------------------| 51.5% Complete\rProgress: |█████████████████████████-------------------------| 51.6% Complete\rProgress: |█████████████████████████-------------------------| 51.6% Complete\rProgress: |█████████████████████████-------------------------| 51.7% Complete\rProgress: |█████████████████████████-------------------------| 51.8% Complete\rProgress: |█████████████████████████-------------------------| 51.8% Complete\rProgress: |█████████████████████████-------------------------| 51.9% Complete\rProgress: |█████████████████████████-------------------------| 51.9% Complete\rProgress: |█████████████████████████-------------------------| 52.0% Complete\rProgress: |██████████████████████████------------------------| 52.0% Complete\rProgress: |██████████████████████████------------------------| 52.1% Complete\rProgress: |██████████████████████████------------------------| 52.2% Complete\rProgress: |██████████████████████████------------------------| 52.2% Complete\rProgress: |██████████████████████████------------------------| 52.3% Complete\rProgress: |██████████████████████████------------------------| 52.3% Complete\rProgress: |██████████████████████████------------------------| 52.4% Complete\rProgress: |██████████████████████████------------------------| 52.5% Complete\rProgress: |██████████████████████████------------------------| 52.5% Complete\rProgress: |██████████████████████████------------------------| 52.6% Complete\rProgress: |██████████████████████████------------------------| 52.6% Complete\rProgress: |██████████████████████████------------------------| 52.7% Complete\rProgress: |██████████████████████████------------------------| 52.7% Complete\rProgress: |██████████████████████████------------------------| 52.8% Complete\rProgress: |██████████████████████████------------------------| 52.9% Complete\rProgress: |██████████████████████████------------------------| 52.9% Complete\rProgress: |██████████████████████████------------------------| 53.0% Complete\rProgress: |██████████████████████████------------------------| 53.0% Complete\rProgress: |██████████████████████████------------------------| 53.1% Complete\rProgress: |██████████████████████████------------------------| 53.2% Complete\rProgress: |██████████████████████████------------------------| 53.2% Complete\rProgress: |██████████████████████████------------------------| 53.3% Complete\rProgress: |██████████████████████████------------------------| 53.3% Complete\rProgress: |██████████████████████████------------------------| 53.4% Complete\rProgress: |██████████████████████████------------------------| 53.4% Complete\rProgress: |██████████████████████████------------------------| 53.5% Complete\rProgress: |██████████████████████████------------------------| 53.6% Complete\rProgress: |██████████████████████████------------------------| 53.6% Complete\rProgress: |██████████████████████████------------------------| 53.7% Complete\rProgress: |██████████████████████████------------------------| 53.7% Complete\rProgress: |██████████████████████████------------------------| 53.8% Complete\rProgress: |██████████████████████████------------------------| 53.9% Complete\rProgress: |██████████████████████████------------------------| 53.9% Complete\rProgress: |██████████████████████████------------------------| 54.0% Complete\rProgress: |███████████████████████████-----------------------| 54.0% Complete\rProgress: |███████████████████████████-----------------------| 54.1% Complete\rProgress: |███████████████████████████-----------------------| 54.1% Complete\rProgress: |███████████████████████████-----------------------| 54.2% Complete\rProgress: |███████████████████████████-----------------------| 54.3% Complete\rProgress: |███████████████████████████-----------------------| 54.3% Complete\rProgress: |███████████████████████████-----------------------| 54.4% Complete\rProgress: |███████████████████████████-----------------------| 54.4% Complete\rProgress: |███████████████████████████-----------------------| 54.5% Complete\rProgress: |███████████████████████████-----------------------| 54.6% Complete\rProgress: |███████████████████████████-----------------------| 54.6% Complete\rProgress: |███████████████████████████-----------------------| 54.7% Complete\rProgress: |███████████████████████████-----------------------| 54.7% Complete\rProgress: |███████████████████████████-----------------------| 54.8% Complete\rProgress: |███████████████████████████-----------------------| 54.8% Complete\rProgress: |███████████████████████████-----------------------| 54.9% Complete\rProgress: |███████████████████████████-----------------------| 55.0% Complete\rProgress: |███████████████████████████-----------------------| 55.0% Complete\rProgress: |███████████████████████████-----------------------| 55.1% Complete\rProgress: |███████████████████████████-----------------------| 55.1% Complete\rProgress: |███████████████████████████-----------------------| 55.2% Complete\rProgress: |███████████████████████████-----------------------| 55.3% Complete\rProgress: |███████████████████████████-----------------------| 55.3% Complete\rProgress: |███████████████████████████-----------------------| 55.4% Complete\rProgress: |███████████████████████████-----------------------| 55.4% Complete\rProgress: |███████████████████████████-----------------------| 55.5% Complete\rProgress: |███████████████████████████-----------------------| 55.5% Complete\rProgress: |███████████████████████████-----------------------| 55.6% Complete\rProgress: |███████████████████████████-----------------------| 55.7% Complete\rProgress: |███████████████████████████-----------------------| 55.7% Complete\rProgress: |███████████████████████████-----------------------| 55.8% Complete\rProgress: |███████████████████████████-----------------------| 55.8% Complete\rProgress: |███████████████████████████-----------------------| 55.9% Complete\rProgress: |███████████████████████████-----------------------| 56.0% Complete\rProgress: |████████████████████████████----------------------| 56.0% Complete\rProgress: |████████████████████████████----------------------| 56.1% Complete\rProgress: |████████████████████████████----------------------| 56.1% Complete\rProgress: |████████████████████████████----------------------| 56.2% Complete\rProgress: |████████████████████████████----------------------| 56.2% Complete\rProgress: |████████████████████████████----------------------| 56.3% Complete\rProgress: |████████████████████████████----------------------| 56.4% Complete\rProgress: |████████████████████████████----------------------| 56.4% Complete\rProgress: |████████████████████████████----------------------| 56.5% Complete\rProgress: |████████████████████████████----------------------| 56.5% Complete\rProgress: |████████████████████████████----------------------| 56.6% Complete\rProgress: |████████████████████████████----------------------| 56.7% Complete\rProgress: |████████████████████████████----------------------| 56.7% Complete\rProgress: |████████████████████████████----------------------| 56.8% Complete\rProgress: |████████████████████████████----------------------| 56.8% Complete\rProgress: |████████████████████████████----------------------| 56.9% Complete\rProgress: |████████████████████████████----------------------| 56.9% Complete\rProgress: |████████████████████████████----------------------| 57.0% Complete\rProgress: |████████████████████████████----------------------| 57.1% Complete\rProgress: |████████████████████████████----------------------| 57.1% Complete\rProgress: |████████████████████████████----------------------| 57.2% Complete\rProgress: |████████████████████████████----------------------| 57.2% Complete\rProgress: |████████████████████████████----------------------| 57.3% Complete\rProgress: |████████████████████████████----------------------| 57.4% Complete\rProgress: |████████████████████████████----------------------| 57.4% Complete\rProgress: |████████████████████████████----------------------| 57.5% Complete\rProgress: |████████████████████████████----------------------| 57.5% Complete\rProgress: |████████████████████████████----------------------| 57.6% Complete\rProgress: |████████████████████████████----------------------| 57.6% Complete\rProgress: |████████████████████████████----------------------| 57.7% Complete\rProgress: |████████████████████████████----------------------| 57.8% Complete\rProgress: |████████████████████████████----------------------| 57.8% Complete\rProgress: |████████████████████████████----------------------| 57.9% Complete\rProgress: |████████████████████████████----------------------| 57.9% Complete\rProgress: |████████████████████████████----------------------| 58.0% Complete\rProgress: |█████████████████████████████---------------------| 58.1% Complete\rProgress: |█████████████████████████████---------------------| 58.1% Complete\rProgress: |█████████████████████████████---------------------| 58.2% Complete\rProgress: |█████████████████████████████---------------------| 58.2% Complete\rProgress: |█████████████████████████████---------------------| 58.3% Complete\rProgress: |█████████████████████████████---------------------| 58.3% Complete\rProgress: |█████████████████████████████---------------------| 58.4% Complete\rProgress: |█████████████████████████████---------------------| 58.5% Complete\rProgress: |█████████████████████████████---------------------| 58.5% Complete\rProgress: |█████████████████████████████---------------------| 58.6% Complete\rProgress: |█████████████████████████████---------------------| 58.6% Complete\rProgress: |█████████████████████████████---------------------| 58.7% Complete\rProgress: |█████████████████████████████---------------------| 58.8% Complete\rProgress: |█████████████████████████████---------------------| 58.8% Complete\rProgress: |█████████████████████████████---------------------| 58.9% Complete\rProgress: |█████████████████████████████---------------------| 58.9% Complete\rProgress: |█████████████████████████████---------------------| 59.0% Complete\rProgress: |█████████████████████████████---------------------| 59.0% Complete\rProgress: |█████████████████████████████---------------------| 59.1% Complete\rProgress: |█████████████████████████████---------------------| 59.2% Complete\rProgress: |█████████████████████████████---------------------| 59.2% Complete\rProgress: |█████████████████████████████---------------------| 59.3% Complete\rProgress: |█████████████████████████████---------------------| 59.3% Complete\rProgress: |█████████████████████████████---------------------| 59.4% Complete\rProgress: |█████████████████████████████---------------------| 59.5% Complete\rProgress: |█████████████████████████████---------------------| 59.5% Complete\rProgress: |█████████████████████████████---------------------| 59.6% Complete\rProgress: |█████████████████████████████---------------------| 59.6% Complete\rProgress: |█████████████████████████████---------------------| 59.7% Complete\rProgress: |█████████████████████████████---------------------| 59.7% Complete\rProgress: |█████████████████████████████---------------------| 59.8% Complete\rProgress: |█████████████████████████████---------------------| 59.9% Complete\rProgress: |█████████████████████████████---------------------| 59.9% Complete\rProgress: |█████████████████████████████---------------------| 60.0% Complete\rProgress: |██████████████████████████████--------------------| 60.0% Complete\rProgress: |██████████████████████████████--------------------| 60.1% Complete\rProgress: |██████████████████████████████--------------------| 60.2% Complete\rProgress: |██████████████████████████████--------------------| 60.2% Complete\rProgress: |██████████████████████████████--------------------| 60.3% Complete\rProgress: |██████████████████████████████--------------------| 60.3% Complete\rProgress: |██████████████████████████████--------------------| 60.4% Complete\rProgress: |██████████████████████████████--------------------| 60.4% Complete\rProgress: |██████████████████████████████--------------------| 60.5% Complete\rProgress: |██████████████████████████████--------------------| 60.6% Complete\rProgress: |██████████████████████████████--------------------| 60.6% Complete\rProgress: |██████████████████████████████--------------------| 60.7% Complete\rProgress: |██████████████████████████████--------------------| 60.7% Complete\rProgress: |██████████████████████████████--------------------| 60.8% Complete\rProgress: |██████████████████████████████--------------------| 60.9% Complete\rProgress: |██████████████████████████████--------------------| 60.9% Complete\rProgress: |██████████████████████████████--------------------| 61.0% Complete\rProgress: |██████████████████████████████--------------------| 61.0% Complete\rProgress: |██████████████████████████████--------------------| 61.1% Complete\rProgress: |██████████████████████████████--------------------| 61.1% Complete\rProgress: |██████████████████████████████--------------------| 61.2% Complete\rProgress: |██████████████████████████████--------------------| 61.3% Complete\rProgress: |██████████████████████████████--------------------| 61.3% Complete\rProgress: |██████████████████████████████--------------------| 61.4% Complete\rProgress: |██████████████████████████████--------------------| 61.4% Complete\rProgress: |██████████████████████████████--------------------| 61.5% Complete\rProgress: |██████████████████████████████--------------------| 61.6% Complete\rProgress: |██████████████████████████████--------------------| 61.6% Complete\rProgress: |██████████████████████████████--------------------| 61.7% Complete\rProgress: |██████████████████████████████--------------------| 61.7% Complete\rProgress: |██████████████████████████████--------------------| 61.8% Complete\rProgress: |██████████████████████████████--------------------| 61.8% Complete\rProgress: |██████████████████████████████--------------------| 61.9% Complete\rProgress: |██████████████████████████████--------------------| 62.0% Complete\rProgress: |███████████████████████████████-------------------| 62.0% Complete\rProgress: |███████████████████████████████-------------------| 62.1% Complete\rProgress: |███████████████████████████████-------------------| 62.1% Complete\rProgress: |███████████████████████████████-------------------| 62.2% Complete\rProgress: |███████████████████████████████-------------------| 62.3% Complete\rProgress: |███████████████████████████████-------------------| 62.3% Complete\rProgress: |███████████████████████████████-------------------| 62.4% Complete\rProgress: |███████████████████████████████-------------------| 62.4% Complete\rProgress: |███████████████████████████████-------------------| 62.5% Complete\rProgress: |███████████████████████████████-------------------| 62.5% Complete\rProgress: |███████████████████████████████-------------------| 62.6% Complete\rProgress: |███████████████████████████████-------------------| 62.7% Complete\rProgress: |███████████████████████████████-------------------| 62.7% Complete\rProgress: |███████████████████████████████-------------------| 62.8% Complete\rProgress: |███████████████████████████████-------------------| 62.8% Complete\rProgress: |███████████████████████████████-------------------| 62.9% Complete\rProgress: |███████████████████████████████-------------------| 63.0% Complete\rProgress: |███████████████████████████████-------------------| 63.0% Complete\rProgress: |███████████████████████████████-------------------| 63.1% Complete\rProgress: |███████████████████████████████-------------------| 63.1% Complete\rProgress: |███████████████████████████████-------------------| 63.2% Complete\rProgress: |███████████████████████████████-------------------| 63.2% Complete\rProgress: |███████████████████████████████-------------------| 63.3% Complete\rProgress: |███████████████████████████████-------------------| 63.4% Complete\rProgress: |███████████████████████████████-------------------| 63.4% Complete\rProgress: |███████████████████████████████-------------------| 63.5% Complete\rProgress: |███████████████████████████████-------------------| 63.5% Complete\rProgress: |███████████████████████████████-------------------| 63.6% Complete\rProgress: |███████████████████████████████-------------------| 63.7% Complete\rProgress: |███████████████████████████████-------------------| 63.7% Complete\rProgress: |███████████████████████████████-------------------| 63.8% Complete\rProgress: |███████████████████████████████-------------------| 63.8% Complete\rProgress: |███████████████████████████████-------------------| 63.9% Complete\rProgress: |███████████████████████████████-------------------| 63.9% Complete\rProgress: |████████████████████████████████------------------| 64.0% Complete\rProgress: |████████████████████████████████------------------| 64.1% Complete\rProgress: |████████████████████████████████------------------| 64.1% Complete\rProgress: |████████████████████████████████------------------| 64.2% Complete\rProgress: |████████████████████████████████------------------| 64.2% Complete\rProgress: |████████████████████████████████------------------| 64.3% Complete\rProgress: |████████████████████████████████------------------| 64.4% Complete\rProgress: |████████████████████████████████------------------| 64.4% Complete\rProgress: |████████████████████████████████------------------| 64.5% Complete\rProgress: |████████████████████████████████------------------| 64.5% Complete\rProgress: |████████████████████████████████------------------| 64.6% Complete\rProgress: |████████████████████████████████------------------| 64.6% Complete\rProgress: |████████████████████████████████------------------| 64.7% Complete\rProgress: |████████████████████████████████------------------| 64.8% Complete\rProgress: |████████████████████████████████------------------| 64.8% Complete\rProgress: |████████████████████████████████------------------| 64.9% Complete\rProgress: |████████████████████████████████------------------| 64.9% Complete\rProgress: |████████████████████████████████------------------| 65.0% Complete\rProgress: |████████████████████████████████------------------| 65.1% Complete\rProgress: |████████████████████████████████------------------| 65.1% Complete\rProgress: |████████████████████████████████------------------| 65.2% Complete\rProgress: |████████████████████████████████------------------| 65.2% Complete\rProgress: |████████████████████████████████------------------| 65.3% Complete\rProgress: |████████████████████████████████------------------| 65.3% Complete\rProgress: |████████████████████████████████------------------| 65.4% Complete\rProgress: |████████████████████████████████------------------| 65.5% Complete\rProgress: |████████████████████████████████------------------| 65.5% Complete\rProgress: |████████████████████████████████------------------| 65.6% Complete\rProgress: |████████████████████████████████------------------| 65.6% Complete\rProgress: |████████████████████████████████------------------| 65.7% Complete\rProgress: |████████████████████████████████------------------| 65.8% Complete\rProgress: |████████████████████████████████------------------| 65.8% Complete\rProgress: |████████████████████████████████------------------| 65.9% Complete\rProgress: |████████████████████████████████------------------| 65.9% Complete\rProgress: |████████████████████████████████------------------| 66.0% Complete\rProgress: |█████████████████████████████████-----------------| 66.0% Complete\rProgress: |█████████████████████████████████-----------------| 66.1% Complete\rProgress: |█████████████████████████████████-----------------| 66.2% Complete\rProgress: |█████████████████████████████████-----------------| 66.2% Complete\rProgress: |█████████████████████████████████-----------------| 66.3% Complete\rProgress: |█████████████████████████████████-----------------| 66.3% Complete\rProgress: |█████████████████████████████████-----------------| 66.4% Complete\rProgress: |█████████████████████████████████-----------------| 66.5% Complete\rProgress: |█████████████████████████████████-----------------| 66.5% Complete\rProgress: |█████████████████████████████████-----------------| 66.6% Complete\rProgress: |█████████████████████████████████-----------------| 66.6% Complete\rProgress: |█████████████████████████████████-----------------| 66.7% Complete\rProgress: |█████████████████████████████████-----------------| 66.7% Complete\rProgress: |█████████████████████████████████-----------------| 66.8% Complete\rProgress: |█████████████████████████████████-----------------| 66.9% Complete\rProgress: |█████████████████████████████████-----------------| 66.9% Complete\rProgress: |█████████████████████████████████-----------------| 67.0% Complete\rProgress: |█████████████████████████████████-----------------| 67.0% Complete\rProgress: |█████████████████████████████████-----------------| 67.1% Complete\rProgress: |█████████████████████████████████-----------------| 67.2% Complete\rProgress: |█████████████████████████████████-----------------| 67.2% Complete\rProgress: |█████████████████████████████████-----------------| 67.3% Complete\rProgress: |█████████████████████████████████-----------------| 67.3% Complete\rProgress: |█████████████████████████████████-----------------| 67.4% Complete\rProgress: |█████████████████████████████████-----------------| 67.4% Complete\rProgress: |█████████████████████████████████-----------------| 67.5% Complete\rProgress: |█████████████████████████████████-----------------| 67.6% Complete\rProgress: |█████████████████████████████████-----------------| 67.6% Complete\rProgress: |█████████████████████████████████-----------------| 67.7% Complete\rProgress: |█████████████████████████████████-----------------| 67.7% Complete\rProgress: |█████████████████████████████████-----------------| 67.8% Complete\rProgress: |█████████████████████████████████-----------------| 67.9% Complete\rProgress: |█████████████████████████████████-----------------| 67.9% Complete\rProgress: |█████████████████████████████████-----------------| 68.0% Complete\rProgress: |██████████████████████████████████----------------| 68.0% Complete\rProgress: |██████████████████████████████████----------------| 68.1% Complete\rProgress: |██████████████████████████████████----------------| 68.1% Complete\rProgress: |██████████████████████████████████----------------| 68.2% Complete\rProgress: |██████████████████████████████████----------------| 68.3% Complete\rProgress: |██████████████████████████████████----------------| 68.3% Complete\rProgress: |██████████████████████████████████----------------| 68.4% Complete\rProgress: |██████████████████████████████████----------------| 68.4% Complete\rProgress: |██████████████████████████████████----------------| 68.5% Complete\rProgress: |██████████████████████████████████----------------| 68.6% Complete\rProgress: |██████████████████████████████████----------------| 68.6% Complete\rProgress: |██████████████████████████████████----------------| 68.7% Complete\rProgress: |██████████████████████████████████----------------| 68.7% Complete\rProgress: |██████████████████████████████████----------------| 68.8% Complete\rProgress: |██████████████████████████████████----------------| 68.8% Complete\rProgress: |██████████████████████████████████----------------| 68.9% Complete\rProgress: |██████████████████████████████████----------------| 69.0% Complete\rProgress: |██████████████████████████████████----------------| 69.0% Complete\rProgress: |██████████████████████████████████----------------| 69.1% Complete\rProgress: |██████████████████████████████████----------------| 69.1% Complete\rProgress: |██████████████████████████████████----------------| 69.2% Complete\rProgress: |██████████████████████████████████----------------| 69.3% Complete\rProgress: |██████████████████████████████████----------------| 69.3% Complete\rProgress: |██████████████████████████████████----------------| 69.4% Complete\rProgress: |██████████████████████████████████----------------| 69.4% Complete\rProgress: |██████████████████████████████████----------------| 69.5% Complete\rProgress: |██████████████████████████████████----------------| 69.5% Complete\rProgress: |██████████████████████████████████----------------| 69.6% Complete\rProgress: |██████████████████████████████████----------------| 69.7% Complete\rProgress: |██████████████████████████████████----------------| 69.7% Complete\rProgress: |██████████████████████████████████----------------| 69.8% Complete\rProgress: |██████████████████████████████████----------------| 69.8% Complete\rProgress: |██████████████████████████████████----------------| 69.9% Complete\rProgress: |██████████████████████████████████----------------| 70.0% Complete\rProgress: |███████████████████████████████████---------------| 70.0% Complete\rProgress: |███████████████████████████████████---------------| 70.1% Complete\rProgress: |███████████████████████████████████---------------| 70.1% Complete\rProgress: |███████████████████████████████████---------------| 70.2% Complete\rProgress: |███████████████████████████████████---------------| 70.2% Complete\rProgress: |███████████████████████████████████---------------| 70.3% Complete\rProgress: |███████████████████████████████████---------------| 70.4% Complete\rProgress: |███████████████████████████████████---------------| 70.4% Complete\rProgress: |███████████████████████████████████---------------| 70.5% Complete\rProgress: |███████████████████████████████████---------------| 70.5% Complete\rProgress: |███████████████████████████████████---------------| 70.6% Complete\rProgress: |███████████████████████████████████---------------| 70.7% Complete\rProgress: |███████████████████████████████████---------------| 70.7% Complete\rProgress: |███████████████████████████████████---------------| 70.8% Complete\rProgress: |███████████████████████████████████---------------| 70.8% Complete\rProgress: |███████████████████████████████████---------------| 70.9% Complete\rProgress: |███████████████████████████████████---------------| 70.9% Complete\rProgress: |███████████████████████████████████---------------| 71.0% Complete\rProgress: |███████████████████████████████████---------------| 71.1% Complete\rProgress: |███████████████████████████████████---------------| 71.1% Complete\rProgress: |███████████████████████████████████---------------| 71.2% Complete\rProgress: |███████████████████████████████████---------------| 71.2% Complete\rProgress: |███████████████████████████████████---------------| 71.3% Complete\rProgress: |███████████████████████████████████---------------| 71.4% Complete\rProgress: |███████████████████████████████████---------------| 71.4% Complete\rProgress: |███████████████████████████████████---------------| 71.5% Complete\rProgress: |███████████████████████████████████---------------| 71.5% Complete\rProgress: |███████████████████████████████████---------------| 71.6% Complete\rProgress: |███████████████████████████████████---------------| 71.6% Complete\rProgress: |███████████████████████████████████---------------| 71.7% Complete\rProgress: |███████████████████████████████████---------------| 71.8% Complete\rProgress: |███████████████████████████████████---------------| 71.8% Complete\rProgress: |███████████████████████████████████---------------| 71.9% Complete\rProgress: |███████████████████████████████████---------------| 71.9% Complete\rProgress: |███████████████████████████████████---------------| 72.0% Complete\rProgress: |████████████████████████████████████--------------| 72.1% Complete\rProgress: |████████████████████████████████████--------------| 72.1% Complete\rProgress: |████████████████████████████████████--------------| 72.2% Complete\rProgress: |████████████████████████████████████--------------| 72.2% Complete\rProgress: |████████████████████████████████████--------------| 72.3% Complete\rProgress: |████████████████████████████████████--------------| 72.3% Complete\rProgress: |████████████████████████████████████--------------| 72.4% Complete\rProgress: |████████████████████████████████████--------------| 72.5% Complete\rProgress: |████████████████████████████████████--------------| 72.5% Complete\rProgress: |████████████████████████████████████--------------| 72.6% Complete\rProgress: |████████████████████████████████████--------------| 72.6% Complete\rProgress: |████████████████████████████████████--------------| 72.7% Complete\rProgress: |████████████████████████████████████--------------| 72.8% Complete\rProgress: |████████████████████████████████████--------------| 72.8% Complete\rProgress: |████████████████████████████████████--------------| 72.9% Complete\rProgress: |████████████████████████████████████--------------| 72.9% Complete\rProgress: |████████████████████████████████████--------------| 73.0% Complete\rProgress: |████████████████████████████████████--------------| 73.0% Complete\rProgress: |████████████████████████████████████--------------| 73.1% Complete\rProgress: |████████████████████████████████████--------------| 73.2% Complete\rProgress: |████████████████████████████████████--------------| 73.2% Complete\rProgress: |████████████████████████████████████--------------| 73.3% Complete\rProgress: |████████████████████████████████████--------------| 73.3% Complete\rProgress: |████████████████████████████████████--------------| 73.4% Complete\rProgress: |████████████████████████████████████--------------| 73.5% Complete\rProgress: |████████████████████████████████████--------------| 73.5% Complete\rProgress: |████████████████████████████████████--------------| 73.6% Complete\rProgress: |████████████████████████████████████--------------| 73.6% Complete\rProgress: |████████████████████████████████████--------------| 73.7% Complete\rProgress: |████████████████████████████████████--------------| 73.7% Complete\rProgress: |████████████████████████████████████--------------| 73.8% Complete\rProgress: |████████████████████████████████████--------------| 73.9% Complete\rProgress: |████████████████████████████████████--------------| 73.9% Complete\rProgress: |████████████████████████████████████--------------| 74.0% Complete\rProgress: |█████████████████████████████████████-------------| 74.0% Complete\rProgress: |█████████████████████████████████████-------------| 74.1% Complete\rProgress: |█████████████████████████████████████-------------| 74.2% Complete\rProgress: |█████████████████████████████████████-------------| 74.2% Complete\rProgress: |█████████████████████████████████████-------------| 74.3% Complete\rProgress: |█████████████████████████████████████-------------| 74.3% Complete\rProgress: |█████████████████████████████████████-------------| 74.4% Complete\rProgress: |█████████████████████████████████████-------------| 74.4% Complete\rProgress: |█████████████████████████████████████-------------| 74.5% Complete\rProgress: |█████████████████████████████████████-------------| 74.6% Complete\rProgress: |█████████████████████████████████████-------------| 74.6% Complete\rProgress: |█████████████████████████████████████-------------| 74.7% Complete\rProgress: |█████████████████████████████████████-------------| 74.7% Complete\rProgress: |█████████████████████████████████████-------------| 74.8% Complete\rProgress: |█████████████████████████████████████-------------| 74.9% Complete\rProgress: |█████████████████████████████████████-------------| 74.9% Complete\rProgress: |█████████████████████████████████████-------------| 75.0% Complete\rProgress: |█████████████████████████████████████-------------| 75.0% Complete\rProgress: |█████████████████████████████████████-------------| 75.1% Complete\rProgress: |█████████████████████████████████████-------------| 75.1% Complete\rProgress: |█████████████████████████████████████-------------| 75.2% Complete\rProgress: |█████████████████████████████████████-------------| 75.3% Complete\rProgress: |█████████████████████████████████████-------------| 75.3% Complete\rProgress: |█████████████████████████████████████-------------| 75.4% Complete\rProgress: |█████████████████████████████████████-------------| 75.4% Complete\rProgress: |█████████████████████████████████████-------------| 75.5% Complete\rProgress: |█████████████████████████████████████-------------| 75.6% Complete\rProgress: |█████████████████████████████████████-------------| 75.6% Complete\rProgress: |█████████████████████████████████████-------------| 75.7% Complete\rProgress: |█████████████████████████████████████-------------| 75.7% Complete\rProgress: |█████████████████████████████████████-------------| 75.8% Complete\rProgress: |█████████████████████████████████████-------------| 75.8% Complete\rProgress: |█████████████████████████████████████-------------| 75.9% Complete\rProgress: |█████████████████████████████████████-------------| 76.0% Complete\rProgress: |██████████████████████████████████████------------| 76.0% Complete\rProgress: |██████████████████████████████████████------------| 76.1% Complete\rProgress: |██████████████████████████████████████------------| 76.1% Complete\rProgress: |██████████████████████████████████████------------| 76.2% Complete\rProgress: |██████████████████████████████████████------------| 76.3% Complete\rProgress: |██████████████████████████████████████------------| 76.3% Complete\rProgress: |██████████████████████████████████████------------| 76.4% Complete\rProgress: |██████████████████████████████████████------------| 76.4% Complete\rProgress: |██████████████████████████████████████------------| 76.5% Complete\rProgress: |██████████████████████████████████████------------| 76.5% Complete\rProgress: |██████████████████████████████████████------------| 76.6% Complete\rProgress: |██████████████████████████████████████------------| 76.7% Complete\rProgress: |██████████████████████████████████████------------| 76.7% Complete\rProgress: |██████████████████████████████████████------------| 76.8% Complete\rProgress: |██████████████████████████████████████------------| 76.8% Complete\rProgress: |██████████████████████████████████████------------| 76.9% Complete\rProgress: |██████████████████████████████████████------------| 77.0% Complete\rProgress: |██████████████████████████████████████------------| 77.0% Complete\rProgress: |██████████████████████████████████████------------| 77.1% Complete\rProgress: |██████████████████████████████████████------------| 77.1% Complete\rProgress: |██████████████████████████████████████------------| 77.2% Complete\rProgress: |██████████████████████████████████████------------| 77.2% Complete\rProgress: |██████████████████████████████████████------------| 77.3% Complete\rProgress: |██████████████████████████████████████------------| 77.4% Complete\rProgress: |██████████████████████████████████████------------| 77.4% Complete\rProgress: |██████████████████████████████████████------------| 77.5% Complete\rProgress: |██████████████████████████████████████------------| 77.5% Complete\rProgress: |██████████████████████████████████████------------| 77.6% Complete\rProgress: |██████████████████████████████████████------------| 77.7% Complete\rProgress: |██████████████████████████████████████------------| 77.7% Complete\rProgress: |██████████████████████████████████████------------| 77.8% Complete\rProgress: |██████████████████████████████████████------------| 77.8% Complete\rProgress: |██████████████████████████████████████------------| 77.9% Complete\rProgress: |██████████████████████████████████████------------| 77.9% Complete\rProgress: |███████████████████████████████████████-----------| 78.0% Complete\rProgress: |███████████████████████████████████████-----------| 78.1% Complete\rProgress: |███████████████████████████████████████-----------| 78.1% Complete\rProgress: |███████████████████████████████████████-----------| 78.2% Complete\rProgress: |███████████████████████████████████████-----------| 78.2% Complete\rProgress: |███████████████████████████████████████-----------| 78.3% Complete\rProgress: |███████████████████████████████████████-----------| 78.4% Complete\rProgress: |███████████████████████████████████████-----------| 78.4% Complete\rProgress: |███████████████████████████████████████-----------| 78.5% Complete\rProgress: |███████████████████████████████████████-----------| 78.5% Complete\rProgress: |███████████████████████████████████████-----------| 78.6% Complete\rProgress: |███████████████████████████████████████-----------| 78.6% Complete\rProgress: |███████████████████████████████████████-----------| 78.7% Complete\rProgress: |███████████████████████████████████████-----------| 78.8% Complete\rProgress: |███████████████████████████████████████-----------| 78.8% Complete\rProgress: |███████████████████████████████████████-----------| 78.9% Complete\rProgress: |███████████████████████████████████████-----------| 78.9% Complete\rProgress: |███████████████████████████████████████-----------| 79.0% Complete\rProgress: |███████████████████████████████████████-----------| 79.1% Complete\rProgress: |███████████████████████████████████████-----------| 79.1% Complete\rProgress: |███████████████████████████████████████-----------| 79.2% Complete\rProgress: |███████████████████████████████████████-----------| 79.2% Complete\rProgress: |███████████████████████████████████████-----------| 79.3% Complete\rProgress: |███████████████████████████████████████-----------| 79.3% Complete\rProgress: |███████████████████████████████████████-----------| 79.4% Complete\rProgress: |███████████████████████████████████████-----------| 79.5% Complete\rProgress: |███████████████████████████████████████-----------| 79.5% Complete\rProgress: |███████████████████████████████████████-----------| 79.6% Complete\rProgress: |███████████████████████████████████████-----------| 79.6% Complete\rProgress: |███████████████████████████████████████-----------| 79.7% Complete\rProgress: |███████████████████████████████████████-----------| 79.8% Complete\rProgress: |███████████████████████████████████████-----------| 79.8% Complete\rProgress: |███████████████████████████████████████-----------| 79.9% Complete\rProgress: |███████████████████████████████████████-----------| 79.9% Complete\rProgress: |███████████████████████████████████████-----------| 80.0% Complete\rProgress: |████████████████████████████████████████----------| 80.0% Complete\rProgress: |████████████████████████████████████████----------| 80.1% Complete\rProgress: |████████████████████████████████████████----------| 80.2% Complete\rProgress: |████████████████████████████████████████----------| 80.2% Complete\rProgress: |████████████████████████████████████████----------| 80.3% Complete\rProgress: |████████████████████████████████████████----------| 80.3% Complete\rProgress: |████████████████████████████████████████----------| 80.4% Complete\rProgress: |████████████████████████████████████████----------| 80.5% Complete\rProgress: |████████████████████████████████████████----------| 80.5% Complete\rProgress: |████████████████████████████████████████----------| 80.6% Complete\rProgress: |████████████████████████████████████████----------| 80.6% Complete\rProgress: |████████████████████████████████████████----------| 80.7% Complete\rProgress: |████████████████████████████████████████----------| 80.7% Complete\rProgress: |████████████████████████████████████████----------| 80.8% Complete\rProgress: |████████████████████████████████████████----------| 80.9% Complete\rProgress: |████████████████████████████████████████----------| 80.9% Complete\rProgress: |████████████████████████████████████████----------| 81.0% Complete\rProgress: |████████████████████████████████████████----------| 81.0% Complete\rProgress: |████████████████████████████████████████----------| 81.1% Complete\rProgress: |████████████████████████████████████████----------| 81.2% Complete\rProgress: |████████████████████████████████████████----------| 81.2% Complete\rProgress: |████████████████████████████████████████----------| 81.3% Complete\rProgress: |████████████████████████████████████████----------| 81.3% Complete\rProgress: |████████████████████████████████████████----------| 81.4% Complete\rProgress: |████████████████████████████████████████----------| 81.4% Complete\rProgress: |████████████████████████████████████████----------| 81.5% Complete\rProgress: |████████████████████████████████████████----------| 81.6% Complete\rProgress: |████████████████████████████████████████----------| 81.6% Complete\rProgress: |████████████████████████████████████████----------| 81.7% Complete\rProgress: |████████████████████████████████████████----------| 81.7% Complete\rProgress: |████████████████████████████████████████----------| 81.8% Complete\rProgress: |████████████████████████████████████████----------| 81.9% Complete\rProgress: |████████████████████████████████████████----------| 81.9% Complete\rProgress: |████████████████████████████████████████----------| 82.0% Complete\rProgress: |█████████████████████████████████████████---------| 82.0% Complete\rProgress: |█████████████████████████████████████████---------| 82.1% Complete\rProgress: |█████████████████████████████████████████---------| 82.1% Complete\rProgress: |█████████████████████████████████████████---------| 82.2% Complete\rProgress: |█████████████████████████████████████████---------| 82.3% Complete\rProgress: |█████████████████████████████████████████---------| 82.3% Complete\rProgress: |█████████████████████████████████████████---------| 82.4% Complete\rProgress: |█████████████████████████████████████████---------| 82.4% Complete\rProgress: |█████████████████████████████████████████---------| 82.5% Complete\rProgress: |█████████████████████████████████████████---------| 82.6% Complete\rProgress: |█████████████████████████████████████████---------| 82.6% Complete\rProgress: |█████████████████████████████████████████---------| 82.7% Complete\rProgress: |█████████████████████████████████████████---------| 82.7% Complete\rProgress: |█████████████████████████████████████████---------| 82.8% Complete\rProgress: |█████████████████████████████████████████---------| 82.8% Complete\rProgress: |█████████████████████████████████████████---------| 82.9% Complete\rProgress: |█████████████████████████████████████████---------| 83.0% Complete\rProgress: |█████████████████████████████████████████---------| 83.0% Complete\rProgress: |█████████████████████████████████████████---------| 83.1% Complete\rProgress: |█████████████████████████████████████████---------| 83.1% Complete\rProgress: |█████████████████████████████████████████---------| 83.2% Complete\rProgress: |█████████████████████████████████████████---------| 83.3% Complete\rProgress: |█████████████████████████████████████████---------| 83.3% Complete\rProgress: |█████████████████████████████████████████---------| 83.4% Complete\rProgress: |█████████████████████████████████████████---------| 83.4% Complete\rProgress: |█████████████████████████████████████████---------| 83.5% Complete\rProgress: |█████████████████████████████████████████---------| 83.5% Complete\rProgress: |█████████████████████████████████████████---------| 83.6% Complete\rProgress: |█████████████████████████████████████████---------| 83.7% Complete\rProgress: |█████████████████████████████████████████---------| 83.7% Complete\rProgress: |█████████████████████████████████████████---------| 83.8% Complete\rProgress: |█████████████████████████████████████████---------| 83.8% Complete\rProgress: |█████████████████████████████████████████---------| 83.9% Complete\rProgress: |█████████████████████████████████████████---------| 84.0% Complete\rProgress: |██████████████████████████████████████████--------| 84.0% Complete\rProgress: |██████████████████████████████████████████--------| 84.1% Complete\rProgress: |██████████████████████████████████████████--------| 84.1% Complete\rProgress: |██████████████████████████████████████████--------| 84.2% Complete\rProgress: |██████████████████████████████████████████--------| 84.2% Complete\rProgress: |██████████████████████████████████████████--------| 84.3% Complete\rProgress: |██████████████████████████████████████████--------| 84.4% Complete\rProgress: |██████████████████████████████████████████--------| 84.4% Complete\rProgress: |██████████████████████████████████████████--------| 84.5% Complete\rProgress: |██████████████████████████████████████████--------| 84.5% Complete\rProgress: |██████████████████████████████████████████--------| 84.6% Complete\rProgress: |██████████████████████████████████████████--------| 84.7% Complete\rProgress: |██████████████████████████████████████████--------| 84.7% Complete\rProgress: |██████████████████████████████████████████--------| 84.8% Complete\rProgress: |██████████████████████████████████████████--------| 84.8% Complete\rProgress: |██████████████████████████████████████████--------| 84.9% Complete\rProgress: |██████████████████████████████████████████--------| 84.9% Complete\rProgress: |██████████████████████████████████████████--------| 85.0% Complete\rProgress: |██████████████████████████████████████████--------| 85.1% Complete\rProgress: |██████████████████████████████████████████--------| 85.1% Complete\rProgress: |██████████████████████████████████████████--------| 85.2% Complete\rProgress: |██████████████████████████████████████████--------| 85.2% Complete\rProgress: |██████████████████████████████████████████--------| 85.3% Complete\rProgress: |██████████████████████████████████████████--------| 85.4% Complete\rProgress: |██████████████████████████████████████████--------| 85.4% Complete\rProgress: |██████████████████████████████████████████--------| 85.5% Complete\rProgress: |██████████████████████████████████████████--------| 85.5% Complete\rProgress: |██████████████████████████████████████████--------| 85.6% Complete\rProgress: |██████████████████████████████████████████--------| 85.6% Complete\rProgress: |██████████████████████████████████████████--------| 85.7% Complete\rProgress: |██████████████████████████████████████████--------| 85.8% Complete\rProgress: |██████████████████████████████████████████--------| 85.8% Complete\rProgress: |██████████████████████████████████████████--------| 85.9% Complete\rProgress: |██████████████████████████████████████████--------| 85.9% Complete\rProgress: |██████████████████████████████████████████--------| 86.0% Complete\rProgress: |███████████████████████████████████████████-------| 86.1% Complete\rProgress: |███████████████████████████████████████████-------| 86.1% Complete\rProgress: |███████████████████████████████████████████-------| 86.2% Complete\rProgress: |███████████████████████████████████████████-------| 86.2% Complete\rProgress: |███████████████████████████████████████████-------| 86.3% Complete\rProgress: |███████████████████████████████████████████-------| 86.3% Complete\rProgress: |███████████████████████████████████████████-------| 86.4% Complete\rProgress: |███████████████████████████████████████████-------| 86.5% Complete\rProgress: |███████████████████████████████████████████-------| 86.5% Complete\rProgress: |███████████████████████████████████████████-------| 86.6% Complete\rProgress: |███████████████████████████████████████████-------| 86.6% Complete\rProgress: |███████████████████████████████████████████-------| 86.7% Complete\rProgress: |███████████████████████████████████████████-------| 86.8% Complete\rProgress: |███████████████████████████████████████████-------| 86.8% Complete\rProgress: |███████████████████████████████████████████-------| 86.9% Complete\rProgress: |███████████████████████████████████████████-------| 86.9% Complete\rProgress: |███████████████████████████████████████████-------| 87.0% Complete\rProgress: |███████████████████████████████████████████-------| 87.0% Complete\rProgress: |███████████████████████████████████████████-------| 87.1% Complete\rProgress: |███████████████████████████████████████████-------| 87.2% Complete\rProgress: |███████████████████████████████████████████-------| 87.2% Complete\rProgress: |███████████████████████████████████████████-------| 87.3% Complete\rProgress: |███████████████████████████████████████████-------| 87.3% Complete\rProgress: |███████████████████████████████████████████-------| 87.4% Complete\rProgress: |███████████████████████████████████████████-------| 87.5% Complete\rProgress: |███████████████████████████████████████████-------| 87.5% Complete\rProgress: |███████████████████████████████████████████-------| 87.6% Complete\rProgress: |███████████████████████████████████████████-------| 87.6% Complete\rProgress: |███████████████████████████████████████████-------| 87.7% Complete\rProgress: |███████████████████████████████████████████-------| 87.7% Complete\rProgress: |███████████████████████████████████████████-------| 87.8% Complete\rProgress: |███████████████████████████████████████████-------| 87.9% Complete\rProgress: |███████████████████████████████████████████-------| 87.9% Complete\rProgress: |███████████████████████████████████████████-------| 88.0% Complete\rProgress: |████████████████████████████████████████████------| 88.0% Complete\rProgress: |████████████████████████████████████████████------| 88.1% Complete\rProgress: |████████████████████████████████████████████------| 88.2% Complete\rProgress: |████████████████████████████████████████████------| 88.2% Complete\rProgress: |████████████████████████████████████████████------| 88.3% Complete\rProgress: |████████████████████████████████████████████------| 88.3% Complete\rProgress: |████████████████████████████████████████████------| 88.4% Complete\rProgress: |████████████████████████████████████████████------| 88.4% Complete\rProgress: |████████████████████████████████████████████------| 88.5% Complete\rProgress: |████████████████████████████████████████████------| 88.6% Complete\rProgress: |████████████████████████████████████████████------| 88.6% Complete\rProgress: |████████████████████████████████████████████------| 88.7% Complete\rProgress: |████████████████████████████████████████████------| 88.7% Complete\rProgress: |████████████████████████████████████████████------| 88.8% Complete\rProgress: |████████████████████████████████████████████------| 88.9% Complete\rProgress: |████████████████████████████████████████████------| 88.9% Complete\rProgress: |████████████████████████████████████████████------| 89.0% Complete\rProgress: |████████████████████████████████████████████------| 89.0% Complete\rProgress: |████████████████████████████████████████████------| 89.1% Complete\rProgress: |████████████████████████████████████████████------| 89.1% Complete\rProgress: |████████████████████████████████████████████------| 89.2% Complete\rProgress: |████████████████████████████████████████████------| 89.3% Complete\rProgress: |████████████████████████████████████████████------| 89.3% Complete\rProgress: |████████████████████████████████████████████------| 89.4% Complete\rProgress: |████████████████████████████████████████████------| 89.4% Complete\rProgress: |████████████████████████████████████████████------| 89.5% Complete\rProgress: |████████████████████████████████████████████------| 89.6% Complete\rProgress: |████████████████████████████████████████████------| 89.6% Complete\rProgress: |████████████████████████████████████████████------| 89.7% Complete\rProgress: |████████████████████████████████████████████------| 89.7% Complete\rProgress: |████████████████████████████████████████████------| 89.8% Complete\rProgress: |████████████████████████████████████████████------| 89.8% Complete\rProgress: |████████████████████████████████████████████------| 89.9% Complete\rProgress: |████████████████████████████████████████████------| 90.0% Complete\rProgress: |█████████████████████████████████████████████-----| 90.0% Complete\rProgress: |█████████████████████████████████████████████-----| 90.1% Complete\rProgress: |█████████████████████████████████████████████-----| 90.1% Complete\rProgress: |█████████████████████████████████████████████-----| 90.2% Complete\rProgress: |█████████████████████████████████████████████-----| 90.3% Complete\rProgress: |█████████████████████████████████████████████-----| 90.3% Complete\rProgress: |█████████████████████████████████████████████-----| 90.4% Complete\rProgress: |█████████████████████████████████████████████-----| 90.4% Complete\rProgress: |█████████████████████████████████████████████-----| 90.5% Complete\rProgress: |█████████████████████████████████████████████-----| 90.5% Complete\rProgress: |█████████████████████████████████████████████-----| 90.6% Complete\rProgress: |█████████████████████████████████████████████-----| 90.7% Complete\rProgress: |█████████████████████████████████████████████-----| 90.7% Complete\rProgress: |█████████████████████████████████████████████-----| 90.8% Complete\rProgress: |█████████████████████████████████████████████-----| 90.8% Complete\rProgress: |█████████████████████████████████████████████-----| 90.9% Complete\rProgress: |█████████████████████████████████████████████-----| 91.0% Complete\rProgress: |█████████████████████████████████████████████-----| 91.0% Complete\rProgress: |█████████████████████████████████████████████-----| 91.1% Complete\rProgress: |█████████████████████████████████████████████-----| 91.1% Complete\rProgress: |█████████████████████████████████████████████-----| 91.2% Complete\rProgress: |█████████████████████████████████████████████-----| 91.2% Complete\rProgress: |█████████████████████████████████████████████-----| 91.3% Complete\rProgress: |█████████████████████████████████████████████-----| 91.4% Complete\rProgress: |█████████████████████████████████████████████-----| 91.4% Complete\rProgress: |█████████████████████████████████████████████-----| 91.5% Complete\rProgress: |█████████████████████████████████████████████-----| 91.5% Complete\rProgress: |█████████████████████████████████████████████-----| 91.6% Complete\rProgress: |█████████████████████████████████████████████-----| 91.7% Complete\rProgress: |█████████████████████████████████████████████-----| 91.7% Complete\rProgress: |█████████████████████████████████████████████-----| 91.8% Complete\rProgress: |█████████████████████████████████████████████-----| 91.8% Complete\rProgress: |█████████████████████████████████████████████-----| 91.9% Complete\rProgress: |█████████████████████████████████████████████-----| 91.9% Complete\rProgress: |██████████████████████████████████████████████----| 92.0% Complete\rProgress: |██████████████████████████████████████████████----| 92.1% Complete\rProgress: |██████████████████████████████████████████████----| 92.1% Complete\rProgress: |██████████████████████████████████████████████----| 92.2% Complete\rProgress: |██████████████████████████████████████████████----| 92.2% Complete\rProgress: |██████████████████████████████████████████████----| 92.3% Complete\rProgress: |██████████████████████████████████████████████----| 92.4% Complete\rProgress: |██████████████████████████████████████████████----| 92.4% Complete\rProgress: |██████████████████████████████████████████████----| 92.5% Complete\rProgress: |██████████████████████████████████████████████----| 92.5% Complete\rProgress: |██████████████████████████████████████████████----| 92.6% Complete\rProgress: |██████████████████████████████████████████████----| 92.6% Complete\rProgress: |██████████████████████████████████████████████----| 92.7% Complete\rProgress: |██████████████████████████████████████████████----| 92.8% Complete\rProgress: |██████████████████████████████████████████████----| 92.8% Complete\rProgress: |██████████████████████████████████████████████----| 92.9% Complete\rProgress: |██████████████████████████████████████████████----| 92.9% Complete\rProgress: |██████████████████████████████████████████████----| 93.0% Complete\rProgress: |██████████████████████████████████████████████----| 93.1% Complete\rProgress: |██████████████████████████████████████████████----| 93.1% Complete\rProgress: |██████████████████████████████████████████████----| 93.2% Complete\rProgress: |██████████████████████████████████████████████----| 93.2% Complete\rProgress: |██████████████████████████████████████████████----| 93.3% Complete\rProgress: |██████████████████████████████████████████████----| 93.3% Complete\rProgress: |██████████████████████████████████████████████----| 93.4% Complete\rProgress: |██████████████████████████████████████████████----| 93.5% Complete\rProgress: |██████████████████████████████████████████████----| 93.5% Complete\rProgress: |██████████████████████████████████████████████----| 93.6% Complete\rProgress: |██████████████████████████████████████████████----| 93.6% Complete\rProgress: |██████████████████████████████████████████████----| 93.7% Complete\rProgress: |██████████████████████████████████████████████----| 93.8% Complete\rProgress: |██████████████████████████████████████████████----| 93.8% Complete\rProgress: |██████████████████████████████████████████████----| 93.9% Complete\rProgress: |██████████████████████████████████████████████----| 93.9% Complete\rProgress: |██████████████████████████████████████████████----| 94.0% Complete\rProgress: |███████████████████████████████████████████████---| 94.0% Complete\rProgress: |███████████████████████████████████████████████---| 94.1% Complete\rProgress: |███████████████████████████████████████████████---| 94.2% Complete\rProgress: |███████████████████████████████████████████████---| 94.2% Complete\rProgress: |███████████████████████████████████████████████---| 94.3% Complete\rProgress: |███████████████████████████████████████████████---| 94.3% Complete\rProgress: |███████████████████████████████████████████████---| 94.4% Complete\rProgress: |███████████████████████████████████████████████---| 94.5% Complete\rProgress: |███████████████████████████████████████████████---| 94.5% Complete\rProgress: |███████████████████████████████████████████████---| 94.6% Complete\rProgress: |███████████████████████████████████████████████---| 94.6% Complete\rProgress: |███████████████████████████████████████████████---| 94.7% Complete\rProgress: |███████████████████████████████████████████████---| 94.8% Complete\rProgress: |███████████████████████████████████████████████---| 94.8% Complete\rProgress: |███████████████████████████████████████████████---| 94.9% Complete\rProgress: |███████████████████████████████████████████████---| 94.9% Complete\rProgress: |███████████████████████████████████████████████---| 95.0% Complete\rProgress: |███████████████████████████████████████████████---| 95.0% Complete\rProgress: |███████████████████████████████████████████████---| 95.1% Complete\rProgress: |███████████████████████████████████████████████---| 95.2% Complete\rProgress: |███████████████████████████████████████████████---| 95.2% Complete\rProgress: |███████████████████████████████████████████████---| 95.3% Complete\rProgress: |███████████████████████████████████████████████---| 95.3% Complete\rProgress: |███████████████████████████████████████████████---| 95.4% Complete\rProgress: |███████████████████████████████████████████████---| 95.5% Complete\rProgress: |███████████████████████████████████████████████---| 95.5% Complete\rProgress: |███████████████████████████████████████████████---| 95.6% Complete\rProgress: |███████████████████████████████████████████████---| 95.6% Complete\rProgress: |███████████████████████████████████████████████---| 95.7% Complete\rProgress: |███████████████████████████████████████████████---| 95.7% Complete\rProgress: |███████████████████████████████████████████████---| 95.8% Complete\rProgress: |███████████████████████████████████████████████---| 95.9% Complete\rProgress: |███████████████████████████████████████████████---| 95.9% Complete\rProgress: |███████████████████████████████████████████████---| 96.0% Complete\rProgress: |████████████████████████████████████████████████--| 96.0% Complete\rProgress: |████████████████████████████████████████████████--| 96.1% Complete\rProgress: |████████████████████████████████████████████████--| 96.2% Complete\rProgress: |████████████████████████████████████████████████--| 96.2% Complete\rProgress: |████████████████████████████████████████████████--| 96.3% Complete\rProgress: |████████████████████████████████████████████████--| 96.3% Complete\rProgress: |████████████████████████████████████████████████--| 96.4% Complete\rProgress: |████████████████████████████████████████████████--| 96.4% Complete\rProgress: |████████████████████████████████████████████████--| 96.5% Complete\rProgress: |████████████████████████████████████████████████--| 96.6% Complete\rProgress: |████████████████████████████████████████████████--| 96.6% Complete\rProgress: |████████████████████████████████████████████████--| 96.7% Complete\rProgress: |████████████████████████████████████████████████--| 96.7% Complete\rProgress: |████████████████████████████████████████████████--| 96.8% Complete\rProgress: |████████████████████████████████████████████████--| 96.9% Complete\rProgress: |████████████████████████████████████████████████--| 96.9% Complete\rProgress: |████████████████████████████████████████████████--| 97.0% Complete\rProgress: |████████████████████████████████████████████████--| 97.0% Complete\rProgress: |████████████████████████████████████████████████--| 97.1% Complete\rProgress: |████████████████████████████████████████████████--| 97.1% Complete\rProgress: |████████████████████████████████████████████████--| 97.2% Complete\rProgress: |████████████████████████████████████████████████--| 97.3% Complete\rProgress: |████████████████████████████████████████████████--| 97.3% Complete\rProgress: |████████████████████████████████████████████████--| 97.4% Complete\rProgress: |████████████████████████████████████████████████--| 97.4% Complete\rProgress: |████████████████████████████████████████████████--| 97.5% Complete\rProgress: |████████████████████████████████████████████████--| 97.6% Complete\rProgress: |████████████████████████████████████████████████--| 97.6% Complete\rProgress: |████████████████████████████████████████████████--| 97.7% Complete\rProgress: |████████████████████████████████████████████████--| 97.7% Complete\rProgress: |████████████████████████████████████████████████--| 97.8% Complete\rProgress: |████████████████████████████████████████████████--| 97.8% Complete\rProgress: |████████████████████████████████████████████████--| 97.9% Complete\rProgress: |████████████████████████████████████████████████--| 98.0% Complete\rProgress: |█████████████████████████████████████████████████-| 98.0% Complete\rProgress: |█████████████████████████████████████████████████-| 98.1% Complete\rProgress: |█████████████████████████████████████████████████-| 98.1% Complete\rProgress: |█████████████████████████████████████████████████-| 98.2% Complete\rProgress: |█████████████████████████████████████████████████-| 98.3% Complete\rProgress: |█████████████████████████████████████████████████-| 98.3% Complete\rProgress: |█████████████████████████████████████████████████-| 98.4% Complete\rProgress: |█████████████████████████████████████████████████-| 98.4% Complete\rProgress: |█████████████████████████████████████████████████-| 98.5% Complete\rProgress: |█████████████████████████████████████████████████-| 98.5% Complete\rProgress: |█████████████████████████████████████████████████-| 98.6% Complete\rProgress: |█████████████████████████████████████████████████-| 98.7% Complete\rProgress: |█████████████████████████████████████████████████-| 98.7% Complete\rProgress: |█████████████████████████████████████████████████-| 98.8% Complete\rProgress: |█████████████████████████████████████████████████-| 98.8% Complete\rProgress: |█████████████████████████████████████████████████-| 98.9% Complete\rProgress: |█████████████████████████████████████████████████-| 99.0% Complete\rProgress: |█████████████████████████████████████████████████-| 99.0% Complete\rProgress: |█████████████████████████████████████████████████-| 99.1% Complete\rProgress: |█████████████████████████████████████████████████-| 99.1% Complete\rProgress: |█████████████████████████████████████████████████-| 99.2% Complete\rProgress: |█████████████████████████████████████████████████-| 99.2% Complete\rProgress: |█████████████████████████████████████████████████-| 99.3% Complete\rProgress: |█████████████████████████████████████████████████-| 99.4% Complete\rProgress: |█████████████████████████████████████████████████-| 99.4% Complete\rProgress: |█████████████████████████████████████████████████-| 99.5% Complete\rProgress: |█████████████████████████████████████████████████-| 99.5% Complete\rProgress: |█████████████████████████████████████████████████-| 99.6% Complete\rProgress: |█████████████████████████████████████████████████-| 99.7% Complete\rProgress: |█████████████████████████████████████████████████-| 99.7% Complete\rProgress: |█████████████████████████████████████████████████-| 99.8% Complete\rProgress: |█████████████████████████████████████████████████-| 99.8% Complete\rProgress: |█████████████████████████████████████████████████-| 99.9% Complete\rProgress: |█████████████████████████████████████████████████-| 99.9% Complete\rProgress: |██████████████████████████████████████████████████| 100.0% CompleteThis handuJr #ten ex ample Write as as You can_ Jood "
          ]
        }
      ]
    },
    {
      "cell_type": "code",
      "source": [
        "import pytesseract\n",
        "\n",
        "print(pytesseract.image_to_string(\"/content/test.jpg\", lang='eng'))"
      ],
      "metadata": {
        "colab": {
          "base_uri": "https://localhost:8080/"
        },
        "id": "nOD6Jn02Tcjq",
        "outputId": "084958df-3388-4408-f1b3-b5400d173eec"
      },
      "execution_count": null,
      "outputs": [
        {
          "output_type": "stream",
          "name": "stdout",
          "text": [
            "This is a handwritten\n",
            "example\n",
            "\n",
            "Write as geoal as you can.\n",
            "\f\n"
          ]
        }
      ]
    },
    {
      "cell_type": "code",
      "source": [
        "from transformers import TrOCRProcessor, VisionEncoderDecoderModel\n",
        "from PIL import Image\n",
        "import requests\n",
        "import torch\n",
        "\n",
        "processor = TrOCRProcessor.from_pretrained('microsoft/trocr-base-handwritten')\n",
        "model = VisionEncoderDecoderModel.from_pretrained('microsoft/trocr-base-handwritten')\n",
        "\n",
        "image = Image.open(\"/content/test.jpg\").convert(\"RGB\")\n",
        "\n",
        "pixel_values = processor(images=image, return_tensors=\"pt\").pixel_values\n",
        "generated_ids = model.generate(pixel_values)\n",
        "generated_text = processor.batch_decode(generated_ids, skip_special_tokens=True)[0]\n",
        "\n",
        "print(\"Detected text:\", generated_text)"
      ],
      "metadata": {
        "colab": {
          "base_uri": "https://localhost:8080/",
          "height": 467,
          "referenced_widgets": [
            "b0c85213eb2e45b9934c99929c607402",
            "01df682cf3f24830b9ad2e67f9e827e1",
            "d74246547e0743aa91524571263e6be5",
            "62090f0a306a41299ad308ed239bec3f",
            "d3e98916d6134a959dff9e6e8bbcd1ea",
            "9835aec9bca748b8be6f415bb9995ef9",
            "a901a3d535f24ab48a2f63fd435a6ad2",
            "51b4ca36317f40d0b25c22f302fdd488",
            "c14f19e6410e4cfb8ad118e669fd1cf5",
            "4967ba89eeea4eaca38b7253d678057a",
            "45ecc58e6b2a48e3a5de45f6e4ed00c1",
            "7b88e28ad1d147f9b075d1846a0ac0c2",
            "75bbb185d7604137b639bbd573aac867",
            "c92ab49278114d2d803dec9a97f335e6",
            "5eb0f72fb48e4109809193a89dcdd318",
            "995a2a7f39b94ef495fd869a05e47e6e",
            "1b9e3bf547024c50901d51e2d2fd253b",
            "d5760a7a31594b759ceba123dd293d88",
            "8e2946f1331348bca775710ce98627a9",
            "e2a791439247428eb7e7ce4657ab49ea",
            "655c48c59acb4952881369b184f21c40",
            "a84fbef425dc4de9a5d23488a6d7f283",
            "598406ec430b430680f5134650210d1f",
            "4dbb71919d8244258b1c58207951b74f",
            "7f4c501745a44ce583b83b1f3e417164",
            "fbef864d75544ea2a8212a48c1441f93",
            "cfe701cb4f70419e8f83e50482543f1f",
            "731c6a3bcdcf4ec983b035dd6094dbe5",
            "b0d7e35996d04fb9bdff5215e7863b71",
            "7adbccf7a8d94bf280aa2fb1ebbd52e6",
            "201f37fdb08d41a09357fd2047401755",
            "726d79b6083145b288484aa4d2fddaa2",
            "a97691cceb1146c6ad23ff42f282611e",
            "3f8ebd463a394d8ab6bb4ccaa237fa36",
            "e051dc4d39dd4f1d97c6d94e95fce6c8",
            "04733c47449744c1ac670251d13e77ff",
            "eb09b6716cfa459d8973abdc684cf303",
            "63fd05519b1d49d7ad784108daed4fec",
            "15b61f3ba5ac4b97b6acf16b4fc682e9",
            "f0847c772bf14519a04cbbd8d49bb2f4",
            "75a7fe65490b4f14a5747ca25d2934a8",
            "7400a7e81a0d472eb298e193269aecf4",
            "ba5869c0ce1548999c825264e5cea854",
            "9356f93dced6496b899406c495c04511",
            "6fef98a8d68e473d95f57efec0337a4a",
            "ac95c3e647e2448a9f0f96612312a5c4",
            "9df2722a7a1d48b384277319674339e8",
            "3ce900d6106d415db7318f70636423a3",
            "233f9cb6ff5f4e8fa318c514f2b292ce",
            "aceec5df20a74169b33e657d1b760688",
            "cf07045109a942cf99c51e666a413baa",
            "ce813b60bd3c4a86b152fe390d6bcc5c",
            "1599e1aca7584acbacb5f75aa8b660ed",
            "320d67fd4b1940b0914a5a5c94f0f3a5",
            "e93d7f86fffc4f26bec59a9c4c2852dc",
            "e30a9fd8ab764c6080974551c33b5293",
            "1772877b4ea74f1aa47d9f217e5926e2",
            "e807b7e52efb45d28221eb5a797369e7",
            "17ae31486b8f47eb9392b130b00e4350",
            "b53ecd002da14950b74bf93d8a1ca59c",
            "c1e1170f3ced462e86d123c086b26e57",
            "5097b7c11e7e4d49a20a7fbeac7ca673",
            "1274b97de06e49f4b45527728d8f31fa",
            "e847755c3d184e859c4717f24c5b9159",
            "990361d4730a4ee4a89e6d8040920990",
            "12a1f848dd774c688183244453226228",
            "6b15c1cc27864405a22a37c931887d32",
            "dcb6ba28fdd84f528a5a2899fa8e5d51",
            "9c7f8228f8ab453197e707724ddc07f4",
            "ebd4acf6ed6d4940b4d08a0018e7a2b2",
            "5193ce0b316c460983189b9c0888446a",
            "7c9ffdc98fdc4ee391e1bddfb789bed4",
            "59c1990dac9f41db870e026718f10425",
            "86a7b956bdb544f58335d9404c4c3db5",
            "7144b87b4d344eb3ba992b817697361a",
            "2dfbbac898214942b7e21651fcef54b9",
            "d98dff7d23444e12800c527b9bd1ca47",
            "bbd79fb2b9bc40d4b60495337ba03474",
            "baf232a1ca384aba830e7222b4fcd0e2",
            "49189a67d481485d85951dc0f434248c",
            "a814c1b080d242a787edbc2f1363c780",
            "9c77ee5f0ad64aa597dfa6b644b8a704",
            "725a7b54a3d14fa0b876995c6ad6dd86",
            "d7a964c5e98e4a68bf4fb22e2270e8e5",
            "03d51d2b5c6d42938b81baf23f953219",
            "009d42360a8140c79964864f16df82a6",
            "13bb03c1e70444ca964f57757fb90d6a",
            "f59f503626e64bb88a077e9dc315aecf"
          ]
        },
        "id": "yzN-ODfI-83x",
        "outputId": "c8491718-bf5b-4ef1-9b89-b258822f040d"
      },
      "execution_count": null,
      "outputs": [
        {
          "output_type": "stream",
          "name": "stderr",
          "text": [
            "/usr/local/lib/python3.11/dist-packages/huggingface_hub/utils/_auth.py:94: UserWarning: \n",
            "The secret `HF_TOKEN` does not exist in your Colab secrets.\n",
            "To authenticate with the Hugging Face Hub, create a token in your settings tab (https://huggingface.co/settings/tokens), set it as secret in your Google Colab and restart your session.\n",
            "You will be able to reuse this secret in all of your notebooks.\n",
            "Please note that authentication is recommended but still optional to access public models or datasets.\n",
            "  warnings.warn(\n"
          ]
        },
        {
          "output_type": "display_data",
          "data": {
            "text/plain": [
              "preprocessor_config.json:   0%|          | 0.00/224 [00:00<?, ?B/s]"
            ],
            "application/vnd.jupyter.widget-view+json": {
              "version_major": 2,
              "version_minor": 0,
              "model_id": "b0c85213eb2e45b9934c99929c607402"
            }
          },
          "metadata": {}
        },
        {
          "output_type": "stream",
          "name": "stderr",
          "text": [
            "Using a slow image processor as `use_fast` is unset and a slow processor was saved with this model. `use_fast=True` will be the default behavior in v4.52, even if the model was saved with a slow processor. This will result in minor differences in outputs. You'll still be able to use a slow processor with `use_fast=False`.\n"
          ]
        },
        {
          "output_type": "display_data",
          "data": {
            "text/plain": [
              "tokenizer_config.json:   0%|          | 0.00/1.12k [00:00<?, ?B/s]"
            ],
            "application/vnd.jupyter.widget-view+json": {
              "version_major": 2,
              "version_minor": 0,
              "model_id": "7b88e28ad1d147f9b075d1846a0ac0c2"
            }
          },
          "metadata": {}
        },
        {
          "output_type": "display_data",
          "data": {
            "text/plain": [
              "vocab.json:   0%|          | 0.00/899k [00:00<?, ?B/s]"
            ],
            "application/vnd.jupyter.widget-view+json": {
              "version_major": 2,
              "version_minor": 0,
              "model_id": "598406ec430b430680f5134650210d1f"
            }
          },
          "metadata": {}
        },
        {
          "output_type": "display_data",
          "data": {
            "text/plain": [
              "merges.txt:   0%|          | 0.00/456k [00:00<?, ?B/s]"
            ],
            "application/vnd.jupyter.widget-view+json": {
              "version_major": 2,
              "version_minor": 0,
              "model_id": "3f8ebd463a394d8ab6bb4ccaa237fa36"
            }
          },
          "metadata": {}
        },
        {
          "output_type": "display_data",
          "data": {
            "text/plain": [
              "special_tokens_map.json:   0%|          | 0.00/772 [00:00<?, ?B/s]"
            ],
            "application/vnd.jupyter.widget-view+json": {
              "version_major": 2,
              "version_minor": 0,
              "model_id": "6fef98a8d68e473d95f57efec0337a4a"
            }
          },
          "metadata": {}
        },
        {
          "output_type": "display_data",
          "data": {
            "text/plain": [
              "config.json:   0%|          | 0.00/4.17k [00:00<?, ?B/s]"
            ],
            "application/vnd.jupyter.widget-view+json": {
              "version_major": 2,
              "version_minor": 0,
              "model_id": "e30a9fd8ab764c6080974551c33b5293"
            }
          },
          "metadata": {}
        },
        {
          "output_type": "display_data",
          "data": {
            "text/plain": [
              "model.safetensors:   0%|          | 0.00/1.33G [00:00<?, ?B/s]"
            ],
            "application/vnd.jupyter.widget-view+json": {
              "version_major": 2,
              "version_minor": 0,
              "model_id": "6b15c1cc27864405a22a37c931887d32"
            }
          },
          "metadata": {}
        },
        {
          "output_type": "stream",
          "name": "stderr",
          "text": [
            "Some weights of VisionEncoderDecoderModel were not initialized from the model checkpoint at microsoft/trocr-base-handwritten and are newly initialized: ['encoder.pooler.dense.bias', 'encoder.pooler.dense.weight']\n",
            "You should probably TRAIN this model on a down-stream task to be able to use it for predictions and inference.\n"
          ]
        },
        {
          "output_type": "display_data",
          "data": {
            "text/plain": [
              "generation_config.json:   0%|          | 0.00/190 [00:00<?, ?B/s]"
            ],
            "application/vnd.jupyter.widget-view+json": {
              "version_major": 2,
              "version_minor": 0,
              "model_id": "bbd79fb2b9bc40d4b60495337ba03474"
            }
          },
          "metadata": {}
        },
        {
          "output_type": "stream",
          "name": "stdout",
          "text": [
            "Detected text: Techniques , and other than can\n"
          ]
        }
      ]
    },
    {
      "cell_type": "code",
      "source": [],
      "metadata": {
        "id": "Z0uTmEjc-9A0"
      },
      "execution_count": null,
      "outputs": []
    },
    {
      "cell_type": "markdown",
      "source": [
        "![Abv.jpeg](data:image/jpeg;base64,/9j/4AAQSkZJRgABAQAAAQABAAD/2wBDAAIBAQEBAQIBAQECAgICAgQDAgICAgUEBAMEBgUGBgYFBgYGBwkIBgcJBwYGCAsICQoKCgoKBggLDAsKDAkKCgr/2wBDAQICAgICAgUDAwUKBwYHCgoKCgoKCgoKCgoKCgoKCgoKCgoKCgoKCgoKCgoKCgoKCgoKCgoKCgoKCgoKCgoKCgr/wAARCAFMAZoDAREAAhEBAxEB/8QAHgAAAgEEAwEAAAAAAAAAAAAAAwQCAQUICQAGBwr/xABKEAACAQIEBAQFAQYFAgMHAgcBAgMEEQAFEiEGBwgxEyJBUQkUMmFxgQoVI0KRoTNSscHRFiRi4fEXGCVDU3LwJoI0NVRjZJKi/8QAGAEBAQEBAQAAAAAAAAAAAAAAAAECAwT/xAAkEQEBAQADAQACAgMAAwAAAAAAARECEjEhA0EiMgQTI0JRYf/aAAwDAQACEQMRAD8A2UNL48rymuDTObaY4dX273Fv749jxmcsymrSnNRPP/FIITxNrNfY4zZRybOs9Wt1VWZCSaJbEoBZVPpjIVFRUqWYSEte5Ptjc8bkxNGmkqA8eX62KkSO1mAGKqkUtMmuKokhgQWCxa1Un8AHfAJ1VJSvVs0M6IoPlLm+r774zlT6AjvJISX1tq8oGwH5xE7G0WYRk6lUn6iG7n7Y20KJK5aUBwyqGBXzgH+3bAAqY56yW88XjN9TDVe33wS+ASQzPEsK5QxQNdmTTuf63wYUjjo5JGo6qJgALst9IP2wDC1WWpAKX5RKaEHYaj5j9zjF9HGp8qnTwRFT+D6xg3Vv74bcTtZUKxYam1TSPHTQC5MENMsaj8BRtiyqlBk2X5ofFzF6uGFEsktPVmKRh/S3ce2LfBUJlkEawzx1TwrHaISyCVifcsQL4TQOaXLkgaSJHFhZA8O1vYe+KF2zGPNJUtE4EY+oLpS/sAP+MBJrzVTFaXzIgJUubke5v2GDc8SppKeiLyQ5XeaVQPKC2ofc74F8E+YBgKtlLAG4VldfKfex3wYCDmnAu0g0qCEDi7e1zgOfKK8/zVZVCUgE6GS5+2A5UUixy3SPSrX2J2J+4wBY6bMqsqr5lGgQhiqwDcew2/8ATAVrXKRvBTV9w7DUAouPsDgAPClNHDA7RmaQb08hBcff7bYCMyQ0hKop1kd44y2Ap808MKI43DhQ0aWIJPrgDPKlNrjqoFZpNlYyfV6f1wA1pKiGoSBXCsn+K7PfR6/fAVipqWQyyQ5xSTNpu80cgXT/AMn++CySre9FT0UK5dkVP4rlyfLIA0ha29z37YLeKsWS5lR6aUP4mxMgUhQv274Mg5fFTT1EM5g8tmtDOllB/wA1vX1t+cA7FkuYPMasJRQUvrIim9/7D9MBDOMuq4aZamBqRDqsrTEeK/2QW74CeVZd8pTtHI8l5DqYzOWYE9ySe347YAZpZpagGZnMRA0SLLpU7j1HqcBNoY6HW9USFEgWNSh1KfufXADq60AIusuJLlo5Et2wCsD11MgqJTTmdGsIKRSY1Pvdh3tgCLSZgkcziI+LMNQMi2Zm9N/TBZNUFHWU9F8s9Ysja/MVYlb+2/8ArgdagfGUtSU2XmVmXz7kj+mB1qlBk1FVVXzkUxkkRhHoVgEjA+3qfQYJlO1FJTS1yZfkRngRIxHOZJiXnluSxO3lG4AA9sDKJDBBTxyQQViN4LfxdcutUb22H9sAzl9X40bpDnYpo130/LamYW3O527YBU5m19q1iPQn1wHYY41pZBPYtZhpt2wDE2aUUlQUcOZmA0svZfziXxvIhLMZqkpBTk6RZzbZv7YzJtUpXJWzV3iII4qZY7FL3LMP02xsQCyGn8CV4mUyX0vTlgB7EA7/ANcAao4d4cnhNZWZzTiaNT4NKIWvbbcegwFvTL80nmuanLo4CP4ZMbSSAe53AU/1wAY0rSXMcJIK/WyEX+4viZNZz6NApqI1iSQo4Nzq7YrSNUlXHVAU80bEWsQQVH/OAjNV1j5iKZaiMzKNwjWI++CXxSeu+WKrTVyTyg3bwZQ5U+xsdjgwSLyCSSrmcgqDJI5B29zgC0FfS5hT+JSZjJVI7WSWSxC+42AxiwMx02seDSU0knmu2hb/APpiCcT+GiwpG9wxIONSANVV1TVcnzFQSTa6ruAB2xq+AMZlrauGChk0zaiGaVvL/T1OJJgukmVVUS6K+simduzxQ6Bb8XN/zitdVrmllSVo6WUh4203A9ftg0PGVqnWmYuX02YAgA/nAFggip3KFiDvvqvb7DBL4BHmUKI0csTBUJVQlu2DBWTMdU96KjKqFFix3Y/pgHKSvRad4alIw7W/iatx9sBWpngVWUOl2teUn0wCUOYtSK6w1kcq3sUjfVt7m2AUSLMc2mslRGqKdYFrWH298A/RrFLXidpG8aMWAtYt/LfANvDVSzlaaaIBVOosSG/88AWKgmTLhMahCTIA8Sg6j9/a398Aln9TSxDwMoy1amtYeYSDSkXY3B9/xgFIJuI0iBGUvKGUXOsAEnbYHf19cA5TZW1CUp8zdIpXJPgKyyAH7spIOAjTxwl0efwGmQ3VQRZR+v8AXBZfqTVkMuYGmaNREYyGQkkN9tsG7PhilrIaRbfutTGNvFqIBb/9pvg5mqOKDOPEevpIWCj+Eosf7g7YBKOfLFrDWGB5XjXSNyyoAe2obd8AzV5lQy08kSU3iTOPNJoFlF7/AK4BdPFnRXlBEd7hCtgRb29sArU5mprDHOCyAWBiibYff3wEaqYQxlpaYoZVCRysNzvsADgFoqdKZ5WWUxFvqiZSB+be+AmJaeOhISafU72VdyZCT2GDXHxXMXEOVNJMlShUgKkK3a5P23/XBoxQxS0cE9MRMuqHU8skXmJtbbVvgzeRaDNlyyER00ch8Jx4s3y9l1d7dzc4HYz8zmcNRLOiVMSVkIaeQgqXU9iQPQ74HYBoIhSSLNOAkYHgwQw3P5Y39va+DJ5I6fSkrUi+ARco4sSLbffAcUtpGigVVtsPD7DAXESShgAyyLexD9sAanrYKeoDgRoxGxXvb2xL4u1HM+IBC0oSnlddIsY7bnGZ6bS9NUx1wDWlJIu4cbg+xxs2psJY1YCbTvby72wXjdCZdDGa6n2IHbBpKioa2qQQwrqGrd7XAwA8yjjp6xqWKpE8tt2EgstvTGLcrFuVyNEMQqZQkbFdrG+s43Prc+qR0aOdVRSePuSqOLggfbAMJTyVNWEiyGkSNlOuZozqX7bEHBL4smcwZZlVXLFSTMkYuZWjiI8x9ACNzgzPRsvjWoiGYqzKrHSrSKQT97HBrIu0omSmaKOuWQIoARFPr/bBm+kGzSTLKMsah0Bt5FuS59rD1wQQ6ooxNNVya5BqVHXYX9/bAI1EiwysdLFSNVtwCf8AjAEyY0sCGuqaJJSpJjUm1z6b4E9HqXqq5vnpGWPSBdGe2gf+uDoVMUMcLPVMApuLo1jgxblBSSOesDMis0a+UFjb8YluNT7BopJWp1+aYBtROhe4+18TszaoYliAZUSwFwqtf+v3xZdQCLLqvMvCWedfCL3mVe59lGKLjLQ5dH/2tJSoqq3mRFtYjARqp6OogWm+VjkUgmS6iwHtgLfPDRyFKaLLxSRRjSrRJpU3PfbvgJDLqLL2WoaomdlFtT1HlA+4AwB6fMKQTF46mGZkXYX8oH++AYkraOnmVGmXxBCTGhI3HfAWziDOs1FAfk6gK83l/hG+i/47nGZuhjLmqwPBEwd4o/oka3/+x98dM+A2VV0lRQCpqjcuxayuSQPa5/GOe3QX53LUqoklLKuq4jAFwPbfG7PgWnGSJUyVOW5YzVEjgM0guCB6bnb+mIs9VMNVT1kjzUsahlu3huGscG3KWqnqJb1VOs8MYt4M4vcD0FsHNWauNdPHNDlIgiIMbxQSgEX7EDbDcEIEqIaR6Kkztj/3BJo44x2t2Y+9/wBMYtHKJwYZHlkiikNrwtdiTf0IxZdB6uonRWjWJDIUJLyubJ/QG+NBeFq+SmlkrjDH4SArGbhpL+o3sPxgKAU0FVFU0qzLIjhxJNMZGU+hBIGkD0tgOCnpaqV4zXB5W9Q9wPz6XwEjlkMtXT04zmNFS5BdxqVQLmw9Ttg1x8LVlVV0+XStBOZKh2VYYFkAYm47et/9BgWi17z1s8dNNnFc2oWWOHQbEdyWK9vxgyfyyjp8mo5nGXyfMs2qOcqSdQtYk+4ODN3SDZfxBPVVWb8ScSzNUVA1uonOsgf5mJ3/ABbAzknl8GfvEKiE08aAglvt7kkbfjBpCY1clUs9ZVq9jYAPY297euAC1JVOxb9+OLm9gNsB2KFaGqLJURlGPd4qkAf0K7H9cBWanyyFgIpRMQLgsblftfCugipT1PejD3sLFth39MZ4hnwalmSKOklOl7XZyx/GNM8vABlbyOZKitUee50MLL7A4HH0FBRTSvSVNcqQwi8szkLGo+1zvg08x6jOtLp26TuCq/j3mJzNp6GhpGVYYY5tdTUudlSCJQWlc79gBsbkd8S3D+V8YeZv+0KdLmW5tLJkvKTjjN4Uvolnp4abxGK3GzFiov33Jse3pjHZm8LPtemdHXxi+nPqe4nj4Grcmm4Kzqur44smps0lWeGoVwQNVT5VjfUAoUi3mG+LLV2MyqmgnoCWMpBKlXEb7g+32OLeVqk0kkhkBiqJgdR0CNj3Itc2O/64sugEFNFLLJTvWeIR2JbfV9zisftcHykmOIyuWhjvclrDfBspPCKqI0oiYU/i2UFrFrYOaUiwZPTA00TIR9Ac+v5wAqesWeJxVKge4Yknvg1ImtLV5mwpKKjZwRqsbWO/ue34wZvwDM0McipDG7eGbMGtpB9e22AWjpKeVTVV9FHIYyNDNckfgdsHQtmGYs6uk9lAOwv2H3t/pgxfRaClq69fFyyhVyDZ5KhioH4++JZrefozJBLAiqyRi+w0yXJ+5GM9axZiAmikfw4Y2CoLMzep/XGpMQN6jzinWBo7nyFEO497+mKKeFUR2KQEOL3naxI+w/5wEE/jTNRRzajGl3HsfvgKeGzAwESltNxpFwv6YCFRDMUEfhXLXNtR1Ee1sFk0nRU9ZLVlHymSFFBYqBbf0FztgWYZly75jMI4J8raMlAzzfMKVXv/AJGIv9r4IBLJG9X+5Y6AJ6Q1iw/wwfUFv83qPfAX6l4d4VoZ3WtqBNIIQ7rLT+JrYHYqoNgfuTi78FvSrWtZ0yuEsVk0hgmw/wBsZz6GEWsSQ/NxiN9rhk/v9hiiSSUkUJZpSHD3VQoAIPfv3OBPgEMpNQJKTUbXJQEbm3r7jBrsG7tpLM/hg7u2q1tu2DIVNKZAakRsVEf1yLquPxcYWaJZS1DTU7apRA5YKHH1MT9zf+mM9YCR1eV0FaaJMw8SVR5wbX/W2LJgJJUmQ2caSyfSx++18ULLUxtIzS+HCWFo10Gxt6gG+A5U5xFDEzqiyMDpAB2v98BKfJxFG81TK1M9SQLxPpsNr2F9zgORZSKOYPLUtKsgIhkc31H029MAVMtlcv8AJZhCraTcyU51fgN/LgDZZk+fUOaQ1FXNRCBoH0uWJ1MfQi23bvgAV8mYUwVqZMupySwaSnfU5+9sBHKqGtqKwz5lncVQzx+VjBqH6Dax/rbAPVEWZQ0ix09cqwMbPdTpc+2A5GlNAzx1rq6NEDqKDym/v3G2AWkoMweRnpo6XwyxMeppL6fT0wFxavOYotJ+7SkQF7smw/8Az7YLJVI0aC0q0iEINrm1/bbBsRcyrZ7KKMpb62gffvjMEYYp1jFRmRdgW1Ro8pYj7ke+NM8vETWUlcHphKqxxoXkBsL29/bBOPrBr4n/AMWvhjpN4my3kzyY4Qi4t43qaGSpraWoqXioctjKlY2mcWZ3LWtGpAKm5PpjF5TG2vTk10fdb/xTePc45ujIHqzV5iZMy4nzCcxZVRuAwCR6rllUKVVUVm2ud7k5slWXGV9B+zj5HR8P6+OusKuFYYmYx5TwkjxIQPQySBmP22Hb3tidVv8AJri5rct836U+pfinlFWZ9UZrUcGZ4KUZglIadqpCiyRyiMk6W0sDb7exxvhynHljlZj6FOlbmTxRzJ6V+AuNuNad1zTMOHITVaKcxA6Lxo9rm5ZEVi3qWJxqzaSu8olqXxLtGf5WDXthJjUupSZhCsKqQNOghSDcWGKz+x4cznzGAFiY0S3lbYYNm0ammqlNQ7JFFaRnVdzYbLg5gV2aZLXeH8nXLKz38uggr9jfBZ8oPjUUF5KqS9gLRKhv+pwbMRZoKiDw44bMR5Re2DnyLVk8xAptNn7k74JPE3V1RlJLhV/ib7YOk8LxEPKF8FFIUm6j6v64Jf7CHMq14gZJrRJsFC2BH++DWqmqdqN6iORCZGHlLfSfxgzyJlPGk+ZmZ3dVsrBtv6dsGa4GKKro0jqz6Let/f8AGDMto8ZikhbxCQRtctdvxg6zwO0xVgGkARSyqgsW+18Gb6rBSJDTmWny+fxyhPjGpZnH/h3IGCB0eXPSeBAlS4ZmuyzAsTvvv74LLh2aaNqho5YmKoDpUA6f1tgvy0euyoGmE8yvCDvojXd7+w9cGgjl0VRCYqOBk8PveTZv09Dgl8W+XJaKWbRWZxUKp7iFje/tc+n4wYDkzbJsuqjw5QVUksYTcpD5dVuxPqcBcaGI11OJ4syljW1pAqA6f6j/AEwBqvh7IYIWzCorj4iR6Y3qDZVPuB6n9MBbKJZfl0mmjlRCSBLIpGr9RgDNHU1krZfTU9kABZncC59vxgGKqelyxEgUqzRhleFUv5rbEk4C1UdTSUsXjV9GwtMCjMQS+3sO1rYC4yV2WFT8tVTO8lzIppytj+b2OF+AayxzQ3K+JYmOMLGy3Pc39++JLodjzBqykKinUPDsjlLhG/J7nFEJI66raCneeKUx+WMmFUVAdzcgAn8m5wA56GnirddZUxTSBLxO1rIP/CPTAEVY0VfDdZSE2u2ANRVcFSG+XpixO5Q27fn2wEa6aunCQusXhRv5VItYev5OAS+QpVafRGsqOgR1SX6T32IGxwBKhqyBIHmiiieSPXHHTyE+GguAGJH1eu18EtwGhy982qPFpVkdYTZVmkYF2tvYeu+Cz6uMlPLR1DZZNRMJjErSBfMoB9yO2AMctzu5vlkoN9x4y7f/APWAPVqaiQmAMgcAKF8oW2DewXLqampIpJ5J43kc2QToWVd/UeuBsTDZXl9L4UGZPPOTd0ji0oov98TMNhaoqUhIqahFYXGlAb3xUt1jD8TfrKyLpZ6dOIOI6PM8lpeIczo5KPhuhzCU+NUVrIdBSJDrbSSraraVtv8AeW/Di14fDG+HNxT8RnmXmPPjqdjzGi4Gy+ZjV1VLXlXzatAULTxNLrcIRdmYAhbgC11GOXtabkuFOGOFuWPCuWcAcAZJDQ5Dk9OIsvy+igEUMOwFlW+52F2O5O5ucaFu5oc1si5c8u824w4sp4locry6arrappWUQRopZmOkg7KD6jcDFlxZ6+dDOeMOIusLq6zXmW1NrreOeLllpqWJ7KkOoRwrqY+saKbk+uMZvNqzX0Ucn+AqLlnwPwvy9pasNHkWUw0jwi5BZUF9z33vjs45ddnzbTM7iGFQt9kQbf0wXjLEGqU+XhRkSIRx6bMgFr4HzUTSslMjy1YJkBuqjYb2AwXYSTJ1eueGfO6kgg60Vxpt7dtsGcpyJKTLk+UoadpWVvrle9j/AL4JZS0tLPJUa6kqWYE2UED8b4NyG46GWKjjUVRSzawFXa/64M2UVpJWjaMyKbjuwuDgSFWgIUCaRXY9nkPb7jBZfilLS5Mkcj5hPI7g3jEZuzD3v6DBNm6WqJ8i1GRJJx2uGNyMWSNbEYPlK2ISUtJDIok2aeMtb9Nt8MicqPUyzGTyoioq/TGtlX7WwsxkssxcaJJpFJk+pABp+wxAwtPXTys9DTLM4W6xtKFv+d8ACorZaSnVpaUCQqdaK17N6DAVEld4iQtXtI/hKxUfSnqd/fARpMyyxxZaqSRy2xETXv8Ak9sAeTNIREYVepRgL63Khb37WGCz1baylmnljlmkks9iWYkXX9cGti5Ugo6GYieS5ePyAb29tsEtScTVAVI6qSnBbdjCHuMGR4M2y/L8umoKSMKokKySypYyX2uL9vxgBpGaKe8NYX8vmWNT2t7kYDk8fzpR6mC4VrhWO4X1OArPO+Z1kdHJUhBGAI42NlA9/ucBY+YeUZpxdw0/CWV549E7To5q6ZRqsrXtc+nb+mAYWBssyqlpMxzmozCqghUVdZKADM9u5A/1wFVyquMPzlPGoGwUSyWKqe5APfbARo3Zaxvm6gJLJ3cuNIUD1viXxNhiumkpqYVstXdgD4G+nRfsRf3xmeqnkuc1UtDDT5lxHJPIWZaeCeUlIxuSEXsPUm2NgrNl8dJJWV1PJJoAIiRtKvv7ntgIZpHl0aI1JSlCx1X1amA9r4ASSUFGh+Zq5YpHjujJGWCk+4HfAUlz6LJ6g0ixeJKwszKdOn7WOAZhlqqmUIlBUxMy7tKykE39Lf74CVXFUwfMJOyR6UBRXk87k97AXAt73wbyLfQ0clfUpTDMY6OnhQPPUvKNXfe5bbSBc9++BkTy7P8ALs0R/wB3Z2uZURPhoZISuo33JN9x+MGbho5/QZTAIY4acESAOlJEY4wbX2uT/W+CBvxLmMrmUZIfMb7y3/vbAXopW183gUtK6R9jLIdIA+5/2GAaqClO3gh2IA80igEDALnwHYGJ11E2Zz3IwHWuPOKsl5f8O1nGfGvElHl2U5XE09fX11WkMNPGu5d3cgKv+9h3OCyNJPWpzc4h+J78R6j4D5SVE+aZLS1UeR8LNRr4iTLq1VVXtsVJBGvf+HGD22xz9bbm+SXK/hLp55W5Nym4KCfu7IsuSnDq5YSy2vJJqIBOpyzD2BA9MZz6OyzV1VUZb48wVUALDw072/JxoasPjvfECzSdo+g3lFWVEE2YQCfmBULYEUjX8OCOQbWkW5f/AMNhezHBriD8ADolr8z49quqbmdlkq5LkKNScJSMFQVdZ2MillOpUUMGAFiWUEj13J8LW2GtFNTSx1dEsSsXItq7H3udzishS1VRPKESdhfuF2G+CXwT5qmjKUkaaztqeT+Uj898GBTTtIodGRFcb6+/6C2A5rpkHy8FI6ra7SaTY/rg6fpQR1EVJIlPMpCAHVo7+4H3wC374nmn8GeiYJa6ue+AXnzk+GkYjdVDERk37/nARqM1Mo1mMxFhp8psowEqUTiKztYhrk6yQQcHM1BQ1DwCZxEiHey7Mw+5wC9VQ5S0sUSVDF5G+knY/p3wFxkoMxowY6lHpxYCIKVuR7j2wCdU9bT0ckcbqkbixY3vb++AUyKi8eCaor8zqBEr3CkWF/Q7i49f64Bn930LMJhUlC3lDMwG35OATqsoy6nzQRyZjO2gXaKKZSXPruTbAGnoaYzAq86Qg6tQdSfxexH9MBWGbOa2pbLsryyeSKNfEaWKLUAPdrY1x9BKWmrq6VoIIFkf6mMn0j7k4yGo6JoIgMzqknF7hI22X/jAEjo6OS9bUZQhOgrEhmY772JsR/TAchyrMaQiqr5Y1eU3SGNCqqvp3wBEEoRopJxexaJCl7n/AG/OADPA8dJHMa2EMGvKzWFj+ncd8Bb6xaqaob5isgESRnw9Owe9rEnva2AgKmAUqGoliEimyAKwv979iPzjO/QxT5hBPCI4aMO19nj31HFl0TqZKsR6pAniKwDBtwPt+cVrPhKpXMqmUxzNfUQQqkW/N8Gb8GoI6Crz5KOo4dFcUjJdXqSgJPa+1jbvYkYl8TPqecQ0QzJkrcvilY2006WZDbb+UkW/4xmeqquT0EFZBms9JDCkMbLFEiXCsRYH7bX/AK42FqmepkozPLQF6ZZ2KRu+nxT29OwuMAOLMoqWqRs7Ecbs1/CN9Mft274A9TWxTaVSJVUE+u7H3vgAxiF8x/eldNGWdxcbDb74CdQ0WZ17tHLMsYkDIEvZregHoMFnpiopIZXZnaQeXSI7iwHrc98FtwOVMvpVipaaND4kZJa1yfS2B2cqGFRX065rLeKCApAo2FOgAvv97f3wZK/NZGJHbOKdJ0Df9ukq+b7GwG+AfNblBN/3kEv/ACmA+X7YC4yJXUsamfMAi2JMQ9/6YCUEsckh0sR5d7jvgIwiFJGWetiJv9LNa/2wWetZ37RNx5m9RwPwTyvoMxZMszfN5ZsypNSiGpSni1ojbamOo3sTpuF2xy5cutxrfuPMf2fLk5R8Sc4OJ+eWb0EUEPCuW+Dl8KvolWWYtEJbjbQAJAQO+tfbHTr81qzG3KKryuKhEskUKBl1W7lvb9TjCMK/iz/FI/8AdA4SpeXXJnNaSr5l57Cj0dDJCskeSwFmBqKkHvcAhF9W3PbcNaXQh0Qc5viGdRGY5lnOc1U8FXVtW8c8Z1EbFIEdy76iBpWSTzCNARv9r4G43xcnOTvBfIflzk/Kjl/kaUeV5LRrT017a5AL/wAST/M7d2b1OH3GOXJ25KqnpvEpRk1HPNsfFqKcP4X4vt+mNzxqeB0sFSyu1MtOiN/iP4At+m236YpfD8FQshEEcKgRj1tuMGAan5eYvKjXZTpYa++AXadNIZp44U/maZ7BR+cHQMPSl3qKSsWRV28VX/0wCZRxU6qiRSDuGB9MArU09XWqseYRaRrJCxvsVubYCrZUjyKkLKWHbxDt/fAOSZQ2XwoXzJ5KiQanjCgIo9h6k4Od9MfMUlJKslTJUyRgWaMkXA/AwCTz01dUx5glD4BNwjNa9v8AbANGYxSGR3kJDaRqe9xtvv2wCnjV4U1rw3sSE1tcWv6W7YAAnzZIHM5ZkY3Ic9vY4AE2vMIEhmlnMbtszxDRf833wFI8miy2oqAc2RmBBSMWkZTbsfQfjAUdM3kiaeqrwY9JNioGw/GAhlbcaVtBMctqYKeC3+NUTmL/AEG+NcfQ7lc1bQUy00tSSxFpXvck/kd8ZvoZmrKSij8IMBK73d2JuR7AHb/1wETmOWqqRVWYMiv5rxBlKflh2wEqSZq2oE0mYNKL3jMkt9vffATWqyqNJKySZ5mchVAb+tj7YCdXV0DQRxpTIwZbuAPpGATcB6kzU0Miu4sBK+1vT8YCUeW5o76zk0ckiG6nxrJ+dzvjmI1tdndTUyUk1RTkA7mEaVH4sBfFl+gs1PmK5UK6vpT8osqxq8a6U1d8bbniDuamdYqCNpNUZ3LBSo9sCz4LSwZ1SoFpQ6B7eITHqvv27j+uDAlWkuXs1VVUjRsRZQgtff1tgEwkcg8WYsAw1FXfYn0wBNFRJ5Y6iJYv5FMJBX3N77/2wCtXEkjpDQU7TMoA1WszE33A/wB8AWsQZIqTSxLM7g6VKXAYHe9vbACp1jjhFbPAlySwj0Ak+uwOAZnq6+oywTLqppWFoJLGyXPfAQgosxpUeOesJ8b6AzXJHbUfYk+mC30rQjNahxTwziGOnut2X6t/T3wReaaiyYyGKpyqrqkmgYz1DZi0aIdiCUA8xuNhe1r7YBZZcsmDGWi0Qwv/AAg62YkdjfvgC+LVt5lySQg9iZl/5wHYKqbMIaCGSNYZpiAZwgI0/gd8Bb6aOonzGaorEZDbUylbdz2wE63LaGmoYqgwRmd3ImfTa4wWetaX7RbwlXf+wvhfjrJKUQtlnEscc0gVQvgzq0TA3F9ROn1tYe9seX83rcn8tda/ZzOIq/OajmHwk+UrHG+X0cyvJIAW0SyeYL/MpLHf0I3x6NvReXrJr4lHxE+A+gzl5U5Zw5xJlmYcws5onThzIqaQzT00kikLVThQRFEvcarFiLD1IyjT903cguf/AF/9SkeVU1fV8R8ScTZn85xLnuZFpI4YRYSTyvYiNFFrA2G4Ax04yZo30dOvTlyw6TOVtDya5S5eogpbTZhXyKvjVtWQPElkZbBtxt7Cwxi+j0ikWuq2LSRk3GouNwBifdc1Umg1vTU0WpBuzIlgD+cakpLik81TFAzx0ElybCRjZf6euNLtvwKOspMw1rFIsoUhHdWsNXqLDtgt42CTwz0yA01I8kYNjpIH674MrRnTzVhjheORItQsSuzd9r9sGu0HpPDmo2gpqokRArM/hgFG9rev5waDK1bRKZnYXW6F1+oeh/GAnTU2cVj/ADD0v8EABZW2BPt98Ay9FRuweV5i6iyou2/5GAgp/wCy+Zmic6b+VxuLHvjFt1MhUss+YfNx1fhA7eGwJ1D2w2s30WMxwRtNIqXLFma25Ppjc+xA6qsHzKRRSo+rcqG3H5OA4taXjZTsitdQAbYCNRUSzyKKSfwyfquuq/5wC9XDU02innr1kdjcqzLGqg/bvfAFpqAR08rSjym4VUbuR2NxgGcjzF8uLKYVYA+U2vv+uAtud8RVefrVR1TJEoFo0UW2A9hhuAUFQKWljWXMJZJClvCPdfxgs+m0SmzOm8WOgmCx2DSSEamI+/8A5YXxrIqIIMzzYfLwhIRGQ5kbZQO+MZTIE81BHAYIqWOp0yfwwspDH7G3pjc8XIWq80y7LYoqStpZgspuUgGsrv8Abf7bYM8sXQVFIsA8Jt9fliZTdR6D74Mqxy1inxYpEjIbzqw30/b2wAdS1QlgapkUahrLHYkj0xMgenyNmlWT94uUhRQodLenfbEk+jj0MUsXgGVp1D3YMT397Y0u1KnnmitBDEiLbffc29MDaXo+IM4qZXgpkQaJyumO+rb1wRSrrmjnlgeZppC2vRIx0hfucBb0zimzOZggC+Cf4irfStvufTAXWB6apZRFLe6eQObX+wwEK+tQFI6anvIrlGaMbLb8frgK0+cSwxJoj8ZEa8nkU2Hsbm+DUmijPKKtnInp2VdN08NRuPt7DBbJg0FTlqZeMwrauaMmXw0hZBpfsLffBgtM0f7xJo1V3Hk0lSq3/wBvzgFczzUUWpVmDS2N7RhQo/PrgBUeayxUMXzNQzCWUhSRvb7W7jAGr6SszbL3oKAbTNpadQdSKPa/a/v/AKYBym4A5cJTRpUJO8gQB38GbzG25+rAX7POKGzCVZaWogWRjZQ57fbGewNTgSKXlAlJOqQqf98aFuzGrnlnaaKB2RGui7WHb0wWesFvj6ZdS550HcR1tTAVlpZKCeF3jJK6K2MkD0Fxtf0vjz/l8deLW10A9bk/QxV8TcXZVlMma1dfw/LTZXlC6lSoqXZTGJHBusatdj62vbcjG+HOcuOJfXTOXnKjqd+IV1LV1VRU4z7ivieZ63NKpHWCly+nVgCBrbTFEimwW/YepxUb0ej3pP4d6IOSNPyt4Akaoq6siXijPoY1RszqNKjYqAwhW1lRibdzucNo9dosryyKljlqMudZnFtaykgD30+pxZ6J1lZSAxrT1LmPxLMbFNQHpY7425iZRQtLLJmKtURobkQ+J5fzb1wDE7SSuqNI76B5VkbsPYe2G6suIQrR1moOzQlCdTxqBb+2C9ra6pzM5n8K8seHMz47474zjynJMnonqa/Mq2pEUVPCg8zszED9Bdj2AJNsGuXFqN6tPj1dTXMriqqyHpfSHIOD46kDLs2zGjM2ZZgisCJZAx0RKx1aUUXCkaifTPZnq9a+F78Xbm/zE5i0nJjqY4jyqaDO5jBR53PTLC9NVG5RH0LpKNuLmwU2ubY1qyY2RTV01PT08VRVeIzoNYRt/tuP9sTtFXKnlqxCkE1TJGke8cSgbE974nYENTIumQ2AudDFxYfc+xwlAqaTLwjT1ubkAiyIX17/AGAG2LkZ36oVpD/hrosPKG21ffE6plqAy6pkgM8dPKR3EkjHc+2+NFljkFJnUVqajnpk1qfFSojuX+wwRVcszBW+W8GNSF3vKNI/XADFL4j6KmvCNoJ8Q7KD6dsCeiwZDk9OI63NIqaZQbya5QAbnu3qP1wb0KvzSCkzNKOnoomhlciKOBybexuP0wZskDBJe5RVYHszWvgiOYNLS07NV00Chvo8I3c+pJ9sFyicNwxZjRpmVPk5mo2LouYNIrB3XZgukm9jt+cFkw1nGXRtRJTZeWjW95HLbt9sGg63hdhRxUpq/GZyA8St397e2APRcO5Tl8DLBSqHuQXL3IPt9vxgluDUmVQwOk0AdpCLOQ4Hf098GbdLVuU0omlkE0iMr+UiQWB/PrghGGkir6ySFKx3pkjLz1Li2gKLk9+33P8AbAYsdT3xhuhbpyzSDhJuMZuKs1hmkikyfgnTWeDIDYmWUN4aWPpqJvtbDY1OMdR5UfHv6TONOJIsi47yLifhj5qoEUGY11GtRFEpsA82glh63sD/AGvhiZWZPBXG/DXMfKF4p4P4qoc2yypRWpsxy6rV4pVt/Ky+x2I7g7HBF1WmzQfwqZ6d9I0pI9wVH2vscBGLKYqatFPJmarNK15mAsIxb1374DwrrQ6zeUnSFyuzTmPx/wAQCerVnpuG+H6UH5jNKy2yICPpUEM7nZR37jBZLWo7m38XLrm5ncctxJwjzhn4ByaKo8XL8j4fCpEq2H+MzXM727328xAFsc7yrXX42C/CY+KHn3Vdm9dyT6hVyaHi6gylZshzOhoPBbOFV7SoyL5DMFYNdAo0o2xNzi9riXjjOanAoIGalqaYzs9li13ZR7t3xqXWVtVqTK6+XNs6rIEdECxrLv59zsQNyb+mK3x8Tmr8uzWljVauOCUy6mjjjtt6bd8C1eYcyyCGMUcWfLMY1GtmpypVvZdXf9MGFIM24apJlgQVAmJJXuwb/wC63bAQzWKprIvGyDKaapqV8vhzHSpG53J7YBeqj4qnemgihhkkRSstPGo2a3ox7gYDlBT1dI5OYStTPuuunfUQPY+2AL8/mY2Wtqren8fAX1qfLwZHpViYM5JZADbGJDNCqzVCDVSkgA7orbtja2YQNfVpK0ZyyRmI8pUMf7DAlxi/8YnJM74l6AOYWW02USVNVLw/J4VJFEWkk0ujgKoFyRYmwHpjz/ln8XXi0D5bXxziOCCe4FhG572t6+xxjjnGpy9ZFdMvX5zd6OuH8zyXkfwlwfDV5yNEuc5nk5q65bAeWMlwFA3PY7/jHaXUep5N8dvr2oEioeIM94fzWnilvJHV5B4UjLb6CyMpAGKvWveuQn7RJRR1jZT1F8gaySdwop6/hDMLIu/mLQy6tgLHZr/77mL1ZoclPiBdIPUPluX5rwR1AcP/ALwrYI3PD+aVyUtZTSPsYmSQgOynbyXv3GL6zeEj25+KcvpKOTLKKGVahBaSG12FyN9vTGLdcytdnctQny9KJILqA0rRWJP64S4smgUtBmccQlp84SVpHCIslz5j7/8AGIZdac/juddOc84+bD9FfBWeOnDXCMiTcZSxAKuY15syQEqQSsVyGUkgt6AjB2nG1T4aPwfM15+ZcebnVRPxBwzwc1Es/DmT0B+Xq82uwAeR2BaCGwNrLd/Q2N8X5jNmMf8AqW4Areh3rMzzlry5z6qrqfJZ6SuyOvziiUuaebzofMCH0sGXVYhtO+FniN7XT1xjm/M7lFwpzL4ohp0zDOuH6SqrBShdJkaFWZ1AACaib6QPKTba1sL8o75NI5k/h0hGr+d32/NsQB+eWpkkpIoPmAuzIpsB9sBh91l/Gg6Z+lLM8x5d8M5XLxdxlBdIsn4fXXTUciDdKmc+VPNsQuphvcA43sScdYf8Q/tEnVjnVZTV+T8keBMkSIm1MoqKoyH0MjyMtgNtlG/vh2jpJI7ryF+Pd1Dce80cn4f52cu8rqsmrJvlZF4YTw5nmc2jeMNcWXe6383bF42Wpy462h0md5fUP8zT5tHIewDNZzYDup3Xv64t+VxvypVk61cLT1B0MoITzbAfc+2IOpczOfPLbkLwdV8f84+PMqyHJKSCRxU5jVqgmKKWMcKneaU9ljUFiSLDEvKRcrAbn7+0J8sspzSryDp25B1fFNHGYnTiLOs2FIkh3uEgCklRtuxU3vtid4uWr10//tBfKvP/AN28M87+Vi5NndRnKUc9dkc/j08VO5X+KVYguwuRpUW2777an06s9KTPoc6y6PMqCtEsdVEktPKVADIRdW+wtbAkxi58ZPnD1IdPnSueKORFXU04zeRafijOqKGN6nLcukDK0sAO8J1BQZe6htrd8GmOvwFepPmHJzNzDp8ps4rq3KMwyv8AeE5zjNnYw1EQHieFG1xd9Ss1rMQm5NrYDaQuZ1dHmE00kmhrG5bZb72tgPLuqDql4J6TOS+fc9OaGaQNT0FI5oaV6gpJmFUQfCpYRpLPI59B2AZjspwGH/w9vjUc0upPndQ8pOa3LPh+lhzwTtlIyaV43o5EDPokDljLcLpLXG/bBnl42KUObZhmdNHLU03yrMCZNiO3tffEtxlbeMs8Th3h6or6qRIqCkietzGvqJSi0sEalpZGP+VVUk/YYnaLJrSL8RT4oHMrq45hZty25S8d1+VcqqGU02XJl6NSNn+m+qpqNLanjJ1BEY6dNja5xz7TW8da6N/hO9UPWFl65/y6yai4W4WEpWbiziKmkgpmsCbxC2qe5FrqCo3JO2LbjUmPfONP2d/qZ4Wyh+IODeozhXP6mEp4WXVGUzUyTKSAxSYsQjDcjUoBF9wbY6S7GeWZ8Z9/Dx6auYXTd005Vyn5j0MNNmVPUVNVWTU+Ymp8dpX1KxJA0nTYaRcbXvcnFc3uUzVlRVU3DeWSSq7AtM6L9K22Yk9sFk1b+JsxyfJaGteKaSapAL1NQIWZVCi7MxHYADc/bBerQJ8SDqgzPqr6reJOL6CGNcgyaX9z8MRUs8kvj08bMTPZwCHlkZnIsCNQXfTjFtrpx8bIPho/Cm5OcOdKbZx1Q8ocqz/ibjBEmqIOIaBHbJ6QxsBTxP8AVGWVw7MpVtQAuCoxGmv7qB5ZcSfDm68P+lOAONJaHL8tzinz3hDN46lnlp8vdzoSR/qZo2WRNJPmVR3BwiWbG8Tk9x5kvNPgHJOY3DuYDMos7y+KtWpEIiM6Ed2A+i5BOkbb7bY6OGY7xTxZolTNmNcmWujIWghmg+k27XvufvbBZbEqjOZJokWbhegaUAf4DldTejG/f+2CBjNcuir2esyyKqkSIAqV8gv7/fANNms9RTAUdHTUMbJpSFAoUH8ncnALx1GdUsRqYMyKksCYkJIa327HAM0FfmsjRfO5jddR8RRGL6T2/G+CyaLU19PRVLO8ry+UNrktdvwPQYJZi0sRIxk8OYaje1xgOytNFIfJrVQ31BQF/TEniS1WpagCqaR2Vl2dCST+b4rfIKKvkhaUxHwygGpmO1vfBOPrwfrw5OUHUT02cWcB8UV9VFS1eVyuZKStMEgdPOt2HZboO349cceU+Nvnt6f+DMt5mcZ5HwdmefjLaevqoqWerWISSL5ihKKSASTbucSSWDb3Sfs/XRbBlcbUPEHMHM6t1iM1ZPnyQKBosQixofqJubkkdgbY2T5S3F37Pb0iz5a0HCXMHjrKMy0AQ3q1qoA1wdTmYknbawtg3seBdR3wEedXLujXiPpo5jUPGHhQE1uUZyflKl2XdtEoDIdrWDad774zbdNjC/jLhDmjyJ4wXL+YfLnN+Ec3j0mlbMqRoWkkHbwn+iS2xBUn0PrjNtw2M4OhH4yvMzJaqn5d9VPFFXnNBLOqUHETlVny8EjeUqLzJsO9yLk79sdZd4uVn1tcyp6HNMno+JqLPqfM6auhSagqqGbVBMjKCGDDYj8YjTy/q+6hqLp+5IcWc0OIc8p8mOSZHUS5aHn0iarCERIhIt4jMQFB7k4E+1o66AOQufdX/V/kHCPH0c2bfvfNZc24tq66s0eJTljJUPLJtYgNtv3AAHpjnNde2Rvh5xc+uRfTByrk4r475l8NcJ8PZPTpDRpVZhHJJGqgLHHHAhMkr2AAUKfv6nG/uOXrRF1T896nrO6yc35s8OT1ctBm9XS0GRLmEYSV6ePyraNdgGkZnCgA+fcA3GNaN9HT9yrn5K8h+FeWlVnk1fNlGRU8UlRIlmZygZgQfQMSAPQAYW79HbnJdFheZtR9jbfEGC/xpOvriPpk5X0fT5yVzWCh444ygMtTm9OhaXKcvDaXkU30iV2Glbi6i7DexAawOljo+59dYXGNfwTyNySnnkoKY1WaZvm9YYKSm1N5fElIJLMQQFUEk+mxwWXGfnBH7Ohw+mTU83NzqZzKTMGhUz0uQZRHFDG1/wCSWRi7C3qygn2GLlXs7NyU+AzwPyk51ZfxznHPOqz/ACPK61av911VKsbylSCqa0K7DuSBc2++LxmVLy+Ngkg4cbLBT5NQQhEcapGpl1Ej3NsacnjvWn1VcDdFvT5mvPPjulkq6WkkFJkmSQsVkzivcHw6ZGAJUbambsqg7gkXW4sm1on59c+ef3W9zVk4w5p5pWZ1mddVhch4Xy/W9JQBzZKelp+xO4FwCzE3OOPK7W2Q3IX4G/VPzByx+Kecef5dy3y9IBJHFmFN85V6dJ1eJGrKsVrdi99xtjIw9kpKPJuJ8xpqHMxVrQZlJDS5jGQFqBFKVEyW9GC6h9jjfGj6KOkaXLOZPTjwLxDmNSJWquEMvdV1MrORCoI27kHY+m2OujGr9oDmruDuiOKkydEiTM+LaGkrZZ7ESKfEZYx690LbewHY2xi0Yc/A94uPCHWRRZfLTmZcx4XzCkjeE2eMiJmVvvuLYbRuUeKpqxCtbTOjt5xFPcFPzhtGD37QVnaZV0X5XkMMYqPnuNqKMzIVHymlJCCASCS5shKhrAm9r7zdGF/wSYxQ9e3C+YJlKVcy0lZDRyTShEgkaI/xTsb6b3G252uMdJ9iWa3lZTRyhYqWoqHaRiXqZJH1Eb9r9v0GM8pWcry/rK5AVfUvyC4u5F0vFlVkP/UOWGCHNKeVl8Nw2pRJpBJiYgCRRuVJG98TrWpMaCOfHTvze6UuP6nlvzu4cjoJYal6ejzGFWajzFbkK9PJpCuGAvYbjcemOeTjydWVfw7/AIwnMXpteh5Nc+slqeKuBhdIJIpljqsmQ280RtpMY0geEdt2IsTjXLEs1uE5a80+XXMrhXLeLuXfEH7xyqvpklo66NTodWW9hf1G4IPYgjElscuUsX+serLsh0yL/K17eU41tJmKRZrBlsJjy2KSOqqU0yVZYjQBuAL/AO2Ny60xe+KlzBzLkp8P7mZxzQ19WmYZhli5RlktMwVzNVyLCSbsNgjOSdyPQXwvg00dGnC3BOedTvCMnNnibh6g4ay/MVzTiOu4vqzDSzxwMrmEsAdcj2IC/wAx9cYbnjcRxd8WboJoK+PKMw6n8mr6VZUcPlVBM8SeITsgEYZgoBuQLAeuCtVXVjzYTr766K/jjlrw5mU2WZ7VUOS8KUVTE/i1EKaUEjRbmPU7yNpF7A3PrgW5G+ngjgvMuFuE6PIqrMsuWkoKOKigTLtY0CGNYwoVluosva5sDjpHDldq65rxDQZa1JQ0tA0ss0qo31WVexbbb3wRc6T/AKalW0lcEmdrJcG9/wDQfpgAxUOUcPeM6V1VOpuTCsQI1fk4BBMwp66jFRDdTJIVCNDcmx9MAaGoky+HxWy2SSUrYCS/lt9sA1keXx5vlrZjmcLROtR5YxVqoAG1iAbkH8YOnG/Bs9Shji8fxA5CXECm7fjBnks5zOtBsMmfb/8AvjBlf0nTUyKtwiXAJ3J/2xJ4sg9NFl4IC080dgNTzuGBJ9rb/wBcVqoyUtPOhdpAoXfTq3b84M8fXVObeXVGc8HT0VHkq1BkQxrTQpqLXPbfvjnfrb5vcjo6vlb1OZxwrW0aocl45zCmEchAKhKlyoOnY7W22wH0d8AcTZZnPCmTZtRUjslblFLK7gaQpaFSQB7XvucB2Sn/AHc1JK4pUme9k1m+AtbxVs6NJMjaTdWRhb+wxi+jpXOPpe5SdS/BicFc1eAslzbKv4gWLOI5HWEsAC8QQgowsfMGBGElGkz4j/QT/wC4HzQy/KuHuJ8xz3g3iFnORZtmMILx1SszPSsVAsUj0EXvcN32xqeDN34FXVDn/FXA+cdPfHvEMk37sZcxyKasluY4rgSUsZPoA2sAWt5zfe2KsmsSvjG9afN7md1P8TcjMr5l1acHZJDQwz5BAqilnqwrSmV1ZbufOtjfYjbtjNrUmMVOE+LM0oC8NBneY0UsiMkktBK6ErbcMU304cacvHeuWPSL1DdRvE2W0/K7kbxNxZNXVTRwZl+75vlVYfU3jzEIirvck40w2tfDa+D9lXSXxRS87uo6SjzfjujCSZNkuWVCTUOTloyGaZrMs0ylvLoYqpGq5PYM05DnNZWzSwU3jK1ramHf3wFapFy2LXncpWPUuuSFLkC/YYDQD8VHmVmPNjr447zysdZP3JJFkmXVESFS8EK6iWuTdtcjelrWwG2L4R/ITI+SXSBw1U03CdTDXcTUxzXMsyqLBqou3ksbDWgVbL+SfXG8gyczCqrcyqkhgy+yo1ySbED13OKOQ5bJmlWBHDDHEqfxGdiWJ+wGJdgUqo6ytytli06Ym1IkzbhR6+w74nas2fWj34vnUJxB1G9aedcBUmffMcK8v6tsry2Omkdkar0gVLemq5RVB7WW4PmOMcuWrJkZz/CA+H5y55XcleHOpviHIqSu464gMtVl9ZVVJkOWUgfSgiDALHIQCddtViLEdsYVlF1D8Z5Pwlyh4n4izetWmy3JcnqqqskU2jhSOFnJLW91t674D5v+G8ySsMeZZ1TtTpOHkMQW+lXJIX+h3xZ6N7HwauaE3GHQ9k6PRnVkdTJl1BUILK8IJe5vvqu9j32UY2Ov/HbyOoqugTNa6sSmzCohz/L5Heri/wD4Zdf1w7WEg2W/szYDAH4OtdlNL1vcNPms0cWoVVNSST1JjIlkiIVV/wAzNuAv3wG8Wq4hyyszWGnkp2Jl1BGZCAT7FjhJo1MftGOVz0XHnKybNZ2tUwZq1JA7sI7Dwd1HYm99/wBMW/Lg8x+BbU8VZP1vZVmPCUdWiJldalfVQwa1jieI7MSCEBcIATbc7Y3+O7KN32TZ0jOpq20lTvuASf1w9DnysWZ5h48jvEstyzIAdret9v6YsuFmvPuprkPyV6k+W0/JTnDwjSZvkdY15YHR/wDtiPpeJlI8Jx3DKQfvjHKSm40q/ET+HZnfQxxBFnnD2dy5/wAB5qGNNnklM0c2WTFjajnI+oAaQsuwYmx378c+rx5a9H6BPi581uSEmQ8uucFfV59wDl+XrQU+U5RR08E2VhWJWRWIBlt/NqNyGPrvjZybf+XvHvBvN/hDLOPOWvEyZjkua06z0lRC3dT3Vh6MpupHoVIxXL6v1ZReC5mmS6qp1nUDpse+2Dc8auf2hPgfjzPOFeE+Z0PGle/CuR5ouX5pkc8pSKWonYmGpVBZTp+m7bja3cnFtVg50idKXGHWJzvy7kDwjzCyvJKzMKaaWnzHiBm+WHhoXZSEuQxCkCwNztiNzxmhyb/Z1+PszzWoh51c84aKhSpMenhagaSV4brdtcwVFvvuNRsOxuBiyaW4zY6RPhm9KvRRxVLxly8yXNc54ofL/ko+IuIKsPJChKs5ijS0cRYruQCbEi9tsbyOd5Wsg66Woq6mMxzWWJAoRrWsDuTgwk2YZvX5sYzR09NRQqfDihUASG3c7kk/nAceWaBGnjA0h93CiytgKy5nLUNFDcAjfYdz74Bta7xEXVUKCjWUMNgb98APMq6rd5Dq1gqAGJ2G++2AAvyhoGSsy6B5mcFCi7X9Cfv3wbnicWXTUcz11XSBbxfw216g1x+NvTBORW2UfzZ2gPqPBf8A4wZXOTPqV4zRZY1yTYoYbWP5OB4LldVLVUxeppjGyvbWBsfxg6K1VcA5pIItQG7s43P/AJYC35jRy1mVVkmYu6UyJqMcIAaS2+x9PzjmPnR6yMvXhrr75m0FPSEauNZp9MjmXWJFWQNcWILKwuP5STucZ4/eeDff0nvT8T9OfCeY1FXpmk4cpVZIxc7RgD7WsO/f33xuzLg9HbL8vyykjpaIyyVDKD4Qa9v/ABE/7bYglRZfZvGr5zCQtxGPMGwEzPBCRFU1IVmJaGLwhZyPvbawxuYMH/ju8M1HGHQjxPWyZLI4yqro65JSUPyc8cyKHViLLqVmWw3a9sSxYwq+BPmFVVdWNJlPy2uKTKav5iXwmIjHy7m+xG/lte+2r1xm+N5jIL4+nSzwHDyPh6j+W/I/KqTiSkzem/6nz/L4LVE+XBTGTIqmxVSysWt3JJPc45jDH4anXNJ0V8yJ6vPuFVruFeIZok4giTLYmqHRdWmSKRuzJqJ0k6WU2Ntji8fU5eN13T51T8jepDhWbNuRvMvK8wy+CNTNltHOsdRTBgLeJAtjGPQG1jbbG2HeoaSlaOOeWtQJfyQWOq/e5A9MAxFU01OrVcMl2FwLbD9cAhxLLS1LvksGdUk1fT6HqaH94RmeAOPKzxA6kUg7EgXvtgNAvxMeDJOVvW/x1kObo2jNMyGbUUioSGhmAuVuBdQ6uNr/AJOM30bXvhB9QfD/ADS6MMj4ayudlr+FAcuzC0gaViWYxtbuqlQe/cg27Y6bgyapXzWsYy0lDKI3PmlkRiRb+UHt+cZXuNmRmio5IaOdgzJZiBbSTsbYJukM1yWWq4bqKg53IkyAHwEfTcAX0m2+9h2wHz1dR2VT8DdRvMXhisgeGqi41rjUx1CkS6WlLI5YnzAqQVPrbHMZ1dNfxu+nnljyDyTgLnFyx4hkr+HqKCgpl4biE3zcUa6RI7ybRk2A0i9vtgPCuvr4tvEPWjy3m5GctOVdTwXwbWVCNxDVZjnSzVeZRxvrjgKIqiOPUFZu5bSBtgMaObvTpzD5JrwrV8zaKkof+sMkOZ5LT0teJpPlgQqvIoA0BrggXJt3sdsWejab8BnPc1zjpp4i4UWRYabLeJUdJW+giSNiyoP5Tsp79iNsbHq/xd+A855jdB/GuU5WzVEmWUIzPSx7+C6tt/p+cS3GpNae+kjnNDyQ55cLc1qhZnTLM2hmRIWt4iHZrne3lLH9MJdSzH0C1XHuT8TUmX8RcFVsFZS5hTRVNJVT0kixMsgDDQNi4sRYjvjW9bE2NHnxiuoSbqF6xs24fbNEq6Pl7PLkNDJGJFEkg0tO2mRjYiS6iwXYW3tcy8t5NSO9fAajNH1lzy1FdLBSrwxU6o1XVra6kHf2vcexAxvh8iX1uE4u5kcouVXBFdzI5qcwcvyTI8lQTV1XmKkuVLBRYj+YkhVHdiQALnFR2fh/mVy34y4Wgz7gWqlzXL8zgSTJ8yoZFMDxuAQ7g2Yd+3cYBjLc3roIagUdUjQEkaZId7jubnb7Yl8K63zB4U4Z5i8I1/A/GXDNFm2SZjTtFmdHmFMskMkbbFWBFvXv72xxvpwaB+tzkrwB0q9YXF/T5yo4ofM8nySqiamMkf8A/LzOgc0TG/nMYIs1z5WUEkg4nGXW742mfAyzqPPOkup4ezJqlo6TiWcZbNICizR6VBK+llcNsNgTjo55Ga6pDTIsk1OgDfUY1C6xf1FyT+cFY8/Ek5WcUc6eifmjwnkWW0VLVtwzNLA9cVePTEyykABSbkIbWF9Wnt3xL4NJHSdz5zXpq568K8+MjpJBUZdUxNPSeVvmKZ9Ikha9wLoXF/dr+mMD6IOUnOHhXnfy7yjmXwDJLV8P5lQrUUEMsyyGLcq0bFdiVYMp/GOvDxL47JLR5RJQrXVVSkHivpRb9j6jG2CM9XlMUclLQqWfssj7j9MBxJ6sB4IEWbwyPGaJr6QfXAHzHMsujohHWlWcgBFR/Mo97YBOspaWotV0V/Et9LNbb029MByLLKqpniWSrNOoBYSBdVm/GApT8OSVJUVNbKSupmK3F9/TfbAP1VMsdPelpFVFS4CmwYe98DQqioyGlkWGjjmlUwB5ZFiPmY/y7t6fjAKrWIFAGQubDuZlvgHVjSjWNKWGQNKxLSFr2/8ALAGyqkq9UiNUsFI1Asb339sHQeuizEhaOocaQQwMcm9vY2/0wE6mgZcnnnzCVdCxnWjNYtf0++OdHzy/FEoYsn+JFx49Jk5oKSdqCoiVVYGe8VmddR9SNJN7XU+2HCf9ZRuf+GdxflXF3Q7y9zagq2cwZdPRyBlUfxI53BFx6WZO9mv6Y6fl/sPcq0TUyK7OdRPn0mxH2xzA8pmpI2YTUclSxfcNMQAPa+APnUi0eS1/E2apSUeX5dTPUVk9TmCRxwwoNTSM7WCqACST6DGpVktaRvjB/EYi64OMKPkdyTrYl5a8JV/zFTnscDoM/rkUjWuo/wCAhZgpN9RXV7DEt1qTIyQ+AF0fcc0eU5z1V11NPR0jQNlvD070vgmuZ1C1B81tcaqSmoDu2x8pwy2McuVnjYxxrwVk3F/D1bwnxFlEVVTZhRyUtZDPErBo5FKOLMDsVJH64z0px5X9tOHXX8Fvj3p24Uznm50753PnfB9JVeJWcMVfnraKJmOowkD+LEgIG51AFRud8Sy8W5ZWGvCHH/NrlTxT+8uX/HOe8MV1CUWoipfEpnRlB2kWwIaxPf3wlpkZVct/jYdd3AVBHHxPnuS8X00cQiSLPaBDU3GysJVCNci12Ym9sOydXZOPPj7dZPFHBmZcKcJcs+F+GcxzGhMFNn9KXnnoiwsZY0YlfEG+kn6TY741LqZV9+A/l3PfiLqM4+5s51FWcStNk5HEOaZnK8lRPNO6NE+u+xurE3uLWAG9wR3v48HSJxlxjQZN1PcL8KisOQUAoeIaWKQmWKjY61aCNSSwV7lyFGxJubYzya4xhp0a9efNbpS51x8wuD46epy+sp4aXNuHUhSGlrqcEeVgpXS4FiH7ggH3xONtv1rlJjbDQfFV6M814Nk4rfqGpKOWjoUnzHKZ9a+CzFV8KK4HjPqax0jtv23xtzzXmnHfx3ulDhzOf+muAuFeLOMXKeHBUZdlphSoqTpCRRCQ63uxZbhb3UWDXwXr1ZUcquLqjmXy1yzjfNeB8/4RznMXZq3h3iSmVKijQ6ShNmuSQd1YKy23GCMfPiFfCf5WdXmbPzEps+zDJuM2yX5SizcVAeGTQSY1miCjWBcjUCGAb1sBjmMNsh/Z+Or+XM6PKM25n8FZfRVk4FVXvJPJ8rDqsHCBLyEL5rXHt98Bkd0nfAf5Acr80l4x6h87qOYWa02Zq2QrTU8lNlHhhQTJLEG1TMHuAC2jbcHAeRftD3DvC2Xcc8sM9ybhaOgkjp63L/m4iAs0amOTRoA8g1br9mbAd2/Z7c5reJuEOPeD488GjKaylqI8ull2phIJfEZVJsxYmO5A/l7+g6T7Bn/x5wOeKOG6vhHORHmFJXQtDXQyDw1liZSGQ2PYg+mF43GuLRN1/wDQNzK6Ked2YcM5Xw9mtbwFmBOYcNZ4lE0kUNO7eaGd0GmHw5LqC1rrpPrjHlWzVq4G+IV1tcnOC63gLlT1J5vQUFVSimanqBHmDU8YHenabX4JsfqSx7b7YW6nWPMpuEONs34Rqec2f11dmENfnfg1edZgZZpq2tmV5Hd53FpGOhixLE3tiNMyvgFVfBdN1V8Rrnec0kOYHhSZcphq6pI5Kl2eIyKgY+YBQ1wLkj7E46zlcYvrvH7QNzk46zGt4F5C0q1VHw2HqM2rJFiAgrqlbLEjH+cx7sBsBq7XF8S8rqMz/hh9SnA/PrpI4WyzhqeH/qDhXKKbKeJgtOqeFJGjLCSwAD6o49m7+Uj0xueDIgUlkTLxJG8jSjwYEcsxJ9bW23OFuQYSfE5+LtwH0g5dX8keUtNR8Q82Cg8GliPzFFkurUBPVFSR4ibMsO5JtqAGx4NcY1TdO/Tt1K9bHOepyvgfhvNOJs9zerbMeIs6q4joj8WW0lVO5FgASTbuQtgDjXGVbcfQhyG6fKLpi5V5DyK4apKd6XIKBKdqqNFQ1UwH8SY2JsWa7Wube+OuOVruUmXyw0UlSyQLZt1QjVIfcn+mJYm1bszyKXi3Ip8mzShgK1MLLJDNdlaMggqQpF+59cZvG4sutF/xPuhTN+iLnDVZ/wAH8EVjcrM7rEXh3OGmZ0oKlhd6OdiLo2q5juTdLb3BxizGly+Hf8VXjbo5razgTOskmz3gbNZVlqKKWtkSbLJd9c9Nba7A7pazkC5FgcWcsOuxsE4a+Nd0DVSUlNxPxlneXNUwxyzMmTvVJFrQHQ7I5AkU+VwNlItvvje2s9avmd/GY+GrwrllRVPz/rsxZfLBBk/Dk8xkf0CkgKV9SxbYe52w2ssauoL9oq4Ao8//AOl+mvkVNxNEY4404h4knekQyve4FKg1sUNt9RU3O22+ZbaM4ei7ntxB1UdPGS87+KuU68LVlYGSqgRmKTmPymWFnUM0bEEgHYG4ubY6TwewZfCZKUVXhuruSVV9yw9LAYoDNRVTQrLQVYEpffxEO34HrgAT0+dTRfLUuXT1Db+M6SgaR7d9z9hgIU9O9BG9DVUbpMy6Tcbhe9vbASgijRC73DSWWxa5O+34wBWYIxRpacEGxBnUEf3wFy8N2U1EkTED6pfQH2xmVZPoi5hUUURFOkbm1wJGsD+uNNg0C5nNHrravxHa5ZUlJVfsNhgJVMGXLA8lXTySIPO6KblrffDNGmX4/wDyeosu6jeFua+W8MSUNFnPDk9HW1vhu6eNFKjwwyN9IYJIxGwvqtva+M2dbo8e6VfiTdVPQ7ki8Jcs80yBMqzFCwyTiGj8SCSQ2CzgEa2chO4Ydje/bDnz0zWQGQftB/VZltPDRZvy54AzpVivNmAo6qNmbc/yOB9uw74595v1u8JDHFn7Rr1SVeTPQcvunLl5lEzVHlqK/wCaqnZPXvJZR+lxcY32l8TqxT6sPiNdaXWFlc/BvOjnK8fCssg1cH8PUopcu3J0hyLyS2J/nc/7YjXj0j4dnwwObvVpnGXcWcTZHmGQct4p1NZmzQNG+ZrG1mhpCwszEjSX+ld99rGxL43jcAcIcP8AKPhKg4SyXL4MkyTLaSOly3KqLeOnjXsoIvqJNyW9SScbcpLV6zHNIK2JXpUsf5TaxtgdYQq8opc8yw02cx+KqyCQCbcNta1jsQdtsSzWpkY/dSvw7ukTqvzk1/HXJzLqaSkZRPnOUTSU1XPOEIs7ow8QKGB8wO4HtbGOjXZifxz+zmcEZtmT1vKbqI4locrWSO653lUdS67WZS6GMG9jYge98S8L+mtLcIfs5tFlfEnicb9UtbUZI8rGSiyjJ0+bZARpUuxKJqF9RANtrA9xrh+LlPtTlWd/T9028iOlzlvBy45FcFNk0KsJK+dpZZZaiW1i8ssrFpGtfubLcgAY11jDteZcKcPZ/da2ip66SWJ1lWulkKuGXTYKotexOx29/bCyVZWrvq4+AxzTj5iVXF/TXm1HJl2dV9TUnh6vl8GHK49IZVE9jYajYKR72t2xjMa2V4jwl8Eb4iGe52+TVnAvDuWxLEZ6nN5+JEaGJQQt7qDqY7WUb+9sDtnjOXox+CFyr5FZ5lfMnnlxbV8ecWUrCejy6gZ6XK6OUMrRSAjTLI62v3C323G5uVm21m/mQpKoy1PEOZSVFaXH8Oa2wG2wUW2xEEooaPNGEMUzlYwNbOblR9sTrAnU+DJVsqyOpjP8wtt6fbDILnUZnnda91rXlkEYHnACqANt+3b2wyDCb40PSDzy6ruT/DuY8ocjgzPPeF85lmkgknRWejkiCyIlyPNcA79/ces6jqHwVehnqr6VeJeLuP8An5w3JwvS8Q5TTw5bls2a00ks1nYsZIoyzJYDbXYgsO/p1kyDYLNX0tdIqU+ReFGhuztISzi/v2GKsuLZxxkXCXE+X1PC3EXAlJmdBmNMI66mnVnWVO+lze5XsdPa47YzeMq9mPMHwr/h2U3FS8XU/TVRFln8Z8tpqufwAQNrqXIKk2JXYbdsTpDtS3X50N5P1YdMdL08cm6PKuEFyGvizDhWipaYQUcU8SsFR0QWZWDFSxuRe+5ABnVJytjHf4WHwjeZnT/zlzPnv1McO0seaZTF8nw/k0NWJoGkNj87rU90IICE23BIOLOKPRvjddPua82ulI57wdwNX5/mnCWajMmWlhZ/lqSxFRIAti1gQSpvsCQMOfG61JrWF0g9a/PDov4uq+PeQdXQ+JmFKIK3Lszi8alqIe5Vka4DezrZlBNiLnE74vWPfuo746fV/wA7uB4OCuXvD2U8rxNIf3hmWQMJ6mZCPpinl3jFr3Om4vcEWxm8rTIx/wClLos5ydX/ADmj4G5S5THUs1qniDiHNqiR4KFWJLT1MwDMWN7hd2Y2HqMJxtpbJG8PoT6IOSvw/wDl3WZNwJnVZn+eZ00b51xVVAxyVToP8KOINpSFT9AILbksSTjrJjnbeT2mPMRVs89TQzrKQVjKAht+/fFTrEpcj+ZiEAdtTqPFDEFkX183bA6xXMK5qecUNLDIsaxhER23AA9CO+++B/WOuca8q+XXNPg2r5e8wuAsvz7Ja8q1blWaReNFKVvY2Y7EXNiNxfGeXHV2NcHUh+zsZMvEEnEfSJzQkyWnratR/wBJ8TlpoKZWDFjFMmqQKrWAV7mxPm2F+XLj8WcsY+1vwLfiP5TRqaXhXgnMn8dknkoOLBGqrf67SoGPp2GLx1rtsOZD8Bf4h1bXmkrKPgzJNUqq8s+e+MpU7XUxoQDudjbYY6TixfHu/Iv9nRy5Mwy+r6hufddJVRVF56HhOhSNNIfcrPMmonSD2AFyDc9sXrGGxjgXlhwbyO5eZNyn4HkrZMt4fy8UdA1fN4s3gh2b+Iw2LEsSe3fa2KO2UtNVNQw/MVSQRmwDg3Nva2AJS5JSvWMsddVONFkjMINvck32H9cAGlStIU6ipe9tIta2DXVGuy2qqKZp5JdciX0lXuSPvgdYBlWVyOq1CUNyin+LMxsv3sDv+uB1jj5RnrOWWhhIJ2Nhv/fBciiV2TVeXrUxZpKy6bj+HoUH12IvjPX6fJ8RnrYGaFqeVpdQ9Y/9hjSixUebTKz000cbE/w2N7D82wFMxFbSTFZJmfUo+k7E+uAs3EuS8NcQ0Zo8/wAniq0dwzQVaB43Ydro11Yj0JG2FvwdJ5vdJXJXqE4FqeXPHXKHh6qoZoAkNbUUCeLQBb6TC6gNGR6abYZwsGFmefs6/CcAmn4V6l8xp6aWqMkUNbkUbKt22F1YGwWw9dxjn0b7Qlkv7OXwxSNBmPF/WBm8yarVMNBw9AFcD2Jbb0379++E4Ydo925A/Bv6KeREs9fmfBddx5JOqmOLi2v1QU7qQfEWKFYwWJH8xYWNrHvjcmM3lIy0yfLvlctpMuyfLKSno6aNYqenpEWKGmiUWWONFsFUDYAAAYqbpx/FMoEo0jsLL2wEI3+YLuFljRW0rI40l9tyB6fnATajp2p5IYZHEhFyxkLH+pwFlqcjpuEMipcqpaqd44FJMkiW1FmLbketycE3FxpJKebLIJ2raiby3ZGgZFW52Ck7N98FlXBcvr6mNJKKibSR3NlX8E4ugWYZTBRh0rpGiqGAKRILoB674ghl9B4VUCJQjkEalUbA4BXNSaaU0eTNJUSa7PUSWAt+MAWqrqqiphRzUjiA2ukE6gMfcgA4BcUVAsAFfmxXxxdY4m1Nb22+nAcip6OWImlUFQQLs25xnql8DOSGvVKFqQR0jMDUPFIFL2O423w6kun6ulyyWNYBQFaeBQEhgQk2A7bnc4yqUlJQaEkiEirYfwZfqH2t6HACfLKWORq2qrmk1AjQqadA/I3JxueJbhefL6WBVkpIQig+YsDc/knFTtFKmrWKj1G2pmtGoFl/P3wO0Alq80mq5ZKXJZZRHCLvGpKgnaxA3JwWWUCbhbOqhUnSlEOthpaRCVAv3NiTgptcgqKKr0UsRqZWS7Mi6EPufN2wBTk1RXE66kIqG7Bm9PbbARznKsqzTIqjJJqR5Y6tNFSjCyPH2ZSTsQR6Y1u+jCfqZ+A50s87s/n5icu8yzzgHMqlF8Wm4bSA5eWDEu5p3ACFgT9JA2H3vys2rtS6dvgNdIXK7O14g5rQ59x9UiHVR5dnlVH8jGW/+Y0US+ZhbyqWsLm4PbFnGftLysZgcAcs+BeRWQTZHy6yCPhqilqGnfLKKniihct7rGov2sPtjUmMbd1f6fMZqySOsgylakofI8zaVj/T1wa7RJTmtSkhpoogUBspfSpJN7aj274KHURV0b/KPKGlC3lMTeRPXufTARSkzHM6kJDUFiDd3mkBAA9j7YJfFwNEuXuyzTtJIy3DRH6R72wYJVDxRxCtdJwtrK0i+djgEZ62paUFJAFHlZma1vtgG3zJwBFAJACoMo0//l8ByozOplpmo1Z4E2AJuHIHbv2wWS1zKqKjQrprJZGT6vEjALb9yR37+2C9afq6iKjaGSpzWFVjuxiFPe+3e99v6YHVSDNRVuTllWHiaMHU0Z7m427f0wZnwpVVVPl8YpznkMkmq0kQD3W3cElbf3wb7QhU8WNUZg1HlLsyhbeL2Af2++CdoK02cR0oP72UJpLSw6SSxB2/GB2TFXmhAIzDT9vbA7KZhSS5ipieoEmuwJYemCZdN/ITUvhQZbUrCbBS3YqB3tbBtM+NRSmKOrLhxs9j5j+uADmdJVPVrStUqusgs977HABbKMwp2Eywoyk28S47XtfEs0XClikkhNI1QfDItt64k2UMLRy1FMMtiXxAB2fY2vjQUkyfLqdDAyqjKwDIW7b9rYCpfLKENIyoAosW0dzgzymxwR1MsYZqdo0tcHVpJHp27YLJic00e4jyyMsQNLiYkgfcdjgqVLFJCiyShQxubHe36YBuknigZ2raaFio8msWP5GABVZvqi8LwYyshuFks17YMcpdcGb1E6JBLTIxTeO/0Lb1t6kYNTxSaXNc4qooaiumkMTayIhoT3ttYbYK49JFNI5mjkElrFn3scAk1W0cgLhZ0U7Ara/oRgFhX5hW1Msb5fDDTog0ug2O/a9++AXzCugU2lq1AB0Af5jgF46BYIpZKdlVr3Zm3BP3OAbVaj/ENQraj5VjQKP09/1wSzTEU01PIsdSQpv9WsWwrPH4ejaghmZ56m7A6rpff2G2ObauX1XDJzJ0lr9MzofBjY3sSPXAAlmhSpanWtjdlGphF2B9t8dGbCUsk9ZUI9MwkHqZG2v74JlHiZqORppq6lmlhYMqvANCkDYAG9z98CcbRIOIM0r65VqK8OpXzXn2t9hgslno9RFnbSeK9dGtIFuyszCS3sLbWwaKTZ4IJgppomRjuRMC1vTtgJp4kSyvUIqiT6VB3t6YCEHgBtDsb99JBwDDBKq6zSH+KSLBu49dsBGKvq8pmenpptcbraGMp9H3JGDPIENDPJrrljmkDXUyLdlPuL4MmJapZdEetlsCTc3t+MM0SDUnyhSWU+FcE7bk37YuWOheObxauaigiQxSKGOojcfcHEDK1NN8yoNEJVsBddrf2wS/UVWlp55JqaEq7NeRpGJt+p9MGcqlXVVNR4d6rdm2Cg7f84GVCphNPH4Meicax4rvKF0H7L6/pgZQKypnqJDHTNv4dwSpC6vQXPc4GVSrz1VyYjMqBXkSMBpkTVID7AfnBqeF0rIRTI0Ujgul1DLdrfcDBQ6qhLEySuwMg3c3uf0OAnPmE9FQCjy6kY2jsx1G9v0wY60tRzvLD4GYReMhO41Mob7EjcnAymqYZehlo6DLoYiz3JQAbj1J9dtsEssLT1tTKFgy+UJIHHiM8JIIvvgHmQliQFIvsdQF8A01RSyQirhnj02BjI7/ANMHRL5qnULLLWwKW7Ox8w+1sBWoqqZiI4ahJSB3UGyn+mAkFp4WE8xRy4uFJwBo8vzLMz4GXUYqvMGMCyhbj1N74A19rTRJpiJ3Xf8ATABpUjmQ10tHMhJ0ofFspsfbASWGCGeQmMOXXUAxFxgIUbQySpWJSCII9zGw1BiOx3wD1TLHUSKsj6mlO509gcAOA5BTkuuXzTSB9LFR9P4wEsxmhrIGjoKFlINjrYG4PoMBbaqOsjlFNO7KdIJBXe2C58c+egSMpFD5/wCeQgG+/wDbBFYMxppI2kDBmbZDpGlff/1wB8pzqCBWgataaRmYoqoCigelx3ODXFCWesmZ53JANvKVtt/rgyAriSHwmdLkm7FSNA/J74AEdLI0EkU03lcjUVHf2tgG46CKjpYqiaSBkVt1kQksfQbD/XAUzGipqCb5OoX+LL5lRF2UXwCbCNGWnpKc+ICTK5fa1u35wHIcmzWoC1gMIiL+bWL7j2wYnq7LDR6XpjQKxdReZ0G34wbJ1WSZRO6yJCFYX8y+U/1wCaw1VBGTNDEqMxJufT8++ALFMy0Iano0hDd9afV+O2ANFRx1NPNDPRs+sAPEp8tvcm18FlxyrnWGljakyqGCOIiOJadQCd+5Pc/nAt0nUZMlVmAbOVYMq6gAdXptexwQSPLsmjKDLwXkLeaQqbWPsPTAMzZbPSKZ6qdGUgCIKTt/XAJzlkYkH2AA7qfvgl1yahkqoXkedkjXYlCQx/X0wYA8eQyCcxeGgjVIwGJLW9/fAUhAh1kFtbe/dRgT0dqyRKciEhfQu3cj7Y6OhZKglBHJUEEepXck9sS+AiVRo2+ZFPZmcKbdz7j+mMAlJmNf4L1DxiBdeoI38g9Lk4BxK+mkGmoqYW8tyWIsx+2AFW1sMUAOVZnG857Ip+n79tsApT1lUEdp08SUt5AhBJ23OAcoaeuadaiSouqjZIwCRcbk39fTAW6tlpafMZqD94vHJM4jRZFXVf7aSffANvldZSTEpUwMVT6z9QH3OAUZY5aYktZZGuXdj5/tvgI1izGaOKOiZY7g+JqB39vfAVapWNis08CmE6ysj6RYdrD1OAhT0iJVisjyxmeeMhDI5RQx9R6n8YM8laymVb06Gzg6pFR7X9cGUUgd0DtmEgJFyBgLo1NljDTROTGGsznucCX6Xq8reoKrFJp/+o6gXC+4vg6GIqGgpafwoVdnOylm3Y++AbOSu8Mc9RVxo9z/AA3329O2Aabh2jjljnmWRy8al1jkIVbfbAFagEirBRkxpvcsN9OArLQQ0saxlg5XcMh7H8YBKamSRtaVMhBA0nULgfbAcXK0kDq8gKKbAK3mO19x6YAkdBV1k4CMV8MeUhraRgCQpSUYaSLMWlO5dwAAP1GAXq80paOMvGD9O7uDYYC3TzmspxUZxnAiGr6tI8w9rd8AejbKpKMoHaIHaMMD5j98ARqikpQtNZAreS6rtf23wA4KLLKR2alhSKQkkyRsbN+nbBrimtbSxTyRU9UJJlUeUE7fnBm+o1FVVrA7CnEszm2lpQLfck4FEqPnKeglnE0PjKlowdxe1vTa2DG1ClqKsUMQqJ1mkJuzW0hjfb8DA2hCSuzRnkqadldSQWDDfBqfTFNRwkAR0xkYKRI43t6nBRo6qNIxTo5WNW2W2DE9GVk8PUzF2vcAGw/ri5W3GpUqIiIlKkbu172wyi3ZhTSpUGKng8XxLG+r1G4tiA0CMcs8HMIiZBIWUyGxUfpgJS00MsLymlmMejysSQWPa1u+Ccr8BeJRCix0wQbWkDX3B7b4M7UppXeoMBrBqK/Qp/1IwaniUmYUmTRr8tRGWRmAlkJ9T6AegwUlW5VV5gHq6nNbee+m+ki/YAfbACgpBl9ODJUk6muS43b72wCkuYVFTUuVrWSKNbxoQACfuPXAOUEcElVFHOsshYEkLtpt63PfADlMK1ktbLKkMMh8kLfVfAxbcyqasDTUyBou4igXzEe35xdoPl5qKimkiokkjuP4bVNyyg/j1GNXwN0kNY00dLFIAyAAzP8Ab1xgcrXSlikauljaHYG381zgI1OVxVEOiV/DQqCL+2ALRpl4SwoxstgwNtZ++AqJ46dzO2XzQSldIRmVl/QDfAHrY6yOjEdLmEYlkcFiRa49Rc9sACkZcrnMRqkYy2E0ikE6r9r4BoJSpmCyxVDP4hsFUFlB9/bAI1ctRWZi0M7NJ5yI4ViuABuN+wwAKFY2qmSWKpARriUQs0QPsSB/bASy2ealhqczzDL0fSQUnCqBqN7AeoOAuFdmlIYaeWntUO0euQSzC4b/AGwZ5erVXZotUHePJ3imUBpKm5YWF+wA7YMoJmOYSIJEojZhcWT0wFzJhnljierMQtdkRAS34vsMA5IDoMy2KqbFC4uo98HRWkpKeatjqbiPtaZ2vZR6KL4C9VlLRxpHXVD7XFgVtc4CppJk0vTtHIrrdnaS9vsBgKyVTrCL7aRYsNsBbairiqpDGskg0nc22IwEaKalSMxJASQfKdQF/wBcZtys25RjmdKiMFJP/h03xqfYs+wpHnfiSaIJ7J6sUP8ATfBS1RWzCnEKTx6LlyY1tgl8R1lQJJJvEDC5YjuMGdpihShq6rxapAZI9lFvQ4NTw8MuzCro2NLFFGi2BqX0kA37abg9vXtgpWlp6SSYyVNGk0qGySMt7fgYCVV/Gcq8UUUUZvoRbHBZcKNVpUmKipKaNNTbGMjU/wB9++CJxtXykNRUkehWsZC+5t7jAM1Wcgxs+Zin9BHFTxbt+d8EyJCaGajWSSkRGbYKVvt9vbAyK00dtckSQaX2O9zt/pgpL9/KkZghjIPiG5RTt+SMArHULmlUYjRS6BcFl8wt9yMPHOXDpp6Yxhq2RwiW0KSV7emNdq1LojVNOjOZYVVh97jDs0oixMonUBRbtq74zu1m2hTSU3heH4ssKW8zIAzED0F8a5JtBpsxkrJEkoZpWiBITxIiG2NjtjKegVMaXWSpzNwiPchR9PvtiZVk01TZfSwsaqmka0y6lDC+oen4GK25VwtTA1bzvpVt4yvY4BCXieCWCWOFnabdVZh9+98BWijpaqnDSNJNKGt4h3AHsD+uAZmpKCnQx1ardlBUjuLdu3c4BT+KgAStMTt5VkVRqQX9L4CObjLY7eBUeLOWAZma5UD1HoCcAKnhkzOqjJiRY0Nw7PYKB3JwBausq0p7ZcBaRfEjmbsUHqB33xd+CcWYyzxiSoq6YeIosIJNVreh32xArLQ1aVIrFr4WXXe2slgR62tb++DdzEhEs84M0ryhY9x6k32GDC4UEAihaUCOK5tv6f1wE3go6WtZIp5Kix8x2H9B7YBWSQyU5VlMj+MCQe+9974JfHHjoIoFpFAMk9mlub6B6n8+2DO0SXM0pSYqBDZLBSzE2+/5wNo1PmskrNS0auxEZ8Q6rKL7YLLpnL0emg0mILGQSwc2FvcjBpbqXJsqzidq6nya7EE3v2P6emDHaivwplEcBmo6lmqX2Us10/Qe2DXyqUVHX5PDJHJmOuRksUo2MflJ3u1/7YGQq+ZVBcn909z/ADTm/wDpgZF/oFioI3NPlscsjWAdtyuBkSkyqNYJa2ohjSaYCy3AI/pgoyNlMSokUQUopCva7H+uAHVhZFY1v8QKAyRatwfe2AF887aWh0kAb7WN8BJs0ldRDMlvRm07YBaR6Z5mWBQu2yBrk4BqlWL5VQNTEXuHj06T7DEs1LNLzMkZ0wKL27W3viqWjqAihJCACezbj9cAxFSwohMNLH5+/m+r9MBxqSnnq1jMiqhBAAawX+mBkSmhybKwBT0zSRl7uI3uWP5wB/3ilZKsKQCCNR9Oq+CdoifAgk1xvpZ97YKWqa2EzFULuwFvDXcX/pgCijoqqFVrcsgIcDWGiDMB7X7j9MAR/k4NdNl1Ep1WDpHsEH4GwwA4aqnE5eLLA0irYOy3Cfp74ClRPqKzTlRY7XXucAuaavNXMi0IKqwDsSdMZt3NsAhJFLGppKKlkksbyzSMum59ALjbBLcPU+Y1SERRLTwxogUBbAE/g+uDApkStK+ICZDtpt/tiYvH0GohWRzH8nKTexYEWOGNlnjqCRDOSiL2RMJJKDSLAuXyzS5rokcBYYkguygdz33xq3WLFsoJ65q0GLM5YKXtqaMAsf17YiyG6cNJHNUSVYaJGN5ALfqTg14Zp0pry1PzMtQ7xdnbTpH+UewwTfpKJ6uejaiy7Te5aUs/0j1FzgpabLTEqRQxRSNsHAfTqHtfAO1tOaNTQs6RqRukZB0C/vgBz11BRlo6WcawAq+W6gfnADbOamGMwfwJ5bgh0UGxPvgJahHRvVtRwvUhCdTLcE4ATT1CQRwmovPNYaEjAJ+297YDlVlOZfMSR0tb4zMhRdTBSq+oFtrfjAM5Vk9NDStJUNeZ17NuBgAJBXxOI3gCBpPLZNtP2wNPw/8Aa+H8rFZkYswsLye5OAZqswrqqpKEqqqbpGIwbe9/fAKy0lWEFSuhCWOl7+Y/pbcfrgFhqy+m/jSGynTrI3Yk4M8g3qapW1TZesqmyXSfSY//ABWt5vxgyjN4RX5eOTU1iSp7sP8AYYBqhq4Y30xxyKkUYUxQ7gN+fXBdUaumqLzTSSEGXToYd/tgW6bikqKalmpvlmgedgSVb+Qdhb09f64Jmg09fTZWs0tdUlrf4fhpcqLdvzg6BUweeeSY0s8SMll8eLSb3/v3wE9b+mY036kX/wBcBcaZpJ0EsT6yWsbYA7IiyMlZN4diNPqW/p2wATpZUljjJU7KSu5IOApPWVtU5SWRvC2tGigX/J74luCNNBNI7MjFUU2AYXOEujEv4ofxE8y6C+AqHOMh4LOe5lnGcLRRT1Ezx0tCNIYs4VbyuQVAUEDcknaxXnxno7P0FdeXBHXFyyj4n4cyitoc9yWKFOJoWRTTNM//AMyB1/8AlsQbKwDLYA374oyIqc7ziSqWlppQkYIMwMIZiPsfQ41OInJUs5LKpHodQvfEswIDxJqjRUO2p2uhAtcj0H2xA1LVMreMYhsnZT3wAMuzOurqyWFcuUwISRJG5u4H2wS6Zpq9JVMdPQM8jnzKGsFHpt74M5TAmRam6wguALxqvf8APtglgb1TMLvT2bVcgnsMGpZImtRMDqMaKHO5+2B2icE2uPw5HFy1tdrYHaJI6xh4qdLaO+4A/PucDtE/GkSE3mHm7BDbc4LsKFBLL4SVHZrsWHbBTT0OXNIoFVOUc7rrBBNu52wZ5AzZLDFTukVRI7s4LbfSvtgyhFSxBNctMP4Z21L/AHwnoiElkcCKNrFvM9+wxrYs9Cq6jwqn5amUkxtZwBuTi7xxtF6qB4SpjfWCSLdv1OM2wYd9Zfxd+W3SLzwj5GvwPUcR5jHQwVOcVFFUiKLLFl3VGYglpCnmtYKLgFhvbPaSjJzlBzK4T5r8tMm5kcMZt8zR5/RrU0IeEo4Rrgh1PZgwZT+NsbnKWM9nZ5aShrKWanijWJGcGS7EA6RthsO0Fp4KYlaZZdXlCgqLAW73JxPiftyKnnTKRCKm15G0xqvlAJPrhcdJ9oNfShFglr8yR5/DtGlPCqKoB9bfUcQsylZcs3NYJEDaQgWYkBrYIBLSCklDVFRTgsPOYFJUD8+pwEEzakyoJDSu7ansrGFSz39bYC8wpHJlyVLZYys2wRLkD7n2wFMgXIyTNXUBkk1Hw2lQ7HAXiDKKINJUhxqkjujBrkfYYNSzAKaGPL6VoUyxTIz3Wqma+n8DBkvNeBRO8ayWk8pe1r29sGZfoHhh2+YaG5a4Hh9kGC9o5TgiY09LE0zt9GwCg+9z3wJZUBlubLEs09dH4jEl1G6j8YKBLlWYQHVAI5CVuWc7X/8Az1wZ5DyQ5Dl8erMqmV5ACzGM+Vf09cGU6Wi4bnppKympHWdyoVmOzC3f7YBUUzLMECuo1eU27nASj/eU8byxrLCsZsJZYdr/AO/9cBOOd3hkq8xzVvCijv8A4YW57bDvg3mE46SmqYlkBYF3vJKVFgPfBRc1zbK8ucyVE8sspFoihJv+nYXwCn/U1Kvl/wCmAbbX+XG/9sB2P5hWQCCHZtySLAYCoRZJdSqATsWdcA0BIVjErgql1GhbADAKLl83zTNFmqwwyX0whbs36nGpJQF5vkh4YqBO7G1iNlH3++LZBgR8e7lDmXE/R7WcY0jipHDudUubVFH8uJC1PGSJCGJupGpTsLkAjtfHHnkox0+AFzsqODeedbyirVFXQcR5XJHTxNKIokqI2EsbkW/iEJqUbjvve2OkvbiNwT1MstKtRMkcakaiHPp742Aa0cBo3V9RuSvYD3vjPISLVcumWNwApIX3AxkRioYaio/7mLyAHa58xxZ6BypTRs0NDTmMA+fS/f8ATC+i4ZbBS08ZpaaNfEIu1hufziDkksUc5VmBP8yAbn23wYvqlJldRSUz1lcYgWJC0+5Nr7E4IhWRw0yKksyK8gGhATe2AV+Qy9BJVujSSM19j29sBCnMjtILsSNyoXcYB6ngzd4vEfJalYFW5qTGSg+1+2ArUBZIvDqY5pICB5F9T9hg6D0FDlzJHBJJ8n4hOlJ3CqT7E9gcXPms8kKaSAvVOlUkkdNIEcRSarGwPf8AUYjLkeuvZaitSSmhQG8esEyj0P2GLPRAyzDU0U6C26Iy7W9rjvhfVnpOmoKqZ3qsxj0SzMSFib6f64jZbMKhKKkjFFHHMqSDxQ5uzgHt+vrgPn2+Kby/415J9efH+WZ7nlTXLxHVjOaKvqQPFqYJv5XsLDSRpsO1hjHL1qSY2UfAn535ZzQ6Q5OX9esIzvhXNpNczPI00tLKWYGzHSiqQVCgX7H1xuROXGYzTGZosbU8kzMHN44VF7n0JwcjUFbKafQY0BAOpvt9sFk+gmqqoSaaDMfCQgkoO9vW+Dpx9Ep1ialjanq4yWuEPiAHf2wXkflonlYmXwpjGltLtuT/AOuDnxRzfKnjys1lUKRWMV2Cn/AFu7H1ODTGbi/4nPR1y855ZXySXmDLnmeT14pKp8johU0tFUawghlkJUEgk30arafXcYDKuAySgF1KgfUWGkb+lsGd+lZAKv8AgUtPceYAk6bn9cGgK3IGgYRvTh2RAojMht+tsAWGmqIqMTVQF1bYKTpA/GADKUjls0cjxWuxU+v4wc6pmecg060FFSyU7BR4oUnsfv8ApgIwzywxNWLOUZVAUR7kk+l8D9uVVZxBPNBHDQkKGtM+sDT33wdHJYKp9LVcRew3Gq6/a+DPJP5epjnDtT6yfQC9/wDnAviDZzWwlzHFHsdKRabH9SfXBkGt/fcQWqq4fBhsSS257dwBgIvnhruGqalra6rZZahtBmG7BTeyi3btgI1GXeIwVYmiVk1KZN2Yf8YOitdw/FVwxuagsdHmHisoG/fbALLl2ZR1EtTSrJVeFb+JBCdKmxsDfAXOLN+Y4jUeYeUbeHHt/bBNi6UsaxRGRqSocgWD6PLe+9z+MFc8Kdo2dyxuCQB2GAFAtY2sLmB0qQXRlNtx79sBTwpKh0dXVfZ9N/T2wCtdTx0swgM17bhiLAn7+2A846luVlJzf5OcS8E5hD86ma5LU0goQpOt5ImRbbi5Ba/cbgY5/kmwaKug3mXV9N3U9kOc57pjqsmz8U+YRXs0fgyGGWI3HlJFxuDbvjP+Ny34PoYas/eGRUtYWDLXUqyoT6xEXW1vtbHq5WSitAzzQiOCKNI0QAFjfHMGM00I1PGEBXykLvbtfASZSyXLk7bFjiz0URdhEEjjHdmtYn74l9EI81oVZ4KemLgHStz9Z98AyqSPp8qEk3NzYYMX1yfOI5JHjqacnSDd1OzH7DBCFXVwRU/73npS5VlUDVvbAGStpa10q6GGRATYj0/TAShgrkr5KhqkLE1gxk3Y39vbAMy5w0kKUbVreEjWEYba/ubd8AGtzejoWMgaSZ7FgsK3Ygd9h6Y3JMa7J5dmmR8RZepmh8SFjaSGdQLfYj3wviW6OkGWUkJy7LUpqeEMZHjuFIB/1xhEZamOpEaUzr4dvqTsQO1sArW51ltI5ozQESqP8VnPb7DC+rPUauoE1KppqlgSnmucGy7QOuVu8cIYD6jpuScBqW/aNODvA4l5X8w5aRKaWqFflshEOzppWRL+5DA74xy+Nzx179n55nZDkPPfiblbxFIkc2cZJ/8ACKhZjqnqotDiMC9rFC97/wD0xjr+PP8AVU5NweXwTQUxIjii1qA7snrjLGSJGgjjkElVKGhtciEbsfz6YKbGWUWbyvDBS+GEiXxiI/T03Ow9fzgvH0nmuVZf8zBS5a0aLCu5vtf1vgvISnzDL+HomqKuoikErDXLq/0wcaV4uzOqzHh6bLuFoUWaphdBUCT/AASQQG+5Bsf0wa461E8gfgi9YlH1QZbxNzGlyig4ToOJZMxr88p8xWSeemFXqIjQHX4jKwIvbuTfbBbW46Ctaakj8aJ0ATSC82tio2BJtuSBc/fBgOTOIaaRVip9RBOp2Y9r+mCb9NS1VNSq2YTKxkkQkKrAk4Ok8JyV0+Y0zVMavHACGaNzYX/OCqy1lZEfBgQr5DIQBfy+p29O+/2wcydTNWvT6LTFJZR4jarBrHtf9cAzImqV6am7Ri5hUWCD7n1wFPmUqJtFLMzlD5jpOn8YOgzyMdaztIpC7gbAYM8kZa1okj+SqyJS4ADJcEfnBP8AxHXIpKmY1NZWIp1amFv739sERm8ZsxWZMyaZNOlARdRb2GAHWZnUVNHGZaaIx02rwSIF1m53Jbv6dsBSKESUoqkFtSljqF77dhgEoss1UrtKZAT2QPYEXvv69sG54LHLDSs01JBFGWXyXvt/vglloTZlmJYkZyoue2g7YJlXyeeoelMLVLFQLCNm+k3wbLmvrWi+R+YvGCS1gCT+vf8ATBi+uVCyzUngSsVjlsWD7bA7YLPUIauSCSw20L3JwaQioI8xqF8aGRk1apHJsGHscBTiWOJMtnpYGWkVojpeBQD29T3xL4Pn964+C6Lkl8QXirhLKYvBo5s4TNY5GP8AifMKHZrH3kLnc7Y4f48/7UbxOlzjDLuZ/TnwTxfBMG+Y4bpTU1AUKrSqgVwALgbg9sez8kyj0BIYRTNHBRCEFrjQLavv98cxSMGWsIZCd7AEbD9cGeXyLklBBOWjQWVRuSe34wON1Coy2H5UrT31Ad2P1YNBDh3K6f8A+J12azwKiX8KBFOo/k9v0wARSvFEsxkkEaLvITckYBH9+pmFWWWNjGhC3dLfpgzyTq6iOpjWA0ehPEBa5+q329MGR5ZsopIV8JXeXuY0XYWwHI5MnzhwmaUjrEg1gSGxZvsAf98BBKzJDUJDFQCKIHZTe5/JvfFswGlhp5K4jLaZg7jfTsoH5xqeCFGgy2s+Xgp431m8hA1AH3/OJyBlUGac1Q8rN9IUXPt+mMg4iIhWOKnCgLZbG1hgLdmOWa681VeoPhoCqkXuPzgs9RIWaoSCAxvN9S08RuQtvb1JODbyfj7rr6VOVOY1mS8W9RXC9PVUEgV8tGYq8gkJ3Rwl2BHYg7gggjFvOSLI1+fHP56ckuozkdwTxly65k5HnUtHxSUpIcuqleSNWgk8TUt9SADT5itidu5GPP8Ak25jbEv4X/FldwP1v8DZplSqs1XmK00k8h8qK7BTt2JKsRjpw2fEvj6BGnqcuWOXOnKrMp8OFE3W2NuG0emrVSn+ZZbJfyr6n2wWX66vze6mOS/I6kpYObXMnK+HJMwa9JFmmYrE1QlwNSx/UwBNiQNsGzXB/E3DHOCmizrgHNaXN8q8Uo2ZZPXLPESrMrHUu2xB/phlHYZ8o4fy2SZ0pDNpTRE87glf07YC3UVNXrSiq/dgSFZD4j6h5lHa17DAde4F578peZ2f5vwbyr4yy/O82yiLxM0pcvr4p/AjV9BJCMeznSfQE274DtaT5rUzgQZTOI4owX8ux/4wGv8A+LZ8WLmZ0qcyuH+R3T/JkYzUUrZjxXWVFP8AMyUsbC0NOUcaVYi7kjcXUe+DOMmug/q/oOtPp5y7m1NllNS54ZXpM5yyjuI4ZkA84B+lWBDBfQHubHBp5d8Sz4p+U9GlHlPKjhnhbL+IOM8ynaSoyyWvZEyumUeV51TzB3JWyEjynV6jAa4+YXxg+vDjHOqrN154x8LwTDw46DIqZIoYk32UvdifTdj2/OOV/JiZFr5S/Fb66+AeJ2z+PqFq88p00saDiKGOrhkANzpDDyE2tdCp374T8mp1jbJ0AfEE5e9cPLh87oD+6+Kcrpf/ANSZHrLiMhgonU2HkdibLuV2BJuMdJdiWYyJh4hrKGOGGieEavrYjcj0IxTbFa+TMKmeWpqqi+wDPe+q+2kW7nAvLfiqQtIIKCKiVpFBkeockaP+Tgt/qYLyQ0rRGsErgWAJ2GDKFJldZmsgq3qUpIYkIV4n+t7dvtgBz1RpI1oz/FA2DO2AaJllhQRyCMMos1tl/TAUFO8eqF86jqAD5k8AKQfyCcXNgHmEyoFaOhWR2S1iwAHoO+L1ptWuOqdEVHhp7gAHyjv/AFw60XyRtbMUOq3cAb4y6AvG7OWVfCX/ADetzgzm1Ogo49TqqsykXL72ODSWZVsQqEFLl6gNfZR5VHvgOVuaVVLSa3pgoNgjAdh9xgLFnr5o8Stl8aGJxaZj5ma/2PpiXwabfju8oMu4A6lOFua7mSmm4myOalqXjdmSWWml1KSGvoOh77bEA7bY83GyfkGf3wauN6Pmf0XZTkPhjxeH8ylpXYkAHWA6jY3PY2JAx7ed0ZaZfk8dVPLA1RC4gF38KUkx/Yj09f6YwJT+DQI1XLVjwgNkRDglmoUNcssy1XjN4b9llFsCTC2a1WYTSXpqeREXsrpYk9r7ehwVDMpDRcOy53mzCGlpv4lTNNIFVFB3LE7W3wWTWDHUT8fXpX5d8RVvDXKbJ+IOPq2lneKWopUWlyunKuV2ZxrmOxN1AHbfE7QsyrPym+Pt088VTvk3HHLbOuHHlcGhlpFWtkllLAFWQsnhR+us3OLPrHrO/hvOuC+YPDdFxnwDxVDnGVZnTrLS5lQTa4HB7gG1wym6sDuCCD2wTLD7Zc0JX5WtkDW+ogE3wRAU0kkyaPGJLbsezfgW2wA56eV65qfUEAFtRX19Ma5QXHKqd6GPwJKsTSOfMynYYSgM9bSxVD0lMihW3dl9/fC3YA0LEVaSxagtzZj64yvWrjK8sCGRal2UkEqbWtgdatee5vI8plqZYYYooyxMkoQKoBLMSxAAAFySQAMGpGoj4rHxa6Xmxnv/ALunSNxrVR8L0Ush4p4sy+QwyZpONlp4JVYk04uSSttRUb2G+bW5GBnL7kzzV5uCupeTvKDiHir5Sbxa98nyt5zE7FiDI49SQ3rfHOy1p1XizKeIOEeJpeGOKMnrcozSgukuWZnTtDLDq3PlYb3733GLPkHo/SHxr/031AcJcSpEXmp88phToWtrfxV0g/8A5643xS+PpFRWdv3rFGoSYFhGZdWgf5b/APpi2459Y8u6uurnk30bclsx5zc4MykgSJRDk2XUbKazNKttkggVjYm+5J8qjckDDfidZrQF1A9SXNDqj5959zx5m5rPNU5nVSCkp6iTUtJR3tDThfpXQlh5QN74xbWnpXST1w9QnSbW0kXLjj2sp8rGYJUZjw/L/EpqlNtRZG7kgadrY3x/JJP5DeF0ZdYvJvqu5LUfN3I6UwVbVMlLXZC93NDOgBIJPdSrKQ3rc+xxq5naDrvxIuo3jHkh0Y8b81eApo4czy7KzFlsiUokSF5DouUbYgAk3Pa18c7Rpy+Ffze4v5cda/AvEUHEE9OmacTx0+ZzSVBRZ4qmRvF127rd/pNxicdvg+gWm4svQQwlVEkjksVH1AXtf3xdsGpf4/fSnw5wyMn6tcgEgzHMM1jyniYs40SxaD4DhewcHUC29wFHoMS8hj10TfESz/oi4A444YyLhibNK7iTKJBw9PHU6PkM00lY6hwbq6KGZiLavKoBFzhOXwWzop6KOevxI+N88z+TmjSRTJmUbcRZ/nFVJVVs0swdzIIgDq3XSLsoBI9MPRs95RfBo6AOW/AkHCPEPJtOKswEBTMuIc8rJmqKx7m8mjXoj2NrIoG3vh10YqfFQ+FNy15f8vY+f3SJwcuUR8ORSLxbw7DVnwZ6YdqtBIdpU7MoI1C21xvjlxyjHX4VPP8AzHkr1i8MinzakhyvixTl2axZjL4UHhuAQ0lyApBFwfQ46cOcnwv1vly4wUs7QZpToZEQaYQfW2x3xtzLcwebHLrk3wLmHH/MTMqfKsoyqhapnq6qYKkQuBfcjUSTpUDuxAwWTa13dUH7RnwJkdHLwp0h8uK3Os2jqIzHxBxHAsFDoswk/gqS72a1jcXIO1t8T5XTlwuMROLfjQ/EN4vmE0vOSnyhpGPjLlGT08aAWtcXQm49Pb3viyz/ANOXjOv4JPWDzj6oqTiXgHnJxBJnmZZDQLmGV5y1GoMsbOFmjlZAAbbFWIuLMCe2AzriNRFmBepivF/JvsfvgHZaymqSAisjx7swHlt9sAtTz5Zl071s2XySqBq+uxP3P2+2NSgor6GZWlWlbSVsY3u1x64uwAP/AEWDYcPSbf8A+Q3/ADhsDFXnK1EiQ5dVhPRkBuTjDohS1MdShmlZ2dQQCylQP6jfAHhSocBzOQARpK+nvtgCXtPcPZibCwvYYLbotVI0lUy1FzEsf847nBCjzmesWGmpYQoF767MMP0NYH7RHwVm9dwnwPx8uWMKfKuJJKdg7H6Z4WUnbsfKLE98eflwnHn2HVPhSdb/ACc6NOnTj7jLnRxVLHE70M+WZVCviVWZSgSKY4U/zksBfZVF79sdv9ksMrznnd8eLra5nTPR8rWyXl5koMi08GWwmerCEWDSVT7mQjuUCDYbYzeY6Tyz+L91+cKcVxZznnPqqzGJHKfK5rTrURSg7HWkl9X2O2Lx576NmnRh8Yrkv1RV+X8A8TRZTw1xdVRxQJNUM6UtXVaCZFiLsFTcHSG7ggAki2O3WXjsGWFPPWs7vVVLu0flRRYAH1Jt3OMDAL493Vbm3KXk9kXI7g7OainzbjOtZa6WGtZHioEQ+LpRdiGJRST2tcemM8r8deEa8eiXoZ5s9dPGFTwnwZxvkuTUNBGTmGa5tPrnQW7QwKdU59DawXuSMcWeU2rl1/8Aw4ubHw+KjIsy4l43h4iyPiCV6aLMKbKZaZqeoW5KMSShDC1rMSd7gWxdsScZGWvwDOpDiiqzbP8AkZm/Ek1Tl8dI1bQ0FwUjm1ASXHcEroOx20n3OO8vxnnW06WeJEWSKbzCK7D2wc08vzJKpTJHMERTpD6LC9v74Bh6elnJaWPW538W25xbda6qzzU1GU+UiFgtnJFif09cRmzKQqaHOMxvNSUy08LNYnT5jbAnwUZZA9bDGKtvFC/QqmzD74NdhM2rIspopaWgp1qp2T1BtGf7XwWXWsL47/XbnnCeTQ9FXLOPL1zriHKPH45zCOdm+Xy6SwjpQFNhJJ9Tb7KACPNjPLljfGMOfhyfDj4865eY6QCiny7gPh+qX/qvP4xoBC+b5WC+3ivbSCPpuWttjEW3G9Lk9ys5f8jOWlFyw5a8BZTk+QUBb5fL6OjX+FewLvIbtI7WF2YknFTs1wftIH/TNByg5dxUGQ5ctRLxpIWzCmpIxKF8FrprtfTuDa9sZ5XF4/Y1ecB5pJlHElHUR0pJSuU+JbtvcWt64v47tL4+kjlhPXZpy+yDM1zMiKbK6ZrNq/iaolJax39fXHSz+TDT18c3qdoef/WNNyzyTNIKzhblpRPQU0cGpgMwYgzuWZRdvKo8oIBvub4wOhTfCU61q3k3k3UFwvwhluc5NnOWLmMWWUVXathpWTWrsrEBjpF9IOr7bjAd/wCVnRtwd1Y/DhzXnFyR4TqaXjzl9mM5qKkSalz6IDxHiYst0dUuEBNv4bWJLAYcuGwWj4PPV3JyK6l8nyziDiepg4R4jnMGcUNRNamE7IY4nYWPnDkDftucON+YNtnWly6PObpw4t4Dy+khmGb5TUQQJOG8AXjaztptqUAk7egxLNGhvp4z2o5WdTXDGdZlnJmPD/F0KVU1LdtYinC+IB3KkKNrX3G3pi8PkwfR9l+bZe+TpnOXqWMiKYWeIjYgG9j22OLd9HgvxH+SlH1DdJ/FPAFax8d8kqKnK40gDMZ4wsiH6Sd2QL221E+gxnlPmkltfP8ABKyiMFS0YilSNZGp1Oo6vRNvXVtb07YwtlfQL8KTkvlfTH0LcI5Nl9BTpnWfUb5xn1ZRBXapmqXZ01SL9emIogH8pDDY3x24zIj3qQST6ZqiYswtswvjW4Orc0uVHAXNHgXN+XPEMEC5bmtLNDnEslN42uOVSr2BPcAm3oDbEs2D54ucXL2n5G9S3GHKzhvM6mtouFOJ5qXKqqtK/MNHE/k8TSANVtthjjLl+jej0O9Qh5/dLnC3MxaiatzOooEp8zmqGclaqICOQMzEk9gb/wDix3Yv2tYHxs+uLivqL6iJuRHDefGTgPgBBR+BBLf95ZlqLTSylQpKxtZFjNwNOq5vfGOVduHGRzoa+Djzk6pMiy7mfzmkzjgng3M4DJlE0SRCvzNCLJJFFIDphJvd2sexUHuJ+NvlcjMzLv2froiyjhqNM9zziiqqbFpMwn4gemmZySLWRSgsB32Hrb0x0eetX3EfO/OumzqA4gy3pD5g8S5PkeQcTyw5dNVZhqnqFgJjZpyAPEUsJNrAFTuN8GW/jkHx7xHzF5ScL8Y8SpTT1+ecN0tdmE1JCY4UnljDv4aWGlbnYEbYDtkk0sDGdySTsgZiBf8AGAYp6CplXx81pR41h4cMR2X/AO6+AN8nmLlY6XwYgzaVMoAC/kjATakCsVaojJB3K9j+MBLLKTLZ6SOWPLUjdAP4pTzH9cHROrjgnbTTxlnB8xB9MJ9qb9ShCLTqiyWsfUYtmVUg8CSFzLfWoBFv739sQEaaocK0yxiK/exu34wEBQVT0k1dBHBEIm2d7E6fa3e+Fqz1g98bzhaqzjot4kzbLK5PmqKakq6g1L7JGtTGCUHqx1AW9Bf2xw/J9b8aUZ6HN8xrKaipaY1tXNIkNDAi6isrkIFTYkXJA2GM8bvwvjbh0JfA85FZLyvoeMusXKJOJ+Js7oo6heHpWeCnyaNhdYnQH+JNaxJbZL2tft1nGub0rmb8EHoL46pYaDhjlhLwxVBnL5vklfIkwupVRZm8LY2Iuvpv3OM8uODU91IcheYPRFzzl5a8bVsk89KwnyzNKQNEK2luSpFifOpFmsdiDjPDny4cht++GV1x8J81OkAZ7zV43o6Os4Kmjo+Jc7z6tjpqeGnkB+XlMrkKSdLqdRvdRuS1sd7Nmx0njWh8Y7nzyy6kur6gznlVnlLnWS5VkwojnuWVLNFUTO+pxFqUWAsAWGx9Ntzy5XV2x2jk/wDFf4h6QenzJeR3SnyD4coM5hEjZvxxndGlTVV8zueyhQRpWwDOWIAsLA4yjwPqQ6quqfq74spM56i+bOe8Z1tO8oybIlVnhpGdtTCCkhUDUe2qxawtewxZNGxT4MXw1+aPJjMY+pnnbU1HDdVmtAJMj4TKMKiSGVVYS1K9kugXSh8w1bgdsdo5Wa2L1caZnKiU5sYbhwTYXPvis9aPQ5PSRxxpPFqjhu3hq50k/c/nA8pqGuqlmWZowxvtGptf7YNdorDmGZVOYeO+RMqofMuoNb8nBm4cmzKoeUJRgBFB1Ejc4IgWNO12F2dfpvucBb8xzCOGhmnlmWBRcSXvq7egG+C8Zj52utzmQ/Njrh49z6pZ6qZuLJcsollcm0cDCGIEjc7C9vvbGOX108buujrkDknTD0z8Lcn+D2CmOiWszmdotDT5jOivO7A/5WsgHoEGIj1igyqrrB8pmmYmaEIS6QmzP9rDv+PtgNO/x/eoXJuNupTJ+nDlhxnBWZNwtkl+K6Chn8WJMzMwZI5GtbxUC7hd1NwT6YxykrcmMDsvqjLOj0tSpEbARso2VtW/6+mLw/jS+PoX6beLq7O+jPgXinN6mSSebg2HxXH8xjQgf2Uf3x058px+sybWi3lvw9mHVX1g0XDOSZb/AN7xzzDYVNHIw+iSqYSAs2yqFHc7C3pjEvaavKY+iXLMlyzhbhqh4Ro8tjpaeloYqGmpaVRo8OKMRgBexFlA9sVl0bkp04cnOmDhriTgTk/kX7vos9zOXM6mlkIdUqpAL6ARZVuLgDtc4b8GjDrV4JyzkZ16cdcJ8KuI6Kkz6HMqJViMKwtLGkjKt/pGsMbjbfE4+LJreTy35i0vPPpK4a4qhYvPnPBVMJ4addJed6YRy79rlrnUPf3xSyvnvzrhzMeBOcue5LPPrrcn4oq4WkD6xHIlSwVVb+YDax9sXhynbEfRp088bf8AXHIzhvjA10xpszyGkloknA8RIliVTe199Sn82x05TYLnx3l2T8W5BU5WeIJaaOqy+Sn8UUpV0DqRcC4I3PfbHHlLeKy4+bLmZwjSct+c3EfLmpeU0vDXE1TQrVSXjaaOKbaUgDa4IPr7458ONnrWx9FnTbxNwtxP09cCZry0yuKhyGXhak/d1Cpkkki8lnDO58x1aj29celivRqDIayoiQSuhjsAyg/SPf7nGbLQDMuFMrWkky/L5HZVRifEmtrJv62/tjVGkT4yPThByh6wJ+Msly8UeU8b0C1sDLUeJqrEGioBJNyzEB/Ya7Dtjz8pdHv3wc+dHGmTdHfOThnh3L1qanhmCXMMpJJkkDvSynwxGNypdENx629Wx158p1ST61vcnqbhXiPnFwpJzAqg2V5pxVTNxDWVUh8yPMviF2O9u4JPYY5/cduL6U4Fy1KGmbLqaFMuoo/By35UDwvAUAL4dtiukCxG39cb/GnOC1lOK3K5ahSsNLFG01S8zhdMagk6mNgq+5Ow9cdHKyvmW5r1GTcWc3+L86yashqKGt4prpKaenf+HPGZ3tIhHdWG4PqDjFv1OlfQF8NPmC3HfQ1y+zqt4hqq6oOQCmPzIUtCImaNUDd2AC2F/QDG2fHs9JQpHIsk9RJMykMB2Cn/AHOAYJdi2incvqJZhc3+5wBJ6iWRo4JUDgWuAbAf84A37807CnTb7YCkUVk0GQsL+gtf9cHQSN6WndtE5gSwshW9z+cJ8rHKfVHqKQN4ZjDx385UeuNcmp440ySxyR2VENgB629sZVGrCzVcaoSsCoCCrd9uxwAvGp4wY/HCFmACF/qP2BxL4T14V8RThGPj7pP484PfJI6v5vhmr0xSKQZJFjLppYbghlB/Nsc7x10aF+l0pmvO/hJczUPF85TyVJnGoAh0ubD737fpjXDjJUvj6TqbKMor8yeeJ2ih1sKRYwY1suw2PpceuNsHpc6jy+JqOiqBLf6wm4uTvjHOfBqk/aJs34MiyPl1lDVMCcRpxFUzUlINAqTRPC4klYW1eEW8oPbUD6jHJueMXOknp05idS3JPmHwfwLSZhX1eV0VLX0FBRgyieSOViIQo2Oq4G+wPoTjXe5ivJed/TXz36bTks/PTlnmfDf78Mi5ca1V0vIgUuoINwbMCAwG2MjIj4VXRNyI6zONK/hPnlzdqMpqYPNk3DNFIIZM3XTdv+6ZhoZf/pKCzDsdsXrbBtW5A/Dt6MelHMKLiHlhyVyuLiGilaROIK+SasqkjZdLIjTMwS41C6gHzHfHXjMjPJ7dRPPXUJzKuqkhhplWKkjWnCDTc2VQgF7e+NMrtBW5XT5fHTPIlOqHVPUVUiRx3O+pmJ7fc+mAwo5i/Gs5NZf1j5P0x8rY4OIcpnmhpM340o3ElNFNI4BNMqN/3QjutzdQSSBe2C5M1m1LT1GW1stDFVmrVWKpVPAI2Ye5UfT+MHKh5UyxVBWklZpHPnZnuL+osewwB/BzSKXxK2MRt3VVP/5fADqzIsnjrNZrWGptzgLW9BU1bywBfFneGRBEWC2LAgG59Rgsj54urzgqTk91q8e5VUZeIFpeLZ66lKEm4lPiax72ZmH2YEemMX5XTdZvcuf2h3IYaTLeHebHIMzChy6KD955TmHgePMBYuUKMoBtewt374iLPz9/aEOKeJ6X9w9NPICLJ5NBDZ5n+ZGVtVtykMZH02uGJsb9tsS3G5MYYdJPTjzH67OqWDgqZJ66bMs0fNuOsyjfwDBReJ4lXLqUeVjq0r6lnUDGFd0+KtyR4J5D9alfwZy04Sjyrh+r4ay+egy2nLCOJwnhEA99TFLk3+q5xZqcvG2Hocmlz34f3BqVubIujIZ6aIyoVuAWtYD/AO4i99/fHTnN4pNlaZel7i7LOS/V7kPHHFFbNFRZJxkTXzUMA8VUSoswVWsLn2J/OOP4b9xeX19C1Pm/DeZZTDxJwvmU1VFXxrUU1d8qy+LE4DKyBhuCpBuP9cduWSsB1NRlWTVKVkkJrpCPFZHkJue/mA/0xB8/3xH+alLzs64+ZHFVJktNTRU+cHJ4IqYkK5piV8Qhv5iTb0sAB6YkmOnGfG6zoOySjoeiXlzl01e6wVXC8MkhEQ8isL3Avva/vipb8aP+sHgeHlh1XcxuEqMVsccfFE09OK6xmeGQ+IsntZ9WoH2xjZOesNzPwlOMYOMehDgqqqeKoa6qpoaihkiUh3pdEzNdva4cAA9guO1lgyTpo5aDTXU5K+CTaQqpbYHezAg/qDjH3wfO38RLgTiLgHrf5jcLcSZoK+atzyXMEqPm0n0wzAPHGSh20oVXSQCoAFgBjM+UbkfhM8wazizob5fV8lbNMKagqqMK9KiiLw6iRQgYAFtrG533t6Y7YxyuspIjDGGM00ouASQbC/ti5TihWzRCITxSBvLYaRsTiNsC/jY9JPG3OTkZRc3uHafL3q+Bp6jMKubxWWdsv8O8kKKBpdrqrC9u3fGefGtSyMGPhBc2sr4T6lajhnPuL2y2g4p4eqMpnpzlr1j1MzkMsXhpur+UeYgqApB745LI8p60+m2t6S+oHN+TOdxrDRSzNVcLzTVMbGsoWa8cnkOzXDKV2IKnv3xq2WNT1mX0MfHBpeWXLGj5O9UfBktdl+RZWaTK+I8pmkasJRdMUTRE6ZAQAC91K6bnVfDjcXk6l17/ABrc36jeXdd099L3DOecM5Xm8b0/EHE+cSqlXU0pADU8MaahGG82pwxYiwFrnC8mWv1MomyumWUUMsVNH5YmZSAyja6k7HGZ9pfG7v4HnH8vE/QpluW1ViuRcQVVBFL4Nj4YVJFU+7ediT98d91xsZixLT5tNFLTVDBVcaw19rYMr1NG0agxh/Mx2YdxgEKirWGQxU6anT+U9icBIVlO41mmsTuRbtgHWceG7kKNG4F+2DokumykBZPUnY7YClVEgU1islmA0hRbfAQWhzF3+Z+YgMR7Fe6/kEWwa5eKzj5hWTxwCwszxja477emNXxlNKekSmvQUquWWzTFbsfc/wDpjF8J66pzWyJs64aqo81pEeGWjljRHayi6kXNiCO+E/q6Pmp5UVlVy7581Mea1bImS8RVUDPEyhQ0U7gG53A2Fj37YxxlL/8AG7/IPjCdCuZZBQpnnOOWkeOmX5xTlcjmJ9F2JYfUb3O3r2xu2RJHnvPb4+PSLyiyiWl6feHs95j8QS70CzZZ8nlcTW2aWZpNbDsSAvoRfGLz1cjVlz66hOa3V5zxzbnVztzqWpzTMJGiyvLY2vTZZTlyUp6dSNkFydvqJJ7nGM0bhfgt9JlT019Pr8VcbUNRS8Q8f+DWtSVCaTS0QVnhXuSC+stZgGAC7C5xetHrPXn0gcB9XvJHNuXHFmtUCfMZNVeEH+QzBAfDqLbHa7A7i4ax2uMc+fG2YNCvMrgHnV0rc0JeX3MjLarIc/y2XXHsPDzCFXulRCx2dCFB1LuDcGxuMOPO8ZiW4y16a/jp9R3J7Iocj5ucH0XHVDGipFLm8soqYUS+ySxutyykDzq30j739U58MYZAZv8AtJnLSpyWN8i6Vaxq0Q/9tSz57pSEkWs94wTY77d8S8uP6GLPVf8AGp6z+p3gaq5XUjcPcG8KV8UkGcUmWUSyVFdEysjI8sgJRCr28tjsN8SctF2+Dz8Ovirn/wA08r598WZbPlPAXCtYhjzWppJAc1q4gsi0kHbUpBQu+1hexvjS7W7la0x5S8zKkbgEIrzanbb6t9zg559W6my5TSmV5TqZyZFUDzfb/wBMGztMcweeJHnBRRb+Ixuq/bBnkpmSXkIePUqm6lTsB/zgvGE4WbxBIdlsf/uY2tbBWNnWN8LDkz1nZBWcQcR0f7q4liiEeWZ/QylKqFhfSSN0kjHqrDe+29zjPJuWMAeK/wBno6ueGquSDgXm1wnn8Lm9N85TT00vpvYBlFzfe/tjHXfFdy5F/s8HN3Msypcz6iOcOVZdTeK/zeXcM07yzBQvlAlmVQNR2YgbC9jfDrno2RdM/STyJ6UOW0nCXJ7ljBlQaNRX5nMPFqa5g2u8s1h4hDe47AXvbDINW37QHw7R5P1GcI8w8ro3ipswyR8vNQQdImil1qFuNN/4jbfrijMb4IPMem5ydAsNHmvDMSjhfNZ8vpmLm1SshMt2F9yDcfgjA/TWP8Tfp4zvpr6zuIE+XaPLuMJX4gyxtChQZXJlhCqf/lttt6FTvc4xfnLYx9e+9CXxtuO+nzhvLOVvNfg88ZZNlQSPLqzxylTR04v/AAVv5WW5FgRtvuca2VHdeor9odp5eEc0yDpn5AV9HxRXxtDFxNxZUQSxUDN9UqwRjzsoFlDWFzcjbDYMDej7p84y6xuqbKuVk2ftPXcQZtLmHE2e1F3NOBeeaokCDe9m2tYlgNr4rU5V9E+QcvuHuEsgoeC+EUIy2goY6amjWHQNCIEBA9BYXt6kk+uDPrUF8ebko3BnUnkXM3eSl4kygxZhUxMx8CWnIjip2uNMY8NlcW77398Y5ztylHuH7PxzSy+blRxlyUVZZa2lzRc0pRHFpjSEqEkJb86bD1N8d+V7yQbF1p56qKNErCka7ykqP1G+LufBq++I18Ibnrzl6l8958dPKZBmeXZhQRSV9LLMaeaWpW0ehWtZnK6SWJAv9hfGLwtum4zf+Hp0x8UdJPS9kfJ7jjimHMszp5JK2t+WuaeklmIZoIiQC6r6sQLksbWtjtJjm9unqY4HWxDxKbtJfy4Vrj6Cc0pK+VnjjVkU2U2sPttjE9aBzfJoM9pfk64AwEETK4uGXsVt6/rjd8HhnA3w4+lHgPn7W9Q/APJyjyziKsqGnNeAVipnZNDGCEHw01C97KBvjzXj9bnyLv1D9EnILqT4DreB+cPBVPWwV8KQxZvEqrXUaK2sfLzMCYmvc7bbm4NzjNlTt9a3ubf7Pn1TZNnsi8geNckz7JJWLwHPqo0dZCuo2RjYo/lt5hb12xLx5fpe2vQenj9ntnp+J2zDqZ5oSZzkkTL/APBuFadozUyjSfDkqHA0J3B0i52sRi2Wemx578enp1yvlZm/LTjfhyho8nySlyqXh2PK6VFjggCXliVV7khSF7n84nk1Xbf2fHnRR0nEHFHTrm8kS/vWL96UtSzuWBjCqYkA8t21XNwNk7nsOvGs8o2s0I+TLtkdGygLb/uEurfcf842x1hxIpZzHWVCte1xqO18E6qalETJHTJNOy2ErLbw/wAYHWLbJldWZGOl+5/+YMDrFyEsMatspIUB0Y98GgszqWii8CjgivJayhwAgwFvaor1RIViEiO1gqSAXwDlbGafTHIQHFtaq+oD+mDXLxGjkpIQxWnYtfYOpAYe+LfIyNCzInikadIPhjVYf+WIs9W/PaSo4hy9qGshFyNKqW1KSPS+22E+SttV/U78Arm9xVzlzzj/AJFca5PRZPnFYawZVnFJJqopZCzyKjoTdAx8pO9m+2MZRjlx18Jnre5eZyvB8fJKPieaVPHhzDhyrinhYXN1bxGR0cbG1iLEWJwsoufLH4MHxE+aNZTL/wCyii4bo3lKT1nEmYpCsW9voUlmH/2g/e3fEwbD+jT4H3Tr04S0vGHO2aHmNxbCiTMKuJkyqhlB1fwYb3lIsPPISux8nYjXGTGbcZqzV1dXQrVfPQ+EiBVUx28o2sCPt9saZ0OOdHidYGU3FiBfcYzeMpteP9U3Q7yU6wuDoeGeaXA1FmctI0hy7MKhvCqKJpBZnjmUalIG4But/THK8Br455/s7fMSirXk6Z+ektVFA40ZVxlQNN5L/wD9RT6SSAbbpvb0xnpy0ecP8A7rnlkAruLOC6V5qgJIwzB3Koe77opAHqACfa+OvHiMm+ln9nx5R8v8xpeMOqPjeLmNOlKy03D9HroqON9gDIQdctrN5TYNtf77nHBsD4ayXLeHMipeFeG8lpcvoKKFY6eho4hHFEAAAAo2GKE83p4YqiJasBpWe0ZG23++AulFR0mYyiOWCVY6cBmdgST+L9sGbbqU5qq6veWnjJDEWS/YYMlamtqZ4NFKGIZ9P+Ebi3fvg1NqS1M8YVpsukj20rdLX/X74LfBRX5rLG701FItrBmJuLf0wZlqkVLXqFkgBcq1w0Z/TFmR02mZ6mpjVmeRlkYgO1z/AExLlTahK2YSxtJUVJaNhYRKBpH+5OC7XlvUr0ecnusLgVOA+deRPU5fT1CzwGmm8KaFgbnw2sdJbsxtuCRiWabVz6fumjlN0tctafk7yRyGfL8oppmqBDU1LTyvO4Gp2c772GwsBbYd8TrUdT6xei/lf1a8tX4G5lcMRz1bsf3XnMFPGazLZSLCWF2BIsQLqNmFwe+JeOjWLzl+A11pcvOIAnLTiXhziujZSySSyvRTRqb2V1N1va24Pr+cY6UT5afAP63eP2ooOZedcKcGUtT/AIsgrDWTxqGOo2jGkEqLi59RizhRsz6NOhHkV0NcuoeD+WbJmObVNS0md8WZnQRCurWNtKB13jiXTcRg9ySScb6j2+bM3nVkpHaV7G7gXJvtsPTDrR4Z1ndHPDfV7yoquTPH+Z1FBR1tbFV07UIDyQzxm6P3v6kEffttiXjo8/8Ahf8Aw0OJuiKPiuTNeZEed1mdwxQRqiNHTUMaPe5vvLKdrGwCi43J2vGZMGV9fl9Ean5Fap3pxYM8TbsPX9caY7UVaTLKKj+Qy4+BDMChRyB+m3c4u1v0JqOmhpwkkpCRk9u7YbU+B1UdLLTl6aNhCPqFrXOJtLLmlY1mmcBQnhK1/DCgG/pgzxuo01HWSPJUSZmoQG7xKdvti7Wx4apGbRHrkT0NrXxGbaJJl61McdbUVDhYT5Et5T+mJkWeGKkz5jEXFYwQqfIN9X5xS+FkM1HDEadTcbyM3t+BiZGdrD74yHKjNucvRnxGnCGQHMc24frIc5pgAt7wX8SxYi1oy97bm1sY/Jx/j8deN+NYvwtOb9Lyo66eXfGDCMw5lmAy+pEx0oUqB4alibAAM4bf2w4TF5ePoErZ6iPNDFX1MYZTbw4nBVB/+02OOjnbhp1NZEkNMNWlbiQvZQfbA2IViVGW0aU7yBpCNTMgIA3/AL4GxbxledSjxURyG3B8Ebj+uBsR+ZQSmBYzc7FgexwVGppEkisO/oxOAnSUTv8Ax2gQpGLq+25wDKw0xY1U9Ooc7qLgX9zgtuiSz008LvIukpYh2P8Api3yIG7lSWjQqlrgsPt6YgWjqP4YdmkkZCCNfvg12Mw5pNMzL8qxUrYtY98E7GaCnyj5aanoKVTqIMxlS5Bt6E9sDarRZfTZPQaaWocsO+skg/gdhgdq4agKrVRBLAbAnY4Fuh5bNmMkoabLRAqreLUPI1/Ue+CDZhVVzqVlddYYEKEAA/oN8BGllrpacRSpEGlk3EV9h+T64mQXGkMNN/hxOyovnYtYs35wyAXgUFVOaqtyoB9P1NNquMULU7U8dc7U9OmoG4AGw++AjJRx0kXzCQyOQNwpuWOAFQz0gmaqXIvFmVwGkltdB/x+PfG84hn94VToxIhHibKAfpH++MGaJl1MglWpSCQtq38MHf8ApgxZEs2r5U1mKmaObTuZksL4EuLemdVy0qGSNUJuVUqe49cFl1Bc9rJFkgkEjsDvqPv6AYLkjk9Qkjx0sM6LoQmQJ3J7jBQqesrpXNNu7q+zsNvxfGbcoodXzPjyurMXAJdiP9MaFwlloyRHW1qxg99IvYf74CkkxWdJIV1hmAVin1C1r4CdbRsJlkRrSxsCrBtgcANaqaGraeqrY2d2OvTIC39MXKF6is+Yd2QNp7XLbHDKK0GRZdTyyfMxJLtsrvsCftiCmZxSZJSLVZdTKwtbSTgT6ll0tS9MlVNFTSVUjCwhXdQe3fBJdM1jZmIGpIihEjAOddrDffAyI0+SxrTvK06tINoowfX3OBkL+HVSA/MTokanTYKCf0wVTMaagejSaiq21A2Otb3/ABgFp4FRVSYsgQ6gXva9u9sEvi25hRxTo04hLIpGkeJpMh9sGZ65S0NRCpqZakwKe8RFwR98GxqMorRzuxERY7L+fbGs4pZpyqaurgY0y+RIAdKOw9PU4lU1To1JGsEJJuAGcWB3HscROXi3ZllVY8viUcrl1Pm1TEK/4HYWGCSLBzI4Nn4r5fZ3wbJSQque5XUUmt/NpDxlWYD3AN8Tl9jcuPnOymr4j5Mcy4Y6J4jVcOcQmGKWJLFjDUdgNwp8vre2OfD5Wr4+i3lnUx8R8FZDxY1VTLHmuS0ldGlKfEAEsSuRcbetiPQ3Hpjq43122pzeqQmHKUEUAvqaWP6j74IrJmEla60sVS0hIu7WtvgGY3r441jXTZVAHmOAtEsbMArxk77KDbv67YOgseXTzx/LGZ479yjen3vgLhDSZTQxosNQPoIUGS4JwFKiDL4oFqomed3U2WIgFcBBwuhpZaeQggaWJuAPY/fGr5BN3kniW3p7HYYyBWWGM+Imq59rnANJPUUtoY6IuGHkVff7+2AM8CUsYqHXSxPncDtfAVlleKN0+WDOFuoYG362wCVJQ5jmsuomGCIbs2oi5/XAXSSOSElBVLKtvIur6T6jAW9hW19UyTZoItK3WJQPMMBJaSsidUgqIxZxqcyEbfb74C4RRyaZBI4AUXF27/jACkXxZVTc3I39cBUQtS080pdFVQbM3e+ASWqkqQFFRd7fTfbALr44F1QFlb1XYn74A4zUQ1Amly8yALYKkg2P64l39A8ecLVwsUhmgdXXw/Cktv8Ae2E8TNLVlTUtUmoqZGYA+YWufzbFMhanoaviCqkkgikcRAkPchFHvb3wXIpW5PJSlw2a1bSMAV8GMab+xuP98AXKslEdSa7M5nZyh0BV2/XAcRQUdCzNcncf6YxfRWipauSdJRQERA7M7bk42JTzUq1gpnqlMkh0rFov/U4A8ubfJR6KSJXkAtY9lwCkqZgrxvV1XiNOWfQreVft9sANhRU0viSeZzdUFrnHQSldmhEYGym4W+/64CsFJT1E6+KJFGobqdifzjPJL4uEUeXQlpgomAbcA3scZJ4jWVtNSTaqCgLOynxAoszk+n2wSCQTyOolqKLwCbBY73It6YNLbU1ssU0hiDRq/wDiEblsBOdFeAQrq7gkkdz7nALtChRvFidIUJ1OBff7YCkNKXpyaeWSTU1y0hA2t2wS+C1GVwiSJzVAhQdSr7nBmeuTUsNTKA5YR23274NoU0mTZfVrNHlcmuN9UY3sT6EgnANz5hMyATaSzbgKL4l0RMqMmsC7EWscJuAM8TtShWlCuXugvY7f+uKEc0mk0rQPWpJIYyAqkApfY/2wWevn4+I9yxqeS/W7xzwcyqsUudnOMsp6UarQVI1lh2Nw1x+QccvOTV8bmPhf8ZTcb9EnAPEWayGJoskSkEksobxREWS49gLW/OOk8cb699zF4KWJFjkjqGY2ITcX9Pzioap0ZYGadE8RhewSxwFRFtvURg+o1dsB1+P5kQAyVHfYBV8364Osmi0jz6HppZwbjygHfBBKOgmjbRBlcszFr+IjA2P4JGAl89SwD+FGDpc+IxNrW9BgGKLNI6tBLTEBXNo9r4u6HoKV3BZiG1f2xAzSRxxOTLKoZzbRbv8ArgKxn5SqZBLqsb6u+/5wEKp5AglWeIgktoO9sBWKpmqQ0kjruu5Xv/TASjSOIFXm+oWYHbAEpssy2aoczD+IEtHKWtpHttgJyZPk9PIpaYOdN2YiwXABNJTiYpDWRTAntG1tIwTYCKsw1FRQ04WZSQFlRrlT3398DYNHPohYJT63vu77WH2xVJZtRZrXogiiJRjfzmygffECOV5dnRpzmVbQmGnV9Ib1/GANJJCJfDcyXe50gkGw9PtjdzAVfk5oUgoVl0obM779/T74wGjHHSo2hwXWM6VAsSfTAcpKOSWEVgcmQqQNaWF/bAFpjnyrMlTIIkAHiLHINJt64ClxGoc1Nww3s18BCWWSxIAIXtc+n6YBeQkK9RPdNRAIK2H6DGbBNoK6qgC0ddHAhNyQPMR/tjQQpJvkJJVlnWdjceIy7jBNDEodwHAPcnUNjgqNRmFHQUnhRoBKQfDBb6jgIQS0jmKWHxLlASsgv5vX9MNBUnCVDNT0CkvYmR+9vxizaJ1yy6wyMFDLdCovt7H74XjUt+KZakrBhG9kBu1wQe2FlhKOdfe5Ld7k2viE+JGV2F9TCx9DjUmmwBxGzeAkjA6v8UC9v/PDqbHI6enSQO9TID4nfXu2MmwSvJghaPQPO2yj2++BsCooaWmMclZWeE7IdMSb2H39sEtSqZIcvpyaaFpHlNiV3Jv62wSeizNQUhEVZVhpdFxGqn+GPYntfFn2tbCcMtLXuJqWs1oJLeVTuR7XGNnaHFpayoneOGEkEDU9x5b+hxnqbAZIayEGKiIZyLJrGwPriWYpIxVMUxlzF5XktpB02BP2xBCkqRXyK0MYQJcM0gsbYLPWk7449RW0fXPLHO5o1fhenGXyRxBtaGSQu1hc7E+tv1xx5N3xn98GapYdB3CsVDVGcxTVVOGkSyrpmPb07Ef1x1njhfWX9LQzUsfztRUpcn+HBEm6/e/vfFRcqTL80lAatq/MRrWJ27fnBepV6lUcr4ZNja+2CERDTKxLOwXX/Kf6jB03BIaSlhVnS+m9wWbc4As8MUkqiKKaynUAtxY/pgFxQsa5nmRSgNyGF7/bAXGBITTvUqiQhV8qqgH+mAnQ1DIkgD2A7E4Bw1MjQNApRQ3eTRc/pgE0zahpQBM7Ozr5FQbXH39MACXM6NZfFa6ljfQg9MS3BWKShMxkoHk1H+UHY/qcTsGYayp0hRTljqGrUOx/TFl0XCzyeZgwdh6e2KFK6OWokWB7FbWJb0OABNltMGWRYPEcfSX7Kfti2YzZtFpIxCCsIAuPOVHriJeNVEDIz6yzG3lDi1sTWpMSpErGkDSyhiV8sWu4xVczmtrjDDQ1MYWJTcBGvZu18BGhiZnFPThmMtvMPT/jALTVfzWYPldHVMxiJDS/yi3pgJy1U1NpSYhj/n9NsAaHO6mVkpKOYBO8z6LbfYYCstVLGrQKQEZruNNy36+mAHAFqIzIzjTGTZe3pgKwiBIJKhgJVAuqu2xP/iwAZEWpiNfmBUBRZY4JNr/f2/GApLKwiWKn0R6j9TXIGDNm0tXpSU7qY5FL3OtlW/8AbBZMCo3lqaT5x6R1QNp8w2PtgpWly+oiqJ6isy1SGW+pvztbATlqKunKRUGXs4YC7gGy/bbASWSaWQJJGwYnzWPr9sAV2lNWk1K4TQpurbgn7j1xuXYzycdndHdqx1LuC/hR6Q5v2+2+F8SXBI66S3hyUxEdrMz+h9PzjDVxyWuiKLpcL5rNbvi7WAzPPGHqxHcIwsCblvvbDaB1VXPU1ELmMkJdlXT6++IJiZVjZndnldto9JwBaeKSqdWFO8bhbfxFtvgH6ECgbWk8RkHYWBt98ByWKOuqnbMKzfwybeHcm243HbF4+izVOf1UjBIAECrpRo23/X7+mNidJV1cUIjkqxHIXNgFN2OALHU1YGmOdGkI8xY9h74zyb4+PNerPqY4I6S+Rmc89+Y+YGqyzJhEkNJE/hvV1EsgjSGI2YF7kt/9qsdrYyrrPR91vcqutLg+u4h5O0OYw0+WViwZj++aMBnZhqurKbFRex9bj2xLtnxLbGp/4zXGeWZ/8RXiOgy6lWaLJ8ooaRkjc+YhWka9+xOsfmwxzq8beTZt8HPh7/p/4fHA1FVZcsM1fLV1cYmRg4ieY6PKfwTqHe/2x0njF9ZUUlJ8nTzMza3uAAR9xfv2xUGhhNQQit4a+HZizb/+eDoKuQUBUH58DbtpGDms8NCalnFUHiVd1jUXLfn2GDpmqyNFLpSKmAF7Be/bARneZHCBWQm3p3GALE4ZjG3YPcH3wE5YUUCpMRkVWI8O1gDgF0JaK5VlDd1LYDkmZVEKLFH9LKQAO2AhTrKReKPRp3YAbYCcQhlAtGdSt5iVsP0xMlEoU0xlaErrBu2uT39r4ZAN6iSkcqszSSL5gVY2I9zbFDQzXPKiLTGEiQ2Mjfp2BwBKWojbUk9QPILsdW9sBOOpqqypMVIylQv0gb298N0VanqoLyIGUjcWBufvgGo6eNU/iyP4pF5BI/vi5gCyTQSXpCCCO++2IA1NDHpE9TLI0hN3COTgDiueGJIYgVGndmG4wFvjq3y7VDTxxMjMSWZbFv6YClVVVE1OzLQN4gFlUEED7n2wB6NaxWiYuibeZSL6vt9sAyqSLdkmBPcra9sAFyj1HhrqKj6gF7nAAipzPO0bKY1vcefv+MAwYkVjpWNIxvf/AJ9zgF1qIqlTYAsradVrHAcXKWk1VRntoFm22+2DWfCU14yQPFdR9Qj3J/TBkzKK1KcQshUuBYSn6QfXAFgWSGSKjpXU6rXue49bYtmBJ28eRpsweUqh0rEp02OIKxxyGNS0Ox7b3YD841LjPJIrHDG7zUzEhSYi5t5vQ29cS+sq+DWOsckVLrUi7C/0j/N98QHp0TaWNEPo1wNsXKIzS0cLXTTqdt7G5wygcjSRM0kSs6vYsttl33xASWpjSdaiNQCgBUKvr6YDlPW1R0NXAySkDxSNvN62wEZnZq5pYqII7jZWG4GAgmW1NbM0UdUuq2qVi/p7YvH0Ho6ujhh/cuWUUMjwGzSJGPLc9yT7k41bg8o6lOtjpm6Y8veq5o83cnyuYwFoaHxfHrJWBsdMCXfY7bgD74l5UYS88/jtcrciytcv5H8F1efZjmMzo+ZZ5L8tDBGoG3hLcsXJ73AGki2+Mcvya1xYHdTvVzz261szgqOaudT1EFLXoMp4XysEQggMLrEn+IxBI1tdgD3xnlbY02tfCk6S+M+j7pszAcw82kNbxJWrmcOSU5JShh8IHzgb+Mb2ItsFGNTnZMGpHq45rnqQ60uOOYOQQSQrnvF3yOUK0Og+BCy08RK3Ni2m537tjnm1Zkjf30z8s6vkxyQ4J5d5lRw08+RcMUtLPTxyiTS+gM+49dTMbel7Y65jnfXo9VLElOESI+Y6mJH9sE/eKRTwyRCTdLWFgt7nB0VNLTMdRq5Bf09sHOrSk1QZhBCp8R2tqHZsHTcMSpW5dP4axoRa5dv9hgKMZXbVPIW22BXa+Ai0s17RyWIB02PrgIU09fPFLTJUqHUgkk+n+5wEXEiy2pmXUPrfV9X2wHHeaG7UsKFiwCg22ODM2i2qnj01agKLFrbb4NBUtXFW/wDa0KyeIgPlCEG2AYqYlUrCkAV7C+3bAUaZ6dTDELg7sPW2AlR5bNnEi1AeSJFAAD+p+33wEzRFQ9KyExxE6nb+bAFpHVJAtN/DsLDa98bk+CawV5EuZ1tWVWFgYyDax98YoHPXyZiGqFqiwY97EnFttCk2ciCeOGYraO4LNtf7YgfizSOe6wRlEt5nG5/TAMVbhKiGKiicqyXlmYiy7ff1OAU/dFBTkS0koZjfU0kpLf07AYCLUcK6ViqHLXPi2BA/vgONVUkQ2qUXSLKrfUW9cAtEfDqA7sY99iW+rANLU3X+Cw1k2BLAX/XAAlkjbWslQQWXaxuTgzbQI5q3XIlQ8bxslkUi1sGjuX0lPBGUMUYOnYg+t/7YAFRmVDVVPgxSbICSH2AIG5IwNpBc0HzetZQIYzu57Af5sAxUcR0a1YZ5Fl8lyMBXK81DU7yZbECxOxk20j2GDFt0Bpcyq0kp6SnDhdmYDufucE2prlmfooWsnMYEd1Eclt/vtgbR8lyeqFMkVfmTEo3ml06ja/bAMVBmgrjFSzFgu48QWBXALV9WggK/JpHr2GgW2w0LUVIgYvCwVitkDC5B9cA3AyxrofMZJGA3XSCo/Fh/rgBNmM0M/jKrJYWjCC5P5vgOQySvB49QCJNd2LbAf1wXrUWetmqkpsuWR5ZmFwlrt+L4luHWsW+qX4vHS10n8Q5rwxPnq8W8T0KBRlOQyXhVr2KPPurONrhdt++Ev7Xrc1rV6oPjH9XPUXA9LlnE8XBHDsVU8y5ZkMZiqJGY7GSb6nKg2FrAdwMZ/wBmMvEuUvS31MdUGd1mZ8vOXXEfEtUZFNdXTSXXzElSZJGAa51G4vtv7YduVGcfSz+z88X8wODl4r6oubZ4cEdVHK3DmRlJpjDqIdZJGGz2XsvbUP0jXFmv07fDc6ZelqV815UcJUQzAqdNdmv/AHc0d/8ALJLcrt/lt3ODTy74x/WZ/wC7b00/+y7hPNIV4049hloKSamnQTZfS7CSqAvqXa6Bh6m3pcBgR8FzpGouoDqfy7inipaav4Y4CArszTMFLfvCbzLTxAdr67OxY2snrcDFnqW43i5Yvy0Y8UJrCW1AiwA7bDa1sbX09RmrliZqqujls+yoRtgxfRIqpyfAELLZrhiO+CbQ2zAajaRCL7HQd8ArJmqVFS8pI8QnUiJHYAfn3wdDcsgkp0ZoSzWGtztbACUura3IA9Ce39MANfDqmKPLGZAO4UqAPtgCFIKOmMkwA1N5bdyfvgFpKFnq3alnN2Goki1h7YEmpqrRLHHUg6o7OLPuSDgvWpO1XXxmQRhrvst9r3wQ9RPmjEZZUQyiNkPmhY7W++AnVwvNCKfL42VNYBaSQFrfn1wC9Xl0eXwvU1VWiom5JvqPp2wE6HNKP5NjOZGEoCwNHsNza+HgIaSjhgt80RHfSFZrk/bFlyg1KiyxoaWPZmOjT3PvfGwObxkSWklSQqrabdwf6YxfRE1cSopDFDGuwK7D3xBbRU01XUBmgE7K+xZAVX7/AJwF2gpUBcxyCJbHWy9j9sAKr/elZSCOd4FQNYrHe5t2wFFSoSm1wqvi38thcX9t8AzBm0sYWKaMF2azuO6n8YClXGtRc+Ems7hio/19MAmY6GaRRMFd1uIrmwv/AL4CKVZe8UuWwhC3nYIbf3wSWVyplFefBggSOJPqZVF2Nu2Clq96oQqKOmTRYXBNj+cBIVM0VE8CU4Z2Hvup9cAlTZXVPQSSzmNXcFdPcgHAchyaknQwVc7J6hGW5IHr+MAOqhZoytNCmhNiyrdr4BnLaSQ0oihEheRbHWtiDg531eMronynLXp2qm0q3naM+Yn7nAMNPHOgpZZC6s1jcXKj84BCpnjjqHpVJUL30nfACrZp6UoRUJIDbyzE3wCdZUy1g0yQhVU7ebb9MBRIqmTMYIUzEweUs5N7abdsBN4XeQU9NXmQnfUEIwM0elkmpZNMca3CWMjC5O25wbkxb80rKn5OQPZrOALKbhb/AG74K1E/Ff8Aizc3uOuYPEHSbyJzOu4a4XyWsmyvPMxpfJXZ5MlleL3hiU3FhYuD5tthnk3ked9NfwX+rnn/AF9NmvHTU3L3h+qgjqIc1zGH5mauiYAs0UaGwIX/AD2BNgDjHHS2RsU6aPg8dCvJTL6Co4i4Fm48zijTXVZ5xQwdJai48yU4/holhYKQ3c3Jvhkc8lZYZTlXDGQ5JScNZHkVJTZfRh5KTLsupUghjZgLsUUWvsP6YpkBzerFNlMkcsKpruAEW36bfnBZ8eH9XvXRyY6I+VcvMTjvMYK7OZoSMg4Vjl/7nMpbbCw3jj7XkNh6Ak4DS7n3EXUz8THqgoswzZqjOuLeI5mpspyinASmy2mUs5SIbCOJFuxudzf1NsJNG7Do66VOB+knkTk/KjgXLjJUQgPm+bSwKslfVMF8SU2HlW4soubAe98bnxLNe2UeW1EUSmaFtJX6vT8Yqmcto6aOeSXQA0gs1m+o9u34wZ5enBQwySoRMFWx8o7tYe+DJdqWHUdNMbX2s2At1PDmlPMh+UPmG7OLXH2wdD0o1qxkuCfQnALSxJKFuTcdhfa34wEI5EimDF2AtYkJf+uAbVhpIMYIJ7MP6YCCVoTMgkBieUodS3H9bYLPVEgE1Sfntem+wYj9R+MGthiojAdViuqrYqARY79sGKZWrqpj8rTKYwD3v398anHZoHLQrlVC0i1SsZWJG9tP4xesCP8A8Mpxqr5+5ugmkuWPr39MMwRFWHBqljkGl7DULD8b4zbAagy2LMAzvU28NLFhuScSg5qxRKNDSeQbrH641LMCi5jWyRO6TPFqJsbWNvucZCVRFVZjGsBqzHF2k0t52OA5lNNIkvhSB40RdlKixv6nAXyoWeGKGGmEaRa7SlkJLC35wBGiiufAl81+17YM9gZXmjGlipUbiy2t74HZFZqJGR5YghLeUKtl1ffEtw7KxxUmuaSeuLaj5kZ7Bb4rStD4ckUciICQv8NWG9vvgzaBmFdRsTAQZKhr2jiGy2/zYJPS0EBRAJww1H+X0GDalTLSS1SCkpHvHcBf9/tgKO9QEOmlLNa581v/AFwBslWdJDLVIwRjZb9r4JfEszrknqyEh1uUAaUjZPtgnYCnykV9b41CzpEv1Obedv8AbA7GKR7CSPw21JfU5S1t/fBLdJzQPR08NXNWyFZWNlUbH74IafMvlafxSSQLDUO+AhS1kOpmSxD389++AIKhiVkhlUFbkMBfVgBCKCWNvHqNIX6t98AreJv+4hmP1Dd1J2GA46U1VVjxyVQA/wCGxG/pg3PD1P4UYWn8RbnYPI27YK63zS4pqMp5eZ43DlZGtfHQyrQDw1JE2k6W3G+47HAaHenTmmvTN1R1HN/qA5V02c51DVVU8lHnOWgqlcZGIqUR10uSwNnFwt9QuVAOK3Y2l8C/GZ6JeJaXKqTiDiTNMira2CMZhTVdEZVp5TuwMiHzgH1C9vTEcrbK9Zz/AK0+kzKGVarqG4Yp7RQyrGa5SzQyWKtYX3IN9P1C+4GH1rdjrXHHxMugzg2T56TqLyysSnjZplyunnd2t/Io0C7HcAdsBhp1T/HtpMxyeu4f6RuAq2jr0r9VJxVnk6v4aq3f5cowJNuxa1j9r4DBzgvgTqf+IHz3lq3lzHjXizMSslbWSPeOkhBWPVudMUKXUaRYAdgcM0bmPh2/DS5fdEnBKV2c0uX5/wAwamCWLNeJNB0pG76ljgGohFUALdTdt73xuTGezJ4TxwKlO0L6R9TLbfFOximmpp5GNHT+EvqrE7n9cDsJPPTRsFej1SgX8i9h74JbqFNXw5uZI6elkGhQCXPa59MENLDCihCrXAts2As75rO7q8kLEFbFWPp9sHRCeSSudUWyb77+mAqsyPWGkuCQDqI7DbADlqY9Foixs1gALYFuDwVQ1anQbHe/82Af+aUEKMupomK7NGQSfybC343wEJHZ2ZNV2/zNgWUCsqYIqoL466QoDjub4LLNCNUsaif5to1U/wAnfF2rysqjZgjR6JHeYqNnY339sNrIEeStmUpqqmCxTzKXN7Ae2G0UmrKuqlEEVabdlS+1vbEDdDT1lLHIFjYLovb/ADYCFS1RPNrKiMKBbQe+A4YZ2iaKKASbXYBu35wA6RYCjmJwzeKATp2Ww3wAn+fSqZqbUzFgLKLAfY+5wFxjMrNpqWIdQbi52/8Aw4CcUkaqJGdGYdwp3wc6r82Wm1GoKL2F1uCfbABraqGZ1WmpSW1WLMxIP3tjNBKZ6WjdqchH2/iG1wLegxuTXRWWooqdoKp5RCShVL7EA+hxHO+kYIaaoheoopyFZiS7G2rfv+MFnqVLU+DPHTySNIFuHkIBtg2lPUGKYyQKmtRdgSLH++ATXiOjaqNNLUM07GxVNwP19MAzHKniELNZix21X3/GCXxMxJT05DKbuSZDbbBhSGR4/NASg7JpGwwEmqapaKSJPpZiXkte+ABX1stZBT0omXyjUsZW1rYATUEtWyIalgqNeRCLhjgJaKkTDLqaJLFP8ttIA9MAW0lKiQSgalUatJ7YCAmaom+VhYBbed5BscBCq8IMlphtZVbQQL+2AekalWj8GaEMQLMf8x+2Dc8KhoqeI1EunWqHwlYX3/5xZNVaRRRzTGesjjMTA6lkA3/Q98WzIPHerboa5D9WPD9PknGnBYhkoKU0+X1+VTNBURXN1bUD5gjEsFYWv37458uOrOX1rt50/At6kODsjruIuUnG+R8VLRZiFpMpr9dNXT0xayuTpMWtRbUNW/pjl9kb+Mc+KejzrL4czNsl4h6b+KFlBKOaWjedJbN3DrsRcAixsccrz5avbjhzhD4cPXTx60VRknTvXUUdRUeE0+dSJTKoP8xBJa1/tjpxvK1zuMpOnD4DHHme8RpVdUHH1HkeUxwoanLOF3MtXUOVbSokdAiAHdiLn0x1k1GyXpr6O+nbpb4CThfk/wAGR0sk1NF+8cwmJeeqmS/nZyb/AFFmtvYnawsMakxnl49HjhWnpXp8uqHUn63dbkH0tisoz+GCjSxNI6/SB2JPqbYAjMKIALcsTsb2AwFSkxkZaaocKF/iSahdicBOjMOVwSSPOweaQaFI2H3wAWkryxJmN7+2AhmbMsMVRquy3tfB0CRmKsSfQm34wCLSMSjg2PqV2vgDVkz0kSmE/Va4Iv64M8vDJcmBGIF3sCbYJwomrwY2ZBvp7n0wbnpWOuqZv4Tvta9/XBrkFmR0V8SBQRIpLXGDKelo6VKZJCEke7bAn++NyTBKk3qPCPa43xcgvLwKy+d2PiGzb+n6YXjNCwpoKa8MEQVbHt9u2OYI08ophIrkE7fpgI00ayU0sj3JVrDAAq2ePTFE5US7OR3IwB6kLS0oggUKkbWUAf3/ADgAZtNLl1OKmkfS6ElW9jY74DlfXVEmbimZvK8asxHe9sAarhRYzGCbaSMGL6o9RJAsIjPdLHc9gMEFra2aBF0Bb2sCV7b2xKFFkMETVCgF3G5bfHSeOi28SOwjgqAdzcEemJyc76LMqy0gNtFhYaNvQYyB0sxpoQ8aLqdwCxve2CymKqmiIW4NzYk374NjUmU0MmZo7QC5ViSB3I7YC8VtLTU1NphgQFmBZtIuf1wS+FZ40RXQqGFr+b+uDBYDwYFkXcn3OAey6QyhXdFJt3tgB1iJJOHZBcGwIH2wFtzOpnpaR5YJSrGS1x7YNzwGOolZklL+bVbUO+Cmi7JOFB/xN2JwLHKYCpq4qWUXWR7NY2NsHNyqiipahYIo/KJNIuSdsBOvHg7Rn6ozv7fjBueA007TUaPKqsdFzcdzjfHxUY6GlmHiyxAsfW/bbC+JfDLZbTUUETQFhqPm83fbGGZ6tVbPO5MJmbTbsD98HTf0JTkz5l8gAscaQ6gIkVT2va4HbE6xCDuTI0pAuDceX1743JMDvDcST1/zsyhpBHqDNvY4xxguNfPJSrGYbAlyO2Kl8CojJUVNpJWs58wB727YMCCaUS+GHIBG+AJWx6ap4dRKqilQfS4BwCdaLwSlyW1mxuf+MAxTzymk8V21MCFBb2wDAqpQLWX+mA//2Q==)"
      ],
      "metadata": {
        "id": "bwxIBbC3SuRx"
      }
    },
    {
      "cell_type": "code",
      "source": [
        "import easyocr\n",
        "reader = easyocr.Reader(['en'])\n",
        "result = reader.readtext(\"/content/Abv.jpg\")\n",
        "\n",
        "for (bbox, text, prob) in result:\n",
        "    print(text, end=\" \")"
      ],
      "metadata": {
        "colab": {
          "base_uri": "https://localhost:8080/"
        },
        "id": "JJk0Pj7S-9Dw",
        "outputId": "50ee492e-5052-4eb7-eab0-6485a373ecd9"
      },
      "execution_count": null,
      "outputs": [
        {
          "output_type": "stream",
          "name": "stdout",
          "text": [
            "Because be doinq "
          ]
        }
      ]
    },
    {
      "cell_type": "code",
      "source": [
        "from transformers import TrOCRProcessor, VisionEncoderDecoderModel\n",
        "from PIL import Image\n",
        "import requests\n",
        "import torch\n",
        "\n",
        "processor = TrOCRProcessor.from_pretrained('microsoft/trocr-base-handwritten')\n",
        "model = VisionEncoderDecoderModel.from_pretrained('microsoft/trocr-base-handwritten')\n",
        "\n",
        "image = Image.open(\"/content/Abv.jpg\").convert(\"RGB\")\n",
        "\n",
        "pixel_values = processor(images=image, return_tensors=\"pt\").pixel_values\n",
        "generated_ids = model.generate(pixel_values)\n",
        "generated_text = processor.batch_decode(generated_ids, skip_special_tokens=True)[0]\n",
        "\n",
        "print(\"Detected text:\", generated_text)"
      ],
      "metadata": {
        "colab": {
          "base_uri": "https://localhost:8080/"
        },
        "id": "8nRaR0Bx-9Gp",
        "outputId": "30bc8467-db47-4b68-aa72-bbec4f65fd5d"
      },
      "execution_count": null,
      "outputs": [
        {
          "output_type": "stream",
          "name": "stderr",
          "text": [
            "Some weights of VisionEncoderDecoderModel were not initialized from the model checkpoint at microsoft/trocr-base-handwritten and are newly initialized: ['encoder.pooler.dense.bias', 'encoder.pooler.dense.weight']\n",
            "You should probably TRAIN this model on a down-stream task to be able to use it for predictions and inference.\n"
          ]
        },
        {
          "output_type": "stream",
          "name": "stdout",
          "text": [
            "Detected text: becoming\n"
          ]
        }
      ]
    },
    {
      "cell_type": "code",
      "source": [
        "import pytesseract\n",
        "\n",
        "print(pytesseract.image_to_string(\"/content/Abv.jpg\", lang='eng'))"
      ],
      "metadata": {
        "colab": {
          "base_uri": "https://localhost:8080/"
        },
        "id": "OBC7twCV-9Yh",
        "outputId": "ec7e6c39-5bdc-4ecb-c262-84ba8c85fc0a"
      },
      "execution_count": null,
      "outputs": [
        {
          "output_type": "stream",
          "name": "stdout",
          "text": [
            "Gecaus @\n",
            "be ae\n",
            "\f\n"
          ]
        }
      ]
    },
    {
      "cell_type": "code",
      "metadata": {
        "id": "fc4e94f1"
      },
      "source": [],
      "execution_count": null,
      "outputs": []
    },
    {
      "cell_type": "code",
      "source": [],
      "metadata": {
        "id": "7BuVA5oMmJAw"
      },
      "execution_count": null,
      "outputs": []
    },
    {
      "cell_type": "markdown",
      "source": [
        "# Mistral OCR"
      ],
      "metadata": {
        "id": "TA_V9kWVod4g"
      }
    },
    {
      "cell_type": "code",
      "source": [
        "MISTRAL_API_KEY = \"iIigytIhF49wWjtwUlOJwhiNbpnnxHXh\""
      ],
      "metadata": {
        "id": "7Wg_YlEyjX-c"
      },
      "execution_count": null,
      "outputs": []
    },
    {
      "cell_type": "code",
      "source": [
        "!pip install mistralai python-dotenv datauri"
      ],
      "metadata": {
        "colab": {
          "base_uri": "https://localhost:8080/"
        },
        "collapsed": true,
        "id": "J2lU_QCioemK",
        "outputId": "48ce1fb0-6634-4808-f11e-6a5af738c9ee"
      },
      "execution_count": null,
      "outputs": [
        {
          "output_type": "stream",
          "name": "stdout",
          "text": [
            "Requirement already satisfied: mistralai in /usr/local/lib/python3.11/dist-packages (1.8.2)\n",
            "Requirement already satisfied: python-dotenv in /usr/local/lib/python3.11/dist-packages (1.1.0)\n",
            "Requirement already satisfied: datauri in /usr/local/lib/python3.11/dist-packages (1.0.0)\n",
            "Requirement already satisfied: eval-type-backport>=0.2.0 in /usr/local/lib/python3.11/dist-packages (from mistralai) (0.2.2)\n",
            "Requirement already satisfied: httpx>=0.28.1 in /usr/local/lib/python3.11/dist-packages (from mistralai) (0.28.1)\n",
            "Requirement already satisfied: pydantic>=2.10.3 in /usr/local/lib/python3.11/dist-packages (from mistralai) (2.11.7)\n",
            "Requirement already satisfied: python-dateutil>=2.8.2 in /usr/local/lib/python3.11/dist-packages (from mistralai) (2.9.0.post0)\n",
            "Requirement already satisfied: typing-inspection>=0.4.0 in /usr/local/lib/python3.11/dist-packages (from mistralai) (0.4.1)\n",
            "Requirement already satisfied: anyio in /usr/local/lib/python3.11/dist-packages (from httpx>=0.28.1->mistralai) (4.9.0)\n",
            "Requirement already satisfied: certifi in /usr/local/lib/python3.11/dist-packages (from httpx>=0.28.1->mistralai) (2025.6.15)\n",
            "Requirement already satisfied: httpcore==1.* in /usr/local/lib/python3.11/dist-packages (from httpx>=0.28.1->mistralai) (1.0.9)\n",
            "Requirement already satisfied: idna in /usr/local/lib/python3.11/dist-packages (from httpx>=0.28.1->mistralai) (3.10)\n",
            "Requirement already satisfied: h11>=0.16 in /usr/local/lib/python3.11/dist-packages (from httpcore==1.*->httpx>=0.28.1->mistralai) (0.16.0)\n",
            "Requirement already satisfied: annotated-types>=0.6.0 in /usr/local/lib/python3.11/dist-packages (from pydantic>=2.10.3->mistralai) (0.7.0)\n",
            "Requirement already satisfied: pydantic-core==2.33.2 in /usr/local/lib/python3.11/dist-packages (from pydantic>=2.10.3->mistralai) (2.33.2)\n",
            "Requirement already satisfied: typing-extensions>=4.12.2 in /usr/local/lib/python3.11/dist-packages (from pydantic>=2.10.3->mistralai) (4.14.0)\n",
            "Requirement already satisfied: six>=1.5 in /usr/local/lib/python3.11/dist-packages (from python-dateutil>=2.8.2->mistralai) (1.17.0)\n",
            "Requirement already satisfied: sniffio>=1.1 in /usr/local/lib/python3.11/dist-packages (from anyio->httpx>=0.28.1->mistralai) (1.3.1)\n"
          ]
        }
      ]
    },
    {
      "cell_type": "code",
      "source": [
        "!pip install create -n mistral -y python=3.9\n",
        "!pip install activate mistral\n",
        "!pip install mistralai python-dotenv datauri"
      ],
      "metadata": {
        "colab": {
          "base_uri": "https://localhost:8080/"
        },
        "collapsed": true,
        "id": "B5B7dwaFoepS",
        "outputId": "b0419bb5-48f5-40ca-892a-dedf72ae6857"
      },
      "execution_count": null,
      "outputs": [
        {
          "output_type": "stream",
          "name": "stdout",
          "text": [
            "\n",
            "Usage:   \n",
            "  pip3 install [options] <requirement specifier> [package-index-options] ...\n",
            "  pip3 install [options] -r <requirements file> [package-index-options] ...\n",
            "  pip3 install [options] [-e] <vcs project url> ...\n",
            "  pip3 install [options] [-e] <local project path> ...\n",
            "  pip3 install [options] <archive url/path> ...\n",
            "\n",
            "no such option: -n\n",
            "Requirement already satisfied: activate in /usr/local/lib/python3.11/dist-packages (0.2.1)\n",
            "Requirement already satisfied: mistral in /usr/local/lib/python3.11/dist-packages (20.0.0)\n",
            "Requirement already satisfied: alembic>=0.9.6 in /usr/local/lib/python3.11/dist-packages (from mistral) (1.16.2)\n",
            "Requirement already satisfied: croniter>=0.3.4 in /usr/local/lib/python3.11/dist-packages (from mistral) (6.0.0)\n",
            "Requirement already satisfied: cachetools>=2.0.0 in /usr/local/lib/python3.11/dist-packages (from mistral) (5.5.2)\n",
            "Requirement already satisfied: dogpile.cache>=0.6.2 in /usr/local/lib/python3.11/dist-packages (from mistral) (1.4.0)\n",
            "Requirement already satisfied: eventlet>=0.27.0 in /usr/local/lib/python3.11/dist-packages (from mistral) (0.40.0)\n",
            "Requirement already satisfied: Jinja2>=2.10 in /usr/local/lib/python3.11/dist-packages (from mistral) (3.1.6)\n",
            "Requirement already satisfied: jsonschema>=3.2.0 in /usr/local/lib/python3.11/dist-packages (from mistral) (4.24.0)\n",
            "Requirement already satisfied: keystonemiddleware>=4.18.0 in /usr/local/lib/python3.11/dist-packages (from mistral) (10.10.0)\n",
            "Requirement already satisfied: kombu!=4.0.2,>=4.6.1 in /usr/local/lib/python3.11/dist-packages (from mistral) (5.5.4)\n",
            "Requirement already satisfied: mistral-lib>=2.3.0 in /usr/local/lib/python3.11/dist-packages (from mistral) (3.3.1)\n",
            "Requirement already satisfied: networkx>=2.3 in /usr/local/lib/python3.11/dist-packages (from mistral) (3.5)\n",
            "Requirement already satisfied: oslo.concurrency>=3.26.0 in /usr/local/lib/python3.11/dist-packages (from mistral) (7.1.0)\n",
            "Requirement already satisfied: oslo.config>=6.8.0 in /usr/local/lib/python3.11/dist-packages (from mistral) (9.8.0)\n",
            "Requirement already satisfied: oslo.context>=2.22.0 in /usr/local/lib/python3.11/dist-packages (from mistral) (6.0.0)\n",
            "Requirement already satisfied: oslo.db>=4.40.0 in /usr/local/lib/python3.11/dist-packages (from mistral) (17.2.1)\n",
            "Requirement already satisfied: oslo.i18n>=3.15.3 in /usr/local/lib/python3.11/dist-packages (from mistral) (6.5.1)\n",
            "Requirement already satisfied: oslo.messaging>=14.1.0 in /usr/local/lib/python3.11/dist-packages (from mistral) (17.0.0)\n",
            "Requirement already satisfied: oslo.middleware>=3.31.0 in /usr/local/lib/python3.11/dist-packages (from mistral) (6.5.0)\n",
            "Requirement already satisfied: oslo.policy>=4.5.0 in /usr/local/lib/python3.11/dist-packages (from mistral) (4.5.1)\n",
            "Requirement already satisfied: oslo.utils>=7.0.0 in /usr/local/lib/python3.11/dist-packages (from mistral) (9.0.0)\n",
            "Requirement already satisfied: oslo.log>=3.36.0 in /usr/local/lib/python3.11/dist-packages (from mistral) (7.1.0)\n",
            "Requirement already satisfied: oslo.serialization>=2.21.1 in /usr/local/lib/python3.11/dist-packages (from mistral) (5.7.0)\n",
            "Requirement already satisfied: oslo.service>=2.1.0 in /usr/local/lib/python3.11/dist-packages (from mistral) (4.2.1)\n",
            "Requirement already satisfied: osprofiler>=1.4.0 in /usr/local/lib/python3.11/dist-packages (from mistral) (4.3.0)\n",
            "Requirement already satisfied: paramiko>=2.4.1 in /usr/local/lib/python3.11/dist-packages (from mistral) (3.5.1)\n",
            "Requirement already satisfied: pbr!=2.1.0,>=2.0.0 in /usr/local/lib/python3.11/dist-packages (from mistral) (6.1.1)\n",
            "Requirement already satisfied: pecan>=1.2.1 in /usr/local/lib/python3.11/dist-packages (from mistral) (1.6.0)\n",
            "Requirement already satisfied: PyJWT>=1.5 in /usr/local/lib/python3.11/dist-packages (from mistral) (2.10.1)\n",
            "Requirement already satisfied: PyYAML>=5.1 in /usr/local/lib/python3.11/dist-packages (from mistral) (6.0.2)\n",
            "Requirement already satisfied: requests>=2.18.0 in /usr/local/lib/python3.11/dist-packages (from mistral) (2.32.3)\n",
            "Requirement already satisfied: tenacity>=5.0.1 in /usr/local/lib/python3.11/dist-packages (from mistral) (9.1.2)\n",
            "Requirement already satisfied: SQLAlchemy>=1.2.5 in /usr/local/lib/python3.11/dist-packages (from mistral) (2.0.41)\n",
            "Requirement already satisfied: stevedore>=1.20.0 in /usr/local/lib/python3.11/dist-packages (from mistral) (5.4.1)\n",
            "Requirement already satisfied: WSME>=0.8.0 in /usr/local/lib/python3.11/dist-packages (from mistral) (0.12.1)\n",
            "Requirement already satisfied: yaql>=1.1.3 in /usr/local/lib/python3.11/dist-packages (from mistral) (3.1.0)\n",
            "Requirement already satisfied: tooz>=1.58.0 in /usr/local/lib/python3.11/dist-packages (from mistral) (7.0.0)\n",
            "Requirement already satisfied: Mako in /usr/lib/python3/dist-packages (from alembic>=0.9.6->mistral) (1.1.3)\n",
            "Requirement already satisfied: typing-extensions>=4.12 in /usr/local/lib/python3.11/dist-packages (from alembic>=0.9.6->mistral) (4.14.0)\n",
            "Requirement already satisfied: python-dateutil in /usr/local/lib/python3.11/dist-packages (from croniter>=0.3.4->mistral) (2.9.0.post0)\n",
            "Requirement already satisfied: pytz>2021.1 in /usr/local/lib/python3.11/dist-packages (from croniter>=0.3.4->mistral) (2025.2)\n",
            "Requirement already satisfied: decorator>=4.0.0 in /usr/local/lib/python3.11/dist-packages (from dogpile.cache>=0.6.2->mistral) (4.4.2)\n",
            "Requirement already satisfied: dnspython>=1.15.0 in /usr/local/lib/python3.11/dist-packages (from eventlet>=0.27.0->mistral) (2.7.0)\n",
            "Requirement already satisfied: greenlet>=1.0 in /usr/local/lib/python3.11/dist-packages (from eventlet>=0.27.0->mistral) (3.2.3)\n",
            "Requirement already satisfied: MarkupSafe>=2.0 in /usr/local/lib/python3.11/dist-packages (from Jinja2>=2.10->mistral) (3.0.2)\n",
            "Requirement already satisfied: attrs>=22.2.0 in /usr/local/lib/python3.11/dist-packages (from jsonschema>=3.2.0->mistral) (25.3.0)\n",
            "Requirement already satisfied: jsonschema-specifications>=2023.03.6 in /usr/local/lib/python3.11/dist-packages (from jsonschema>=3.2.0->mistral) (2025.4.1)\n",
            "Requirement already satisfied: referencing>=0.28.4 in /usr/local/lib/python3.11/dist-packages (from jsonschema>=3.2.0->mistral) (0.36.2)\n",
            "Requirement already satisfied: rpds-py>=0.7.1 in /usr/local/lib/python3.11/dist-packages (from jsonschema>=3.2.0->mistral) (0.25.1)\n",
            "Requirement already satisfied: keystoneauth1>=3.12.0 in /usr/local/lib/python3.11/dist-packages (from keystonemiddleware>=4.18.0->mistral) (5.11.1)\n",
            "Requirement already satisfied: oslo.cache>=1.26.0 in /usr/local/lib/python3.11/dist-packages (from keystonemiddleware>=4.18.0->mistral) (3.11.0)\n",
            "Requirement already satisfied: pycadf>=1.1.0 in /usr/local/lib/python3.11/dist-packages (from keystonemiddleware>=4.18.0->mistral) (4.0.1)\n",
            "Requirement already satisfied: python-keystoneclient>=3.20.0 in /usr/local/lib/python3.11/dist-packages (from keystonemiddleware>=4.18.0->mistral) (5.6.0)\n",
            "Requirement already satisfied: WebOb>=1.7.1 in /usr/local/lib/python3.11/dist-packages (from keystonemiddleware>=4.18.0->mistral) (1.8.9)\n",
            "Requirement already satisfied: amqp<6.0.0,>=5.1.1 in /usr/local/lib/python3.11/dist-packages (from kombu!=4.0.2,>=4.6.1->mistral) (5.3.1)\n",
            "Requirement already satisfied: vine==5.1.0 in /usr/local/lib/python3.11/dist-packages (from kombu!=4.0.2,>=4.6.1->mistral) (5.1.0)\n",
            "Requirement already satisfied: tzdata>=2025.2 in /usr/local/lib/python3.11/dist-packages (from kombu!=4.0.2,>=4.6.1->mistral) (2025.2)\n",
            "Requirement already satisfied: packaging in /usr/local/lib/python3.11/dist-packages (from kombu!=4.0.2,>=4.6.1->mistral) (24.2)\n",
            "Requirement already satisfied: fasteners>=0.7.0 in /usr/local/lib/python3.11/dist-packages (from oslo.concurrency>=3.26.0->mistral) (0.19)\n",
            "Requirement already satisfied: debtcollector>=3.0.0 in /usr/local/lib/python3.11/dist-packages (from oslo.concurrency>=3.26.0->mistral) (3.0.0)\n",
            "Requirement already satisfied: netaddr>=0.7.18 in /usr/local/lib/python3.11/dist-packages (from oslo.config>=6.8.0->mistral) (1.3.0)\n",
            "Requirement already satisfied: rfc3986>=1.2.0 in /usr/local/lib/python3.11/dist-packages (from oslo.config>=6.8.0->mistral) (2.0.0)\n",
            "Requirement already satisfied: testresources>=2.0.0 in /usr/local/lib/python3.11/dist-packages (from oslo.db>=4.40.0->mistral) (2.0.2)\n",
            "Requirement already satisfied: testscenarios>=0.4 in /usr/local/lib/python3.11/dist-packages (from oslo.db>=4.40.0->mistral) (0.5.0)\n",
            "Requirement already satisfied: futurist>=1.2.0 in /usr/local/lib/python3.11/dist-packages (from oslo.messaging>=14.1.0->mistral) (3.1.1)\n",
            "Requirement already satisfied: oslo.metrics>=0.2.1 in /usr/local/lib/python3.11/dist-packages (from oslo.messaging>=14.1.0->mistral) (0.12.0)\n",
            "Requirement already satisfied: bcrypt>=3.1.3 in /usr/local/lib/python3.11/dist-packages (from oslo.middleware>=3.31.0->mistral) (4.3.0)\n",
            "Requirement already satisfied: statsd>=3.2.1 in /usr/local/lib/python3.11/dist-packages (from oslo.middleware>=3.31.0->mistral) (4.0.1)\n",
            "Requirement already satisfied: msgpack>=0.5.2 in /usr/local/lib/python3.11/dist-packages (from oslo.serialization>=2.21.1->mistral) (1.1.1)\n",
            "Requirement already satisfied: PasteDeploy>=1.5.0 in /usr/local/lib/python3.11/dist-packages (from oslo.service>=2.1.0->mistral) (3.1.0)\n",
            "Requirement already satisfied: Routes>=2.3.1 in /usr/local/lib/python3.11/dist-packages (from oslo.service>=2.1.0->mistral) (2.5.1)\n",
            "Requirement already satisfied: Paste>=2.0.2 in /usr/local/lib/python3.11/dist-packages (from oslo.service>=2.1.0->mistral) (3.10.1)\n",
            "Requirement already satisfied: Yappi>=1.0 in /usr/local/lib/python3.11/dist-packages (from oslo.service>=2.1.0->mistral) (1.6.10)\n",
            "Requirement already satisfied: iso8601>=0.1.11 in /usr/local/lib/python3.11/dist-packages (from oslo.utils>=7.0.0->mistral) (2.1.0)\n",
            "Requirement already satisfied: pyparsing>=2.1.0 in /usr/local/lib/python3.11/dist-packages (from oslo.utils>=7.0.0->mistral) (3.2.3)\n",
            "Requirement already satisfied: psutil>=3.2.2 in /usr/local/lib/python3.11/dist-packages (from oslo.utils>=7.0.0->mistral) (5.9.5)\n",
            "Requirement already satisfied: PrettyTable>=0.7.2 in /usr/local/lib/python3.11/dist-packages (from osprofiler>=1.4.0->mistral) (3.16.0)\n",
            "Requirement already satisfied: cryptography>=3.3 in /usr/local/lib/python3.11/dist-packages (from paramiko>=2.4.1->mistral) (43.0.3)\n",
            "Requirement already satisfied: pynacl>=1.5 in /usr/local/lib/python3.11/dist-packages (from paramiko>=2.4.1->mistral) (1.5.0)\n",
            "Requirement already satisfied: setuptools in /usr/local/lib/python3.11/dist-packages (from pbr!=2.1.0,>=2.0.0->mistral) (75.2.0)\n",
            "Requirement already satisfied: charset-normalizer<4,>=2 in /usr/local/lib/python3.11/dist-packages (from requests>=2.18.0->mistral) (3.4.2)\n",
            "Requirement already satisfied: idna<4,>=2.5 in /usr/local/lib/python3.11/dist-packages (from requests>=2.18.0->mistral) (3.10)\n",
            "Requirement already satisfied: urllib3<3,>=1.21.1 in /usr/local/lib/python3.11/dist-packages (from requests>=2.18.0->mistral) (2.4.0)\n",
            "Requirement already satisfied: certifi>=2017.4.17 in /usr/local/lib/python3.11/dist-packages (from requests>=2.18.0->mistral) (2025.6.15)\n",
            "Requirement already satisfied: voluptuous>=0.8.9 in /usr/local/lib/python3.11/dist-packages (from tooz>=1.58.0->mistral) (0.15.2)\n",
            "Requirement already satisfied: simplegeneric in /usr/local/lib/python3.11/dist-packages (from WSME>=0.8.0->mistral) (0.8.1)\n",
            "Requirement already satisfied: importlib-metadata>=4.4 in /usr/local/lib/python3.11/dist-packages (from WSME>=0.8.0->mistral) (8.7.0)\n",
            "Requirement already satisfied: ply in /usr/local/lib/python3.11/dist-packages (from yaql>=1.1.3->mistral) (3.11)\n",
            "Requirement already satisfied: cffi>=1.12 in /usr/local/lib/python3.11/dist-packages (from cryptography>=3.3->paramiko>=2.4.1->mistral) (1.17.1)\n",
            "Requirement already satisfied: wrapt>=1.7.0 in /usr/local/lib/python3.11/dist-packages (from debtcollector>=3.0.0->oslo.concurrency>=3.26.0->mistral) (1.17.2)\n",
            "Requirement already satisfied: zipp>=3.20 in /usr/local/lib/python3.11/dist-packages (from importlib-metadata>=4.4->WSME>=0.8.0->mistral) (3.23.0)\n",
            "Requirement already satisfied: os-service-types>=1.2.0 in /usr/local/lib/python3.11/dist-packages (from keystoneauth1>=3.12.0->keystonemiddleware>=4.18.0->mistral) (1.7.0)\n",
            "Requirement already satisfied: prometheus-client>=0.6.0 in /usr/local/lib/python3.11/dist-packages (from oslo.metrics>=0.2.1->oslo.messaging>=14.1.0->mistral) (0.22.1)\n",
            "Requirement already satisfied: wcwidth in /usr/local/lib/python3.11/dist-packages (from PrettyTable>=0.7.2->osprofiler>=1.4.0->mistral) (0.2.13)\n",
            "Requirement already satisfied: six>=1.5 in /usr/local/lib/python3.11/dist-packages (from python-dateutil->croniter>=0.3.4->mistral) (1.17.0)\n",
            "Requirement already satisfied: repoze.lru>=0.3 in /usr/local/lib/python3.11/dist-packages (from Routes>=2.3.1->oslo.service>=2.1.0->mistral) (0.7)\n",
            "Requirement already satisfied: testtools in /usr/local/lib/python3.11/dist-packages (from testscenarios>=0.4->oslo.db>=4.40.0->mistral) (2.7.2)\n",
            "Requirement already satisfied: pycparser in /usr/local/lib/python3.11/dist-packages (from cffi>=1.12->cryptography>=3.3->paramiko>=2.4.1->mistral) (2.22)\n",
            "Requirement already satisfied: mistralai in /usr/local/lib/python3.11/dist-packages (1.8.2)\n",
            "Requirement already satisfied: python-dotenv in /usr/local/lib/python3.11/dist-packages (1.1.0)\n",
            "Requirement already satisfied: datauri in /usr/local/lib/python3.11/dist-packages (1.0.0)\n",
            "Requirement already satisfied: eval-type-backport>=0.2.0 in /usr/local/lib/python3.11/dist-packages (from mistralai) (0.2.2)\n",
            "Requirement already satisfied: httpx>=0.28.1 in /usr/local/lib/python3.11/dist-packages (from mistralai) (0.28.1)\n",
            "Requirement already satisfied: pydantic>=2.10.3 in /usr/local/lib/python3.11/dist-packages (from mistralai) (2.11.7)\n",
            "Requirement already satisfied: python-dateutil>=2.8.2 in /usr/local/lib/python3.11/dist-packages (from mistralai) (2.9.0.post0)\n",
            "Requirement already satisfied: typing-inspection>=0.4.0 in /usr/local/lib/python3.11/dist-packages (from mistralai) (0.4.1)\n",
            "Requirement already satisfied: anyio in /usr/local/lib/python3.11/dist-packages (from httpx>=0.28.1->mistralai) (4.9.0)\n",
            "Requirement already satisfied: certifi in /usr/local/lib/python3.11/dist-packages (from httpx>=0.28.1->mistralai) (2025.6.15)\n",
            "Requirement already satisfied: httpcore==1.* in /usr/local/lib/python3.11/dist-packages (from httpx>=0.28.1->mistralai) (1.0.9)\n",
            "Requirement already satisfied: idna in /usr/local/lib/python3.11/dist-packages (from httpx>=0.28.1->mistralai) (3.10)\n",
            "Requirement already satisfied: h11>=0.16 in /usr/local/lib/python3.11/dist-packages (from httpcore==1.*->httpx>=0.28.1->mistralai) (0.16.0)\n",
            "Requirement already satisfied: annotated-types>=0.6.0 in /usr/local/lib/python3.11/dist-packages (from pydantic>=2.10.3->mistralai) (0.7.0)\n",
            "Requirement already satisfied: pydantic-core==2.33.2 in /usr/local/lib/python3.11/dist-packages (from pydantic>=2.10.3->mistralai) (2.33.2)\n",
            "Requirement already satisfied: typing-extensions>=4.12.2 in /usr/local/lib/python3.11/dist-packages (from pydantic>=2.10.3->mistralai) (4.14.0)\n",
            "Requirement already satisfied: six>=1.5 in /usr/local/lib/python3.11/dist-packages (from python-dateutil>=2.8.2->mistralai) (1.17.0)\n",
            "Requirement already satisfied: sniffio>=1.1 in /usr/local/lib/python3.11/dist-packages (from anyio->httpx>=0.28.1->mistralai) (1.3.1)\n"
          ]
        }
      ]
    },
    {
      "cell_type": "code",
      "source": [
        "from mistralai import Mistral\n",
        "from dotenv import load_dotenv\n",
        "import datauri\n",
        "import os"
      ],
      "metadata": {
        "id": "gvWBroDaoesI"
      },
      "execution_count": null,
      "outputs": []
    },
    {
      "cell_type": "code",
      "source": [
        "import os\n",
        "\n",
        "os.environ[\"MISTRAL_API_KEY\"] = \"iIigytIhF49wWjtwUlOJwhiNbpnnxHXh\"\n"
      ],
      "metadata": {
        "id": "Ef5XWjcNqeEE"
      },
      "execution_count": null,
      "outputs": []
    },
    {
      "cell_type": "code",
      "source": [
        "from mistralai import Mistral\n",
        "import datauri\n",
        "\n",
        "api_key = os.environ[\"MISTRAL_API_KEY\"]\n",
        "client = Mistral(api_key=api_key)\n"
      ],
      "metadata": {
        "id": "PRQjse_XqeA4"
      },
      "execution_count": null,
      "outputs": []
    },
    {
      "cell_type": "code",
      "source": [
        "ocr_response = client.ocr.process(\n",
        "  model=\"mistral-ocr-latest\",\n",
        "  document={\n",
        "    \"type\": \"document_url\",\n",
        "    \"document_url\": \"https://arxiv.org/pdf/2501.00663\",\n",
        "  },\n",
        ")\n",
        "print(ocr_response)"
      ],
      "metadata": {
        "colab": {
          "base_uri": "https://localhost:8080/"
        },
        "id": "5DdmlODZpOGS",
        "outputId": "8402beaa-7a88-4614-e32a-5946372d64a8"
      },
      "execution_count": null,
      "outputs": [
        {
          "output_type": "stream",
          "name": "stdout",
          "text": [
            "pages=[OCRPageObject(index=0, markdown='# Titans: Learning to Memorize at Test Time \\n\\nAli Behrouz ${ }^{\\\\dagger}$, Peilin Zhong ${ }^{\\\\dagger}$, and Vahab Mirrokni ${ }^{\\\\dagger}$<br>$\\\\dagger$ Google Research<br>\\\\{alibehrouz, peilinz, mirrokni\\\\}@google.com\\n\\n\\n#### Abstract\\n\\nOver more than a decade there has been an extensive research effort of how effectively utilize recurrent models and attentions. While recurrent models aim to compress the data into a fixed-size memory (called hidden state), attention allows attending to the entire context window, capturing the direct dependencies of all tokens. This more accurate modeling of dependencies, however, comes with a quadratic cost, limiting the model to a fixed-length context. We present a new neural long-term memory module that learns to memorize historical context and helps an attention to attend to the current context while utilizing long past information. We show that this neural memory has the advantage of a fast parallelizable training while maintaining a fast inference. From a memory perspective, we argue that attention due to its limited context but accurate dependency modeling performs as a short-term memory, while neural memory due to its ability to memorize the data, acts as a long-term, more persistent, memory. Based on these two modules, we introduce a new family of architectures, called Titans, and present three variants to address how one can effectively incorporate memory into this architecture. Our experimental results on language modeling, common-sense reasoning, genomics, and time series tasks show that Titans are more effective than Transformers and recent modern linear recurrent models. They further can effectively scale to larger than 2 M context window size with higher accuracy in needle-in-haystack tasks compared to baselines.\\n\\n\\n## 1 Introduction\\n\\n\"The true art of memory is the art of attention!\"\\n\\n- Samuel Johnson, 1787\\n\\nTransformers, pure attention-based architectures (Vaswani et al. 2017), have been firmly established as state-of-the-art models in sequence modeling, mainly due to their in-context learning and ability to learn at scale (Kaplan et al. 2020). The primary building blocks of Transformers-attention modules-function as associative memory blocks (Bietti et al. 2024), where they learn to store key-value associations and retrieve them by computing pairwise similarity between queries (i.e., search signals) and keys (i.e., contexts). Accordingly, by design, the output of a Transformer is exclusively conditioned on the direct dependencies of tokens in the current context window. This accurate modeling of dependencies, however, comes with quadratic time and memory complexity in terms of the context length. In complex real-world tasks (e.g., language modeling (N. F. Liu et al. 2024), video understanding (C.-Y. Wu et al. 2019), long-term time series forecasting (H. Zhou et al. 2021)), the context window can become extremely large, making the applicability of Transformers challenging in these downstream tasks.\\n\\nTo overcome the scalability issue of Transformers, recent studies aim to design different variants of linear Transformers (Kacham, Mirrokni, and P. Zhong 2024; Katharopoulos et al. 2020; S. Yang, B. Wang, Shen, et al. 2024), where softmax is replaced by a kernel function in the attention (see $\\\\S 2.1$ for details), resulting in a significant drop in memory consumption. Despite efficiency and the ability to scale to longer context, linear Transformers do not show competitive performance compared to Transformers as the kernel trick makes the model a linear recurrent network, in which the data is compressed into a matrix-valued states (Katharopoulos et al. 2020). This, however, brings a contradictory fact about linear recurrent (or linear Transformers) models: On one hand, we use these linear models to enhance scalability and efficiency (linear vs. quadratic complexity), whose advantages is appeared for very long context; On the other hand, a very long context cannot be properly compressed in a small vector-valued or matrix-valued states (S. Wang 2024).', images=[], dimensions=OCRPageDimensions(dpi=200, height=2200, width=1700)), OCRPageObject(index=1, markdown=\"Furthermore, beyond efficiency, most existing architectures-ranging from Hopfield Networks (Hopfield 1982) to LSTMs (Jürgen Schmidhuber and Hochreiter 1997) and Transformers (Vaswani et al. 2017)-face challenges when dealing with generalization, length extrapolation, and/or reasoning (Anil et al. 2022; Qin, Y. Zhong, and Deng 2024), all of which are inseparable parts of many hard real-world tasks. Although these architectures draw inspiration from the human brain, each of which are missing: (1) a crucial component for learning process-such as short-term memory, long-term memory, meta-memory, attending to current context, etc. (Cowan 2008); (2) how these components are interconnected systems that can operate independently; and/or (3) the ability to actively learn from data and memorize the abstraction of past history. We argue that in an effective learning paradigm, similar to human brain, there are distinct yet interconnected modules, each of which is responsible for a component crucial to the learning process.\\n\\n# Memory Perspective \\n\\nMemory is a fundamental mental process and is an inseparable component of human learning (Terry 2017). Without a properly functioning memory system, humans and animals would be restricted to basic reflexes and stereotyped behaviors. Accordingly, memory has been the inspiration for many seminal research in machine learning literature; e.g., Hopfield Networks (Hopfield 1982), LSTMs (Jürgen Schmidhuber and Hochreiter 1997), and Transformers (Vaswani et al. 2017).\\n\\nTaking inspiration from the common definitions of memory and learning in neuropsychology literature (Okano, Hirano, and Balaban 2000), most existing architectures consider memory as a neural update caused by an input, and define learning as a process for acquiring effective and useful memory, given an objective. In this perspective, Recurrent Neural Networks (RNNs) (Williams and Zipser 1989) can be defined as models with a vector-valued memory module $\\\\mathcal{M}$ (also called hidden state) with two main steps: Given a new input $x_{t}$ at time $t$, the model (1) updates the memory using a function $f\\\\left(\\\\mathcal{M}_{t-1}, x_{t}\\\\right)$ (with compression); and (2) retrieves the corresponding memory of input using a function $g\\\\left(\\\\mathcal{M}_{t}, x_{t}\\\\right)$ (see $\\\\S 2.1$ for details). Similarly, Transformers can be seen as architectures with a growing memory and two similar steps. That is, the pair of key and value matrices acts as the model's memory, and the model: (1) updates the memory by appending the key and value to the memory (without compression), and (2) retrieves query vectors' corresponding memory by finding the similarity of query and key vectors, which is then used to weight the value vectors for the output.\\n\\nThis perspective, can help us better understand existing paradigms, their critical differences, and design more effective architectures. For example, the main difference between Transformers (Vaswani et al. 2017) and linear Transformers (Katharopoulos et al. 2020) is the memory structure as well as the memory updating step, in which linear Transformers compress the historical data into a fixed-size matrix-valued memory while Transformers keep all historical data (within the context length) without any compression. While both linear Transformers and linear RNNs (including state space models) compress the information in memory update step, the critical difference lies in the structure of the memory, where linear RNNs (vs. linear Transformers) use a vector-valued memory (vs. matrix-valued memory). Therefore, this perspective motivates us to ask: (Q1) What constitute a good structure for the memory? (Q2) What is a proper memory update mechanism? and (Q3) What is a good memory retrieval process?\\n\\nRevisiting our understanding of human memory, it is neither a unitary process nor it serves a single function (Cowan 2008). In fact, memory is a confederation of systems-e.g., short-term, working, and long-term memory-each serving a different function with different neural structures, and each capable of operating independently (Willingham 1997). This fact motivates us to ask: (Q4) How to design an efficient architecture that incorporates different interconnected memory modules. Finally, storing a memory is a neural process that requires to encode and store the abstraction of the past. It can be over-simplification to assume a single vector or a matrix, whose parameters are encoding the data in a linear manner, are enough for storing long-term history. (Q5) Is a deep memory module needed to effectively store/remember long past?\\n\\n## Contributions and Roadmap\\n\\nIn this paper, we aim to answer the above five questions by designing a long-term neural memory module, that can efficiently and effectively learn to memorize at test time. Building upon its design, we discuss how it can be incorporated into an architecture.\\n\\nNeural Memory (§3). We present a (deep) neural long-term memory that (as a meta in-context model) learns how to memorize/store the data into its parameters at test time. Inspired by human long-term memory system (Mandler 2014),\", images=[], dimensions=OCRPageDimensions(dpi=200, height=2200, width=1700)), OCRPageObject(index=2, markdown='we design this memory module so an event that violates the expectations (being surprising) is more memorable. To this end, we measure the surprise of an input with the gradient of the neural network with respect to the input in associative memory loss (see $\\\\S 3.1$ for details). To better handle the limited memory, we present a decaying mechanism that consider the proportion of memory size and the amount of data surprise, resulting in better memory management. We show that this decay mechanism is in fact the generalization of forgetting mechanism in modern recurrent models (Dao and Gu 2024; Gu and Dao 2024; S. Yang, Kautz, and Hatamizadeh 2024). Interestingly, we find that this mechanism is equivalent to optimizing a meta neural network with mini-batch gradient descent, momentum, and weight decay. Building upon tensorizing mini-batch gradient descent to use more matmul operations (Yu Sun et al. 2024), we present a fast and parallelizable algorithm to train our deep neural long-term memory.\\n\\nTitans Architectures (§4). After designing the long-term neural memory, an important remaining question is how to effectively and efficiently incorporate memory into a deep learning architecture. We present Titans, a family of deep models that consists of three hyper-heads: (1) Core: this module consists of the short-term memory, and is responsible for the main flow of processing the data (we use attention with limited window size); (2) Long-term Memory: this branch is our neural long-term memory module that is responsible to store/remember long past; (3) Persistent Memory: this is a set of learnable but date-independent parameters that encodes the knowledge about a task. Finally, as a proof of concept, we present three variants of Titans, in which we incorporate memory as: (i) a context, (ii) a layer, and (iii) a gated branch.\\n\\nExperimental Results (§5). We perform experimental evaluations on language modeling, commonsense reasoning, recallintensive, needle in haystack, time series forecasting, and DNA modeling tasks. We observe that our Titan architecture outperforms all modern recurrent models as well as their hybrid variants (combining with sliding-window attention) across a comprehensive set of benchmarks. Furthermore, Titans outperforms Transformers with the same context window, and show competitive performance with Transformers that use the entire context. This results are achieved while, contrary to Transformers, Titans scale to larger than 2 M context window size.\\n\\n# 2 Preliminaries \\n\\n$\\\\square$In this section, we discuss the notation and some background concepts that we use though the paper. We let $\\\\mathrm{S}_{\\\\mathrm{K}}^{\\\\mathrm{K}} \\\\in \\\\mathbb{R}^{N \\\\times d_{\\\\mathrm{m}}}$ be the input, $\\\\mathcal{M}$ be a neural network (neural memory module), $\\\\mathrm{Q}, \\\\mathrm{K}, \\\\mathrm{V}$ be the query, key and value of the attention mechanism, and M be the attention mask. When segmenting the sequence, we use $S^{(t)}$ to refer to the $i$-th segment. Through the paper, we abuse the notation and use subscripts to refer to a specific element of a matrix, vector, or segments. For example, we let $S_{j}^{(t)}$ be the $j$-th token in the $i$-th segment. The only exception is subscripts with $t$, which we reserved to index recurrence over time, or the state of a neural network at time $t$. Given a neural network $\\\\mathcal{N}$ and a data sample $x$, we use $\\\\mathcal{N}(x)$ (resp. $\\\\mathcal{N}^{*}(x)$ ) to refer to the forward pass with (resp. without) weight adjustment. Also, we abuse the notation and use $\\\\mathcal{N}^{(k)}$ to refer to the $k$-th layer of the neural network. In the following, we first, discuss the backgrounds for attention and its efficient variants followed by a review of modern linear RNNs. Finally, we discuss a memory perspective of these architectures that motivates us to design Titans.\\n\\n### 2.1 Backgrounds\\n\\nAttention. Transformers (Vaswani et al. 2017) as the de facto backbone for many deep learning models are based on attention mechanism. Given input $x \\\\in \\\\mathbb{R}^{N \\\\times d_{\\\\mathrm{m}}}$, causal attention computes output $\\\\mathrm{y} \\\\in \\\\mathbb{R}^{N \\\\times d_{\\\\mathrm{m}}}$ based on softmax over input dependent key, value, and query matrices:\\n\\n$$\\n\\\\begin{gathered}\\n\\\\mathrm{Q}=x \\\\mathbf{W}_{\\\\mathrm{Q}}, \\\\quad \\\\mathrm{~K}=x \\\\mathbf{W}_{\\\\mathrm{K}}, \\\\quad \\\\mathrm{~V}=x \\\\mathbf{W}_{\\\\mathrm{V}} \\\\\\\\\\n\\\\mathrm{y}_{i}=\\\\sum_{j=1}^{i} \\\\frac{\\\\exp \\\\left(\\\\mathrm{Q}_{i}^{\\\\top} \\\\mathrm{K}_{j} / \\\\sqrt{d_{\\\\mathrm{m}}}\\\\right) \\\\mathrm{V}_{j}}{\\\\sum_{f=1}^{i} \\\\exp \\\\left(\\\\mathrm{Q}_{i}^{\\\\top} \\\\mathrm{K}_{\\\\mathrm{f}} / \\\\sqrt{d_{\\\\mathrm{m}}}\\\\right)}\\n\\\\end{gathered}\\n$$\\n\\nwhere $\\\\mathbf{W}_{\\\\mathbf{Q}}, \\\\mathbf{W}_{\\\\mathbf{K}}$, and $\\\\mathbf{W}_{\\\\mathbf{V}} \\\\in \\\\mathbb{R}^{d_{\\\\mathrm{m}} \\\\times d_{\\\\mathrm{m}}}$ are learnable parameters. Despite the power and effectiveness in recall, transformers need at least $N \\\\times d$ operators to calculate the output, resulting in larger memory consumption and lower-throughput for longer sequences.\\n\\nEfficient Attentions. To improve the memory consumption and throughput of softmax attention for longer sequences, various studies focused on I/O aware implementations of attention (Dao 2024; Dao, D. Fu, et al. 2022), designing more', images=[], dimensions=OCRPageDimensions(dpi=200, height=2200, width=1700)), OCRPageObject(index=3, markdown='efficient attention mechanisms by sparsifying the attention matrix (B. Chen et al. 2021; Choromanski et al. 2021; Dai et al. 2019), approximating the softmax (Arora et al. 2024), or developing kernel-based (linear) attentions (Aksenov et al. 2024; Kacham, Mirrokni, and P. Zhong 2024; Schlag, Irie, and Jürgen Schmidhuber 2021; S. Yang, B. Wang, Shen, et al. 2024). In this part, we focus on the later, i.e., linear attentions, where the softmax in standard attention is replaced with an alternative kernel function $\\\\phi(\\\\cdot, \\\\cdot)$, such that $\\\\phi(x, y)=\\\\phi(x) \\\\phi(y)$. Accordingly, the attention can be written as:\\n\\n$$\\n\\\\mathbf{y}_{i}=\\\\sum_{j=1}^{i} \\\\frac{\\\\phi\\\\left(Q_{i}^{\\\\top} K_{j}\\\\right)}{\\\\sum_{\\\\ell=1}^{i} \\\\phi\\\\left(Q_{i}^{\\\\top} K_{\\\\ell}\\\\right)} V_{j}=\\\\sum_{j=1}^{i} \\\\frac{\\\\phi\\\\left(Q_{i}\\\\right)^{\\\\top} \\\\phi\\\\left(K_{j}\\\\right)}{\\\\sum_{\\\\ell=1}^{i} \\\\phi\\\\left(Q_{i}\\\\right)^{\\\\top} \\\\phi\\\\left(K_{\\\\ell}\\\\right)} V_{j}=\\\\frac{\\\\phi\\\\left(Q_{i}\\\\right)^{\\\\top} \\\\sum_{j=1}^{i} \\\\phi\\\\left(K_{j}\\\\right) V_{j}}{\\\\phi\\\\left(Q_{i}\\\\right)^{\\\\top} \\\\sum_{\\\\ell=1}^{i} \\\\phi\\\\left(K_{\\\\ell}\\\\right)}\\n$$\\n\\nresulting in a higher-throughput as terms $\\\\sum_{j=1}^{i} \\\\phi\\\\left(K_{j}\\\\right)$ and $\\\\sum_{\\\\ell=1}^{i} \\\\phi\\\\left(K_{\\\\ell}\\\\right)$ are re-using in each step. When choosing the kernel as identity matrix (Yutao Sun et al. 2023), the above formulation can also be written in a recurrent format:\\n\\n$$\\n\\\\begin{aligned}\\n& \\\\mathcal{M}_{t}=\\\\mathcal{M}_{t-1}+K_{t}^{\\\\top} V_{t} \\\\\\\\\\n& \\\\mathbf{y}_{t}=Q_{t} \\\\mathcal{M}_{t}\\n\\\\end{aligned}\\n$$\\n\\nwhich allows efficient inference for linear attentions.\\nModern Linear Models and Their Memory Perspective. As discussed earlier, one can define learning as a process for acquiring effective and useful memory. Building upon this, one can see the hidden state of Recurrent Neural Networks (RNNs) as a memory unit, which the model aims to compress the information into. Accordingly, in a general form of recurrent neural network, the hidden state can be treated as a memory unit and the recurrence process can be split into the read and write operations in the memory unit. That is, we let $x \\\\in \\\\mathbb{R}^{N \\\\times d_{\\\\text {in }}}$ be the input, $\\\\mathcal{M} \\\\in \\\\mathbb{R}^{d}$ is the memory unit, and $\\\\mathbf{y} \\\\in \\\\mathbb{R}^{d_{\\\\text {in }}}$ is the output, then the general form of the recurrent neural network is defined as:\\n\\n$$\\n\\\\begin{aligned}\\n& \\\\mathcal{M}_{t}=f\\\\left(\\\\mathcal{M}_{t-1}, x_{t}\\\\right), \\\\\\\\\\n& \\\\text { Write Operation } \\\\\\\\\\n& \\\\mathbf{y}_{t}=g\\\\left(\\\\mathcal{M}_{t}, x_{t}\\\\right),\\n\\\\end{aligned}\\n$$\\n\\nwhere $f(\\\\cdot, \\\\cdot)$ is the read and $g(\\\\cdot, \\\\cdot)$ is the write corresponding functions. Note that here the subscript of $\\\\mathcal{M}_{t}$ shows the state of the memory at time $t$.\\n\\nIn this perspective, the recurrence formula of linear Transformers (see Equation 4) is equivalent to additively compress and write keys and values, $\\\\left(K_{t}, V_{t}\\\\right)$, into a matrix-valued memory unit $\\\\mathcal{M}_{t}$. Therefore, when dealing with long context data, this additive nature of the process results in memory overflow, significantly damaging the performance of the model. To address this, studies have focused on two promising directions: (1) Adding forget mechanism: several studies have presented adaptive (data-dependent) forgetting gate mechanisms for linear models, where it can erase the memory when it is needed. As examples of such models, we refer to GLA (S. Yang, B. Wang, Shen, et al. 2024), LRU (Orvieto et al. 2023), Griffin (De et al. 2024), xLSTM (Beck et al. 2024), and Mamba2 (Dao and Gu 2024), which the later is also connected to the discretized version of traditional state space models (Gu and Dao 2024).(2) Improving the write operation: To overcome the additive nature of memory write operation in traditional recurrent models, Widrow and Hoff (1988) presented Delta Rule, in which before adding a memory (i.e., a pair of key and value), the model first removes its past value. To enhance the parallelizable training and scaling, S. Yang, B. Wang, Yu Zhang, et al. (2024) present a fast paralellizable algorithm. Finally, very recently, S. Yang, Kautz, and Hatamizadeh (2024) improved the DeltaNets by adding a forget gate.\\n\\nMemory Modules. Memory has always been one of the core parts of the neural network designs (Graves, Wayne, and Danihelka 2014; JH Schmidhuber 1992; Jürgen Schmidhuber and Hochreiter 1997; J. Zhang et al. 2024). The idea of seeing linear layers as the key-value (associative) memory system backs to fast weight programs, in which dynamic fast programs are incorporated into recurrent neural networks to serve as writable memory (JH Schmidhuber 1992). The two learning rules of Hebbian (Hebb 2005) and delta (Prados and Kak 1989) are the most popular learning rules for fast weight programs, which have been extensively explored in various studies (Irie, Schlag, et al. 2021; Munkhdalai, Sordoni, et al. 2019; Munkhdalai and H. Yu 2017; Schlag, Irie, and Jürgen Schmidhuber 2021; JH Schmidhuber 1992; S. Yang, Kautz, and Hatamizadeh 2024; S. Yang, B. Wang, Yu Zhang, et al. 2024). All these models, however, are based on momentary surprise, missing the token flow in the sequences (see Section 3.1), and most of them lacks a forgetting gate, resulting in a poor memory management.\\n\\nWe further discuss the connection of our architectures with recent models in Appendix C. Additional related work are discussed in Appendix A.', images=[], dimensions=OCRPageDimensions(dpi=200, height=2200, width=1700)), OCRPageObject(index=4, markdown='# 3 Learning to Memorize at Test Time \\n\\nO overcome the lack of long-term memory and to enable the model to learn, forget, and retrieve information, in this section, we present a neural long-term memory module, which is a meta models that learns to memorize at test time. In Section 3.1, we first discuss the motivation and the design of the neural memory. In Section 3.2, we discuss how our architecture design can benefit from a fast and parallelizable training. Finally, in Section 3.3, we augment our architecture using persistent memory module, in which we use learnable but data-independent parameters to learn meta information about the task.\\n\\n### 3.1 Long-term Memory\\n\\nTo design a neural long-term memory module, we need a model that can encode the abstraction of the past history into its parameters. An example of this can be LLMs that are shown to be memorizing their training data (Leybzon and Kervadec 2024; Schwarzschild et al. 2024; Staab et al. 2024). Therefore, a simple idea is to train a neural network and expect it to memorize its training data. Memorization, however, has almost always been known as an undesirable phenomena in neural networks as it limits the model generalization (Bayat et al. 2024), causes privacy concerns (Staab et al. 2024), and so results in poor performance at test time. Moreover, the memorization of the training data might not be helpful at test time, in which the data might be out-of-distribution. We argue that, we need an online meta-model that learns how to memorize/forget the data at test time. In this setup, the model is learning a function that is capable of memorization, but it is not overfitting to the training data, resulting in a better generalization at test time.\\n\\nLearning Process and Surprise Metric. The key idea to train a long-term memory is to treat its training as an online learning problem, in which we aim to compress the past information $x_{1}, \\\\ldots, x_{t-1}$ into the parameters of our long-term neural memory module $\\\\mathcal{M}_{t}$. As discussed earlier, an event that violates the expectations (i.e., is surprising) is more memorable for humans (Mandler 2014). Inspired by this, a simple definition of surprise for a model can be its gradient with respect to the input. The larger the gradient is, the more different the input data is from the past data. Accordingly, using this surprise score, we can update the memory as:\\n\\n$$\\n\\\\mathcal{M}_{t}=\\\\mathcal{M}_{t-1}-\\\\theta_{t} \\\\underbrace{\\\\nabla \\\\ell\\\\left(\\\\mathcal{M}_{t-1} ; x_{t}\\\\right)}_{\\\\text {Surprise }}\\n$$\\n\\nThis surprise metric, however, can result in missing important information that comes after a big surprising moment. That is, the gradient can become extremely small after several surprising steps, leading to stocking in a flat area (i.e., local minima), and missing information about some parts of the sequence. From the human memory perspective, an event might not consistently surprise us through a long-period of time although it is memorable. The reason is that the initial moment is surprising enough to get our attention through a long time frame, leading to memorizing the entire time frame. To improve the above surprise metric (Equation 8), we break the surprise metric into (1) past surprise, which measures the surprise amount of a very recent past; and (2) momentary surprise, which measures the surprise of incoming data:\\n\\n$$\\n\\\\begin{aligned}\\n& \\\\mathcal{M}_{t}=\\\\mathcal{M}_{t-1}+S_{t} \\\\\\\\\\n& S_{t}=\\\\eta_{t} \\\\underbrace{S_{t-1}}_{\\\\text {Past Surprise }}-\\\\theta_{t} \\\\underbrace{\\\\nabla \\\\ell\\\\left(M_{t-1} ; x_{t}\\\\right)}_{\\\\text {Momentary Surprise }}\\n\\\\end{aligned}\\n$$\\n\\nInterestingly, this formulation is similar to gradient descent with momentum, where $S_{t}$ is the momentum element. Therefore, the momentum here act as a memory of surprise across time (sequence length). In this formulation, the term $\\\\eta_{t}$ is a data-dependent surprise decay (a function of $x_{t}$ ), controlling how surprise decays over time, and the term $\\\\theta_{t}$ is controlling how much of momentary surprise should be incorporated into the final surprise metric in a data-dependent manner. This data-dependency is particularly important in this design: While surprise of previous tokens might be needed to affect the surprise of the next token, it is mostly valid if all tokens are relevant and are in the same context. Accordingly, a data-dependent $\\\\eta$ can control if memory needs to: (1) ignore the last surprise by setting $\\\\eta_{t} \\\\rightarrow 0$ (possibly due to the change of context), or (2) fully incorporate the last surprise by setting $\\\\eta_{t} \\\\rightarrow 1$ (possibly as the token is highly relevant to its recent past tokens).\\n\\nObjective. Our above surprise metric is based on a loss function $\\\\ell(. ;$.$) , which is the objective that our memory is learning$ to act as it at test time. That is, our memory module is a meta model that learns a function based on the loss function $\\\\ell(. ;$.$) .$', images=[], dimensions=OCRPageDimensions(dpi=200, height=2200, width=1700)), OCRPageObject(index=5, markdown=\"In this work, we focus on associative memory, in which we aim to store the past data as the pairs of keys and values. Given $x_{t}$, similar to Transformers (Vaswani et al. 2017), we use two linear layers to project $x_{t}$ into a key and value:\\n\\n$$\\n\\\\mathbf{k}_{t}=x_{t} W_{K}, \\\\quad \\\\mathbf{v}_{t}=x_{t} W_{V}\\n$$\\n\\nwhere $W_{K}$ and $W_{V} \\\\in \\\\mathbb{R}^{d_{\\\\mathrm{m}} \\\\times d_{\\\\mathrm{m}}}$. Next, we expect our memory module to learn the associations between keys and values. To this end, we define the loss as follows:\\n\\n$$\\n\\\\ell\\\\left(\\\\mathcal{M}_{t-1} ; x_{t}\\\\right)=\\\\left\\\\|\\\\mathcal{M}_{t-1}\\\\left(\\\\mathbf{k}_{t}\\\\right)-\\\\mathbf{v}_{t}\\\\right\\\\|_{2}^{2}\\n$$\\n\\nBy optimizing the above loss function in the inner-loop of our meta model (memory), the model learns how to memorize the mapping between keys and values at test time. Note that, similar to meta-learning models (Nichol 2018; Zintgraf et al. 2019), training of the memory is in the inner-loop, and so parameters $W_{K}$ and $W_{V}$ are hyperparameters in the above loss function. Accordingly, in the inner loop, we optimize $\\\\mathcal{M}^{\\\\prime}$ s weights, while in the outer-loop, we optimize other parameters of the entire architecture.\\n\\nForgetting Mechanism. When dealing with very large sequences (e.g., millions of tokens), it is crucial to manage which past information should be forgotten-even with a deep or a very large matrix-valued memory. To this end, we use an adaptive forgetting mechanism that allows the memory to forget the information that is not needed anymore, resulting in better managing the memory's limited capacity. That is, given the next token $x_{t}$, we modify the update rule as:\\n\\n$$\\n\\\\begin{aligned}\\n& \\\\mathcal{M}_{t}=\\\\left(1-\\\\alpha_{t}\\\\right) \\\\mathcal{M}_{t-1}+S_{t} \\\\\\\\\\n& S_{t}=\\\\eta_{t} S_{t-1}-\\\\theta_{t} \\\\nabla \\\\ell\\\\left(M_{t-1} ; x_{t}\\\\right)\\n\\\\end{aligned}\\n$$\\n\\nwhere $\\\\alpha_{t} \\\\in[0,1]$ is the gating mechanism that flexibly controls the memory; i.e., decides how much information should be forgotten. For example, it can update the memory without affecting the past abstraction by letting $\\\\alpha_{t} \\\\rightarrow 0$, and can clear the entire memory by letting $\\\\alpha_{t} \\\\rightarrow 1$. Later in this section, we show that this weight decay mechanism is closely related to the gating mechanism in modern RNNs (Dao and Gu 2024; Orvieto et al. 2023).\\n\\nMemory Architecture. In this paper, we focus on simple MLPs with $L_{M} \\\\geq 1$ layers as the architecture of our long-term memory. The main reason behind this choice is that we want to focus on better motivating the design of the long-term memory and ways that it can be incorporated into an architecture. However, our formulation and architectural design opens a new research direction to design neural architectures that are more effective and efficient in memorization of data. Recently, there has been a promising line of work to design such architectures (Berges et al. 2024; Cetin et al. 2024; J. Zhang et al. 2024), which incorporating them into our framework (i.e., replacing simple MLPs with such architectures) can be an interesting future work.\\n\\nWhen using vector-valued or matrix-valued memory (De et al. 2024; Orvieto et al. 2023; S. Yang, B. Wang, Shen, et al. 2024), the memory module is compressing the past data and fit it into a line. That is, from the meta learning or online learning perspective (Yu Sun et al. 2024), using a matrix-valued memory $\\\\mathcal{M}=W \\\\in \\\\mathbb{R}^{d_{\\\\mathrm{m}} \\\\times d_{\\\\mathrm{m}}}$ is equivalent to optimize $\\\\ell\\\\left(W_{t-1} ; x_{t}\\\\right)=\\\\left\\\\|W_{t-1} \\\\mathbf{k}_{t}-\\\\mathbf{v}_{t}\\\\right\\\\|_{2}^{2}$, which is an online linear regression objective and so the optimal solution assumes the underlying dependency of historical data is linear. On the other hand, we argue that deep memory modules (i.e., $L_{M} \\\\geq 2$ ). Aligning with the theoretical results that MLPs with at least two layers are strictly more expressive than linear models (Hornik, Stinchcombe, and White 1989), in Section 5.5, we show that deep memory modules are more effective in practice.\\n\\nRetrieving a Memory. In the above, we discuss how one can design and train a long-term memory module that learns to memorize at test time. A key remaining question is: How one can retrieve information from the memory? We simply use the forward pass without weight update (i.e., inference) to retrieve a memory correspond to a query. Formally, given an input $x_{t}$, we use a linear layer $W_{Q}$ to project the input, i.e., $\\\\mathbf{q}_{t}=x_{t} W_{Q}$ and retrieve the corresponding (or useful) information from the memory $y_{t}$ by:\\n\\n$$\\ny_{t}=\\\\mathcal{M}^{*}\\\\left(\\\\mathbf{q}_{t}\\\\right)\\n$$\", images=[], dimensions=OCRPageDimensions(dpi=200, height=2200, width=1700)), OCRPageObject(index=6, markdown='![img-0.jpeg](img-0.jpeg)\\n\\nFigure 1: The illustration of how the training of neural memory can be done in parallel and using matmuls.\\n\\n# 3.2 How to Parallelize the Long-term Memory Training \\n\\nAs discussed above, the design of our long-term memory module is equivalent to training a meta model by optimizing associative memory loss function $\\\\ell\\\\left(\\\\mathcal{M}_{t-1} ; x_{t}\\\\right)=\\\\left\\\\|\\\\mathcal{M}_{t-1}\\\\left(\\\\mathbf{k}_{t}\\\\right)-\\\\mathbf{v}_{t}\\\\right\\\\|_{2}^{2}$ using gradient descent with momentum and weight decay. Therefore, in theory, the training of long-term memory module requires $O(N)$ FLOPs, where $N$ is the sequence length. However, in practice, we need to parallelize the training process and to fully take advantage of hardware accelerators (e.g., TPUs, GPUs), we need to tensorize the process and use more matmuls.\\n\\nNext, we show that calculating the weights in the inner loop with mini-batch gradient descent, data-dependent learning rate, and weight decay can be reformulated so that it uses only matmuls and sum. We build upon the work of Yu Sun et al. (2024) that shows forward pass of a model optimizing with the mini-batch gradient descent (with constant learning rate) can be calculated using matmuls. We can split the sequence into chunks of size $b \\\\geq 1$, and write the mini-batch gradient descent as:\\n\\n$$\\n\\\\mathcal{M}_{t}=\\\\left(1-\\\\alpha_{t}\\\\right) \\\\mathcal{M}_{t-1}-\\\\theta_{t} \\\\nabla \\\\ell\\\\left(\\\\mathcal{M}_{t-1} ; x_{t}\\\\right)=\\\\beta_{t} \\\\mathcal{M}_{0}-\\\\sum_{i=1}^{t} \\\\theta_{i} \\\\frac{\\\\beta_{t}}{\\\\beta_{i}} \\\\nabla \\\\ell\\\\left(\\\\mathcal{M}_{t^{\\\\prime}} ; x_{i}\\\\right)\\n$$\\n\\nwhere $t^{\\\\prime}=t-\\\\bmod (t, b)$, and $\\\\beta_{i}=\\\\prod_{j=1}^{i}\\\\left(1-\\\\alpha_{j}\\\\right)$. For the sake of simplicity, we focus on the first chunk, i.e., $t=b$ and so $t^{\\\\prime}=0$. Also, we explain the process for the case that $\\\\mathcal{M}_{t}=W_{t}$ is linear. The process for MLPs with $N_{p} \\\\geq 2$ is similar. Using our loss function, we have:\\n\\n$$\\n\\\\nabla \\\\ell\\\\left(W_{0} ; x_{t}\\\\right)=\\\\left(W_{0} x_{t}-x_{t}\\\\right) x_{t}^{\\\\top} \\\\Rightarrow \\\\sum_{i=1}^{b} \\\\theta_{i} \\\\frac{\\\\beta_{b}}{\\\\beta_{i}} \\\\nabla \\\\ell\\\\left(W_{0} ; x_{i}\\\\right)=\\\\Theta_{b} \\\\mathbf{B}_{b}\\\\left(W_{0} X-X\\\\right) X^{\\\\top}\\n$$\\n\\nwhere $\\\\Theta_{b}=\\\\operatorname{diag}\\\\left(\\\\left[\\\\begin{array}{llll}\\\\theta_{1} & \\\\theta_{2} & \\\\ldots & \\\\theta_{b}\\\\end{array}\\\\right]\\\\right)$ and $\\\\mathbf{B}_{b}$ is defined analogously on $\\\\frac{\\\\beta_{b}}{\\\\beta_{i}} \\\\mathrm{~s}$. Note that, we do not need to store all $\\\\Theta_{k b}$ and $\\\\mathbf{B}_{k b}$ for $k=1, \\\\ldots, N / b$, instead, we store these matrices for each chunk, resulting in using less memory. Next, we extend this representation so we can also incorporate the momentum term. In a chunk wise gradient descent with momentum, if we look at the momentum term, we have:\\n\\n$$\\nS_{t}=\\\\eta_{t} S_{t-1}-\\\\theta_{t} u_{t}\\n$$\\n\\nwhere $u_{t}=\\\\nabla \\\\ell\\\\left(M_{t^{\\\\prime}} ; x_{t}\\\\right)$. Note that, we can compute all $u_{t}$ at the same time, and so Equation 18 is a linear recurrence with $u_{t}$ as an input, $S_{t}$ as the hidden state, and $\\\\eta_{t}$ as input-dependent transition value. Accordingly, we can use parallel associative scan (J. T. Smith, Warrington, and Linderman 2023) to calculate $S_{t} \\\\mathrm{~s}$ in this chunk.\\n\\nParameters as the Function of Chunks. Instead of making parameters like $\\\\alpha_{t}, \\\\theta_{t}$, and $\\\\eta_{t}$ input-dependent (i.e., a function of token $x_{t}$ ), we can make them functions of their chunk. Despite losing expressive power, this formulation can help to make the training even faster. In this case, we are using the same value for each of $\\\\alpha, \\\\theta$, and $\\\\eta$ in each chunk. Accordingly, in Equation 17, we can store $\\\\Theta$ using a single scaler. Similarly we can make Equation 18 faster. That is, when $\\\\eta$ and $\\\\theta$ are learnable but time-invariant inside each chunk, this equation becomes a linear time-invariant system (LTI), which can be computed by a global convolution (Gu, Goel, and Re 2022). In our experiments, we make these parameters as the functions of tokens. However, such simplifications (i.e., as the function of chunks) can be the interest of future work to training larger models in more efficient manner.', images=[OCRImageObject(id='img-0.jpeg', top_left_x=328, top_left_y=202, bottom_right_x=1411, bottom_right_y=451, image_base64=None, image_annotation=None)], dimensions=OCRPageDimensions(dpi=200, height=2200, width=1700)), OCRPageObject(index=7, markdown='![img-1.jpeg](img-1.jpeg)\\n\\nFigure 2: Memory as a Context (MAC) Architecture. This architecture includes three branches of (1) core, (2) contextual (long-term) memory, and (3) persistent memory. The core branch concatenates the corresponding long-term and persistent memories with the input sequence. Next, attention performs on the sequence and decides what part of the information should store in the long-term memory. At the test time, parameters corresponds to contextual memory are still learning, parameters corresponds to the core branch are responsible for in-context learning, and parameters of persistent memory are responsible to store the knowledge about tasks and so are fixed.\\n\\n# 3.3 Persistent Memory \\n\\nOur long-term memory can also be seen as a contextual memory, meaning that the output is fully depend on the context. Therefore, in addition to our long-term memory, we also use a set of learnable but input-independent parameters to act as task-related memory. This type of memory has been referred to as persistent or meta-memory in the literature (X. Dong et al. 2024; Sukhbaatar, Grave, et al. 2019). Given $N_{p} \\\\geq 1$, we use learnable parameters $P=\\\\left[\\\\begin{array}{llll}p_{1} & p_{2} & \\\\ldots & p_{N_{p}}\\\\end{array}\\\\right]$ and append it to the start of our sequence: i.e., given a context window size of $N$, we modify the input as:\\n\\n$$\\nx_{\\\\text {new }}=\\\\left[\\\\begin{array}{llll}\\np_{1} & p_{2} & \\\\ldots & p_{N_{p}}\\n\\\\end{array}\\\\right] \\\\quad \\\\mid \\\\quad x\\n$$\\n\\nwhere $\\\\|$ is concatenation. Next, we discuss the motivation of persistent memory from three perspective:\\nMemory Perspective. As discussed earlier, our neural long-term memory is a contextual memory, in which all parameters are input-dependent. An effective memory system, however, also needs input-independent parameters to store the abstraction of the task knowledge. That is, mastering a task requires the memorization of the knowledge that how the task can be done, and these parameters are responsible for storing such knowledge.\\n\\nFeedforward Network Perspective. In the Transformer architectures, there are fully connected layers after the attention module, which are shown to be similar to attention weights but with data-independent parameters. That is, Sukhbaatar, Grave, et al. (2019) showed that replacing the ReLU in fully connected layers with Softmax can results in an attention-like weights, in which weights are data-independent:\\n\\n$$\\nF F N(x)=W_{V} \\\\operatorname{Softmax}\\\\left(W_{K} x\\\\right)\\n$$\\n\\nIn fact, $W_{K}$ and $W_{V}$ are acting similar to $K$ and $V$ matrices in attention module when they are input-independent. The persistent memory weights are expected to have the same functionality, meaning that using them in the first part of the sequence leads to having input-independent attention weights (Sukhbaatar, Grave, et al. 2019).\\n\\nTechnical Perspective. Attention with causal mask has implicit bias toward initial tokens in the sequence, and so attention weights are almost always highly active for initial tokens, resulting in performance damage. From the technical perspective, these learnable parameters at the start of the sequence can mitigate such effect by redistributing the attention weights more effectively (Han et al. 2024; Xiao et al. 2024).', images=[OCRImageObject(id='img-1.jpeg', top_left_x=270, top_left_y=195, bottom_right_x=1492, bottom_right_y=591, image_base64=None, image_annotation=None)], dimensions=OCRPageDimensions(dpi=200, height=2200, width=1700)), OCRPageObject(index=8, markdown='![img-2.jpeg](img-2.jpeg)\\n(a) Memory as a Context (MAC). We segment the sequence and use full causal attention in each window. Again, the first $N_{p}$ tokens are persistent memory and the next $N_{l}$ are long-term memory tokens\\n![img-3.jpeg](img-3.jpeg)\\n(b) Memory as Gating (MAG). We use sliding window attention (SWA) as a short-term memory and our neural memory module as a long-term memory, combining by a gating.\\n\\nFigure 3: Attention masks for different variants of Titans.\\n\\n# 4 How to Incorporate Memory? \\n\\nAn important question that remained unanswered is: How one can effectively and efficiently incorporate the designed neural memory into a deep learning architecture? As discussed earlier, from a memory perspective, the pair of K and V matrices in transformers can be interpreted as an associative memory block. Due to their accurate modeling of dependencies and so their limited context window, we interpret them as short-term memory modules, attending to the current context window size. On the other hand, our neural memory with the ability to continuously learn from data and store it in its weights can play the role of a a long-term memory. In this section, we aim to answer the above question by proposing three different variants of Titans. Later in our experiments, we show that each of these variants has its own advantages/disadvantages and also can show a trade-off between the efficiency and effectiveness in very long-contexts.\\n\\n### 4.1 Memory as a Context\\n\\nIn the first architecture design (see Figure 2), we treat the memory as a context to the current information. That is, given a long sequence $x \\\\in \\\\mathbb{R}^{N \\\\times d_{m}}$, we first chunk the sequence into fixed-size segments $S^{(i)}$ for $i=1, \\\\ldots, N / C$. Given the incoming segment $S^{(t)}$, we consider it as the current context and its past segment as the historical information. Therefore, let $\\\\mathcal{M}_{t-1}$ be the state of long-term memory before segment $S^{(t)}$, we use the input context as the query to the memory $\\\\mathcal{M}_{t-1}$ to retrieve the corresponding information from the long-term memory. That is, we retrieve the past information that corresponds to $S^{(t)}$ as:\\n\\n$$\\nh_{t}=\\\\mathcal{M}_{t-1}^{*}\\\\left(\\\\mathbf{q}_{t}\\\\right)\\n$$\\n\\nwhere $\\\\mathbf{q}_{t}=S^{(t)} W_{Q}$. Next, we use this historical information along with our persistent memory parameters as the input sequence to the attention module:\\n\\n$$\\n\\\\begin{aligned}\\n& \\\\tilde{S}^{(t)}=\\\\left[\\\\begin{array}{llll}\\np_{1} & p_{2} & \\\\ldots & p_{N_{p}}\\n\\\\end{array}\\\\right]\\\\left\\\\|h_{t}\\\\right\\\\| S^{(t)} \\\\\\\\\\n& y_{t}=\\\\operatorname{Attn}\\\\left(\\\\tilde{S}^{(t)}\\\\right)\\n\\\\end{aligned}\\n$$\\n\\nThe structure of the attention map over the entire sequence is shown in Figure 3a. We then use $y_{t}$ to update the long-term memory module for the next segment and the final output:\\n\\n$$\\n\\\\begin{aligned}\\n& \\\\mathcal{M}_{t}=\\\\mathcal{M}_{t-1}\\\\left(y_{t}\\\\right) \\\\\\\\\\n& o_{t}=y_{t} \\\\otimes \\\\mathcal{M}_{t}^{*}\\\\left(y_{t}\\\\right)\\n\\\\end{aligned}\\n$$\\n\\nNote that, in the above, we are updating the weight of $\\\\mathcal{M}_{t-1}$ through forward pass.\\nThis architecture has two key advantages: (1) Attention by having both historical and current context, has the ability to decides whether given the current data, the long-term memory information is needed. (2) The attention module helps', images=[OCRImageObject(id='img-2.jpeg', top_left_x=190, top_left_y=191, bottom_right_x=868, bottom_right_y=484, image_base64=None, image_annotation=None), OCRImageObject(id='img-3.jpeg', top_left_x=901, top_left_y=222, bottom_right_x=1564, bottom_right_y=510, image_base64=None, image_annotation=None)], dimensions=OCRPageDimensions(dpi=200, height=2200, width=1700)), OCRPageObject(index=9, markdown='![img-4.jpeg](img-4.jpeg)\\n\\nFigure 4: Memory as a Gate (MAG) Architecture. This architecture, similarly, has the three branches of (1) core, (2) contextual memory, and (3) persistent memory. It, however, incorporates only persistent memory into the context and combine memory with the core branch using a gating mechanism. At test time, the behavior is the same as Figure 2.\\nthe long-term memory to store only useful information from the current context. That is, not all tokens in each segment are useful and memorizing all of them can result in memory overflow. Therefore, attention is helping the memory to understand which information is useful, better managing the memory capacity. (3) At test time: (i) persistent memory parameters are fixed as they encodes the knowledge about the task, which should not be changed; (ii) the attention module weights are in-context learner; and (iii) the long-term memory module is still learning (memorizing) the information at test time. That is, we update the weights of the neural memory even at test time as weights are encoding the abstraction of long past.\\n\\n# 4.2 Gated Memory \\n\\nIn the next variant (see Figure 4), in one branch, we directly use the input data to update the long-term memory, and in the second branch, we use a sliding window attention (SWA):\\n\\n$$\\n\\\\begin{aligned}\\n& \\\\tilde{x}=\\\\left[\\\\begin{array}{llll}\\np_{1} & p_{2} & \\\\ldots & p_{N_{p}}\\n\\\\end{array}\\\\right] \\\\quad \\\\mid \\\\mid x \\\\\\\\\\n& y=\\\\text { SW-Attn } \\\\tilde{x}) \\\\\\\\\\n& o=y \\\\otimes \\\\mathcal{M}(\\\\tilde{x})\\n\\\\end{aligned}\\n$$\\n\\nwhere SW-Attn* is sliding window attention with prefix (see Figure 3b). Note that, contrary to the previous design, we are not segmenting the input data. Also, we abuse the notation and use $\\\\mathcal{M}(x)$ to refer to the final output of the memory after all recursion over the tokens of the sequence. In the above equation, $\\\\otimes$ can be any non-linear gating. In our experiments, we normalize the outputs $y$ and $\\\\mathcal{M}(\\\\tilde{x})$ using learnable vector-valued weights, followed by a non-linearity $\\\\sigma($.$) .$\\n\\nThe overall attention mask of this design is shown in Figure 3b. In this design, sliding window attention is act as a precise short-term memory, while the neural memory module is acting as a fading memory for the model. This architecture design can also be seen as a multi-head architecture where the structure of heads are different (X. Dong et al. 2024).\\n\\n### 4.3 Memory as a Layer\\n\\nThe last variant uses the neural Memory As a Layer (MAL) of a deep neural network (see Figure 5). This architecture design is more common in the literature, where the hybrid models stack recurrent models with full or sliding window attentions. Given input $x$, we have:\\n\\n$$\\n\\\\begin{aligned}\\n& \\\\tilde{x}=\\\\left[\\\\begin{array}{llll}\\np_{1} & p_{2} & \\\\ldots & p_{N_{p}}\\n\\\\end{array}\\\\right] \\\\quad \\\\mid \\\\mid x \\\\\\\\\\n& y=\\\\mathcal{M}(\\\\tilde{x}) \\\\\\\\\\n& o=\\\\text { SW-Attn }(y)\\n\\\\end{aligned}\\n$$', images=[OCRImageObject(id='img-4.jpeg', top_left_x=270, top_left_y=195, bottom_right_x=1496, bottom_right_y=591, image_base64=None, image_annotation=None)], dimensions=OCRPageDimensions(dpi=200, height=2200, width=1700)), OCRPageObject(index=10, markdown='![img-5.jpeg](img-5.jpeg)\\n\\nFigure 5: Memory as a Layer (MAL) Architecture. In this architecture, the memory layer is responsible to compress the past and current context before the attention module.\\nwhere SW-Attn is sliding window attention. The main drawback of this design is that the power of the model is limited by each of the layers and so it cannot take advantage of the complementary data processing of attention and neural memory module. In our experiments, for evaluating memory in this design, we use a similar architecture as H3 (D. Y. Fu et al. 2023), where we replace the the sequence model with our neural memory module (LMM).\\n\\nMemory Without Attention. Although in the above, we discussed MAL as the combination of LMMs and attention in a sequential manner, one simple variant of MAL is to treat LMM as a sequence model without any attention. From the memory perspective, as discussed in Section 1, we expect each part of the memory system to work independently, even if other components are disturbed. Therefore, a long-term memory module should still be a powerful model even without short-term memory (i.e., attention). We refer to this variant as LMM or Titans (LMM) in our experiments. We provide additional discussions on the connection of Titans and other modern recurrent models in Appendix C.\\n\\n# 4.4 Architectural Details \\n\\nFor the sake of simplicity and presentation, we avoid discussing the implementation details like using residual connection, gating with linear layer, and normalization. In all blocks, we use residual connections. In our implementation, we use SiLU(.) activation (Elfwing, Uchibe, and Doya 2018) as the non-linear activation for computing query, key, and values and normalize queries and keys using $\\\\ell_{2}$-norm.\\n\\nConvolution. Following the recent modern linear recurrent models (Gu and Dao 2024; S. Yang, Kautz, and Hatamizadeh 2024), we incorporate a 1D depthwise-separable convolution layer after each of the query, key, and value projections. While not significantly affect the performance, these 1D convolutions have shown performance improvement and are also computationally efficient.\\n\\nGating. We also follow the recent architectures that use normalization and gating with a linear layer before the final output projection (Mehta et al. 2023).\\nTheorem 4.1. Contrary to Transformers, diagonal linear recurrent models, and DeltaNet, all of which are limited to $\\\\mathrm{TC}^{0}$ (Merrill, Petty, and Sabharwal 2024), Titans are capable of solving problems beyond $\\\\mathrm{TC}^{0}$, meaning that Titans are theoretically more expressive than Transformers and most modern linear recurrent models in state tracking tasks.\\n\\n## 5 Experiments\\n\\n$\\\\mathbf{R}$ext, we evaluate the performance of Titans and its variants in language modeling, commonsense reasoning, needle in haystack, DNA modeling, and time series forecasting tasks ${ }^{1}$. In more details, in this section, we answer the following empirical questions: (1) How do Titans perform compared to baselines in downstream tasks? (see §5.2,\\n\\n[^0]\\n[^0]:    ${ }^{1}$ In the first version of the work, we aim to provide insights/evidences about why the learning paradigms of Titans are effective. We are working on finalizing the results of larger models and will report them in the next version.', images=[OCRImageObject(id='img-5.jpeg', top_left_x=270, top_left_y=202, bottom_right_x=1492, bottom_right_y=598, image_base64=None, image_annotation=None)], dimensions=OCRPageDimensions(dpi=200, height=2200, width=1700)), OCRPageObject(index=11, markdown='$\\\\S 5.6$, and $\\\\S 5.7$ ); (2) What is the actual context length of Titans? (see $\\\\S 5.3$ and $\\\\S 5.4$ ); (3) How do Titans scale with respect to context length? (see §5.8); (4) How the depth of memory can affect both performance and efficiency? (see §5.5); and (5) What is the contribution of each Titans\\' component in its performance? (see §5.9).\\n\\n# 5.1 Experimental Setup \\n\\nModels. In our experiments, we focus on the three variants of Titans, which we refer to as: Titans with (1) Memory as a Context (MAC), (2) Memory as a Gate (MAG), and (3) Memory as a Layer (MAL) as well as (4) neural memory module alone. The reason behind using our long-term memory as a separate module is based on our definition of learning. As discussed in Section 1, we define learning a process for acquiring effective and useful memory. Accordingly, we expect our long-term memory to effectively learn from data, even without attention. For each of these models, we consider four scales with: (i) 170 M , (ii) 340 M , (iii) 400 M , and (iv) 760 M parameters. While the first three are trained on 15B tokens sampled from FineWeb-Edu dataset (Penedo et al. 2024), the last one is trained on 30B tokens from the same dataset.\\n\\nBaselines. We compare our models with the state-of-the-art linear recurrent models, Transformers, and hybrid models (recurrent + attention). More specifically in language tasks, we compare with Transformer++ (Touvron et al. 2023), RetNet (Yutao Sun et al. 2023), Gated Linear Attention (GLA) (S. Yang, B. Wang, Shen, et al. 2024), Mamba (Gu and Dao 2024), Mamba2 (Dao and Gu 2024), DeltaNet (S. Yang, B. Wang, Yu Zhang, et al. 2024), TTT (Yu Sun et al. 2024), and Gated DeltaNet (S. Yang, Kautz, and Hatamizadeh 2024). In needle in haystack tasks, we also compare with GPT4 (Achiam et al. 2023), Llama3 with RAG (Touvron et al. 2023), RecurrentGemma2-9B (Botev et al. 2024), and Mistral (Jiang et al. 2023) models, all of which are provided in the benchmark (Yuri Kuratov et al. 2024). In time series tasks, we compare with Mamba-based (Behrouz, Santacatterina, and Zabih 2024), Transformer-based (Y. Liu et al. 2023; Nie et al. 2022; Yunhao Zhang and Yan 2023), and linear models (Das et al. 2023; Z. Li et al. 2023; H. Wu et al. 2023; Zeng et al. 2023).\\n\\nTraining. In the training, we follow the training procedure of S. Yang, Kautz, and Hatamizadeh (2024), and use LLama 2 tokenizer with a vocabulary size of 32 K and use training length of 4 K tokens. We employ AdamW optimizer with learning rate of $4 e-4$ with cosine annealing schedule with batch size of 0.5 M tokens, and weight decay of 0.1 .\\n\\n### 5.2 Language Modeling\\n\\nWe first focus on the perplexity in language modeling and also commonsense reasoning tasks. The results for Titans\\' variants and also baselines with three different sizes of $340 \\\\mathrm{M}, 400 \\\\mathrm{M}$, and 760 M are reported in Table 1. Among non-hybrid models, including Transformer++, our neural memory module achieves the best performance in both perplexity and accuracy measures. Comparing our neural memory module and TTT, which is also a gradient-based recurrent model can show us the importance of our weight decay as well as the momentum. As discussed earlier, the weight decay can be interpreted as a gating mechanism to forget the past data, when it is needed. Also, momentum can help us better manage the memory by providing additional memory for the surprise metric. While some baselines also take advantage of gating mechanism, e.g., Mamba, Mamba2, and Gated DeltaNet, the superior performance of our neural memory module shows the importance of both our surprise mechanism and having deep and non-linear memory. We further discuss the later in Section 5.5.\\n\\nComparing the hybrid models, we found that all three variants of Titans (MAC, MAG, and MAL) outperform both Samba (Mamba + attention) and Gated DeltaNet-H2 (Gated DeltaNet + atttention). We attribute the superior performance of Titans (MAL) to the power of neural memory module as the architecture design and used attention are all the same. Comparing Titans (MAG) and (MAC), we find that while their performance are close, MAC performs better when dealing with longer dependencies in the data. Interestingly, both MAG and MAC outperform MAL variant, which due to using the same modules, we attribute this to the architecture design of these models. This finding is particularly important as the current hybrid models (except Hymba (X. Dong et al. 2024)) in the literature are using MAL-style combination of recurrent models and attention.\\n\\n### 5.3 Needle in a Haystack\\n\\nScaling a model to longer context window is not always equivalent to being effective for very long sequences (Hsieh et al. 2024). The needle-in-a-haystack (NIAH) task is designed to measure the actual effective context length of models. In this task, we evaluate the model on retrieving a piece of information (i.e., the \"needle\") from long distractor texts (i.e.,', images=[], dimensions=OCRPageDimensions(dpi=200, height=2200, width=1700)), OCRPageObject(index=12, markdown='Table 1: Performance of Titans and recurrent- and Transformer-based baselines on language modeling and common-sense reasoning tasks. Hybrid models are marked with *. The best results among simple and hybrid models are highlighted.\\n\\n| Model | Wiki. <br> ppl $\\\\downarrow$ | $\\\\begin{aligned} & \\\\text { LMB. } \\\\\\\\ & \\\\text { ppl } \\\\downarrow \\\\end{aligned}$ | $\\\\begin{aligned} & \\\\text { LMB. } \\\\\\\\ & \\\\text { acc } \\\\uparrow \\\\end{aligned}$ | PIQA acc $\\\\uparrow$ | $\\\\begin{aligned} & \\\\text { Hella. } \\\\\\\\ & \\\\text { acc_n } \\\\uparrow \\\\end{aligned}$ | Wino. acc $\\\\uparrow$ | ARC-e acc $\\\\uparrow$ | ARC-c acc_n $\\\\uparrow$ | $\\\\begin{aligned} & \\\\text { SIQA } \\\\\\\\ & \\\\text { acc } \\\\uparrow \\\\end{aligned}$ | $\\\\begin{aligned} & \\\\text { BoolQ } \\\\\\\\ & \\\\text { acc } \\\\uparrow \\\\end{aligned}$ | Avg. $\\\\uparrow$ |\\n| :--: | :--: | :--: | :--: | :--: | :--: | :--: | :--: | :--: | :--: | :--: | :--: |\\n| 340M params / 15B tokens |  |  |  |  |  |  |  |  |  |  |  |\\n| Transformer++ | 31.52 | 41.08 | 30.76 | 62.98 | 34.76 | 50.53 | 45.21 | 24.05 | 36.81 | 58.24 | 42.92 |\\n| RetNet | 32.50 | 49.73 | 28.24 | 62.61 | 34.15 | 50.91 | 44.27 | 23.62 | 36.79 | 59.72 | 42.54 |\\n| GLA | 28.51 | 43.02 | 28.73 | 64.05 | 35.96 | 50.00 | 54.19 | 24.29 | 37.13 | 58.39 | 44.09 |\\n| Mamba | 30.83 | 40.21 | 29.94 | 63.79 | 35.88 | 49.82 | 49.24 | 24.56 | 35.41 | 60.07 | 43.59 |\\n| DeltaNet | 28.65 | 47.30 | 28.43 | 63.52 | 35.95 | 49.63 | 52.68 | 25.37 | 37.96 | 58.79 | 44.04 |\\n| TTT | 27.44 | 34.19 | 30.06 | 63.97 | 35.71 | 50.08 | 53.01 | 26.11 | 37.32 | 59.83 | 44.51 |\\n| Gated DeltaNet | 27.01 | 30.94 | 34.11 | 63.08 | 38.12 | 51.60 | 55.28 | 26.77 | 34.89 | 59.54 | 45.42 |\\n| Titans (LMM) | 26.18 | 29.97 | 34.98 | 64.73 | 39.61 | 51.85 | 55.60 | 28.14 | 34.52 | 59.99 | 46.17 |\\n| Titans (MAC)* | 25.43 | 28.13 | 36.00 | 65.32 | 40.35 | 51.21 | 58.17 | 29.00 | 38.63 | 60.18 | 47.36 |\\n| Titans (MAG)* | 25.07 | 28.72 | 36.71 | 64.88 | 40.56 | 52.49 | 57.72 | 28.16 | 39.75 | 60.01 | 47.54 |\\n| Titans (MAL)* | 24.69 | 28.80 | 35.74 | 64.97 | 39.44 | 51.97 | 56.58 | 28.21 | 38.14 | 57.32 | 46.55 |\\n| 400M params / 15B tokens |  |  |  |  |  |  |  |  |  |  |  |\\n| Transformer++ | 30.63 | 37.37 | 29.64 | 64.27 | 37.72 | 51.53 | 54.95 | 27.36 | 38.07 | 61.59 | 45.64 |\\n| RetNet | 29.92 | 46.83 | 29.16 | 65.23 | 36.97 | 51.85 | 56.01 | 27.55 | 37.30 | 59.66 | 45.47 |\\n| HGRN2 | 32.33 | 47.14 | 26.12 | 64.52 | 35.45 | 52.24 | 55.97 | 25.51 | 37.35 | 59.02 | 44.52 |\\n| GLA | 27.96 | 36.66 | 27.86 | 65.94 | 37.41 | 49.56 | 56.01 | 26.36 | 38.94 | 59.84 | 45.24 |\\n| Mamba | 29.22 | 39.88 | 29.82 | 65.72 | 37.93 | 50.11 | 58.37 | 26.70 | 37.76 | 61.13 | 45.94 |\\n| Mamba2 | 26.34 | 33.19 | 32.03 | 65.77 | 39.73 | 52.48 | 59.00 | 27.64 | 37.92 | 60.72 | 46.91 |\\n| DeltaNet | 27.69 | 44.04 | 29.96 | 64.52 | 37.03 | 50.82 | 56.77 | 27.13 | 38.22 | 60.09 | 45.57 |\\n| TTT | 26.11 | 31.52 | 33.25 | 65.70 | 39.11 | 51.68 | 58.04 | 28.99 | 38.26 | 59.87 | 46.86 |\\n| Gated DeltaNet | 25.47 | 29.24 | 34.40 | 65.94 | 40.46 | 51.46 | 59.80 | 28.58 | 37.43 | 60.03 | 47.26 |\\n| Samba* | 25.32 | 29.47 | 36.86 | 66.09 | 39.24 | 51.45 | 60.12 | 27.20 | 38.68 | 58.22 | 47.23 |\\n| Gated DeltaNet-H2* | 24.19 | 28.09 | 36.77 | 66.43 | 40.79 | 52.17 | 59.55 | 29.09 | 39.04 | 58.56 | 47.69 |\\n| Titans (LMM) | 25.03 | 28.99 | 35.21 | 65.85 | 40.91 | 52.19 | 59.97 | 29.20 | 38.74 | 60.85 | 47.83 |\\n| Titans (MAC)* | 25.61 | 27.73 | 36.92 | 66.39 | 41.18 | 52.80 | 60.24 | 29.69 | 40.07 | 61.93 | 48.65 |\\n| Titans (MAG)* | 23.59 | 27.81 | 37.24 | 66.80 | 40.92 | 53.21 | 60.01 | 29.45 | 39.91 | 61.28 | 48.60 |\\n| Titans (MAL)* | 23.93 | 27.89 | 36.84 | 66.29 | 40.74 | 52.26 | 59.85 | 29.71 | 38.92 | 58.40 | 47.87 |\\n| 760M params / 30B tokens |  |  |  |  |  |  |  |  |  |  |  |\\n| Transformer++ | 25.21 | 27.64 | 35.78 | 66.92 | 42.19 | 51.95 | 60.38 | 32.46 | 39.51 | 60.37 | 48.69 |\\n| RetNet | 26.08 | 24.45 | 34.51 | 67.19 | 41.63 | 52.09 | 63.17 | 32.78 | 38.36 | 57.92 | 48.46 |\\n| Mamba | 28.12 | 23.96 | 32.80 | 66.04 | 39.15 | 52.38 | 61.49 | 30.34 | 37.96 | 57.62 | 47.22 |\\n| Mamba2 | 22.94 | 28.37 | 33.54 | 67.90 | 42.71 | 49.77 | 63.48 | 31.09 | 40.06 | 58.15 | 48.34 |\\n| DeltaNet | 24.37 | 24.60 | 37.06 | 66.93 | 41.98 | 50.65 | 64.87 | 31.39 | 39.88 | 59.02 | 48.97 |\\n| TTT | 24.17 | 23.51 | 34.74 | 67.25 | 43.92 | 50.99 | 64.53 | 33.81 | 40.16 | 59.58 | 47.32 |\\n| Gated DeltaNet | 21.18 | 22.09 | 35.54 | 68.01 | 44.95 | 50.73 | 66.87 | 33.09 | 39.21 | 59.14 | 49.69 |\\n| Samba* | 20.63 | 22.71 | 39.72 | 69.19 | 47.35 | 52.01 | 66.92 | 33.20 | 38.98 | 61.24 | 51.08 |\\n| Gated DeltaNet-H2* | 19.88 | 20.83 | 39.18 | 68.95 | 48.22 | 52.57 | 67.01 | 35.49 | 39.39 | 61.11 | 51.49 |\\n| Titans (LMM) | 20.04 | 21.96 | 37.40 | 69.28 | 48.46 | 52.27 | 66.31 | 35.84 | 40.13 | 62.76 | 51.56 |\\n| Titans (MAC) | 19.93 | 20.12 | 39.62 | 70.46 | 49.01 | 53.18 | 67.86 | 36.01 | 41.87 | 62.05 | 52.51 |\\n| Titans (MAG) | 18.61 | 19.86 | 40.98 | 70.25 | 48.94 | 52.89 | 68.23 | 36.19 | 40.38 | 62.11 | 52.50 |\\n| Titans (MAL) | 19.07 | 20.33 | 40.05 | 69.99 | 48.82 | 53.02 | 67.54 | 35.65 | 30.98 | 61.72 | 50.97 |\\n\\nthe \"haystack\"). In this part, we use Single NIAH (S-NIAH) task from RULER benchmark (Hsieh et al. 2024) and evaluate Titans and baselines on sequences with length $2 \\\\mathrm{~K}, 4 \\\\mathrm{~K}, 8 \\\\mathrm{~K}$, and 16 K . The results are reported in Table 2. Neural Memory module achieves the best results compare to baselines in all three tasks. We attribute this superior performance to three key differences of Titans with existing sequence models: (1) Compared to TTT, our Neural Memory can better handle the memory capacity by using momentum and also the forgetting mechanism (i.e., weight decay). Therefore, with increasing the sequence length, the performance of Neural Memory does not drop and show a consistent trend; (2) Compared to Mamba2, which has the gating (forgetting) mechanism, Titans have deep non-linear memory, resulting in better memory management. Also, contrary to our neural memory and DeltaNet, Mamba2 is not capable of removing a memory and so', images=[], dimensions=OCRPageDimensions(dpi=200, height=2200, width=1700)), OCRPageObject(index=13, markdown='Table 2: Performance of Titans and baselines on S-NIAH task from RULER benchmark. The best results among simple and hybrid models are highlighted.\\n\\n| Model | S-NIAH-PK |  |  |  | S-NIAH-N |  |  |  | S-NIAH-W |  |  |  |\\n| :--: | :--: | :--: | :--: | :--: | :--: | :--: | :--: | :--: | :--: | :--: | :--: | :--: |\\n|  | 2 K | 4 K | 8 K | 16 K | 2 K | 4 K | 8 K | 16 K | 2 K | 4 K | 8 K | 16 K |\\n| TTT | 98.4 | 98.8 | 98.0 | 88.4 | 60.2 | 36.6 | 10.2 | 4.4 | 78.8 | 28.0 | 4.4 | 0.0 |\\n| Mamba2 | 98.6 | 61.4 | 31.0 | 5.4 | 98.4 | 55.8 | 14.2 | 0.0 | 42.2 | 4.2 | 0.0 | 0.0 |\\n| DeltaNet | 96.8 | 98.8 | 98.6 | 71.4 | 47.2 | 15.4 | 12.8 | 5.4 | 46.2 | 20.0 | 1.6 | 0.0 |\\n| Titans (LMM) | 99.8 | 98.4 | 98.2 | 96.2 | 100.0 | 99.8 | 93.4 | 80.2 | 90.4 | 89.4 | 85.8 | 80.6 |\\n| Titans (MAC) | 99.2 | 98.8 | 99.0 | 98.4 | 99.6 | 98.2 | 97.6 | 97.4 | 98.2 | 98.2 | 95.6 | 95.2 |\\n| Titans (MAG) | 99.4 | 98.0 | 97.4 | 97.4 | 99.2 | 98.8 | 97.2 | 98.6 | 98.0 | 98.0 | 90.2 | 88.2 |\\n| Titans (MAL) | 98.8 | 98.6 | 98.8 | 97.8 | 99.8 | 98.1 | 96.8 | 96.4 | 98.0 | 97.4 | 92.0 | 90.4 |\\n\\n![img-6.jpeg](img-6.jpeg)\\n\\nFigure 6: Performance of Titans and baselines on BABILong benchmark. Titans (MAC) outperforms all baselines, including extremely large models, e.g., GPT4.\\nwe can see a significant drop in performance when increasing the sequence length; (3) Compared to DeltaNet, although it is capable of removing memory using delta rule, it cannot erase the memory, lacking forgetting mechanism. Finally, As expected we can see on par or better results when using Titans variants, where the best results correspond to MAC.\\n\\n# 5.4 BABILong Benchmark \\n\\nIn the previous section we discussed the results on a simple NIAH tasks where a single needle needs to be retrieved. Although Titans showed better performance compared to baselines, their true advantage over very long sequences is still hidden. To this end, in this section, we use a harder task from BABILong benchmark (Yuri Kuratov et al. 2024), in which the model needs to reason across facts distributed in extremely long documents. We follow the original experimental setup and training process in the benchmark. There are two settings: (1) Few-shot setting, in which we use large pre-trained models, and (2) fine-tuning setting, where we fine-tune the MAC variant of Titans to compare it with other fine-tuned baselines. The results for few-shot setting are reported in Figure 6a. In this setup, we can see Titans outperform all baselines-i.e., Mamba2.8B (Gu and Dao 2024), RWKV-6-7B (Peng, Goldstein, et al. 2024), RecurrentGemma-9B (Botev et al. 2024), Gemma-9B (Team et al. 2024), Llama3.1-8B (Touvron et al. 2023), GPT-4, and GPT4o-mini (Achiam et al. 2023). These results are achieved while Titans (MAC) is having much less number of parameters than baselines.\\n\\nIn the fine-tuning setup, we compare the small fine-tuned version of Titans (MAC) with: (i) the fine-tuned version of small models (almost the same number of parameters as Titans) such as Mamba (Gu and Dao 2024), RMT (Bulatov, Yury Kuratov, and Burtsev 2022), (ii) large models with Retrieval-Augmented Generation (RAG) (P. Lewis et al. 2020) such as Llama3.18B (Touvron et al. 2023), and (iii) extremely large models such as GPT-4 (Achiam et al. 2023), GPT4o-mini, Qwen2.5-72B (A. Yang et al. 2024), and Llama3.1-70B (Touvron et al. 2023). Baseline results are reported by (Yuri Kuratov et al. 2024). The results of Titans and baselines are reported in Figure 6b. Titans outperform all models even extremely large models like GPT4. Also, compared to Transformer-based with memory models like RMT, Titans show better performance mainly due to their powerful memory. That is, RMT compress the historical data into 16 size vector-valued memory, while Titans with in-context online memory learner are capable of encoding the past into the parameters of the model. Interestingly, even', images=[OCRImageObject(id='img-6.jpeg', top_left_x=377, top_left_y=649, bottom_right_x=1371, bottom_right_y=1047, image_base64=None, image_annotation=None)], dimensions=OCRPageDimensions(dpi=200, height=2200, width=1700)), OCRPageObject(index=14, markdown='![img-7.jpeg](img-7.jpeg)\\n\\nFigure 7: The effect of memory depth on the perplexity. Deeper long-term memory results in better scaling in longer sequences.\\n\\nTable 3: Performance on long-term forecasting. The best results are highlighted.\\n\\n|  | Neural Memory |  | Simba |  | iTransformer |  | RLinear |  | PatchTST |  | Crossformer |  | TiDE |  | TimesNet |  | DLinear |  |\\n| :--: | :--: | :--: | :--: | :--: | :--: | :--: | :--: | :--: | :--: | :--: | :--: | :--: | :--: | :--: | :--: | :--: | :--: | :--: |\\n|  | MSE | MAE | MSE | MAE | MSE | MAE | MSE | MAE | MSE | MAE | MSE | MAE | MSE | MAE | MSE | MAE | MSE | MAE |\\n| ETTm1 | 0.358 | 0.387 | 0.383 | 0.396 | 0.407 | 0.410 | 0.414 | 0.407 | 0.387 | 0.400 | 0.513 | 0.496 | 0.419 | 0.419 | 0.400 | 0.406 | 0.403 | 0.407 |\\n| ETTm2 | 0.261 | 0.309 | 0.271 | 0.327 | 0.288 | 0.332 | 0.286 | 0.327 | 0.281 | 0.326 | 0.757 | 0.610 | 0.358 | 0.404 | 0.291 | 0.333 | 0.350 | 0.401 |\\n| ETTh1 | 0.420 | 0.421 | 0.441 | 0.432 | 0.454 | 0.447 | 0.446 | 0.434 | 0.469 | 0.454 | 0.529 | 0.522 | 0.541 | 0.507 | 0.458 | 0.450 | 0.456 | 0.452 |\\n| ETTh2 | 0.356 | 0.382 | 0.361 | 0.391 | 0.383 | 0.407 | 0.374 | 0.398 | 0.387 | 0.407 | 0.942 | 0.684 | 0.611 | 0.530 | 0.414 | 0.427 | 0.559 | 0.515 |\\n| ECL | 0.162 | 0.261 | 0.169 | 0.274 | 0.178 | 0.270 | 0.219 | 0.298 | 0.205 | 0.290 | 0.244 | 0.334 | 0.251 | 0.344 | 0.192 | 0.295 | 0.212 | 0.300 |\\n| Traffic | 0.415 | 0.289 | 0.493 | 0.291 | 0.428 | 0.282 | 0.626 | 0.378 | 0.481 | 0.304 | 0.550 | 0.304 | 0.760 | 0.473 | 0.620 | 0.336 | 0.625 | 0.383 |\\n| Weather | 0.231 | 0.265 | 0.255 | 0.280 | 0.258 | 0.278 | 0.272 | 0.291 | 0.259 | 0.281 | 0.259 | 0.315 | 0.271 | 0.320 | 0.259 | 0.287 | 0.265 | 0.317 |\\n\\naugmenting Llama3.1-8B model with RAG performs worse than Titans with about $\\\\times 70$ less parameters.\\n\\n# 5.5 The Effect of Deep Memory \\n\\nIn this section, we evaluate the effect of deep memory in both wall-clock training time and model performance ${ }^{2}$. To this end, we focus on different variants of our neural memory module, where $L_{M}=1,2,3,4$. We also use Mamba as a baseline for the model performance. For a fair comparison, we use the same training process for all models and train them on a subset of the Pile dataset (L. Gao et al. 2020).\\n\\nWe report the perplexity of our models and baselines as the function of the sequence length in Figure 7. Interestingly, with the increase of memory depth, $L_{M}$, the model can achieve better perplexity over all sequence length. Also, deeper memory modules are more robust to the sequence length when the model has less number of parameters. With the increase of the number of parameters, all models show better performance on longer sequences.\\nWe also evaluate the effect of memory depth $\\\\left(L_{M}=1,2,3,4\\\\right)$ on the training throughput. We report the training throughput (the number of tokens per second) as the function of sequence length in Figure 8. All models scale linearly with respect to the context length (i.e., constant trend in the number of tokens per second with respect to sequence length). Also, by increasing the memory depth, as expected, we can see a linear trend that a deeper memory results in a slower training. Therefore, it is not always efficient to use deeper memory modules, showing a trade-off between effectiveness and efficiency.\\n\\n### 5.6 Time Series Forecasting\\n\\n![img-8.jpeg](img-8.jpeg)\\n\\nFigure 8: The effect of memory depth on training throughput\\n\\nTo show the effectiveness of our memory module in a broader tasks, we also evaluate its performance in time series forecasting tasks. To this end, we use Simba framework (Patro and Agneeswaran 2024) for time series forecasting, and\\n\\n[^0]\\n[^0]:    ${ }^{2}$ Note that, in this experiment, we only focus on the neural memory module to evaluate the effect of memory depth in the memorization process. Combining neural memory with attention as we do in Titans variants, can additionally enhance the performance of the model over long sequences.', images=[OCRImageObject(id='img-7.jpeg', top_left_x=190, top_left_y=193, bottom_right_x=1579, bottom_right_y=528, image_base64=None, image_annotation=None), OCRImageObject(id='img-8.jpeg', top_left_x=1101, top_left_y=1458, bottom_right_x=1562, bottom_right_y=1738, image_base64=None, image_annotation=None)], dimensions=OCRPageDimensions(dpi=200, height=2200, width=1700)), OCRPageObject(index=15, markdown='Table 4: Downstream evaluation of pre-trained DNA models on GenomicsBenchmarks (Grešová et al. 2023). We report top-1 classification accuracy ( $\\\\%$ ).\\n\\n| Model | Enhancer Cohn | Enhancer Ens | Human Reg. | Non-TATA Promoters | Human OCR Ens. |\\n| :-- | :--: | :--: | :--: | :--: | :--: |\\n| CNN | 69.5 | 68.9 | 93.3 | 84.6 | 68.0 |\\n| DNABERT | 74.0 | 85.7 | 88.1 | 85.6 | 75.1 |\\n| GPT | 70.5 | 83.5 | 91.5 | 87.7 | 73.0 |\\n| HyenaDNA | 74.2 | 89.2 | 93.8 | 96.6 | 80.9 |\\n| Transformer++ | 73.4 | 89.5 | 89.9 | 94.4 | 79.5 |\\n| Mamba | 73.0 | - | - | 96.6 | - |\\n| Based | 74.6 | 89.5 | 89.5 | 96.8 | 79.0 |\\n| Neural Memory Module | 75.2 | 89.6 | 89.3 | 96.6 | 79.9 |\\n\\nreplace its Mamba module with our neural memory. We report the results on common time series forecasting benchmark datasets-ETT, ECL, Traffic, and Weather (H. Zhou et al. 2021). The results are reported in Table 3. Our neural memory module is outperforming all baselines, including Mamba-based, linear-based, and Transformer-based architectures.\\n\\n# 5.7 DNA Modeling \\n\\nIn order to understand the capability of Titans beyond natural language, we further evaluate the performance of our neural memory module on DNA modeling tasks. To this end, we evaluate pre-trained models on the downstream tasks in GenomicsBenchmarks (Grešová et al. 2023). We follow the same experimental setups from Nguyen et al. (2024), and re-use the reported results of baselines by Arora et al. (2024). The performance of Titans (LMM) and baselines are reported in Table 4. We find that LMM is competitive with state-of-the-art architectures across different downstream genomics tasks.\\n\\n### 5.8 Efficiency\\n\\nIn this part, we compare the efficiency of our neural memory as well as Titans with state-of-the-art sequence models. The training throughput of models for different sequence length $\\\\times$ batch size are reported in Figure 9. Comparing recurrent models, including our neural memory module, we can see our memory module is slightly slower than Mamba2 and Gated DeltaNet, mainly due to: (1) having deep memory and more expressive transition process (memory update), and (2) highly optimized kernel in the implementation of Mamba2. Interestingly, Titans (MAL) are faster than baselines as well as the memory module. The main reason for this better throughput is the highly optimized kernel of FlashAttention (Dao 2024), which is used for implementing SWA and full attention module in Titans.\\n![img-9.jpeg](img-9.jpeg)\\n\\nFigure 9: Training throughput comparison of Titans and baselines.\\n\\n### 5.9 Ablation Study\\n\\nFinally, we perform ablation studies on the different architectural choices in Titans. We consider our neural memory module as a base model and then changing one component at a time: (1) replacing deep memory with linear memory, removing (2) convolution, (3) momentum in the surprise measure, (4) weight decay (or forgot mechanism), and (5) persistent memory. The results are reported in Table 5. All components of neural memory design are positively contributing to its performance, where the greatest contribution comes from weight decay, momentum, convolution, and persistent memory, respectively.\\n\\nThe Effect of Architectural Design. To evaluate the effect of architecture design, we compare the performance of three represented variants of Titans in three aspects of (i) language modeling, (ii) commen-sense reasoning, and (iii) long context NIAH (BABILong) tasks. The results are reported in Table 5. We find that MAC and MAG have close performance in language modeling and common-sense reasoning tasks, while MAC achieve significantly better performance in long-context NIAH. Both of these models achieve better performance than MAL. These results along with Figure 9, show a trade-off between fast training and more expressive design.', images=[OCRImageObject(id='img-9.jpeg', top_left_x=1108, top_left_y=1111, bottom_right_x=1562, bottom_right_y=1423, image_base64=None, image_annotation=None)], dimensions=OCRPageDimensions(dpi=200, height=2200, width=1700)), OCRPageObject(index=16, markdown='Table 5: Ablation Study on Titans. All components of Titans are positively contributing to its performance.\\n\\n| Model | Language Modeling <br> $\\\\mathrm{ppl} \\\\downarrow$ | Reasoning <br> $\\\\mathrm{acc} \\\\uparrow$ | Long Context <br> $\\\\mathrm{acc} \\\\uparrow$ |\\n| :-- | :--: | :--: | :--: |\\n| LMM | 27.01 | 47.83 | 92.68 |\\n| +Attn (MAC) | 26.67 | 48.65 | 97.95 |\\n| +Attn (MAG) | 25.70 | 48.60 | 96.70 |\\n| +Attn (MAL) | 25.91 | 47.87 | 96.91 |\\n| Linear Memory | 28.49 | 46.97 | 85.34 |\\n| w/o Convolution | 28.73 | 45.82 | 90.28 |\\n| w/o Momentum | 28.98 | 45.49 | 87.12 |\\n| w/o Weight Decay | 29.04 | 45.11 | 85.60 |\\n| w/o Persistent Memory | 27.63 | 46.35 | 92.49 |\\n\\n# 6 Conclusion \\n\\nIn this paper, we present a neural long-term memory that, as a meta in-context learner, learns to memorize at test time. The neural memory module is a recurrent model in nature, and is adaptively memorizing tokens that are more surprising or are close to surprising tokens. Comparing to modern recurrent models, it has more expressive memory update and storing mechanism. Using this memory, we present Titans architectures, and its three variants, in which we suggest to incorporate the memory module as (1) a context, (2) gating, and (3) a layer. Our experimental evaluation on diverse tasks tasks validate that Titans are more effective than Transformers and recent modern linear recurrent models, specifically for long context. That is, Titans can scale to larger than 2 M context window size with better accuracy than baselines.\\nTitans are implemented in Pytorch and JAX and we intend to make the code we used to train and evaluate our models available soon.', images=[], dimensions=OCRPageDimensions(dpi=200, height=2200, width=1700)), OCRPageObject(index=17, markdown='# References \\n\\n[1] Josh Achiam, Steven Adler, Sandhini Agarwal, Lama Ahmad, Ilge Akkaya, Florencia Leoni Aleman, Diogo Almeida, Janko Altenschmidt, Sam Altman, Shyamal Anadkat, et al. \"Gpt-4 technical report\". In: arXiv preprint arXiv:2303.08774 (2023).\\n[2] Yaroslav Aksenov, Nikita Balagansky, Sofia Maria Lo Cicero Vaina, Boris Shaposhnikov, Alexey Gorbatovski, and Daniil Gavrilov. \"Linear Transformers with Learnable Kernel Functions are Better In-Context Models\". In: arXiv preprint arXiv:2402.10644 (2024).\\n[3] Marcin Andrychowicz, Misha Denil, Sergio Gomez, Matthew W Hoffman, David Pfau, Tom Schaul, Brendan Shillingford, and Nando De Freitas. \"Learning to learn by gradient descent by gradient descent\". In: Advances in neural information processing systems 29 (2016).\\n[4] Cem Anil, Yuhuai Wu, Anders Andreassen, Aitor Lewkowycz, Vedant Misra, Vinay Ramasesh, Ambrose Slone, Guy Gur-Ari, Ethan Dyer, and Behnam Neyshabur. \"Exploring length generalization in large language models\". In: Advances in Neural Information Processing Systems 35 (2022), pp. 38546-38556.\\n[5] Simran Arora, Sabri Eyuboglu, Michael Zhang, Aman Timalsina, Silas Alberti, James Zou, Atri Rudra, and Christopher Re. \"Simple linear attention language models balance the recall-throughput tradeoff\". In: Forty-first International Conference on Machine Learning. 2024. URL: https://openreview.net/forum?id=e93ffDcpH3.\\n[6] Dzmitry Bahdanau. \"Neural machine translation by jointly learning to align and translate\". In: arXiv preprint arXiv:1409.0473 (2014).\\n[7] Reza Bayat, Mohammad Pezeshki, Elvis Dohmatob, David Lopez-Paz, and Pascal Vincent. \"The Pitfalls of Memorization: When Memorization Hurts Generalization\". In: arXiv preprint arXiv:2412.07684 (2024).\\n[8] Maximilian Beck, Korbinian Pöppel, Markus Spanring, Andreas Auer, Oleksandra Prudnikova, Michael Kopp, Günter Klambauer, Johannes Brandstetter, and Sepp Hochreiter. \"xLSTM: Extended Long Short-Term Memory\". In: arXiv preprint arXiv:2405.04517 (2024).\\n[9] Ali Behrouz, Michele Santacatterina, and Ramin Zabih. \"Mambamixer: Efficient selective state space models with dual token and channel selection\". In: arXiv preprint arXiv:2403.19888 (2024).\\n[10] Vincent-Pierre Berges, Barlas Oğuz, Daniel Haziza, Wen-tau Yih, Luke Zettlemoyer, and Gargi Gosh. \"Memory Layers at Scale\". In: arXiv preprint arXiv:2412.09764 (2024).\\n[11] Alberto Bietti, Vivien Cabannes, Diane Bouchacourt, Herve Jegou, and Leon Bottou. \"Birth of a transformer: A memory viewpoint\". In: Advances in Neural Information Processing Systems 36 (2024).\\n[12] Yonatan Bisk, Rowan Zellers, Jianfeng Gao, Yejin Choi, et al. \"Piqa: Reasoning about physical commonsense in natural language\". In: Proceedings of the AAAI conference on artificial intelligence. Vol. 34. 05. 2020, pp. 7432-7439.\\n[13] Aleksandar Botev, Soham De, Samuel L Smith, Anushan Fernando, George-Cristian Muraru, Ruba Haroun, Leonard Berrada, Razvan Pascanu, Pier Giuseppe Sessa, Robert Dadashi, et al. \"RecurrentGemma: Moving Past Transformers for Efficient Open Language Models\". In: arXiv preprint arXiv:2404.07839 (2024).\\n[14] Léon Bottou and Vladimir Vapnik. \"Local learning algorithms\". In: Neural computation 4.6 (1992), pp. 888-900.\\n[15] Aydar Bulatov, Yuri Kuratov, Yermek Kapushev, and Mikhail S Burtsev. \"Scaling transformer to 1m tokens and beyond with rmt\". In: arXiv preprint arXiv:2304.11062 (2023).\\n[16] Aydar Bulatov, Yury Kuratov, and Mikhail Burtsev. \"Recurrent memory transformer\". In: Advances in Neural Information Processing Systems 35 (2022), pp. 11079-11091.\\n[17] Edoardo Cetin, Qi Sun, Tianyu Zhao, and Yujin Tang. \"An Evolved Universal Transformer Memory\". In: arXiv preprint arXiv:2410.13166 (2024).\\n[18] Beidi Chen, Tri Dao, Eric Winsor, Zhao Song, Atri Rudra, and Christopher Ré. \"Scatterbrain: Unifying sparse and low-rank attention\". In: Advances in Neural Information Processing Systems 34 (2021), pp. 17413-17426.\\n[19] Krzysztof Marcin Choromanski, Valerii Likhosherstov, David Dohan, Xingyou Song, Andreea Gane, Tamas Sarlos, Peter Hawkins, Jared Quincy Davis, Afroz Mohiuddin, Lukasz Kaiser, David Benjamin Belanger, Lucy J Colwell, and Adrian Weller. \"Rethinking Attention with Performers\". In: International Conference on Learning Representations. 2021. URL: https://openreview.net/forum?id=Ua6zuk0WRH.\\n[20] Christopher Clark, Kenton Lee, Ming-Wei Chang, Tom Kwiatkowski, Michael Collins, and Kristina Toutanova. \"BoolQ: Exploring the Surprising Difficulty of Natural Yes/No Questions\". In: Proceedings of the 2019 Conference of the North American Chapter of the Association for Computational Linguistics: Human Language Technologies, Volume 1 (Long and Short Papers). Ed. by Jill Burstein, Christy Doran, and Thamar Solorio. Minneapolis, Minnesota: Association for Computational Linguistics, June 2019, pp. 2924-2936. DOI: 10.18653/v1/N19-1300. URL: https: //aclanthology.org/N19-1300/.', images=[], dimensions=OCRPageDimensions(dpi=200, height=2200, width=1700)), OCRPageObject(index=18, markdown='[21] Peter Clark, Isaac Cowhey, Oren Etzioni, Tushar Khot, Ashish Sabharwal, Carissa Schoenick, and Oyvind Tafjord. \"Think you have solved question answering? try arc, the ai2 reasoning challenge\". In: arXiv preprint arXiv:1803.05457 (2018).\\n[22] Nelson Cowan. \"What are the differences between long-term, short-term, and working memory?\" In: Progress in brain research 169 (2008), pp. 323-338.\\n[23] Zihang Dai, Zhilin Yang, Yiming Yang, Jaime G. Carbonell, Quoc Viet Le, and Ruslan Salakhutdinov. \"TransformerXL: Attentive Language Models beyond a Fixed-Length Context\". In: ACL (1). Ed. by Anna Korhonen, David R. Traum, and Lluís Márquez. Association for Computational Linguistics, 2019, pp. 2978-2988. ISBN: 978-1-950737-48-2.\\n[24] Tri Dao. \"FlashAttention-2: Faster Attention with Better Parallelism and Work Partitioning\". In: The Twelfth International Conference on Learning Representations. 2024. URL: https://openreview.net/forum?id=mZn2Xyh9Ec.\\n[25] Tri Dao, Dan Fu, Stefano Ermon, Atri Rudra, and Christopher Ré. \"FlashAttention: Fast and Memory-Efficient Exact Attention with IO-Awareness\". In: Advances in Neural Information Processing Systems. Ed. by S. Koyejo, S. Mohamed, A. Agarwal, D. Belgrave, K. Cho, and A. Oh. Vol. 35. Curran Associates, Inc., 2022, pp. 16344-16359. URL: https://proceedings.neurips.cc/paper_files/paper/2022/file/67d57c32e20fd0a7a302cb81d36e40d5-Paper-Conference.pdf.\\n[26] Tri Dao and Albert Gu. \"Transformers are SSMs: Generalized models and efficient algorithms through structured state space duality\". In: arXiv preprint arXiv:2405.21060 (2024).\\n[27] Abhimanyu Das, Weihao Kong, Andrew Leach, Shaan K Mathur, Rajat Sen, and Rose Yu. \"Long-term Forecasting with TiDE: Time-series Dense Encoder\". In: Transactions on Machine Learning Research (2023). ISSN: 2835-8856. URL: https://openreview.net/forum?id=pCbC3aQB5W.\\n[28] Soham De, Samuel L Smith, Anushan Fernando, Aleksandar Botev, George Cristian-Muraru, Albert Gu, Ruba Haroun, Leonard Berrada, Yutian Chen, Srivatsan Srinivasan, et al. \"Griffin: Mixing gated linear recurrences with local attention for efficient language models\". In: arXiv preprint arXiv:2402.19427 (2024).\\n[29] Juechu Dong, Boyuan Feng, Driss Guessous, Yanbo Liang, and Horace He. \"Flex Attention: A Programming Model for Generating Optimized Attention Kernels\". In: arXiv preprint arXiv:2412.05496 (2024).\\n[30] Xin Dong, Yonggan Fu, Shizhe Diao, Wonmin Byeon, Zijia Chen, Ameya Sunil Mahabaleshwarkar, Shih-Yang Liu, Matthijs Van Keirsbilck, Min-Hung Chen, Yoshi Suhara, et al. \"Hymba: A Hybrid-head Architecture for Small Language Models\". In: arXiv preprint arXiv:2411.13676 (2024).\\n[31] Stefan Elfwing, Eiji Uchibe, and Kenji Doya. \"Sigmoid-weighted linear units for neural network function approximation in reinforcement learning\". In: Neural networks 107 (2018), pp. 3-11.\\n[32] Yukun Feng, Feng Li, Ziang Song, Boyuan Zheng, and Philipp Koehn. \"Learn to remember: Transformer with recurrent memory for document-level machine translation\". In: arXiv preprint arXiv:2205.01546 (2022).\\n[33] Daniel Y Fu, Tri Dao, Khaled Kamal Saab, Armin W Thomas, Atri Rudra, and Christopher Re. \"Hungry Hungry Hippos: Towards Language Modeling with State Space Models\". In: The Eleventh International Conference on Learning Representations. 2023. URL: https://openreview.net/forum?id=COZDy0WYGg.\\n[34] Yossi Gandelsman, Yu Sun, Xinlei Chen, and Alexei Efros. \"Test-time training with masked autoencoders\". In: Advances in Neural Information Processing Systems 35 (2022), pp. 29374-29385.\\n[35] Leo Gao, Stella Biderman, Sid Black, Laurence Golding, Travis Hoppe, Charles Foster, Jason Phang, Horace He, Anish Thite, Noa Nabeshima, et al. \"The pile: An 800gb dataset of diverse text for language modeling\". In: arXiv preprint arXiv:2101.00027 (2020).\\n[36] Felix A Gers, Jürgen Schmidhuber, and Fred Cummins. \"Learning to forget: Continual prediction with LSTM\". In: Neural computation 12.10 (2000), pp. 2451-2471.\\n[37] Alex Graves, Greg Wayne, and Ivo Danihelka. Neural Turing Machines. 2014. arXiv: 1410.5401 [cs.NE]. URL: https://arxiv.org/abs/1410.5401.\\n[38] Klaus Greff, Rupesh K Srivastava, Jan Koutník, Bas R Steunebrink, and Jürgen Schmidhuber. \"LSTM: A search space odyssey\". In: IEEE transactions on neural networks and learning systems 28.10 (2016), pp. 2222-2232.\\n[39] Katarína Grešová, Vlastimil Martinek, David Čechák, Petr Šimeček, and Panagiotis Alexiou. \"Genomic benchmarks: a collection of datasets for genomic sequence classification\". In: BMC Genomic Data 24.1 (2023), p. 25.\\n[40] Albert Gu and Tri Dao. \"Mamba: Linear-Time Sequence Modeling with Selective State Spaces\". In: First Conference on Language Modeling. 2024. URL: https://openreview.net/forum?id=tEYskw1VY2.\\n[41] Albert Gu, Karan Goel, and Christopher Re. \"Efficiently Modeling Long Sequences with Structured State Spaces\". In: International Conference on Learning Representations. 2022. URL: https : //openreview . net / forum?id= uYLFoz1v1AC.', images=[], dimensions=OCRPageDimensions(dpi=200, height=2200, width=1700)), OCRPageObject(index=19, markdown='[42] Chi Han, Qifan Wang, Hao Peng, Wenhan Xiong, Yu Chen, Heng Ji, and Sinong Wang. \"LM-Infinite: Zero-Shot Extreme Length Generalization for Large Language Models\". In: Proceedings of the 2024 Conference of the North American Chapter of the Association for Computational Linguistics: Human Language Technologies (Volume 1: Long Papers). Ed. by Kevin Duh, Helena Gomez, and Steven Bethard. Mexico City, Mexico: Association for Computational Linguistics, June 2024, pp. 3991-4008. DOI: 10.18653/v1/2024.naacl-long.222. URL: https://aclanthology. org/2024.naacl-long. 222.\\n[43] Ramin Hasani, Mathias Lechner, Tsun-Hsuan Wang, Makram Chahine, Alexander Amini, and Daniela Rus. \"Liquid Structural State-Space Models\". In: The Eleventh International Conference on Learning Representations. 2023. URL: https://openreview.net/forum?id=g40TKRKfS7R.\\n[44] Zexue He, Leonid Karlinsky, Donghyun Kim, Julian McAuley, Dmitry Krotov, and Rogerio Feris. \"CAMELoT: Towards Large Language Models with Training-Free Consolidated Associative Memory\". In: arXiv preprint arXiv:2402.13449 (2024).\\n[45] Donald Olding Hebb. The organization of behavior: A neuropsychological theory. Psychology press, 2005.\\n[46] John J Hopfield. \"Neural networks and physical systems with emergent collective computational abilities.\" In: Proceedings of the national academy of sciences 79.8 (1982), pp. 2554-2558.\\n[47] Kurt Hornik, Maxwell Stinchcombe, and Halbert White. \"Multilayer feedforward networks are universal approximators\". In: Neural networks 2.5 (1989), pp. 359-366.\\n[48] Cheng-Ping Hsieh, Simeng Sun, Samuel Kriman, Shantanu Acharya, Dima Rekesh, Fei Jia, and Boris Ginsburg. \"RULER: What\\'s the Real Context Size of Your Long-Context Language Models?\" In: First Conference on Language Modeling. 2024. URL: https://openreview.net/forum?id=kIoBbc76Sy.\\n[49] DeLesley Hutchins, Imanol Schlag, Yuhuai Wu, Ethan Dyer, and Behnam Neyshabur. \"Block-recurrent transformers\". In: Advances in neural information processing systems 35 (2022), pp. 33248-33261.\\n[50] Kazuki Irie, Róbert Csordás, and Jürgen Schmidhuber. \"The dual form of neural networks revisited: Connecting test time predictions to training patterns via spotlights of attention\". In: International Conference on Machine Learning. PMLR. 2022, pp. 9639-9659.\\n[51] Kazuki Irie, Imanol Schlag, Róbert Csordás, and Jürgen Schmidhuber. \"Going beyond linear transformers with recurrent fast weight programmers\". In: Advances in neural information processing systems 34 (2021), pp. 7703-7717.\\n[52] Vidit Jain and Erik Learned-Miller. \"Online domain adaptation of a pre-trained cascade of classifiers\". In: CVPR 2011. IEEE. 2011, pp. 577-584.\\n[53] Albert Q Jiang, Alexandre Sablayrolles, Arthur Mensch, Chris Bamford, Devendra Singh Chaplot, Diego de las Casas, Florian Bressand, Gianna Lengyel, Guillaume Lample, Lucile Saulnier, et al. \"Mistral 7B\". In: arXiv preprint arXiv:2310.06825 (2023).\\n[54] Praneeth Kacham, Vahab Mirrokni, and Peilin Zhong. \"PolySketchFormer: Fast Transformers via Sketching Polynomial Kernels\". In: Forty-first International Conference on Machine Learning. 2024. URL: https: //openreview.net/ forum?id=ghYrfdJfjK.\\n[55] Jared Kaplan, Sam McCandlish, Tom Henighan, Tom B Brown, Benjamin Chess, Rewon Child, Scott Gray, Alec Radford, Jeffrey Wu, and Dario Amodei. \"Scaling laws for neural language models\". In: arXiv preprint arXiv:2001.08361 (2020).\\n[56] Angelos Katharopoulos, Apoorv Vyas, Nikolaos Pappas, and François Fleuret. \"Transformers are rnns: Fast autoregressive transformers with linear attention\". In: International conference on machine learning. PMLR. 2020, pp. 5156-5165.\\n[57] Urvashi Khandelwal, Omer Levy, Dan Jurafsky, Luke Zettlemoyer, and Mike Lewis. \"Generalization through Memorization: Nearest Neighbor Language Models\". In: International Conference on Learning Representations. 2020. URL: https://openreview.net/forum?id=HkIBjCEKvH.\\n[58] Yuri Kuratov, Aydar Bulatov, Petr Anokhin, Ivan Rodkin, Dmitry Igorevich Sorokin, Artyom Sorokin, and Mikhail Burtsev. \"BABILong: Testing the Limits of LLMs with Long Context Reasoning-in-a-Haystack\". In: The Thirtyeight Conference on Neural Information Processing Systems Datasets and Benchmarks Track. 2024. URL: https : //openreview.net/forum?id=u7m2CG84BQ.\\n[59] Hung Le, Truyen Tran, and Svetha Venkatesh. \"Self-attentive associative memory\". In: International conference on machine learning. PMLR. 2020, pp. 5682-5691.\\n[60] Patrick Lewis, Ethan Perez, Aleksandra Piktus, Fabio Petroni, Vladimir Karpukhin, Naman Goyal, Heinrich Küttler, Mike Lewis, Wen-tau Yih, Tim Rocktäschel, et al. \"Retrieval-augmented generation for knowledge-intensive nlp tasks\". In: Advances in Neural Information Processing Systems 33 (2020), pp. 9459-9474.', images=[], dimensions=OCRPageDimensions(dpi=200, height=2200, width=1700)), OCRPageObject(index=20, markdown='[61] Danny Leybzon and Corentin Kervadec. \"Learning, Forgetting, Remembering: Insights From Tracking LLM Memorization During Training\". In: Proceedings of the 7th BlackboxNLP Workshop: Analyzing and Interpreting Neural Networks for NLP. 2024, pp. 43-57.\\n[62] Zhe Li, Shiyi Qi, Yiduo Li, and Zenglin Xu. \"Revisiting long-term time series forecasting: An investigation on linear mapping\". In: arXiv preprint arXiv:2305.10721 (2023).\\n[63] Bo Liu, Rui Wang, Lemeng Wu, Yihao Feng, Peter Stone, and Qiang Liu. \"Longhorn: State space models are amortized online learners\". In: arXiv preprint arXiv:2407.14207 (2024).\\n[64] Nelson F Liu, Kevin Lin, John Hewitt, Ashwin Paranjape, Michele Bevilacqua, Fabio Petroni, and Percy Liang. \"Lost in the middle: How language models use long contexts\". In: Transactions of the Association for Computational Linguistics 12 (2024), pp. 157-173.\\n[65] Yong Liu, Tengge Hu, Haoran Zhang, Haixu Wu, Shiyu Wang, Lintao Ma, and Mingsheng Long. \"itransformer: Inverted transformers are effective for time series forecasting\". In: arXiv preprint arXiv:2310.06625 (2023).\\n[66] George Mandler. \"The structure of value: Accounting for taste\". In: Affect and cognition. Psychology Press, 2014, pp. 3-36.\\n[67] Harsh Mehta, Ankit Gupta, Ashok Cutkosky, and Behnam Neyshabur. \"Long Range Language Modeling via Gated State Spaces\". In: The Eleventh International Conference on Learning Representations. 2023. URL: https : //openreview.net/forum?id=5MkYIYCbva.\\n[68] Stephen Merity, Caiming Xiong, James Bradbury, and Richard Socher. \"Pointer Sentinel Mixture Models\". In: International Conference on Learning Representations. 2017. URL: https://openreview.net/forum?id=Byj72udxe.\\n[69] William Merrill, Jackson Petty, and Ashish Sabharwal. \"The Illusion of State in State-Space Models\". In: Forty-first International Conference on Machine Learning. 2024. URL: https://openreview.net/forum?id=QZgo9JZpLq.\\n[70] Ravi Teja Mullapudi, Steven Chen, Keyi Zhang, Deva Ramanan, and Kayvon Fatahalian. \"Online model distillation for efficient video inference\". In: Proceedings of the IEEE/CVF International conference on computer vision. 2019, pp. 3573-3582.\\n[71] Tsendsuren Munkhdalai, Manaal Faruqui, and Siddharth Gopal. \"Leave no context behind: Efficient infinite context transformers with infini-attention\". In: arXiv preprint arXiv:2404.07143 (2024).\\n[72] Tsendsuren Munkhdalai, Alessandro Sordoni, Tong Wang, and Adam Trischler. \"Metalearned neural memory\". In: Advances in Neural Information Processing Systems 32 (2019).\\n[73] Tsendsuren Munkhdalai and Hong Yu. \"Neural semantic encoders\". In: Proceedings of the conference. Association for Computational Linguistics. Meeting. Vol. 1. NIH Public Access. 2017, p. 397.\\n[74] Eric Nguyen, Michael Poli, Marjan Faizi, Armin Thomas, Michael Wornow, Callum Birch-Sykes, Stefano Massaroli, Aman Patel, Clayton Rabideau, Yoshua Bengio, et al. \"Hyenadna: Long-range genomic sequence modeling at single nucleotide resolution\". In: Advances in neural information processing systems 36 (2024).\\n[75] A Nichol. \"On first-order meta-learning algorithms\". In: arXiv preprint arXiv:1803.02999 (2018).\\n[76] Yuqi Nie, Nam H Nguyen, Phanwadee Sinthong, and Jayant Kalagnanam. \"A time series is worth 64 words: Long-term forecasting with transformers\". In: arXiv preprint arXiv:2211.14730 (2022).\\n[77] Hideyuki Okano, Tomoo Hirano, and Evan Balaban. \"Learning and memory\". In: Proceedings of the National Academy of Sciences 97.23 (2000), pp. 12403-12404.\\n[78] Antonio Orvieto, Samuel L Smith, Albert Gu, Anushan Fernando, Caglar Gulcehre, Razvan Pascanu, and Soham De. \"Resurrecting recurrent neural networks for long sequences\". In: International Conference on Machine Learning. PMLR. 2023, pp. 26670-26698.\\n[79] Denis Paperno, Germán Kruszewski, Angeliki Lazaridou, Ngoc Quan Pham, Raffaella Bernardi, Sandro Pezzelle, Marco Baroni, Gemma Boleda, and Raquel Fernández. \"The LAMBADA dataset: Word prediction requiring a broad discourse context\". In: Proceedings of the 54th Annual Meeting of the Association for Computational Linguistics (Volume 1: Long Papers). Ed. by Katrin Erk and Noah A. Smith. Berlin, Germany: Association for Computational Linguistics, Aug. 2016, pp. 1525-1534. DOI: 10.18653/v1/P16-1144. URL: https://aclanthology.org/P16-1144/.\\n[80] Badri N. Patro and Vijay S. Agneeswaran. SiMBA: Simplified Mamba-Based Architecture for Vision and Multivariate Time series. 2024. arXiv: 2403.15360 [cs.CV].\\n[81] Guilherme Penedo, Hynek Kydliček, Loubna Ben allal, Anton Lozhkov, Margaret Mitchell, Colin Raffel, Leandro Von Werra, and Thomas Wolf. \"The FineWeb Datasets: Decanting the Web for the Finest Text Data at Scale\". In: The Thirty-eight Conference on Neural Information Processing Systems Datasets and Benchmarks Track. 2024. URL: https://openreview.net/forum?id=n6SCkn2QaG.\\n[82] Bo Peng. RWKV-LM. Version 1.0.0. Aug. 2021. DOI: 10.5281 / zenodo. 5196577. URL: https://github.com/ BlinkDL/RWKV-LM.', images=[], dimensions=OCRPageDimensions(dpi=200, height=2200, width=1700)), OCRPageObject(index=21, markdown='[83] Bo Peng, Eric Alcaide, Quentin Gregory Anthony, Alon Albalak, Samuel Arcadinho, Stella Biderman, Huanqi Cao, Xin Cheng, Michael Nguyen Chung, Leon Derczynski, Xingjian Du, Matteo Grella, Kranthi Kiran GV, Xuzheng He, Haowen Hou, Przemyslaw Kazienko, Jan Kocon, Jiaming Kong, Bartłomiej Koptyra, Hayden Lau, Jiaju Lin, Krishna Sri Ipsit Mantri, Ferdinand Mom, Atsushi Saito, Guangyu Song, Xiangru Tang, Johan S. Wind, Stanisław Woźniak, Zhenyuan Zhang, Qinghua Zhou, Jian Zhu, and Rui-Jie Zhu. \"RWKV: Reinventing RNNs for the Transformer Era\". In: The 2023 Conference on Empirical Methods in Natural Language Processing. 2023. URL: https://openreview. net/forum?id=7SaXcza8pG.\\n[84] Bo Peng, Daniel Goldstein, Quentin Anthony, Alon Albalak, Eric Alcaide, Stella Biderman, Eugene Cheah, Xingjian Du, Teddy Ferdinan, Haowen Hou, et al. \"Eagle and finch: Rwkv with matrix-valued states and dynamic recurrence\". In: arXiv preprint arXiv:2404.05892 (2024).\\n[85] DL Prados and SC Kak. \"Neural network capacity using delta rule\". In: Electronics Letters 25.3 (1989), pp. 197-199.\\n[86] Zhen Qin, Yiran Zhong, and Hui Deng. \"Exploring Transformer Extrapolation\". In: Proceedings of the AAAI Conference on Artificial Intelligence. Vol. 38. 17. 2024, pp. 18897-18905.\\n[87] Liliang Ren, Yang Liu, Yadong Lu, Yelong Shen, Chen Liang, and Weizhu Chen. \"Samba: Simple Hybrid State Space Models for Efficient Unlimited Context Language Modeling\". In: arXiv preprint arXiv:2406.07522 (2024).\\n[88] Ivan Rodkin, Yuri Kuratov, Aydar Bulatov, and Mikhail Burtsev. \"Associative recurrent memory transformer\". In: arXiv preprint arXiv:2407.04841 (2024).\\n[89] Aurko Roy, Mohammad Saffar, Ashish Vaswani, and David Grangier. \"Efficient content-based sparse attention with routing transformers\". In: Transactions of the Association for Computational Linguistics 9 (2021), pp. 53-68.\\n[90] Keisuke Sakaguchi, Ronan Le Bras, Chandra Bhagavatula, and Yejin Choi. \"Winogrande: An adversarial winograd schema challenge at scale\". In: Communications of the ACM 64.9 (2021), pp. 99-106.\\n[91] Maarten Sap, Hannah Rashkin, Derek Chen, Ronan Le Bras, and Yejin Choi. \"Social IQa: Commonsense Reasoning about Social Interactions\". In: Proceedings of the 2019 Conference on Empirical Methods in Natural Language Processing and the 9th International Joint Conference on Natural Language Processing (EMNLP-IJCNLP). Ed. by Kentaro Inui, Jing Jiang, Vincent Ng, and Xiaojun Wan. Hong Kong, China: Association for Computational Linguistics, Nov. 2019, pp. 4463-4473. DOI: 10.18653/v1/D19-1454. URL: https://aclanthology.org/D19-1454/.\\n[92] Imanol Schlag, Kazuki Irie, and Jürgen Schmidhuber. \"Linear transformers are secretly fast weight programmers\". In: International Conference on Machine Learning. PMLR. 2021, pp. 9355-9366.\\n[93] JH Schmidhuber. \"Learning to control fast-weight memories: An alternative to recurrent nets. Accepted for publication in\". In: Neural Computation (1992).\\n[94] Jürgen Schmidhuber. \"Reducing the ratio between learning complexity and number of time varying variables in fully recurrent nets\". In: ICANN\\'93: Proceedings of the International Conference on Artificial Neural Networks Amsterdam, The Netherlands 13-16 September 1993 3. Springer. 1993, pp. 460-463.\\n[95] Jürgen Schmidhuber and Sepp Hochreiter. \"Long Short-term Memory\". In: Neural Computation MIT-Press (1997).\\n[96] Avi Schwarzschild, Zhili Feng, Pratyush Maini, Zachary C Lipton, and J Zico Kolter. \"Rethinking llm memorization through the lens of adversarial compression\". In: arXiv preprint arXiv:2404.15146 (2024).\\n[97] Jimmy T.H. Smith, Andrew Warrington, and Scott Linderman. \"Simplified State Space Layers for Sequence Modeling\". In: The Eleventh International Conference on Learning Representations. 2023. URL: https://openreview. net/forum? id=AiBHw3AXqks.\\n[98] Robin Staab, Mark Vero, Mislav Balunovic, and Martin Vechev. \"Beyond Memorization: Violating Privacy via Inference with Large Language Models\". In: The Twelfth International Conference on Learning Representations. 2024. URL: https://openreview. net/forum?id=kmn0BhQk7p.\\n[99] Sainbayar Sukhbaatar, Edouard Grave, Guillaume Lample, Herve Jegou, and Armand Joulin. \"Augmenting selfattention with persistent memory\". In: arXiv preprint arXiv:1907.01470 (2019).\\n[100] Sainbayar Sukhbaatar, Jason Weston, Rob Fergus, et al. \"End-to-end memory networks\". In: Advances in neural information processing systems 28 (2015).\\n[101] Yu Sun, Xinhao Li, Karan Dalal, Jiarui Xu, Arjun Vikram, Genghan Zhang, Yann Dubois, Xinlei Chen, Xiaolong Wang, Sanmi Koyejo, et al. \"Learning to (learn at test time): Rnns with expressive hidden states\". In: arXiv preprint arXiv:2407.04620 (2024).\\n[102] Yutao Sun, Li Dong, Shaohan Huang, Shuming Ma, Yuqing Xia, Jilong Xue, Jianyong Wang, and Furu Wei. \"Retentive network: A successor to transformer for large language models\". In: arXiv preprint arXiv:2307.08621 (2023).\\n[103] Gemma Team, Thomas Mesnard, Cassidy Hardin, Robert Dadashi, Surya Bhupatiraju, Shreya Pathak, Laurent Sifre, Morgane Rivière, Mihir Sanjay Kale, Juliette Love, et al. \"Gemma: Open models based on gemini research and technology\". In: arXiv preprint arXiv:2403.08295 (2024).', images=[], dimensions=OCRPageDimensions(dpi=200, height=2200, width=1700)), OCRPageObject(index=22, markdown='[104] W Scott Terry. Learning and memory: Basic principles, processes, and procedures. Routledge, 2017.\\n[105] Matteo Tiezzi, Michele Casoni, Alessandro Betti, Tommaso Guidi, Marco Gori, and Stefano Melacci. \"On the resurgence of recurrent models for long sequences: Survey and research opportunities in the transformer era\". In: arXiv preprint arXiv:2402.08132 (2024).\\n[106] Hugo Touvron, Thibaut Lavril, Gautier Izacard, Xavier Martinet, Marie-Anne Lachaux, Timothée Lacroix, Baptiste Rozière, Naman Goyal, Eric Hambro, Faisal Azhar, et al. \"Llama: Open and efficient foundation language models\". In: arXiv preprint arXiv:2302.13971 (2023).\\n[107] Jos Van Der Westhuizen and Joan Lasenby. \"The unreasonable effectiveness of the forget gate\". In: arXiv preprint arXiv:1804.04849 (2018).\\n[108] Ashish Vaswani, Noam Shazeer, Niki Parmar, Jakob Uszkoreit, Llion Jones, Aidan N Gomez, Łukasz Kaiser, and Illia Polosukhin. \"Attention is All you Need\". In: Advances in Neural Information Processing Systems. Ed. by I. Guyon, U. Von Luxburg, S. Bengio, H. Wallach, R. Fergus, S. Vishwanathan, and R. Garnett. Vol. 30. Curran Associates, Inc., 2017. URL: https : / / proceedings . neurips . cc / paper_files / paper / 2017 / file / 3f5ee243547dee91fbd053c1c4a845aa-Paper.pdf.\\n[109] Shida Wang. \"LongSSM: On the Length Extension of State-space Models in Language Modelling\". In: arXiv preprint arXiv:2406.02080 (2024).\\n[110] Yu Wang, Yifan Gao, Xiusi Chen, Haoming Jiang, Shiyang Li, Jingfeng Yang, Qingyu Yin, Zheng Li, Xian Li, Bing Yin, Jingbo Shang, and Julian McAuley. \"MEMORYLLM: Towards Self-Updatable Large Language Models\". In: Forty-first International Conference on Machine Learning. 2024. URL: https: //openreview. net/forum?id=p01KWzdikQ.\\n[111] Yu Wang, Chi Han, Tongtong Wu, Xiaoxin He, Wangchunshu Zhou, Nafis Sadeq, Xiusi Chen, Zexue He, Wei Wang, Gholamreza Haffari, et al. \"Towards LifeSpan Cognitive Systems\". In: arXiv preprint arXiv:2409.13265 (2024).\\n[112] Zhiwei Wang, Yao Ma, Zitao Liu, and Jiliang Tang. \"R-transformer: Recurrent neural network enhanced transformer\". In: arXiv preprint arXiv:1907.05572 (2019).\\n[113] Jason Weston, Sumit Chopra, and Antoine Bordes. \"Memory networks\". In: arXiv preprint arXiv:1410.3916 (2014).\\n[114] Bernard Widrow and Marcian E Hoff. \"Adaptive switching circuits\". In: Neurocomputing: foundations of research. 1988, pp. 123-134.\\n[115] Ronald J Williams and David Zipser. \"A learning algorithm for continually running fully recurrent neural networks\". In: Neural computation 1.2 (1989), pp. 270-280.\\n[116] Daniel B Willingham. \"Systems of memory in the human brain\". In: Neuron 18.1 (1997), pp. 5-8.\\n[117] Chao-Yuan Wu, Christoph Feichtenhofer, Haoqi Fan, Kaiming He, Philipp Krahenbuhl, and Ross Girshick. \"Longterm feature banks for detailed video understanding\". In: Proceedings of the IEEE/CVF conference on computer vision and pattern recognition. 2019, pp. 284-293.\\n[118] Haixu Wu, Tengge Hu, Yong Liu, Hang Zhou, Jianmin Wang, and Mingsheng Long. \"TimesNet: Temporal 2DVariation Modeling for General Time Series Analysis\". In: The Eleventh International Conference on Learning Representations. 2023. URL: https://openreview. net/forum?id=ju_Uqw3840q.\\n[119] Qingyang Wu, Zhenzhong Lan, Kun Qian, Jing Gu, Alborz Geramifard, and Zhou Yu. \"Memformer: A memoryaugmented transformer for sequence modeling\". In: arXiv preprint arXiv:2010.06891 (2020).\\n[120] Guangxuan Xiao, Yuandong Tian, Beidi Chen, Song Han, and Mike Lewis. \"Efficient Streaming Language Models with Attention Sinks\". In: The Twelfth International Conference on Learning Representations. 2024. URL: https: //openreview. net/forum?id=NG7sS51zVF.\\n[121] An Yang, Baosong Yang, Beichen Zhang, Binyuan Hui, Bo Zheng, Bowen Yu, Chengyuan Li, Dayiheng Liu, Fei Huang, Haoran Wei, et al. \"Qwen2. 5 Technical Report\". In: arXiv preprint arXiv:2412.15115 (2024).\\n[122] Songlin Yang, Jan Kautz, and Ali Hatamizadeh. \"Gated Delta Networks: Improving Mamba2 with Delta Rule\". In: arXiv preprint arXiv:2412.06464 (2024).\\n[123] Songlin Yang, Bailin Wang, Yikang Shen, Rameswar Panda, and Yoon Kim. \"Gated Linear Attention Transformers with Hardware-Efficient Training\". In: Forty-first International Conference on Machine Learning. 2024. URL: https: //openreview. net/forum?id=ia5XvxFUJ7.\\n[124] Songlin Yang, Bailin Wang, Yu Zhang, Yikang Shen, and Yoon Kim. \"Parallelizing Linear Transformers with the Delta Rule over Sequence Length\". In: The Thirty-eighth Annual Conference on Neural Information Processing Systems. 2024. URL: https://openreview. net/forum?id=y8Rm4VNRPH.\\n[125] Luca Zancato, Arjun Seshadri, Yonatan Dukler, Aditya Golatkar, Yantao Shen, Benjamin Bowman, Matthew Trager, Alessandro Achille, and Stefano Soatto. \"B\\'MOJO: Hybrid State Space Realizations of Foundation Models with Eidetic and Fading Memory\". In: The Thirty-eighth Annual Conference on Neural Information Processing Systems. 2024. URL: https://openreview. net/forum?id=RnQdRY1h5v.', images=[], dimensions=OCRPageDimensions(dpi=200, height=2200, width=1700)), OCRPageObject(index=23, markdown='[126] Rowan Zellers, Ari Holtzman, Yonatan Bisk, Ali Farhadi, and Yejin Choi. \"HellaSwag: Can a Machine Really Finish Your Sentence?\" In: Proceedings of the 57th Annual Meeting of the Association for Computational Linguistics. Ed. by Anna Korhonen, David Traum, and Lluís Márquez. Florence, Italy: Association for Computational Linguistics, July 2019, pp. 4791-4800. DOI: 10.18653/v1/P19-1472. URL: https://aclanthology.org/P19-1472/.\\n[127] Ailing Zeng, Muxi Chen, Lei Zhang, and Qiang Xu. \"Are transformers effective for time series forecasting?\" In: Proceedings of the AAAI conference on artificial intelligence. Vol. 37. 2023, pp. 11121-11128.\\n[128] Hao Zhang, Alexander C Berg, Michael Maire, and Jitendra Malik. \"SVM-KNN: Discriminative nearest neighbor classification for visual category recognition\". In: 2006 IEEE Computer Society Conference on Computer Vision and Pattern Recognition (CVPR\\'06). Vol. 2. IEEE. 2006, pp. 2126-2136.\\n[129] Jianyu Zhang, Niklas Nolte, Ranajoy Sadhukhan, Beidi Chen, and Léon Bottou. \"Memory Mosaics\". In: arXiv preprint arXiv:2405.06394 (2024).\\n[130] Yunhao Zhang and Junchi Yan. \"Crossformer: Transformer utilizing cross-dimension dependency for multivariate time series forecasting\". In: The eleventh international conference on learning representations. 2023.\\n[131] Haoyi Zhou, Shanghang Zhang, Jieqi Peng, Shuai Zhang, Jianxin Li, Hui Xiong, and Wancai Zhang. \"Informer: Beyond efficient transformer for long sequence time-series forecasting\". In: Proceedings of the AAAI conference on artificial intelligence. Vol. 35. 12. 2021, pp. 11106-11115.\\n[132] Luisa Zintgraf, Kyriacos Shiarli, Vitaly Kurin, Katja Hofmann, and Shimon Whiteson. \"Fast context adaptation via meta-learning\". In: International Conference on Machine Learning. PMLR. 2019, pp. 7693-7702.', images=[], dimensions=OCRPageDimensions(dpi=200, height=2200, width=1700)), OCRPageObject(index=24, markdown='# A Related Work \\n\\nThere are diverse perspectives that can independently lead to the design of Titans or its components. Accordingly, to further situate our work in a broader context, we review three categories of studies:\\n\\n## A. 1 Linear Recurrent Models\\n\\nRecently, to address the computational cost of Transformers in both training and inference, linear recurrent models have attracted much attention (Tiezzi et al. 2024), mainly due to their fast inference and training. The first generation of models-such as RetNet (Yutao Sun et al. 2023), LRU (Orvieto et al. 2023), RWKV (Peng, Alcaide, et al. 2023), S5 (J. T. Smith, Warrington, and Linderman 2023), and S4 (Gu, Goel, and Re 2022)-uses data-independent transition matrix/decay mechanism. The second generation of such models started to incorporate gating mechanism, a widely used techniques in traditional RNNs (Gers, Jürgen Schmidhuber, and Cummins 2000; Greff et al. 2016; Van Der Westhuizen and Lasenby 2018), into such linear architectures-e.g., Griffin (De et al. 2024), SSMs (Behrouz, Santacatterina, and Zabih 2024; Dao and Gu 2024; Gu and Dao 2024; Hasani et al. 2023), RWKV6 (Peng, Goldstein, et al. 2024). The third generation of linear recurrent models are based on more complex memory updating rule based on meta-learning, online learning, and/or delta-rule, resulting in more expressive and effective models such as: Longhorn (B. Liu et al. 2024), Gated DeltaNet (S. Yang, Kautz, and Hatamizadeh 2024), TTT (Yu Sun et al. 2024), and DeltaNet (S. Yang, B. Wang, Yu Zhang, et al. 2024). Our LMM model can be seen as the next generation of such models, in which we incorporate the token flow into the memory updating mechanism, having more powerful memory updating process. See Appendix C for a detailed discussion of different recurrent models and Titans.\\n\\n## A. 2 Transformer-based Architectures\\n\\nTransformers. Transformers (Vaswani et al. 2017) as the de facto backbone for many deep learning models are based on attention mechanism (Bahdanau 2014). They, however, suffer from quadratic computational cost, limiting their ability to scale to long context window. To improve the memory consumption and throughput of softmax attention for longer sequences, various studies focused on I/O aware implementations of attention (Dao 2024; Dao, D. Fu, et al. 2022), designing more efficient attention mechanisms by sparsifying the attention matrix (B. Chen et al. 2021; Choromanski et al. 2021; Dai et al. 2019; J. Dong et al. 2024; Roy et al. 2021), approximating the softmax (Arora et al. 2024), or developing kernel-based (linear) attentions (Aksenov et al. 2024; Kacham, Mirrokni, and P. Zhong 2024; Schlag, Irie, and Jürgen Schmidhuber 2021; S. Yang, B. Wang, Shen, et al. 2024).\\n\\nSegment-based Transformers. Another line of research to improve the efficiency of Transformers is segment-based or Chunk Transformers (Dai et al. 2019). The main drawback of chunk Transformers is that segments are fully separated and so the context window is limited to the length of the chunks. To address this issue, various studies discuss the importance of a memory so it can help the model to transfer information across chunks (Bulatov, Yuri Kuratov, et al. 2023; Bulatov, Yury Kuratov, and Burtsev 2022; Feng et al. 2022; Hutchins et al. 2022; Rodkin et al. 2024; Z. Wang et al. 2019; Q. Wu et al. 2020; Zancato et al. 2024). The key differences of Titans with these models are: (1) The memory in such models are simple small size vectors, lacking expressive power to compress complex information; (2) The memory module lacks forget mechanism, leading to a fast memory overflow; (3) only focus on momentary surprise, missing the information flow. More specifically, recalling Recurrent Memory Transformers (RMT) (Bulatov, Yuri Kuratov, et al. 2023; Bulatov, Yury Kuratov, and Burtsev 2022; Rodkin et al. 2024), one can treat Titans (MAC) as the generalization of RMT, where we use a neural memory module instead of a vector-valued small size memory.\\n\\nMemory for Large Language Models. Another interesting research direction has been to incorporate external memory modules to LLMs after training (Z. He et al. 2024; Khandelwal et al. 2020; Y. Wang, Y. Gao, et al. 2024). Such models are different from our approach as we incorporate the memory as a part of initial architecture and so we train it in an end-to-end manner. Also, most of these explicit memory modules suffer from the same limitations as chunk-based Transformers (mentioned above). For a detailed discussion of such models, we refer to the recent study of Y. Wang, Han, et al. (2024).', images=[], dimensions=OCRPageDimensions(dpi=200, height=2200, width=1700)), OCRPageObject(index=25, markdown='# A. 3 Test Time Training and Fast Weight Programs \\n\\nMemory Design and Augmentation with Memory. In the literature, a substantial research effort have been toward designing memory modules that are capable of either memorizing the knowledge abstraction (e.g., persistent memory) (Sukhbaatar, Grave, et al. 2019), or memorizing the data-dependent information (also known as contextual memory), through recurrence (Bulatov, Yury Kuratov, and Burtsev 2022; Rodkin et al. 2024; Zancato et al. 2024), Transformers (Berges et al. 2024; Cetin et al. 2024; Feng et al. 2022; Le, Tran, and Venkatesh 2020; Munkhdalai, Faruqui, and Gopal 2024; J. Zhang et al. 2024), gradient (Irie, Csordás, and Jürgen Schmidhuber 2022; Munkhdalai, Sordoni, et al. 2019), or other learning paradigms (Sukhbaatar, Weston, Fergus, et al. 2015; Weston, Chopra, and Bordes 2014). These memory models, however, either (1) are based on momentary surprise, missing the data flow and events, (2) lack forget mechanisms to remove the memory, leading to a fast memory overflow (3) are fixed-size shallow (matrix valued) memory, resulting in poor performance in long context, and (4) are based on fixed parameters at test time, lacking test time adaption.\\n\\nFast Weight Programs. The idea of seeing linear layers as the key-value (associative) memory system backs to fast weight programs, in which dynamic fast programs are incorporated into recurrent neural networks to serve as writable memory (Schlag, Irie, and Jürgen Schmidhuber 2021; JH Schmidhuber 1992; Jürgen Schmidhuber 1993). The two learning rules of Hebbian (Hebb 2005) and delta (Prados and Kak 1989) are the most popular learning rules for fast weight programs, which have been extensively explored in various studies (Irie, Schlag, et al. 2021; Munkhdalai, Sordoni, et al. 2019; Munkhdalai and H. Yu 2017; Schlag, Irie, and Jürgen Schmidhuber 2021; JH Schmidhuber 1992; S. Yang, Kautz, and Hatamizadeh 2024; S. Yang, B. Wang, Yu Zhang, et al. 2024). All these models, however, are based on momentary surprise, missing the token flow in the sequences (see Section 3.1), and most of them lacks a forgetting gate, resulting in a poor memory management.\\n\\nTest Time Training. The key ideas of learning at test time or learning to learn (i.e., (Andrychowicz et al. 2016)) backs to very early studies on local learning Bottou and Vapnik 1992, in which each test data sample is trained on its neighbors before making a prediction (Gandelsman et al. 2022; H. Zhang et al. 2006). This approach further has shown promising performance in vision tasks (Jain and Learned-Miller 2011; Mullapudi et al. 2019), mostly due to their ability to mitigate out-of-distribution samples. The most similar studies to ours in this direction are MNM (Munkhdalai, Sordoni, et al. 2019) and TTT-layer (Yu Sun et al. 2024), which we discussed the key differences in Appendix C.\\n\\n## B Language Modeling and Common-sense Reasoning Datasets\\n\\nFollowing recent studies on linear recurrent models (Dao and Gu 2024; S. Yang, Kautz, and Hatamizadeh 2024; S. Yang, B. Wang, Yu Zhang, et al. 2024), we use Wikitext (Merity et al. 2017), LMB (Paperno et al. 2016), PIQA (Bisk et al. 2020), HellaSwag (Zellers et al. 2019), WinoGrande (Sakaguchi et al. 2021), ARC-easy (ARC-e) and ARC-challenge (ARC-c) (P. Clark et al. 2018), SIQA (Sap et al. 2019), and BoolQ (C. Clark et al. 2019). Also, the baselines results for 400M models are from the reported results by S. Yang, Kautz, and Hatamizadeh (2024).\\n\\n## C Long-term Memory Module (LMM) as a Sequence Model\\n\\nIn this section, we discuss how LMM as a sequence model is connected to modern linear recurrent models. For the sake of simplicity, we start with a linear memory, where $\\\\mathcal{M}_{t}=W_{t} \\\\in \\\\mathbb{R}^{d_{m} \\\\times d_{m}}$. In this case, our objective function becomes $\\\\ell\\\\left(\\\\mathcal{M} ; x_{t}\\\\right)=\\\\frac{1}{2}\\\\left\\\\|\\\\mathcal{M}_{t} \\\\mathbf{k}_{t}-\\\\mathbf{v}_{t}\\\\right\\\\|_{2}^{2}$, in which we use gradient descent with momentum and weight decay for the optimization. Accordingly, revisiting the recurrent formula in Equation 13:\\n\\n$$\\n\\\\begin{aligned}\\n& \\\\mathcal{M}_{t}=\\\\operatorname{diag}\\\\left(1-\\\\alpha_{t}\\\\right) \\\\mathcal{M}_{t}+S_{t} \\\\\\\\\\n& S_{t}=\\\\operatorname{diag}\\\\left(\\\\eta_{t}\\\\right) S_{t-1}-\\\\operatorname{diag}\\\\left(\\\\theta_{t}\\\\right)\\\\left(\\\\mathcal{M}_{t-1} \\\\mathbf{k}_{t}^{\\\\top} \\\\mathbf{k}_{t}-\\\\mathbf{v}_{t}^{\\\\top} \\\\mathbf{k}_{t}\\\\right)\\n\\\\end{aligned}\\n$$\\n\\nLMM is Generalized Gated DeltaNet. As discussed by S. Yang, Kautz, and Hatamizadeh (2024), DeltaNet (S. Yang, B. Wang, Yu Zhang, et al. 2024) can alternatively be interpreted as an online learning problem that optimizes the $\\\\mathcal{L}=\\\\frac{1}{2}\\\\left\\\\|\\\\mathbf{S}_{t} \\\\mathbf{k}_{t}-\\\\mathbf{v}_{t}\\\\right\\\\|_{2}^{2}$, resulting in:\\n\\n$$\\n\\\\mathbf{S}_{t+1}=\\\\mathbf{S}_{t}-\\\\theta_{t} \\\\nabla \\\\mathcal{L}=\\\\mathbf{S}_{t}\\\\left(\\\\mathbf{I}-\\\\theta_{t} \\\\mathbf{k}_{t} \\\\mathbf{k}_{t}^{\\\\top}\\\\right)+\\\\theta_{t} \\\\mathbf{v}_{t} \\\\mathbf{k}_{t}^{\\\\top}\\n$$', images=[], dimensions=OCRPageDimensions(dpi=200, height=2200, width=1700)), OCRPageObject(index=26, markdown=\"In this formulation, Gated DeltaNet is the same as above but with an additional weight decay term (S. Yang, Kautz, and Hatamizadeh 2024). Comparing Equation 32 and Equation 34, we can see that setting $\\\\eta_{t}=0$ results in both formulations to be equivalent. Accordingly, we can say LMM is generalizing the very recent study of Gated DeltaNet (S. Yang, Kautz, and Hatamizadeh 2024) from three aspects:\\n\\n- Momentum-based Rule: The Delta Rule is based on momentary surprise, meaning that the flow of tokens cannot affect the memory update rule. LMM, however, is based on a momentum rule, which consider both past and momentary surprise.\\n- Deep Memory: While Gated DeltaNet is limited to a linear (matrix-valued) memory as it requires finding the closed recurrence form, LMM allows using deep memory module by using a gradient-based formulation, resulting in higher expressive power.\\n- Non-Linear Recurrence: While DeltaNet and Gated DeltaNet are based on linear recurrence, our LMM is using inter-chunk non-linear recurrence and intra-chunk linear recurrence. This design allows LMM having a higher expressive power.\\n\\nHere, we discussed Gated DeltaNet as a sample of recent generation of recurrent models. Similar approaches such as RWKV-7 (Peng 2021) are also using the same formulation and loss function, and so LMM is generalizing all such models.\\n\\nLMM is Generalized Longhorn. Similar to DeltaNet, Longhorn (B. Liu et al. 2024) uses the same loss function but it derives the closed form using implicit online learning:\\n\\n$$\\n\\\\mathbf{S}_{t+1}=\\\\mathbf{S}_{t}\\\\left(\\\\mathbf{I}-\\\\delta_{t} \\\\mathbf{k}_{t} \\\\mathbf{k}_{t}^{\\\\top}\\\\right)+\\\\delta_{t} \\\\mathbf{v}_{t} \\\\mathbf{k}_{t}^{\\\\top}\\n$$\\n\\nwhere $\\\\delta_{t}=\\\\frac{\\\\theta_{t}}{1+\\\\theta_{t} \\\\mathbf{k}_{t} \\\\mathbf{k}_{t}}$. It, however, lacks a forgetting gate, resulting in a faster memory overflow. Therefore, in addition two the abovementioned aspects of (1) Momentum-based Rule, (2) Deep Memory, and (3) Non-Linear Recurrence, LMM has the advantage of using an additional (4) Forget Gate, leading to a better memory management.\\n\\nLMM is Generalized TTT Layer. To the best of our knowledge, TTT (Yu Sun et al. 2024), is the only modern linear recurrent models with a gradient-based updating rule. In addition to different architectural designs and also objective functions, our LMM has three key differences with presented TTT layers (Yu Sun et al. 2024):\\n\\n1. Forgetting Mechanism: TTT layers are updating memory at each time, without having the chance to forget the past data. Accordingly, when fixing the memory size, the model cannot manage the memory for long sequences. A forget mechanism, such as LMM's, allows clearing the memory when very past information is not needed anymore. We show that in a general case, this forget mechanism is equivalent to weight decay and provide a fast method to incorporate it into the parallel training.\\n2. Momentum-based Update Rule: TTT layers are based on momentary surprise, meaning that the flow of tokens cannot affect the memory update rule. LMM, however, is based on a momentum rule, which consider both past and momentary surprise. See Section 3.1 for the motivation of this design.\\n3. Deep Memory: While TTT-layers allows for deeper memory, the advantages/disadvantages of such deeper memory modules have not been experimentally evaluated.\\n\\nTo the best of our knowledge, our neural long-term memory module is the first linear recurrent model with momentumbased update rule.\\n\\nFinally, as a key difference with all the above and other recent linear recurrent studies, note that the hybrid variants of modern linear models-such as Griffin (De et al. 2024), DeltaNet (S. Yang, B. Wang, Yu Zhang, et al. 2024), Gated DeltaNet (S. Yang, Kautz, and Hatamizadeh 2024), H3 (D. Y. Fu et al. 2023), Mamba2 (Dao and Gu 2024), Samba (Ren et al. 2024), etc.-all are based on sequential layer-wise design. We present Titans to show how effectively one can incorporate such memory modules into an architecture.\", images=[], dimensions=OCRPageDimensions(dpi=200, height=2200, width=1700))] model='mistral-ocr-2505-completion' usage_info=OCRUsageInfo(pages_processed=27, doc_size_bytes=3657065) document_annotation=None\n"
          ]
        }
      ]
    },
    {
      "cell_type": "code",
      "source": [
        "print(len(ocr_response.pages))"
      ],
      "metadata": {
        "colab": {
          "base_uri": "https://localhost:8080/"
        },
        "id": "hsMr11jHpOJT",
        "outputId": "59e6e5e6-14c3-4247-b78b-8dd9ce75b242"
      },
      "execution_count": null,
      "outputs": [
        {
          "output_type": "stream",
          "name": "stdout",
          "text": [
            "27\n"
          ]
        }
      ]
    },
    {
      "cell_type": "code",
      "source": [
        "print(ocr_response.pages[0].markdown)"
      ],
      "metadata": {
        "colab": {
          "base_uri": "https://localhost:8080/"
        },
        "id": "6dDEpzx5pOMB",
        "outputId": "3306edc2-e30e-4434-a94e-1c994c7af337"
      },
      "execution_count": null,
      "outputs": [
        {
          "output_type": "stream",
          "name": "stdout",
          "text": [
            "# Titans: Learning to Memorize at Test Time \n",
            "\n",
            "Ali Behrouz ${ }^{\\dagger}$, Peilin Zhong ${ }^{\\dagger}$, and Vahab Mirrokni ${ }^{\\dagger}$<br>$\\dagger$ Google Research<br>\\{alibehrouz, peilinz, mirrokni\\}@google.com\n",
            "\n",
            "\n",
            "#### Abstract\n",
            "\n",
            "Over more than a decade there has been an extensive research effort of how effectively utilize recurrent models and attentions. While recurrent models aim to compress the data into a fixed-size memory (called hidden state), attention allows attending to the entire context window, capturing the direct dependencies of all tokens. This more accurate modeling of dependencies, however, comes with a quadratic cost, limiting the model to a fixed-length context. We present a new neural long-term memory module that learns to memorize historical context and helps an attention to attend to the current context while utilizing long past information. We show that this neural memory has the advantage of a fast parallelizable training while maintaining a fast inference. From a memory perspective, we argue that attention due to its limited context but accurate dependency modeling performs as a short-term memory, while neural memory due to its ability to memorize the data, acts as a long-term, more persistent, memory. Based on these two modules, we introduce a new family of architectures, called Titans, and present three variants to address how one can effectively incorporate memory into this architecture. Our experimental results on language modeling, common-sense reasoning, genomics, and time series tasks show that Titans are more effective than Transformers and recent modern linear recurrent models. They further can effectively scale to larger than 2 M context window size with higher accuracy in needle-in-haystack tasks compared to baselines.\n",
            "\n",
            "\n",
            "## 1 Introduction\n",
            "\n",
            "\"The true art of memory is the art of attention!\"\n",
            "\n",
            "- Samuel Johnson, 1787\n",
            "\n",
            "Transformers, pure attention-based architectures (Vaswani et al. 2017), have been firmly established as state-of-the-art models in sequence modeling, mainly due to their in-context learning and ability to learn at scale (Kaplan et al. 2020). The primary building blocks of Transformers-attention modules-function as associative memory blocks (Bietti et al. 2024), where they learn to store key-value associations and retrieve them by computing pairwise similarity between queries (i.e., search signals) and keys (i.e., contexts). Accordingly, by design, the output of a Transformer is exclusively conditioned on the direct dependencies of tokens in the current context window. This accurate modeling of dependencies, however, comes with quadratic time and memory complexity in terms of the context length. In complex real-world tasks (e.g., language modeling (N. F. Liu et al. 2024), video understanding (C.-Y. Wu et al. 2019), long-term time series forecasting (H. Zhou et al. 2021)), the context window can become extremely large, making the applicability of Transformers challenging in these downstream tasks.\n",
            "\n",
            "To overcome the scalability issue of Transformers, recent studies aim to design different variants of linear Transformers (Kacham, Mirrokni, and P. Zhong 2024; Katharopoulos et al. 2020; S. Yang, B. Wang, Shen, et al. 2024), where softmax is replaced by a kernel function in the attention (see $\\S 2.1$ for details), resulting in a significant drop in memory consumption. Despite efficiency and the ability to scale to longer context, linear Transformers do not show competitive performance compared to Transformers as the kernel trick makes the model a linear recurrent network, in which the data is compressed into a matrix-valued states (Katharopoulos et al. 2020). This, however, brings a contradictory fact about linear recurrent (or linear Transformers) models: On one hand, we use these linear models to enhance scalability and efficiency (linear vs. quadratic complexity), whose advantages is appeared for very long context; On the other hand, a very long context cannot be properly compressed in a small vector-valued or matrix-valued states (S. Wang 2024).\n"
          ]
        }
      ]
    },
    {
      "cell_type": "code",
      "source": [
        "print(ocr_response.pages[0].images)"
      ],
      "metadata": {
        "colab": {
          "base_uri": "https://localhost:8080/"
        },
        "id": "l21wPQafpOPJ",
        "outputId": "feecf815-a36d-4919-f923-d1d16d9a2cfc"
      },
      "execution_count": null,
      "outputs": [
        {
          "output_type": "stream",
          "name": "stdout",
          "text": [
            "[]\n"
          ]
        }
      ]
    },
    {
      "cell_type": "code",
      "source": [
        "import base64\n",
        "import mimetypes"
      ],
      "metadata": {
        "id": "fg0VzGhNsDEc"
      },
      "execution_count": null,
      "outputs": []
    },
    {
      "cell_type": "code",
      "source": [
        "ocr_response = client.ocr.process(\n",
        "  model=\"mistral-ocr-latest\",\n",
        "  document={\n",
        "    \"type\": \"image_url\",\n",
        "    \"image_url\": \"https://encrypted-tbn0.gstatic.com/images?q=tbn:ANd9GcSEn4BsqOK3uI8zFlqQ616FvpMz5HtQ3XBo5Q&s\",\n",
        "  },\n",
        ")"
      ],
      "metadata": {
        "id": "VOBL8PjMpOSB"
      },
      "execution_count": null,
      "outputs": []
    },
    {
      "cell_type": "code",
      "source": [
        "def load_image(image_path):\n",
        "  import base64\n",
        "  mime_type, _ = mimetypes.guess_type(image_path)\n",
        "  with open(image_path, \"rb\") as image_file:\n",
        "    image_data = image_file.read()\n",
        "  base64_encoded = base64.b64encode(image_data).decode('utf-8')\n",
        "  base64_url = f\"data:{mime_type};base64,{base64_encoded}\"\n",
        "  return base64_url"
      ],
      "metadata": {
        "id": "wEp3rO8ooexm"
      },
      "execution_count": null,
      "outputs": []
    },
    {
      "cell_type": "code",
      "source": [
        "ocr_response = client.ocr.process(\n",
        "  model=\"mistral-ocr-latest\",\n",
        "  document={\n",
        "    \"type\": \"image_url\",\n",
        "    \"image_url\": load_image(\"test.jpg\"),\n",
        "  },\n",
        ")"
      ],
      "metadata": {
        "id": "fvS0f05Jrijv"
      },
      "execution_count": null,
      "outputs": []
    },
    {
      "cell_type": "code",
      "source": [
        "print(ocr_response.pages[0].markdown)"
      ],
      "metadata": {
        "colab": {
          "base_uri": "https://localhost:8080/"
        },
        "id": "OD6NNR2Wripw",
        "outputId": "60d9e83a-3c23-4381-fbc7-48d51e6bc6c8"
      },
      "execution_count": null,
      "outputs": [
        {
          "output_type": "stream",
          "name": "stdout",
          "text": [
            "This is a handwritten example. Write as good as you can.\n"
          ]
        }
      ]
    },
    {
      "cell_type": "markdown",
      "source": [
        "![u.jpeg](data:image/jpeg;base64,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)"
      ],
      "metadata": {
        "id": "AmYVcpY20QpK"
      }
    },
    {
      "cell_type": "code",
      "source": [
        "ocr_response = client.ocr.process(\n",
        "  model=\"mistral-ocr-latest\",\n",
        "  document={\n",
        "    \"type\": \"image_url\",\n",
        "    \"image_url\": load_image(\"u.jpeg\"),\n",
        "  },\n",
        ")"
      ],
      "metadata": {
        "id": "CppSHHOQrive"
      },
      "execution_count": null,
      "outputs": []
    },
    {
      "cell_type": "code",
      "source": [
        "print(ocr_response.pages[0].markdown)"
      ],
      "metadata": {
        "colab": {
          "base_uri": "https://localhost:8080/"
        },
        "id": "uX4tyzGejYBe",
        "outputId": "80d035a6-71c0-4a77-bd5b-ccc24d832f50"
      },
      "execution_count": null,
      "outputs": [
        {
          "output_type": "stream",
          "name": "stdout",
          "text": [
            "The Standard Service is a quality handwriting for service, which does not include the\n",
            "extra character variations. However, it still produces a good quality handwriting for\n",
            "from natural handwriting. The Standard Service is suitable for both cursive (joined\n",
            "up) and printed handwriting.\n"
          ]
        }
      ]
    }
  ]
}